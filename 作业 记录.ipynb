{
 "cells": [
  {
   "cell_type": "markdown",
   "metadata": {},
   "source": [
    "## 第一周\n",
    "* 1、求100万以内的所有素数\n",
    "* 2、求任意整数的级数\n",
    "* 3、求菲波那切数列的第101位"
   ]
  },
  {
   "cell_type": "code",
   "execution_count": 2,
   "metadata": {
    "collapsed": false
   },
   "outputs": [
    {
     "name": "stdout",
     "output_type": "stream",
     "text": [
      "78498\n"
     ]
    }
   ],
   "source": [
    "# 求100万以内的所有素数\n",
    "import math\n",
    "count = 0\n",
    "for i in range(2,1000001):\n",
    "    for j in range(2,int(math.sqrt(i))+1):\n",
    "        if i % j == 0:\n",
    "            break\n",
    "    else:\n",
    "        count += 1\n",
    "print(count)"
   ]
  },
  {
   "cell_type": "code",
   "execution_count": 1,
   "metadata": {
    "collapsed": false
   },
   "outputs": [
    {
     "name": "stdout",
     "output_type": "stream",
     "text": [
      "420\n"
     ]
    }
   ],
   "source": [
    "n = 5\n",
    "q =4\n",
    "s =3\n",
    "su = 0\n",
    "for i in range(1,s+1):\n",
    "    su += n*(q**i)\n",
    "print(su)"
   ]
  },
  {
   "cell_type": "code",
   "execution_count": null,
   "metadata": {
    "collapsed": true
   },
   "outputs": [],
   "source": [
    "#求菲波那切数列的第101位\n",
    "a = 0\n",
    "b = 1\n",
    "for i in range(102):\n",
    "    print('{} ==>{}'.format(i,b))\n",
    "    a,b = b,a+b"
   ]
  },
  {
   "cell_type": "markdown",
   "metadata": {
    "collapsed": true
   },
   "source": [
    "## 第二周\n",
    "* 1、使用更快的方法求100万以内的素数\n",
    "* 2、求杨辉三角第n行第k列的值\n",
    "* 3、矩阵转置\n",
    "* 4、判断一个方阵是否可逆，如果可逆求其逆矩阵"
   ]
  },
  {
   "cell_type": "code",
   "execution_count": 11,
   "metadata": {
    "collapsed": false
   },
   "outputs": [
    {
     "name": "stdout",
     "output_type": "stream",
     "text": [
      "78498\n",
      "CPU times: user 16 s, sys: 0 ns, total: 16 s\n",
      "Wall time: 12.5 s\n"
     ]
    }
   ],
   "source": [
    "%%time\n",
    "#1、使用更快的方法求100万以内的素数\n",
    "lst = [2]\n",
    "for i in range(1,1000001,2):\n",
    "    if i >1:\n",
    "        for j in range(2,int(i**0.5)+1):\n",
    "            if i %j ==0:\n",
    "                break\n",
    "        else:\n",
    "            lst.append(i)\n",
    "print(len(lst))"
   ]
  },
  {
   "cell_type": "code",
   "execution_count": null,
   "metadata": {
    "collapsed": true
   },
   "outputs": [],
   "source": [
    "#2、求杨辉三角第n行第k列的值\n",
    "## k项的值: k= k! // (r!*(k-r)!)\n",
    "from math import factorial\n",
    "k = int(input(\"please input k: \"))                                                    \n",
    "for n in range(k):        \n",
    "    if n == 0: \n",
    "        print(1)           \n",
    "    else:                  \n",
    "        for m in range(0,n+1):\n",
    "            print(factorial(n) // (factorial(m) *   \n",
    "factorial(n-m)),end=' ')\n",
    "        print()"
   ]
  },
  {
   "cell_type": "code",
   "execution_count": 27,
   "metadata": {
    "collapsed": false
   },
   "outputs": [
    {
     "name": "stdout",
     "output_type": "stream",
     "text": [
      "[[1, 3, 5], [2, 4, 6]]\n"
     ]
    }
   ],
   "source": [
    "#3、矩阵转置\n",
    "A = [\n",
    "    [1,2],\n",
    "    [3,4],\n",
    "    [5,6]\n",
    "]\n",
    "b = []\n",
    "for j in range(len(A[0])):\n",
    "    b.append([])\n",
    "else:\n",
    "    for i in A:\n",
    "        for l,v in enumerate(i):\n",
    "            b[l].append(v)\n",
    "print(b)"
   ]
  },
  {
   "cell_type": "code",
   "execution_count": 3,
   "metadata": {
    "collapsed": false
   },
   "outputs": [
    {
     "name": "stdout",
     "output_type": "stream",
     "text": [
      "原矩阵： [[1, -1, -1], [-1, 2, 3], [1, 1, 4]]\n",
      "增值矩阵：[[1, 0, 0], [0, 1, 0], [0, 0, 1]]\n",
      "A的逆矩阵：[[5, 3, -1], [7, 5, -2], [-3, -2, 1]]\n"
     ]
    }
   ],
   "source": [
    "# 4、判断一个方阵是否可逆，如果可逆求其逆矩阵\n",
    "# 初等变换手工求值。\n",
    "A = [\n",
    "    [1,-1,-1],\n",
    "    [-1,2,3],\n",
    "    [1,1,4]\n",
    "]\n",
    "\n",
    "E = [\n",
    "    [1,0,0],\n",
    "    [0,1,0],\n",
    "    [0,0,1]\n",
    "]\n",
    "\n",
    "print(\"原矩阵： %s\" % A)\n",
    "for h,i in enumerate(A):\n",
    "    ts = 0\n",
    "    for v in i:\n",
    "        ts += v\n",
    "    if ts == 0 or len(A) != len(A[h]):\n",
    "        print(\"matrix is can't to inverse\")\n",
    "        sys.exit()\n",
    "\n",
    "for i,v in enumerate(A):\n",
    "    if i == 1:\n",
    "        c1 = A[1][0]\n",
    "        for d1 in range(len(v)):\n",
    "            A[i][d1] += (A[0][d1] * c1 * -1)\n",
    "            E[i][d1] += (E[0][d1] * c1 * -1)\n",
    "    if i == 2:\n",
    "        c2 = A[2][0]\n",
    "        for d2 in range(len(v)):\n",
    "            A[i][d2] += (A[0][d2] * c2 * -1)\n",
    "            E[i][d2] += (E[0][d2] * c2 * -1)\n",
    "\n",
    "for i2,v2 in enumerate(A):\n",
    "    if i2 == 0 :\n",
    "        c3 = A[i2][1]\n",
    "        for d3 in range(len(v2)):\n",
    "            A[i2][d3] += (A[1][d3] * c3 * -1)\n",
    "            E[i2][d3] += (E[1][d3] * c3 * -1)\n",
    "    if i2 == 2:\n",
    "        c4 = A[i2][1]\n",
    "        for d4 in range(len(v2)):\n",
    "            A[i2][d4] += (A[1][d4] * c4 * -1)\n",
    "            E[i2][d4] += (E[1][d4] * c4 * -1)\n",
    "\n",
    "for i3,v3 in enumerate(A):\n",
    "    if i3 == 0:\n",
    "        c5 = A[i3][2]\n",
    "        for d5 in range(len(v3)):\n",
    "            A[i3][d5] += (A[2][d5] * c5 * -1)\n",
    "            E[i3][d5] += (E[2][d5] * c5 * -1)\n",
    "    if i3 == 1:\n",
    "        c6 = A[i3][2]\n",
    "        for d6 in range(len(v3)):\n",
    "            A[i3][d6] += (A[2][d6] * c6 * -1)\n",
    "            E[i3][d6] += (E[2][d6] * c6 * -1)\n",
    "print(\"增值矩阵：%s\" %A)\n",
    "print(\"A的逆矩阵：%s\"%E)"
   ]
  },
  {
   "cell_type": "markdown",
   "metadata": {
    "collapsed": true
   },
   "source": [
    "# 第三周\n",
    "* 1、把字符串形式的整数或浮点数转化为int或float， 不适用int和float函数\n",
    "* 2、移除一个列表中的重复元素，并保持列表原来的顺序\n",
    "* 3、统计文本中各单词出现的次数\n",
    "* 4、把1~4000 之间的任意整数转化为罗马数字"
   ]
  },
  {
   "cell_type": "code",
   "execution_count": 3,
   "metadata": {
    "collapsed": false
   },
   "outputs": [
    {
     "name": "stdout",
     "output_type": "stream",
     "text": [
      "<class 'str'>==12.456\n",
      "<class 'float'> == 12.456000\n"
     ]
    }
   ],
   "source": [
    "# 1、把字符串形式的整数或浮点数转化为int或float， 不适用int和float函数\n",
    "num = '12.456'\n",
    "rule = {'0':0,\n",
    "        '1':1,\n",
    "        '2':2,\n",
    "        '3':3,\n",
    "        '4':4,\n",
    "        '5':5,\n",
    "        '6':6,\n",
    "        '7':7,\n",
    "        '8':8,\n",
    "        '9':9,}\n",
    "integer,dec=num.split('.')\n",
    "inter_sum = 0\n",
    "for index,inte in enumerate(integer):\n",
    "    inter_sum += rule[inte]*10**(len(integer)-index-1)\n",
    "for index2,dec in enumerate(dec):\n",
    "    inter_sum += rule[dec]*(0.1**(index2+1))\n",
    "print('{}=={}'.format(type(num),num))\n",
    "print('%s == %f'% (type(inter_sum),inter_sum))"
   ]
  },
  {
   "cell_type": "code",
   "execution_count": 41,
   "metadata": {
    "collapsed": false
   },
   "outputs": [
    {
     "name": "stdout",
     "output_type": "stream",
     "text": [
      "[1, 4, 2, 5, 6, 3, 7]\n"
     ]
    }
   ],
   "source": [
    "# 2、移除一个列表中的重复元素，并保持列表原来的顺序\n",
    "lst = [1,4,2,5,6,2,3,4,7,1]\n",
    "tmp = []\n",
    "for i in lst:\n",
    "    if i not in tmp:\n",
    "        tmp.append(i)\n",
    "print(tmp)"
   ]
  },
  {
   "cell_type": "code",
   "execution_count": 78,
   "metadata": {
    "collapsed": false
   },
   "outputs": [
    {
     "name": "stdout",
     "output_type": "stream",
     "text": [
      "{'the': 2, 'have': 1, 'suggestions': 1, 'there': 1, 'every': 1, 'you': 1, 'discussion': 1, 'simple': 1, 'or': 1, 'is': 1, 'please': 1, 'right': 1, 'that': 1, 'using': 1, 'below': 1, 'send': 1, 'mail': 1, 'feel': 1, 'contact': 1, 'If': 1, 'to': 1, 'critiques': 1, 'option': 1, 'free': 1, 'Note': 1, 'on': 1, 'article': 1, 'form': 1, 'a': 2}\n"
     ]
    }
   ],
   "source": [
    "# 3、统计文本中各单词出现的次数\n",
    "string = '''If you have critiques or suggestions please feel free to send a mail using the contact form on the right Note that there is a simple discussion option below every article'''\n",
    "dic = dict.fromkeys(string.split(' '),0)\n",
    "for i in string.split(' '):\n",
    "    dic[i] += 1\n",
    "print(dic)"
   ]
  },
  {
   "cell_type": "code",
   "execution_count": 6,
   "metadata": {
    "collapsed": false
   },
   "outputs": [
    {
     "name": "stdout",
     "output_type": "stream",
     "text": [
      "please input number: 45\n",
      "XLV\n"
     ]
    }
   ],
   "source": [
    "# 4、把1~4000 之间的任意整数转化为罗马数字\n",
    "lst= [\n",
    "    (\"\",\"I\",\"II\",\"III\",\"IV\",\"V\",\"VI\",\"VII\",\"VIII\",\"IX\"),\n",
    "    (\"\",\"X\",\"XX\",\"XXX\",\"XL\",\"L\",\"LX\",\"LXX\",\"LXXX\",\"XC\"),\n",
    "    (\"\",\"C\",\"CC\",\"CCC\",\"CD\",\"D\",\"DC\",\"DCC\",\"DCCC\",\"CM\"),\n",
    "    (\"\",\"M\",\"MM\",\"MMM\",\"M\")\n",
    "    ]\n",
    "i = int(input(\"please input number: \"))\n",
    "print(\n",
    "    (lst[3][int(i/1000 %10)]) + (lst[2][int(i/100 %10)]) +(lst[1][int(i/10%10)]) +(lst[0][int(i%10)])\n",
    ")"
   ]
  },
  {
   "cell_type": "code",
   "execution_count": 13,
   "metadata": {
    "collapsed": false
   },
   "outputs": [
    {
     "name": "stdout",
     "output_type": "stream",
     "text": [
      "73 == LXXIII\n"
     ]
    }
   ],
   "source": [
    "import random\n",
    "lst= [\n",
    "    (\"\",\"I\",\"II\",\"III\",\"IV\",\"V\",\"VI\",\"VII\",\"VIII\",\"IX\"),\n",
    "    (\"\",\"X\",\"XX\",\"XXX\",\"XL\",\"L\",\"LX\",\"LXX\",\"LXXX\",\"XC\"),\n",
    "    (\"\",\"C\",\"CC\",\"CCC\",\"CD\",\"D\",\"DC\",\"DCC\",\"DCCC\",\"CM\"),\n",
    "    (\"\",\"M\",\"MM\",\"MMM\",\"M\")\n",
    "    ]\n",
    "i = random.randint(1,400)\n",
    "print(\n",
    "    '%d == %s'%(i,(lst[3][int(i/1000 %10)]) + (lst[2][int(i/100 %10)]) +(lst[1][int(i/10%10)]) +(lst[0][int(i%10)]))\n",
    ")"
   ]
  },
  {
   "cell_type": "markdown",
   "metadata": {
    "collapsed": true
   },
   "source": [
    "## 第四周"
   ]
  },
  {
   "cell_type": "markdown",
   "metadata": {},
   "source": [
    "* 1、扁平化字典，例如 {&#39;a&#39;: {&#39;b&#39;: 1}} 扁平化之后是 {&#39;a.b&#39;: 1}\n",
    "* 2、实现base64编码解码算法\n",
    "* 3、实现计数器，可以指定基数和步长\n",
    "* 4、查找两个字符串的最长公共子串"
   ]
  },
  {
   "cell_type": "code",
   "execution_count": 5,
   "metadata": {
    "collapsed": false
   },
   "outputs": [
    {
     "data": {
      "text/plain": [
       "{'a.b': 1, 'a.c': 2, 'd.e.f': 2}"
      ]
     },
     "execution_count": 5,
     "metadata": {},
     "output_type": "execute_result"
    }
   ],
   "source": [
    "# 1、扁平化字典，例如 {'a': {'b': 1}} 扁平化之后是 {'a.b': 1}\n",
    "dic = {'a':{'b':1,'c':2},'d':{'e':{'f':2}}}\n",
    "def flatening(x):\n",
    "    keylist = [((),x)]\n",
    "    ret = {}\n",
    "    while keylist:\n",
    "        path,value = keylist.pop()\n",
    "        for k,v in value.items():\n",
    "            if isinstance(v,dict):\n",
    "                if len(v) == 0:\n",
    "                    ret['.'.join((path,k))] = ''\n",
    "                else:\n",
    "                    keylist.append(((path+(k,)),v))\n",
    "            else:\n",
    "                ret['.'.join((path+(k,)))] = v\n",
    "    return ret\n",
    "flatening(dic)"
   ]
  },
  {
   "cell_type": "code",
   "execution_count": 1,
   "metadata": {
    "collapsed": false
   },
   "outputs": [
    {
     "data": {
      "text/plain": [
       "'YWJjYWJjZA=='"
      ]
     },
     "execution_count": 1,
     "metadata": {},
     "output_type": "execute_result"
    }
   ],
   "source": [
    "#2、实现base64编码解码算法\n",
    "# 步骤1：将所有字符转化为ASCII码；\n",
    "# 步骤2：将ASCII码转化为8位二进制；\n",
    "# 步骤3：将二进制3个归成一组(不足3个在后边补0)共24位，再拆分成4组，每组6位；\n",
    "# 步骤4：统一在6位二进制前补两个0凑足8位；\n",
    "# 步骤5：将补0后的二进制转为十进制；\n",
    "# 步骤6：从Base64编码表获取十进制对应的Base64编码；\n",
    "string = 'abcabcd' \n",
    "def base64(x):\n",
    "    js,st = 0,b''\n",
    "    ret = ''\n",
    "    rule = 'ABCDEFGHIJKLMNOPQRSTUVWXYZabcdefghijklmnopqrstuvwxyz0123456789+/'.encode()\n",
    "    for s in x.encode():\n",
    "        binary = bin(s).lstrip('0b').encode()\n",
    "        st += binary.zfill(8)\n",
    "    else:\n",
    "        n = 0 if len(st) % 6 == 0 else 1\n",
    "        for _ in range((len(st) // 6)+n):\n",
    "            ret += chr(rule[int(st[js:js+6],base=2)])\n",
    "            js +=6\n",
    "\n",
    "    flag = 3-(len(x)%3)\n",
    "    if flag == 2:\n",
    "        ret += '=='\n",
    "    elif flag == 1:\n",
    "        ret += '='\n",
    "\n",
    "    return ret\n",
    "base64(string)"
   ]
  },
  {
   "cell_type": "code",
   "execution_count": 12,
   "metadata": {
    "collapsed": true
   },
   "outputs": [],
   "source": [
    "#2、实现base64编码解码算法\n",
    "class Base64:\n",
    "    def __init__(self):\n",
    "        self.__rule = b'ABCDEFGHIJKLMNOPQRSTUVWXYZabcdefghijklmnopqrstuvwxyz0123456789+/'  \n",
    "    \n",
    "    def convert(self,x):            #字符串转Base64 编码方法\n",
    "        data = x.encode()           #将字符串解码为byes\n",
    "        encode = bytearray()        #创建一个接收byes的bytearray\n",
    "        c = 0   #计数器\n",
    "        for st in range(3,len(data)+1,3):    #每三个循环一次取c 到st这个值\n",
    "            i = int.from_bytes(data[c:st],'big')   #把字符串转换为整数\n",
    "            for j in range(1,5):     #每6个一组，总共分4组\n",
    "                encode.append(self.__rule[i >> (24 - j*6) & 0x3f])  #整个二进制向右移，每次取最右边的6位，并把对应的字符加进bytearray里\n",
    "            c+=3\n",
    "            \n",
    "        r = 3-(len(x)%3)  #找出需要补位的数\n",
    "        if r>0:\n",
    "            i = int.from_bytes(data[c:],'big') << r*8   #处理需要补位的数，补够24个字节\n",
    "            for j in range(1,5-r):\n",
    "                encode.append(self.__rule[i>>(24-j*6) & 0x3f])  #正常位的取数并加入到bytearray\n",
    "            for _ in range(r):\n",
    "                encode.append(int.from_bytes(b'=','big'))  #补位的数以=号添加进bytearray\n",
    "        return encode.decode()\n",
    "    \n",
    "    def re_convert(self,x):    #Base64编码转成字符串 方法\n",
    "        data = x.encode()       #解码成二进制\n",
    "        #(((24<<18)+(22<<12)+(9<<6)+35)<<24) + ((25<<18)+(0<<12)) >> (8*2)\n",
    "        tmp,flag = 0,0\n",
    "        for j in range(4,len(data)+1,4):  #分组，以4个为1个小组\n",
    "            for i,d in enumerate(data[j-4:j]):   #处理每个小组\n",
    "                if d in self.__rule:        #如果字符 不为=号，也就是不在rule里\n",
    "                    tmp += ((self.__rule.index(d))<<(24-((i+1)*6)))  #移位，并拼接这个二进制数然后放入临时变量\n",
    "                else:\n",
    "                    flag +=1  #如果是=号就标记他\n",
    "            \n",
    "            if len(data) >4:  #当小组循环完成后，判断字符串是否大于4，如果大于就需要进行下一轮的拼接\n",
    "                tmp = tmp<<24  #移动整个小组，为后面的拼接预留位置\n",
    "        if flag:   #当整个都处理完后 检查是否有=号位，\n",
    "            tmp >>(8*flag)  #发现等号位以每1位等号去掉8位。\n",
    "        return tmp.to_bytes(len(data)+1,'big').strip(b'\\x00').decode()"
   ]
  },
  {
   "cell_type": "code",
   "execution_count": 13,
   "metadata": {
    "collapsed": true
   },
   "outputs": [],
   "source": [
    "base = Base64()"
   ]
  },
  {
   "cell_type": "code",
   "execution_count": 14,
   "metadata": {
    "collapsed": false
   },
   "outputs": [
    {
     "data": {
      "text/plain": [
       "'YWJjZA=='"
      ]
     },
     "execution_count": 14,
     "metadata": {},
     "output_type": "execute_result"
    }
   ],
   "source": [
    "base.convert('abcd')"
   ]
  },
  {
   "cell_type": "code",
   "execution_count": 15,
   "metadata": {
    "collapsed": false
   },
   "outputs": [
    {
     "data": {
      "text/plain": [
       "'abcd'"
      ]
     },
     "execution_count": 15,
     "metadata": {},
     "output_type": "execute_result"
    }
   ],
   "source": [
    "base.re_convert('YWJjZA==')"
   ]
  },
  {
   "cell_type": "code",
   "execution_count": 96,
   "metadata": {
    "collapsed": false
   },
   "outputs": [],
   "source": [
    "#3、实现计数器，可以指定基数和步长\n",
    "def count(x=1,y=1):\n",
    "    n = x\n",
    "    while True:\n",
    "        yield n\n",
    "        n += y\n",
    "\n",
    "c = count(10,4)\n",
    "#for _ in range(5):\n",
    "#    print(next(c))"
   ]
  },
  {
   "cell_type": "code",
   "execution_count": 18,
   "metadata": {
    "collapsed": false
   },
   "outputs": [
    {
     "data": {
      "text/plain": [
       "'jklmnop'"
      ]
     },
     "execution_count": 18,
     "metadata": {},
     "output_type": "execute_result"
    }
   ],
   "source": [
    "#4、查找两个字符串的最长公共子串\n",
    "str1 = 'abcdefghijklmnop'\n",
    "str2 = 'abcsafjklmnopqrstuvw'\n",
    "def substring(x, y):\n",
    "    lst = []\n",
    "    st = ''\n",
    "    for s in x:\n",
    "        if s in y:\n",
    "            for s2 in y:\n",
    "                if s == s2:\n",
    "                    st += s\n",
    "                    break\n",
    "        else:\n",
    "            if st:\n",
    "                lst.append(st)\n",
    "            st = ''\n",
    "    else:\n",
    "        lst.append(st)\n",
    "    return max(lst)\n",
    "    \n",
    "substring(str1,str2) "
   ]
  },
  {
   "cell_type": "code",
   "execution_count": 19,
   "metadata": {
    "collapsed": false
   },
   "outputs": [
    {
     "data": {
      "text/plain": [
       "'jklmnop'"
      ]
     },
     "execution_count": 19,
     "metadata": {},
     "output_type": "execute_result"
    }
   ],
   "source": [
    "str1 = 'abcdefghijklmnop'\n",
    "str2 = 'abcsafjklmnopqrstuvw'\n",
    "def sub2(x,y):\n",
    "    st = ''\n",
    "    lst = []\n",
    "    for n,j in enumerate(x):\n",
    "        if j in y:\n",
    "            st += x[n]\n",
    "        else:\n",
    "            if st:\n",
    "                lst.append(st)\n",
    "                st = ''\n",
    "    else:\n",
    "        lst.append(st)\n",
    "    return max(lst)\n",
    "sub2(str1,str2)"
   ]
  },
  {
   "cell_type": "code",
   "execution_count": null,
   "metadata": {
    "collapsed": true
   },
   "outputs": [],
   "source": []
  },
  {
   "cell_type": "markdown",
   "metadata": {},
   "source": [
    "## 类型检查"
   ]
  },
  {
   "cell_type": "code",
   "execution_count": 10,
   "metadata": {
    "collapsed": true
   },
   "outputs": [],
   "source": [
    "import inspect\n",
    "import functools\n",
    "\n",
    "def typed(fn):\n",
    "    @functools.wraps(fn)\n",
    "    def wrap(*args, **kwargs):\n",
    "        params = inspect.signature(fn).parameters\n",
    "        for k, v in kwargs.items():\n",
    "            param = params[k].annotation  #获取参数的类型\n",
    "            if param != inspect._empty and not isinstance(v, param):\n",
    "                raise TypeError('parameter {} required {}, but {}'.format(k, param, type(v)))\n",
    "        for i, arg in enumerate(args):\n",
    "            param = list(params.values())[i]\n",
    "            if param.annotation != inspect._empty and not isinstance(arg, param.annotation):\n",
    "                raise TypeError('parameter {} required {}, but {}'.format(param.name, param.annotation, type(arg)))\n",
    "        return fn(*args, **kwargs)\n",
    "    return wrap"
   ]
  },
  {
   "cell_type": "code",
   "execution_count": 7,
   "metadata": {
    "collapsed": false
   },
   "outputs": [],
   "source": [
    "@typed\n",
    "def add(x:int,y:int)->int:\n",
    "    return x+y"
   ]
  },
  {
   "cell_type": "code",
   "execution_count": 9,
   "metadata": {
    "collapsed": false
   },
   "outputs": [
    {
     "data": {
      "text/plain": [
       "8"
      ]
     },
     "execution_count": 9,
     "metadata": {},
     "output_type": "execute_result"
    }
   ],
   "source": [
    "add(3,5)"
   ]
  },
  {
   "cell_type": "markdown",
   "metadata": {
    "collapsed": true
   },
   "source": [
    "## 装饰器"
   ]
  },
  {
   "cell_type": "markdown",
   "metadata": {},
   "source": [
    "写一个cache装饰器， 允许过期， 但没有换出，没有清除 （45分钟完成）"
   ]
  },
  {
   "cell_type": "markdown",
   "metadata": {},
   "source": [
    "* cache的必要元素： key -> value\n",
    "* 超时时间"
   ]
  },
  {
   "cell_type": "code",
   "execution_count": 3,
   "metadata": {
    "collapsed": true
   },
   "outputs": [],
   "source": [
    "from functools import wraps\n",
    "import datetime,time\n",
    "def cache(timeout=False):\n",
    "    def cached(fn):\n",
    "        cache_dic = {fn.__name__:dict.fromkeys(('args','kwargs','ret','timelive'))}\n",
    "        @wraps(fn)\n",
    "        def wrap(*args,**kwargs):\n",
    "            if timeout and cache_dic[fn.__name__]['timelive']:\n",
    "                now = datetime.datetime.now().timestamp() - cache_dic[fn.__name__]['timelive']\n",
    "                if now >= timeout:\n",
    "                    cache_dic[fn.__name__]=dict.fromkeys(('args','kwargs','ret','timelive'))        \n",
    "            if cache_dic[fn.__name__]['args'] != args or cache_dic[fn.__name__]['kwargs'] != kwargs:\n",
    "                start = datetime.datetime.now().timestamp()\n",
    "                cache_dic[fn.__name__]['args'] = args\n",
    "                cache_dic[fn.__name__]['kwargs'] = kwargs\n",
    "                cache_dic[fn.__name__]['ret'] = fn(*args,**kwargs)\n",
    "                cache_dic[fn.__name__]['timelive'] = start\n",
    "            return cache_dic[fn.__name__]['ret']\n",
    "        return wrap\n",
    "    return cached"
   ]
  },
  {
   "cell_type": "code",
   "execution_count": 4,
   "metadata": {
    "collapsed": true
   },
   "outputs": [],
   "source": [
    "@cache(timeout=20)\n",
    "def add(x,y):\n",
    "    time.sleep(x)\n",
    "    return x +y"
   ]
  },
  {
   "cell_type": "code",
   "execution_count": null,
   "metadata": {
    "collapsed": true
   },
   "outputs": [],
   "source": [
    "#老师的答案\n",
    "from functools import wraps\n",
    "import inspect\n",
    "import datetime\n",
    "\n",
    "def cache(exp=0):\n",
    "    def _cache(fn): ## fn cache\n",
    "        cache = {}  #定义缓存的字典\n",
    "        @wraps(fn)\n",
    "        def wrap(*args, **kwargs):\n",
    "            # TODO key 如何拼装\n",
    "            key = [] #用来装所有的形参\n",
    "            names = set() \n",
    "            params = inspect.signature(fn).parameters #列出一个形参的字典\n",
    "            \n",
    "            #实参\n",
    "            for i, arg in enumerate(args): #遍历实参的下标和参数值\n",
    "                name = list(params.keys())[i] #name赋值为对应位置的形参\n",
    "                key.append((name, arg)) #在空列表key中添加一个元组（形参和对应的实参）\n",
    "                names.add(name) #在空集合names中添加形参name\n",
    "            key.extend(kwargs.items()) #kwargs转换成元组，扩展到列表key中\n",
    "            names.update(kwargs.keys()) #将kwargs中所有的key更新到集合names中\n",
    "            \n",
    "            #形参\n",
    "            for k, v in params.items(): #遍历形参字典\n",
    "                if k not in names: #判断key不在集合names中\n",
    "                    key.append((k, v.default)) #将key和形参默认值\n",
    "            key.sort(key=lambda x: x[0]) #对列表key中所有的元素进行排序\n",
    "            key = '&'.join(['{}={}'.format(name, arg) for name, arg in key]) #拼接所有形参实参对应关系形成一个缓存的key\n",
    "            print(key)\n",
    "            if key in cache.keys(): #判断key在缓存字典中\n",
    "                ret, timestamp = cache[key] #解构字典的缓存value\n",
    "                if exp == 0 or datetime.datetime.now().timestamp() - timestamp < exp: #判断value中时间戳是否超时\n",
    "                    print('cache hit')\n",
    "                    return ret\n",
    "            ret = fn(*args, **kwargs) #第一次访问时ret等于函数的执行结果\n",
    "            print('cache miss')\n",
    "            cache[key] = (ret, datetime.datetime.now().timestamp()) #在字典cache中存入key和value\n",
    "            return ret\n",
    "        return wrap\n",
    "    return _cache"
   ]
  },
  {
   "cell_type": "markdown",
   "metadata": {
    "collapsed": true
   },
   "source": [
    "## 命令分发器"
   ]
  },
  {
   "cell_type": "markdown",
   "metadata": {},
   "source": [
    "写一个通用的命令分发器， 程序员可以方便的注册函数到某个命令， 当用户输入某个命令时， 路由到注册的函数， 如果此命令没有注册函数，执行默认函数"
   ]
  },
  {
   "cell_type": "code",
   "execution_count": null,
   "metadata": {
    "collapsed": true
   },
   "outputs": [],
   "source": [
    "class rule:\n",
    "    dic = {}    #字义存储的字典\n",
    "    def ins(self,name):      #注册的装饰器，用法rule.ins(name)\n",
    "        def _ins(fn):\n",
    "            self.dic[name] = fn     \n",
    "            return fn\n",
    "        return _ins\n",
    "    def default(self):    #默认函数，如果输入的名字不对会默认调用这个函数\n",
    "        print('default command')\n",
    "    def run(self):       #执行界面，不断循环直到输入quit\n",
    "        while True:\n",
    "            cmd = input(\">>>\")\n",
    "            if cmd.lower() == 'quit':\n",
    "                return\n",
    "            self.dic.get(cmd,self.default)()   #柯里化调用。取值后后面添加()来调用这个函数。"
   ]
  },
  {
   "cell_type": "code",
   "execution_count": 2,
   "metadata": {
    "collapsed": true
   },
   "outputs": [],
   "source": [
    "#老师的答案\n",
    "def command():      #用函数来封装闭包操作\n",
    "    commands = {}   #用于存储注册的字典\n",
    "\n",
    "    def register(command):   #注册装饰器，带参数，参数名为key，值为对应的函数名\n",
    "        def _register(fn):\n",
    "            if command in commands:    #检查是否已经注册过了。\n",
    "                raise Exception('command {} exist'.format(command))  #注册过的抛出异常。\n",
    "            commands[command] = fn\n",
    "            return fn\n",
    "        return _register\n",
    "\n",
    "    def default_fn():   #默认函数，当无注册函数时返回这个函数的调用\n",
    "        print('unkonwn command')\n",
    "\n",
    "    def run():           #执行函数\n",
    "        while True:\n",
    "            cmd = input('>>')\n",
    "            if cmd.strip() == 'quit':\n",
    "                return\n",
    "            commands.get(cmd.strip(),default_fn)()   #柯里化调用。取值后后面添加()来调用这个函数。\n",
    "    \n",
    "    return register, run   #返回闭包里面的操作。"
   ]
  },
  {
   "cell_type": "code",
   "execution_count": null,
   "metadata": {
    "collapsed": true
   },
   "outputs": [],
   "source": [
    "register, run = command() #用解包来接收这些操作\n",
    "\n",
    "@register('papa') #调用注册\n",
    "def papa():\n",
    "    print('papa')\n",
    "#开始执行\n",
    "run()"
   ]
  },
  {
   "cell_type": "markdown",
   "metadata": {
    "collapsed": true
   },
   "source": [
    "* 1、实现base64 解码\n",
    "* 2、完善cache装饰器， 实现LRU换出\n",
    "* 3、完善命令分发器，实现函数可带任意参数(可变参数除外)，解析参数并要求用户输入\n",
    "* 4、实现一个优先队列"
   ]
  },
  {
   "cell_type": "code",
   "execution_count": 1,
   "metadata": {
    "collapsed": true
   },
   "outputs": [],
   "source": [
    "#1、实现base64 解码\n",
    "def re_convert(x):    #Base64编码转成字符串 方法\n",
    "    rule = b'ABCDEFGHIJKLMNOPQRSTUVWXYZabcdefghijklmnopqrstuvwxyz0123456789+/'\n",
    "    data = x.encode()\n",
    "    #(((24<<18)+(22<<12)+(9<<6)+35)<<24) + ((25<<18)+(0<<12)) >> (8*2)\n",
    "    tmp = 0\n",
    "    flag = 0\n",
    "    for j in range(4,len(data)+1,4):\n",
    "        for i,d in enumerate(data[j-4:j]):\n",
    "            if d in rule:\n",
    "                tmp += ((rule.index(d))<<(24-((i+1)*6)))\n",
    "            else:\n",
    "                flag +=1\n",
    "        if len(data) >4:\n",
    "            tmp = tmp<<24\n",
    "    if flag:\n",
    "        tmp >>(8*flag)\n",
    "    return tmp.to_bytes(len(data)+1,'big').strip(b'\\x00').decode()"
   ]
  },
  {
   "cell_type": "code",
   "execution_count": 2,
   "metadata": {
    "collapsed": false
   },
   "outputs": [
    {
     "data": {
      "text/plain": [
       "'a'"
      ]
     },
     "execution_count": 2,
     "metadata": {},
     "output_type": "execute_result"
    }
   ],
   "source": [
    "re_convert('YQ==')"
   ]
  },
  {
   "cell_type": "code",
   "execution_count": null,
   "metadata": {
    "collapsed": true
   },
   "outputs": [],
   "source": [
    "#2、完善cache装饰器， 实现LRU换出\n",
    "from functools import wraps\n",
    "import inspect\n",
    "import datetime\n",
    "\n",
    "def cache(exp=0,maxsize=5):  #定义保存最大值\n",
    "    def _cache(fn): ## fn cache\n",
    "        cache = {}  #定义缓存的字典\n",
    "        @wraps(fn)\n",
    "        def wrap(*args, **kwargs):\n",
    "            # TODO key 如何拼装\n",
    "            key = [] #用来装所有的形参\n",
    "            names = set() \n",
    "            params = inspect.signature(fn).parameters #列出一个形参的字典\n",
    "            #实参\n",
    "            for i, arg in enumerate(args): #遍历实参的下标和参数值\n",
    "                name = list(params.keys())[i] #name赋值为对应位置的形参\n",
    "                key.append((name, arg)) #在空列表key中添加一个元组（形参和对应的实参）\n",
    "                names.add(name) #在空集合names中添加形参name\n",
    "            key.extend(kwargs.items()) #kwargs转换成元组，扩展到列表key中\n",
    "            names.update(kwargs.keys()) #将kwargs中所有的key更新到集合names中\n",
    "            #形参\n",
    "            for k, v in params.items(): #遍历形参字典\n",
    "                if k not in names: #判断key不在集合names中\n",
    "                    key.append((k, v.default)) #将key和形参默认值\n",
    "            key.sort(key=lambda x: x[0]) #对列表key中所有的元素进行排序\n",
    "            key = '&'.join(['{}={}'.format(name, arg) for name, arg in key]) #拼接所有形参实参对应关系形成一个缓存的key\n",
    "            if len(cache.keys()) >= maxsize:   #检查字典的长度是否大于或者等于 最大值。\n",
    "                print(min(cache,key=lambda k:cache[k][2]))\n",
    "                cache.pop(min(cache,key=lambda k:cache[k][2]),None)  #当长度超过最大值后，把使用次数最少的那一个剔除掉\n",
    "            if key in cache.keys(): #判断key在缓存字典中\n",
    "                cache[key][2] +=1  #每次调用增加权重。\n",
    "                ret, timestamp,hotkey = cache[key] #解构字典的缓存value\n",
    "                if exp == 0 or datetime.datetime.now().timestamp() - timestamp < exp: #判断value中时间戳是否超时\n",
    "                    print(cache)\n",
    "                    return ret\n",
    "            ret = fn(*args, **kwargs) #第一次访问时ret等于函数的执行结果\n",
    "            hotkey=0  #初始权重\n",
    "            cache[key] = [ret, datetime.datetime.now().timestamp(),hotkey] #在字典cache中存入key和value\n",
    "            print(cache)\n",
    "            return ret\n",
    "        return wrap\n",
    "    return _cache"
   ]
  },
  {
   "cell_type": "code",
   "execution_count": 122,
   "metadata": {
    "collapsed": false
   },
   "outputs": [],
   "source": [
    "#3、完善命令分发器，实现函数可带任意参数(可变参数除外)，解析参数并要求用户输入\n",
    "import inspect\n",
    "def command():      #用函数来封装闭包操作\n",
    "    commands = {}   #用于存储注册的字典\n",
    "    def register(command):   #注册装饰器，带参数，参数名为key，值为对应的函数名\n",
    "        def _register(fn):\n",
    "            if command in commands:    #检查是否已经注册过了。\n",
    "                raise Exception('command {} exist'.format(command))  #注册过的抛出异常。\n",
    "            commands[command] = fn\n",
    "            return fn\n",
    "        return _register\n",
    "    def default_fn():   #默认函数，当无注册函数时返回这个函数的调用\n",
    "        print('unkonwn command')\n",
    "    def run():           #执行函数\n",
    "        while True:\n",
    "            lst = []\n",
    "            cmd = input('>>')\n",
    "            if cmd.strip() == 'quit':\n",
    "                return\n",
    "            fun=commands.get(cmd.strip(),default_fn)\n",
    "            param = inspect.signature(fun).parameters\n",
    "            if param:\n",
    "                for k,v in param.items():\n",
    "                    if v.default == inspect._empty:\n",
    "                        lst.append(int(input(\"please input {} value >>>\".format(k))))\n",
    "                    else:\n",
    "                        va=input(\"this {} is have a default value,input default use default or input outher num[default/num] >>> \".format(k))\n",
    "                        if va.lower() == 'default' or va == '':\n",
    "                            lst.append(v.default)\n",
    "                        else:\n",
    "                            lst.append(int(va))\n",
    "                else:\n",
    "                    print(fun(*lst))\n",
    "            else:\n",
    "                fun()\n",
    "    return register, run"
   ]
  },
  {
   "cell_type": "code",
   "execution_count": 123,
   "metadata": {
    "collapsed": true
   },
   "outputs": [],
   "source": [
    "reg,run=command()"
   ]
  },
  {
   "cell_type": "code",
   "execution_count": 124,
   "metadata": {
    "collapsed": false
   },
   "outputs": [],
   "source": [
    "@reg('ad')\n",
    "def add(x,y=1):\n",
    "    return x+y"
   ]
  },
  {
   "cell_type": "code",
   "execution_count": 126,
   "metadata": {
    "collapsed": false
   },
   "outputs": [
    {
     "name": "stdout",
     "output_type": "stream",
     "text": [
      ">>\n",
      "unkonwn command\n",
      ">>\n",
      "unkonwn command\n",
      ">>quit\n"
     ]
    }
   ],
   "source": [
    "run()"
   ]
  },
  {
   "cell_type": "code",
   "execution_count": null,
   "metadata": {
    "collapsed": true
   },
   "outputs": [],
   "source": []
  },
  {
   "cell_type": "code",
   "execution_count": null,
   "metadata": {
    "collapsed": true
   },
   "outputs": [],
   "source": []
  },
  {
   "cell_type": "code",
   "execution_count": null,
   "metadata": {
    "collapsed": true
   },
   "outputs": [],
   "source": []
  },
  {
   "cell_type": "code",
   "execution_count": 4,
   "metadata": {
    "collapsed": true
   },
   "outputs": [],
   "source": [
    "import random\n",
    "def ds():\n",
    "    while True:\n",
    "        yield random.randint(1,1000)"
   ]
  },
  {
   "cell_type": "code",
   "execution_count": 54,
   "metadata": {
    "collapsed": false
   },
   "outputs": [],
   "source": [
    "def Quque(maxsize=10):\n",
    "    tree=[]\n",
    "    def insert(x):\n",
    "        tree.append(x)\n",
    "        index = len(tree) -1\n",
    "        while index:\n",
    "            if index %2 ==0:\n",
    "                tree_father = (index-2)//2\n",
    "                if tree[tree_father] > x:\n",
    "                    tree[index],tree[tree_father] = tree[tree_father],tree[index]\n",
    "                    index = tree_father\n",
    "                else:\n",
    "                    break\n",
    "            else:\n",
    "                tree_father = (index-1)//2\n",
    "                if tree[tree_father] > x:\n",
    "                    tree[index],tree[tree_father] = tree[tree_father],tree[index]\n",
    "                    index = tree_father\n",
    "                else:\n",
    "                    break\n",
    " \n",
    "        return tree\n",
    "    \n",
    "    def maxst():\n",
    "        return tree[0]\n",
    "    \n",
    "    def getsize():\n",
    "        return len(tree)\n",
    "    \n",
    "    def pop():\n",
    "        if tree:\n",
    "            ret = tree.pop()\n",
    "        return ret\n",
    "    return insert,pop"
   ]
  },
  {
   "cell_type": "code",
   "execution_count": 55,
   "metadata": {
    "collapsed": false
   },
   "outputs": [],
   "source": [
    "i,p = Quque()"
   ]
  },
  {
   "cell_type": "code",
   "execution_count": 56,
   "metadata": {
    "collapsed": true
   },
   "outputs": [],
   "source": [
    "s = ds()"
   ]
  },
  {
   "cell_type": "code",
   "execution_count": 57,
   "metadata": {
    "collapsed": true
   },
   "outputs": [],
   "source": [
    "for _ in range(10):\n",
    "    i(next(s))"
   ]
  },
  {
   "cell_type": "code",
   "execution_count": 58,
   "metadata": {
    "collapsed": false
   },
   "outputs": [
    {
     "data": {
      "text/plain": [
       "[3, 56, 248, 81, 74, 798, 550, 909, 587, 512, 261]"
      ]
     },
     "execution_count": 58,
     "metadata": {},
     "output_type": "execute_result"
    }
   ],
   "source": [
    "i(3)"
   ]
  },
  {
   "cell_type": "code",
   "execution_count": null,
   "metadata": {
    "collapsed": true
   },
   "outputs": [],
   "source": []
  },
  {
   "cell_type": "code",
   "execution_count": null,
   "metadata": {
    "collapsed": true
   },
   "outputs": [],
   "source": []
  },
  {
   "cell_type": "markdown",
   "metadata": {
    "collapsed": true
   },
   "source": [
    "* 第六周作业 \n",
    "* 1、实现ls命令， 至少实现 -l -a -h 选项\n",
    "* 2、实现find命令， 至少实现 -name -type -ctime -mtime -cnewer -executable -newer -gid -uid 测试\n",
    "* 3、实现cp命令 至少实现 -r -p选项"
   ]
  },
  {
   "cell_type": "code",
   "execution_count": null,
   "metadata": {
    "collapsed": true
   },
   "outputs": [],
   "source": []
  },
  {
   "cell_type": "code",
   "execution_count": null,
   "metadata": {
    "collapsed": true
   },
   "outputs": [],
   "source": []
  },
  {
   "cell_type": "code",
   "execution_count": null,
   "metadata": {
    "collapsed": true
   },
   "outputs": [],
   "source": []
  },
  {
   "cell_type": "code",
   "execution_count": null,
   "metadata": {
    "collapsed": true
   },
   "outputs": [],
   "source": []
  },
  {
   "cell_type": "code",
   "execution_count": null,
   "metadata": {
    "collapsed": true
   },
   "outputs": [],
   "source": []
  }
 ],
 "metadata": {
  "kernelspec": {
   "display_name": "Python 3",
   "language": "python",
   "name": "python3"
  },
  "language_info": {
   "codemirror_mode": {
    "name": "ipython",
    "version": 3
   },
   "file_extension": ".py",
   "mimetype": "text/x-python",
   "name": "python",
   "nbconvert_exporter": "python",
   "pygments_lexer": "ipython3",
   "version": "3.5.2"
  }
 },
 "nbformat": 4,
 "nbformat_minor": 1
}
