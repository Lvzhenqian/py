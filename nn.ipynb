{
 "cells": [
  {
   "cell_type": "code",
   "execution_count": 1,
   "metadata": {
    "collapsed": true
   },
   "outputs": [],
   "source": [
    "class Base:\n",
    "    x = 1\n",
    "    \n",
    "    def __init__(self):\n",
    "        self.a = 2\n",
    "    def print(self):\n",
    "        print('Base')"
   ]
  },
  {
   "cell_type": "code",
   "execution_count": 2,
   "metadata": {
    "collapsed": true
   },
   "outputs": [],
   "source": [
    "class L(Base):\n",
    "    def print(self):\n",
    "        print(super().a)"
   ]
  },
  {
   "cell_type": "code",
   "execution_count": 3,
   "metadata": {
    "collapsed": true
   },
   "outputs": [],
   "source": [
    "l = L()"
   ]
  },
  {
   "cell_type": "code",
   "execution_count": 4,
   "metadata": {
    "collapsed": false,
    "scrolled": true
   },
   "outputs": [
    {
     "name": "stdout",
     "output_type": "stream",
     "text": [
      "['__class__', '__delattr__', '__dir__', '__doc__', '__eq__', '__format__', '__ge__', '__get__', '__getattribute__', '__gt__', '__hash__', '__init__', '__le__', '__lt__', '__ne__', '__new__', '__reduce__', '__reduce_ex__', '__repr__', '__self__', '__self_class__', '__setattr__', '__sizeof__', '__str__', '__subclasshook__', '__thisclass__', 'a']\n"
     ]
    }
   ],
   "source": [
    "l.print()"
   ]
  },
  {
   "cell_type": "code",
   "execution_count": 5,
   "metadata": {
    "collapsed": true
   },
   "outputs": [],
   "source": [
    "class TopBase:\n",
    "    def print(self):\n",
    "        print('top base')\n",
    "        "
   ]
  },
  {
   "cell_type": "code",
   "execution_count": 6,
   "metadata": {
    "collapsed": true
   },
   "outputs": [],
   "source": [
    "class Base(TopBase):\n",
    "    def print(self):\n",
    "        print('base')"
   ]
  },
  {
   "cell_type": "code",
   "execution_count": 7,
   "metadata": {
    "collapsed": true
   },
   "outputs": [],
   "source": [
    "class A(Base):\n",
    "    def print(self):\n",
    "        super(Base,self).print()"
   ]
  },
  {
   "cell_type": "code",
   "execution_count": 8,
   "metadata": {
    "collapsed": true
   },
   "outputs": [],
   "source": [
    "a = A()"
   ]
  },
  {
   "cell_type": "code",
   "execution_count": 9,
   "metadata": {
    "collapsed": false
   },
   "outputs": [
    {
     "name": "stdout",
     "output_type": "stream",
     "text": [
      "top base\n"
     ]
    }
   ],
   "source": [
    "a.print()"
   ]
  },
  {
   "cell_type": "code",
   "execution_count": 10,
   "metadata": {
    "collapsed": true
   },
   "outputs": [],
   "source": [
    "class B:\n",
    "    def info(self):\n",
    "        print(__class__)"
   ]
  },
  {
   "cell_type": "code",
   "execution_count": 11,
   "metadata": {
    "collapsed": true
   },
   "outputs": [],
   "source": [
    "b = B()"
   ]
  },
  {
   "cell_type": "code",
   "execution_count": 12,
   "metadata": {
    "collapsed": false
   },
   "outputs": [
    {
     "name": "stdout",
     "output_type": "stream",
     "text": [
      "<class '__main__.B'>\n"
     ]
    }
   ],
   "source": [
    "b.info()"
   ]
  },
  {
   "cell_type": "code",
   "execution_count": null,
   "metadata": {
    "collapsed": true
   },
   "outputs": [],
   "source": []
  },
  {
   "cell_type": "code",
   "execution_count": null,
   "metadata": {
    "collapsed": true
   },
   "outputs": [],
   "source": []
  },
  {
   "cell_type": "code",
   "execution_count": null,
   "metadata": {
    "collapsed": true
   },
   "outputs": [],
   "source": [
    "import poplib,email\n",
    "p = poplib.POP3('mail.7road.com')\n",
    "p.user('lv@7road.com')\n",
    "p.pass_('angelo_5566!@')\n",
    "ret = p.stat()\n",
    "name_lst = []\n",
    "js = 0\n",
    "for n in range(1,ret[0]):    \n",
    "    fp = p.retr(n)[1]\n",
    "    subject = [x for x in fp if x.startswith(b'Subject')or x.startswith(b' =?')]\n",
    "    st = b''\n",
    "    for i in range(len(subject)):\n",
    "        t1,code = email.header.decode_header(subject[i].strip(b'Subject: ').decode())[0]\n",
    "        if isinstance(t1,bytes):\n",
    "            st += t1\n",
    "        else:\n",
    "            name_lst.append(t1)\n",
    "    if st:\n",
    "        name_lst.append(st.decode(code))\n",
    "print(name_lst)"
   ]
  },
  {
   "cell_type": "code",
   "execution_count": null,
   "metadata": {
    "collapsed": true
   },
   "outputs": [],
   "source": []
  },
  {
   "cell_type": "code",
   "execution_count": 18,
   "metadata": {
    "collapsed": false
   },
   "outputs": [
    {
     "name": "stdout",
     "output_type": "stream",
     "text": [
      "(b'+OK 2042 octets', [b'Received: from 172.16.1.196 (HELO FTP-IN.7ROAD.COM); Fri, 30 Dec 2016 10:36:36 +0800', b'Content-Type: multipart/mixed; boundary=\"===============0526557366==\"', b'MIME-Version: 1.0', b'From: ftpin@7road.com', b'To: young.yang@7road.com, yunweizk@7road.com, terry.wu@7road.com,', b' zicheng.hou@7road.com, kris.yuan@7road.com, steven@7road.com,', b' liam.wu@7road.com, liang.wu@7road.com, lv@7road.com, kay@7road.com,', b' junjie.he@7road.com, yulong.zhong@7road.com, fight@7road.com,', b' vivian.long@7road.com, ', b'Subject: \\xe5\\x86\\x85\\xe7\\xbd\\x91\\xe6\\x96\\x87\\xe4\\xbb\\xb6\\xe9\\x80\\x81\\xe5\\x87\\xba -\\xe4\\xb9\\x94\\xe5\\xb3\\xb0\\xe4\\xbc\\xa0 - \\xe5\\xa4\\xa9\\xe9\\xbe\\x99\\xe8\\xb6\\x8a\\xe5\\x8d\\x97_v3.1.0_20161230_\\xe4\\xbe\\x8b\\xe7\\xbb\\xb4\\xe5\\x8c\\x85', b'', b'--===============0526557366==', b'Content-Type: text/html; charset=\"utf-8\"', b'MIME-Version: 1.0', b'Content-Transfer-Encoding: base64', b'', b'T0HljZXlj7fkuLo6MTg4MjI1PGJyLz7miJDlip88YnIvPuS5lOWzsOS8oCAtIOWkqem+mei2iuWN', b'l192My4xLjBfMjAxNjEyMzBf5L6L57u05YyFPGJyLz4vU2VuZFBhY2thZ2VUb29sL3Fmemh1YW4v', b'MTQ4MzA2NTMyMTM5NC/lpKnpvpnotorljZdfdjMuMS4wXzIwMTYxMjMwX+S+i+e7tOWMhS56aXA8', b'YnIvPui/kOiQpee9keaOpeaUtuS6ujp5dW53ZWl6ayxzdGV2ZW4sanVuamllLmhlLHppY2hlbmcu', b'aG91LGx2LHl1bG9uZy56aG9uZzxici8+bWQ1OmFhODVhMGRlMzU2MWZhZGQwNGY5MWQ2YjYxYzc0', b'ZWEwPGJyLz7kvZznlKjor7TmmI46PGJyPuaXoERCQeaTjeS9nCzpnZ7moIflh4bljIU8YnI+P3By', b'b2plY3Q6OjpxZnluZGJhOjo6bm9jcm9zczo6Onllc3N0b3A6Ojp5ZXN5dWZhYnU6Ojpub+e8luiv', b'keaXpeacn++8mjIwMTYtMTItMzDlvZPliY3niYjmnKzvvJp0bGJiX3YzLjEuMOWPkeW4g+S6uuWR', b'mO+8mmZpZ2h06IGU57O755S16K+d77yaMTUwMTg1MTIyNjAgIOWMheWQjSDvvJoJMeOAgeWkqem+', b'mei2iuWNl192My4xLjBfMjAxNjEyMzBf5L6L57u05YyFLnppcAkg5pu05paw6IyD5Zu077yaCTHj', b'gIHkuZTls7DkvKDmuLjmiI8g44CQ6LaK5Y2X44CR5omA5pyJ5pyN5Yqh5Zmo5pu05paw5pON5L2c', b'77yaCei3qOacje+8mgkJMeOAgWNyb3NzLnppcCDkuIrkvKDoh7Pot6jmnI3mnI3liqHlmagJCTLj', b'gIHlgZzmnI3jgIHkuIrkvKDjgIHop6PljosJCTPjgIHliLdEVFMJCTTjgIHlkK/mnI0J5ri45oiP', b'5pyN77yaCQkx44CBZ3MuemlwIOS4iuS8oOiHs+i3qOacjeacjeWKoeWZqAkJMuOAgeWBnOacjeOA', b'geS4iuS8oOOAgeino+WOiwkJM+OAgeWIt0RUUwkJNOOAgeWQr+acjTxici8+PGEgaHJlZj0naHR0', b'cDovL2Z0cGluLjdyb2FkLmNvbTo4MDgwL2Rvd24/a2V5PWFhODVhMGRlMzU2MWZhZGQwNGY5MWQ2', b'YjYxYzc0ZWEwMTg4MjI1Jz7ngrnlh7vkuIvovb3mlofku7Y8L2E+', b'', b'--===============0526557366==--'], 2039)\n"
     ]
    }
   ],
   "source": [
    "import poplib,email\n",
    "p = poplib.POP3('mail.7road.com')\n",
    "p.user('lv@7road.com')\n",
    "p.pass_('angelo_5566!@')\n",
    "ret = p.stat()\n",
    "fp = p.retr(7483)\n",
    "print(fp)"
   ]
  },
  {
   "cell_type": "code",
   "execution_count": 19,
   "metadata": {
    "collapsed": false
   },
   "outputs": [
    {
     "data": {
      "text/plain": [
       "[b'Received: from 172.16.1.196 (HELO FTP-IN.7ROAD.COM); Fri, 30 Dec 2016 10:36:36 +0800',\n",
       " b'Content-Type: multipart/mixed; boundary=\"===============0526557366==\"',\n",
       " b'MIME-Version: 1.0',\n",
       " b'From: ftpin@7road.com',\n",
       " b'To: young.yang@7road.com, yunweizk@7road.com, terry.wu@7road.com,',\n",
       " b' zicheng.hou@7road.com, kris.yuan@7road.com, steven@7road.com,',\n",
       " b' liam.wu@7road.com, liang.wu@7road.com, lv@7road.com, kay@7road.com,',\n",
       " b' junjie.he@7road.com, yulong.zhong@7road.com, fight@7road.com,',\n",
       " b' vivian.long@7road.com, ',\n",
       " b'Subject: \\xe5\\x86\\x85\\xe7\\xbd\\x91\\xe6\\x96\\x87\\xe4\\xbb\\xb6\\xe9\\x80\\x81\\xe5\\x87\\xba -\\xe4\\xb9\\x94\\xe5\\xb3\\xb0\\xe4\\xbc\\xa0 - \\xe5\\xa4\\xa9\\xe9\\xbe\\x99\\xe8\\xb6\\x8a\\xe5\\x8d\\x97_v3.1.0_20161230_\\xe4\\xbe\\x8b\\xe7\\xbb\\xb4\\xe5\\x8c\\x85',\n",
       " b'',\n",
       " b'--===============0526557366==',\n",
       " b'Content-Type: text/html; charset=\"utf-8\"',\n",
       " b'MIME-Version: 1.0',\n",
       " b'Content-Transfer-Encoding: base64',\n",
       " b'',\n",
       " b'T0HljZXlj7fkuLo6MTg4MjI1PGJyLz7miJDlip88YnIvPuS5lOWzsOS8oCAtIOWkqem+mei2iuWN',\n",
       " b'l192My4xLjBfMjAxNjEyMzBf5L6L57u05YyFPGJyLz4vU2VuZFBhY2thZ2VUb29sL3Fmemh1YW4v',\n",
       " b'MTQ4MzA2NTMyMTM5NC/lpKnpvpnotorljZdfdjMuMS4wXzIwMTYxMjMwX+S+i+e7tOWMhS56aXA8',\n",
       " b'YnIvPui/kOiQpee9keaOpeaUtuS6ujp5dW53ZWl6ayxzdGV2ZW4sanVuamllLmhlLHppY2hlbmcu',\n",
       " b'aG91LGx2LHl1bG9uZy56aG9uZzxici8+bWQ1OmFhODVhMGRlMzU2MWZhZGQwNGY5MWQ2YjYxYzc0',\n",
       " b'ZWEwPGJyLz7kvZznlKjor7TmmI46PGJyPuaXoERCQeaTjeS9nCzpnZ7moIflh4bljIU8YnI+P3By',\n",
       " b'b2plY3Q6OjpxZnluZGJhOjo6bm9jcm9zczo6Onllc3N0b3A6Ojp5ZXN5dWZhYnU6Ojpub+e8luiv',\n",
       " b'keaXpeacn++8mjIwMTYtMTItMzDlvZPliY3niYjmnKzvvJp0bGJiX3YzLjEuMOWPkeW4g+S6uuWR',\n",
       " b'mO+8mmZpZ2h06IGU57O755S16K+d77yaMTUwMTg1MTIyNjAgIOWMheWQjSDvvJoJMeOAgeWkqem+',\n",
       " b'mei2iuWNl192My4xLjBfMjAxNjEyMzBf5L6L57u05YyFLnppcAkg5pu05paw6IyD5Zu077yaCTHj',\n",
       " b'gIHkuZTls7DkvKDmuLjmiI8g44CQ6LaK5Y2X44CR5omA5pyJ5pyN5Yqh5Zmo5pu05paw5pON5L2c',\n",
       " b'77yaCei3qOacje+8mgkJMeOAgWNyb3NzLnppcCDkuIrkvKDoh7Pot6jmnI3mnI3liqHlmagJCTLj',\n",
       " b'gIHlgZzmnI3jgIHkuIrkvKDjgIHop6PljosJCTPjgIHliLdEVFMJCTTjgIHlkK/mnI0J5ri45oiP',\n",
       " b'5pyN77yaCQkx44CBZ3MuemlwIOS4iuS8oOiHs+i3qOacjeacjeWKoeWZqAkJMuOAgeWBnOacjeOA',\n",
       " b'geS4iuS8oOOAgeino+WOiwkJM+OAgeWIt0RUUwkJNOOAgeWQr+acjTxici8+PGEgaHJlZj0naHR0',\n",
       " b'cDovL2Z0cGluLjdyb2FkLmNvbTo4MDgwL2Rvd24/a2V5PWFhODVhMGRlMzU2MWZhZGQwNGY5MWQ2',\n",
       " b'YjYxYzc0ZWEwMTg4MjI1Jz7ngrnlh7vkuIvovb3mlofku7Y8L2E+',\n",
       " b'',\n",
       " b'--===============0526557366==--']"
      ]
     },
     "execution_count": 19,
     "metadata": {},
     "output_type": "execute_result"
    }
   ],
   "source": [
    "fp[1]"
   ]
  },
  {
   "cell_type": "code",
   "execution_count": null,
   "metadata": {
    "collapsed": true
   },
   "outputs": [],
   "source": []
  },
  {
   "cell_type": "code",
   "execution_count": 20,
   "metadata": {
    "collapsed": false
   },
   "outputs": [
    {
     "data": {
      "text/plain": [
       "'内网文件送出 -乔峰传 - 天龙越南_v3.1.0_20161230_例维包'"
      ]
     },
     "execution_count": 20,
     "metadata": {},
     "output_type": "execute_result"
    }
   ],
   "source": [
    "b'\\xe5\\x86\\x85\\xe7\\xbd\\x91\\xe6\\x96\\x87\\xe4\\xbb\\xb6\\xe9\\x80\\x81\\xe5\\x87\\xba -\\xe4\\xb9\\x94\\xe5\\xb3\\xb0\\xe4\\xbc\\xa0 - \\xe5\\xa4\\xa9\\xe9\\xbe\\x99\\xe8\\xb6\\x8a\\xe5\\x8d\\x97_v3.1.0_20161230_\\xe4\\xbe\\x8b\\xe7\\xbb\\xb4\\xe5\\x8c\\x85'.decode('utf-8')"
   ]
  },
  {
   "cell_type": "code",
   "execution_count": null,
   "metadata": {
    "collapsed": true
   },
   "outputs": [],
   "source": []
  },
  {
   "cell_type": "code",
   "execution_count": null,
   "metadata": {
    "collapsed": true
   },
   "outputs": [],
   "source": []
  },
  {
   "cell_type": "code",
   "execution_count": null,
   "metadata": {
    "collapsed": true
   },
   "outputs": [],
   "source": []
  },
  {
   "cell_type": "code",
   "execution_count": null,
   "metadata": {
    "collapsed": true
   },
   "outputs": [],
   "source": []
  },
  {
   "cell_type": "code",
   "execution_count": null,
   "metadata": {
    "collapsed": true
   },
   "outputs": [],
   "source": []
  },
  {
   "cell_type": "code",
   "execution_count": null,
   "metadata": {
    "collapsed": true
   },
   "outputs": [],
   "source": []
  },
  {
   "cell_type": "code",
   "execution_count": null,
   "metadata": {
    "collapsed": true
   },
   "outputs": [],
   "source": []
  },
  {
   "cell_type": "code",
   "execution_count": 12,
   "metadata": {
    "collapsed": true
   },
   "outputs": [],
   "source": [
    "c = 'a'\n",
    "local = 'ac = {}'.format(c) "
   ]
  },
  {
   "cell_type": "code",
   "execution_count": 13,
   "metadata": {
    "collapsed": false
   },
   "outputs": [
    {
     "data": {
      "text/plain": [
       "'ac = a'"
      ]
     },
     "execution_count": 13,
     "metadata": {},
     "output_type": "execute_result"
    }
   ],
   "source": [
    "local"
   ]
  },
  {
   "cell_type": "code",
   "execution_count": null,
   "metadata": {
    "collapsed": true
   },
   "outputs": [],
   "source": []
  },
  {
   "cell_type": "code",
   "execution_count": null,
   "metadata": {
    "collapsed": true
   },
   "outputs": [],
   "source": []
  },
  {
   "cell_type": "code",
   "execution_count": null,
   "metadata": {
    "collapsed": true
   },
   "outputs": [],
   "source": []
  },
  {
   "cell_type": "code",
   "execution_count": 6,
   "metadata": {
    "collapsed": false
   },
   "outputs": [
    {
     "data": {
      "text/plain": [
       "(7521, 22294768)"
      ]
     },
     "execution_count": 6,
     "metadata": {},
     "output_type": "execute_result"
    }
   ],
   "source": []
  },
  {
   "cell_type": "code",
   "execution_count": null,
   "metadata": {
    "collapsed": true
   },
   "outputs": [],
   "source": []
  },
  {
   "cell_type": "code",
   "execution_count": null,
   "metadata": {
    "collapsed": true
   },
   "outputs": [],
   "source": []
  },
  {
   "cell_type": "code",
   "execution_count": 5,
   "metadata": {
    "collapsed": false
   },
   "outputs": [
    {
     "data": {
      "text/plain": [
       "[b'Subject: =?GB2312?B?ob7X6dav0Pu0q7K/ob8tLdDCs8nUscXg0bXNqNaq?=',\n",
       " b' =CE=A2=C8=ED=D1=C5=BA=DA, sans-serif; font-size: small; line-height: 19px=']"
      ]
     },
     "execution_count": 5,
     "metadata": {},
     "output_type": "execute_result"
    }
   ],
   "source": [
    "subject"
   ]
  },
  {
   "cell_type": "code",
   "execution_count": null,
   "metadata": {
    "collapsed": true
   },
   "outputs": [],
   "source": []
  },
  {
   "cell_type": "code",
   "execution_count": null,
   "metadata": {
    "collapsed": true
   },
   "outputs": [],
   "source": [
    "[x for x in fp if x.startswith(b'Subject')]"
   ]
  },
  {
   "cell_type": "code",
   "execution_count": 2,
   "metadata": {
    "collapsed": false
   },
   "outputs": [
    {
     "data": {
      "text/plain": [
       "['欢迎进入7Road邮箱']"
      ]
     },
     "execution_count": 2,
     "metadata": {},
     "output_type": "execute_result"
    }
   ],
   "source": [
    "name_lst"
   ]
  },
  {
   "cell_type": "code",
   "execution_count": null,
   "metadata": {
    "collapsed": true
   },
   "outputs": [],
   "source": []
  },
  {
   "cell_type": "code",
   "execution_count": 5,
   "metadata": {
    "collapsed": false
   },
   "outputs": [
    {
     "data": {
      "text/plain": [
       "[b'Received: Mon, 18 Jul 2016 18:53:30 +0800',\n",
       " b'Date: Mon, 18 Jul 2016 18:53:30 +0800',\n",
       " b'From: admin@system.mail <admin@system.mail>',\n",
       " b'To: lv@7road.com <lv@7road.com>',\n",
       " b'Subject: =?GB2312?Q?=BB=B6=D3=AD=BD=F8=C8=EB7Road=D3=CA=CF=E4?=',\n",
       " b'Mime-Version: 1.0',\n",
       " b'Content-Type: text/plain; charset=\"GB2312\"',\n",
       " b'Content-Transfer-Encoding: quoted-printable',\n",
       " b'',\n",
       " b'=CA=B9=D3=C3=CE=CA=CC=E2=C7=EB=D5=D2=D4=CB=CE=AC=B2=BF=CD=AC=D1=A7=BD=E2=BE=',\n",
       " b'=F6=A3=AC=D0=BB=D0=BB=C4=FA=B5=C4=D6=A7=B3=D6=A3=A1',\n",
       " b'']"
      ]
     },
     "execution_count": 5,
     "metadata": {},
     "output_type": "execute_result"
    }
   ],
   "source": [
    "fp"
   ]
  },
  {
   "cell_type": "code",
   "execution_count": 9,
   "metadata": {
    "collapsed": false
   },
   "outputs": [],
   "source": [
    "c = [x for x in fp if x.startswith(b'Content-Type:')]"
   ]
  },
  {
   "cell_type": "code",
   "execution_count": null,
   "metadata": {
    "collapsed": true
   },
   "outputs": [],
   "source": []
  },
  {
   "cell_type": "code",
   "execution_count": null,
   "metadata": {
    "collapsed": true
   },
   "outputs": [],
   "source": []
  },
  {
   "cell_type": "code",
   "execution_count": 8,
   "metadata": {
    "collapsed": false
   },
   "outputs": [],
   "source": [
    "import pickle\n",
    "a = {'a':0,'b':1}\n",
    "with open('./new/me.ini','wb') as fd:\n",
    "    pickle.dump(a,fd)"
   ]
  },
  {
   "cell_type": "code",
   "execution_count": null,
   "metadata": {
    "collapsed": true
   },
   "outputs": [],
   "source": []
  },
  {
   "cell_type": "code",
   "execution_count": 6,
   "metadata": {
    "collapsed": false
   },
   "outputs": [
    {
     "data": {
      "text/plain": [
       "b'\\x80\\x03}q\\x00(X\\x01\\x00\\x00\\x00bq\\x01K\\x01X\\x01\\x00\\x00\\x00aq\\x02K\\x00u.'"
      ]
     },
     "execution_count": 6,
     "metadata": {},
     "output_type": "execute_result"
    }
   ],
   "source": [
    "pickle.dumps(a)"
   ]
  },
  {
   "cell_type": "code",
   "execution_count": 7,
   "metadata": {
    "collapsed": false
   },
   "outputs": [
    {
     "name": "stdout",
     "output_type": "stream",
     "text": [
      "Help on built-in function dump in module _pickle:\n",
      "\n",
      "dump(obj, file, protocol=None, *, fix_imports=True)\n",
      "    Write a pickled representation of obj to the open file object file.\n",
      "    \n",
      "    This is equivalent to ``Pickler(file, protocol).dump(obj)``, but may\n",
      "    be more efficient.\n",
      "    \n",
      "    The optional *protocol* argument tells the pickler to use the given\n",
      "    protocol supported protocols are 0, 1, 2, 3 and 4.  The default\n",
      "    protocol is 3; a backward-incompatible protocol designed for Python 3.\n",
      "    \n",
      "    Specifying a negative protocol version selects the highest protocol\n",
      "    version supported.  The higher the protocol used, the more recent the\n",
      "    version of Python needed to read the pickle produced.\n",
      "    \n",
      "    The *file* argument must have a write() method that accepts a single\n",
      "    bytes argument.  It can thus be a file object opened for binary\n",
      "    writing, an io.BytesIO instance, or any other custom object that meets\n",
      "    this interface.\n",
      "    \n",
      "    If *fix_imports* is True and protocol is less than 3, pickle will try\n",
      "    to map the new Python 3 names to the old module names used in Python\n",
      "    2, so that the pickle data stream is readable with Python 2.\n",
      "\n"
     ]
    }
   ],
   "source": [
    "help(pickle.dump)"
   ]
  },
  {
   "cell_type": "code",
   "execution_count": 10,
   "metadata": {
    "collapsed": false
   },
   "outputs": [],
   "source": [
    "with open('./new/me.ini','rb') as fd:\n",
    "    c =pickle.load(fd)"
   ]
  },
  {
   "cell_type": "code",
   "execution_count": 12,
   "metadata": {
    "collapsed": false
   },
   "outputs": [
    {
     "data": {
      "text/plain": [
       "dict"
      ]
     },
     "execution_count": 12,
     "metadata": {},
     "output_type": "execute_result"
    }
   ],
   "source": [
    "type(c)"
   ]
  },
  {
   "cell_type": "code",
   "execution_count": 13,
   "metadata": {
    "collapsed": false
   },
   "outputs": [
    {
     "data": {
      "text/plain": [
       "{'a': 0, 'b': 1}"
      ]
     },
     "execution_count": 13,
     "metadata": {},
     "output_type": "execute_result"
    }
   ],
   "source": [
    "pickle.loads(b'\\x80\\x03}q\\x00(X\\x01\\x00\\x00\\x00bq\\x01K\\x01X\\x01\\x00\\x00\\x00aq\\x02K\\x00u.')"
   ]
  },
  {
   "cell_type": "code",
   "execution_count": 14,
   "metadata": {
    "collapsed": false
   },
   "outputs": [
    {
     "data": {
      "text/plain": [
       "'{\"b\": 1, \"a\": 0}'"
      ]
     },
     "execution_count": 14,
     "metadata": {},
     "output_type": "execute_result"
    }
   ],
   "source": [
    "json.dumps(a)"
   ]
  },
  {
   "cell_type": "code",
   "execution_count": 15,
   "metadata": {
    "collapsed": false
   },
   "outputs": [
    {
     "data": {
      "text/plain": [
       "{'a': 0, 'b': 1}"
      ]
     },
     "execution_count": 15,
     "metadata": {},
     "output_type": "execute_result"
    }
   ],
   "source": [
    "json.loads('{\"b\": 1, \"a\": 0}')"
   ]
  },
  {
   "cell_type": "code",
   "execution_count": null,
   "metadata": {
    "collapsed": true
   },
   "outputs": [],
   "source": []
  },
  {
   "cell_type": "code",
   "execution_count": null,
   "metadata": {
    "collapsed": true
   },
   "outputs": [],
   "source": []
  },
  {
   "cell_type": "code",
   "execution_count": null,
   "metadata": {
    "collapsed": true
   },
   "outputs": [],
   "source": []
  },
  {
   "cell_type": "code",
   "execution_count": null,
   "metadata": {
    "collapsed": true
   },
   "outputs": [],
   "source": []
  },
  {
   "cell_type": "code",
   "execution_count": null,
   "metadata": {
    "collapsed": true
   },
   "outputs": [],
   "source": []
  },
  {
   "cell_type": "code",
   "execution_count": null,
   "metadata": {
    "collapsed": true
   },
   "outputs": [],
   "source": []
  },
  {
   "cell_type": "code",
   "execution_count": null,
   "metadata": {
    "collapsed": true
   },
   "outputs": [],
   "source": []
  },
  {
   "cell_type": "code",
   "execution_count": null,
   "metadata": {
    "collapsed": true
   },
   "outputs": [],
   "source": []
  },
  {
   "cell_type": "code",
   "execution_count": null,
   "metadata": {
    "collapsed": true
   },
   "outputs": [],
   "source": []
  },
  {
   "cell_type": "code",
   "execution_count": null,
   "metadata": {
    "collapsed": true
   },
   "outputs": [],
   "source": []
  },
  {
   "cell_type": "code",
   "execution_count": 2,
   "metadata": {
    "collapsed": false
   },
   "outputs": [
    {
     "data": {
      "text/plain": [
       "[b'Received: from 121.10.141.205 (HELO LOCALHOST.LOCALDOMAIN); Mon, 2 Jan 2017 05:01:04 +0800',\n",
       " b'Date: Mon, 2 Jan 2017 05:01:03 +0800 (CST)',\n",
       " b'From: yunwei_cc@7road.com',\n",
       " b'To: steven@7road.com, junjie.he@7road.com, zicheng.hou@7road.com, lv@7road.com, ',\n",
       " b'\\tyulong.zhong@7road.com',\n",
       " b'Message-ID: <384041718.715.1483304463967.JavaMail.root@localhost.localdomain>',\n",
       " b'Subject: =?UTF-8?B?44CQ5ZGK6K2m5bmz5Y+w44CR44CQ5LmU?=',\n",
       " b' =?UTF-8?B?5bOw5LygLea1t+WkluWcsOWMuuOAkQ==?=',\n",
       " b'MIME-Version: 1.0',\n",
       " b'Content-Type: text/html;charset=UTF-8',\n",
       " b'Content-Transfer-Encoding: 7bit',\n",
       " b'',\n",
       " b'qfhk_0133&nbsp;SERVER&nbsp;ERROR&nbsp;203.74.37.146<br/>&nbsp;------------&nbsp;---------------&nbsp;----------&nbsp;<br/>|Site&nbsp;&nbsp;&nbsp;&nbsp;&nbsp;&nbsp;&nbsp;&nbsp;|&nbsp;&nbsp;&nbsp;&nbsp;&nbsp;&nbsp;&nbsp;&nbsp;&nbsp;&nbsp;&nbsp;Name|&nbsp;&nbsp;&nbsp;Warning|<br/>&nbsp;------------&nbsp;---------------&nbsp;----------&nbsp;<br/>|qfhk_0133&nbsp;&nbsp;&nbsp;|InterfaceStatus|&nbsp;&nbsp;&nbsp;&nbsp;&nbsp;&nbsp;&nbsp;&nbsp;&nbsp;0|<br/>&nbsp;------------&nbsp;---------------&nbsp;----------&nbsp;<br/>']"
      ]
     },
     "execution_count": 2,
     "metadata": {},
     "output_type": "execute_result"
    }
   ],
   "source": [
    "fp"
   ]
  },
  {
   "cell_type": "code",
   "execution_count": null,
   "metadata": {
    "collapsed": true
   },
   "outputs": [],
   "source": []
  },
  {
   "cell_type": "code",
   "execution_count": null,
   "metadata": {
    "collapsed": true
   },
   "outputs": [],
   "source": []
  },
  {
   "cell_type": "code",
   "execution_count": null,
   "metadata": {
    "collapsed": true
   },
   "outputs": [],
   "source": []
  },
  {
   "cell_type": "code",
   "execution_count": null,
   "metadata": {
    "collapsed": true
   },
   "outputs": [],
   "source": []
  },
  {
   "cell_type": "code",
   "execution_count": null,
   "metadata": {
    "collapsed": true
   },
   "outputs": [],
   "source": []
  },
  {
   "cell_type": "code",
   "execution_count": 135,
   "metadata": {
    "collapsed": false
   },
   "outputs": [
    {
     "data": {
      "text/plain": [
       "b'qfhk_0133&nbsp;SERVER&nbsp;ERROR&nbsp;203.74.37.146<br/>&nbsp;------------&nbsp;---------------&nbsp;----------&nbsp;<br/>|Site&nbsp;&nbsp;&nbsp;&nbsp;&nbsp;&nbsp;&nbsp;&nbsp;|&nbsp;&nbsp;&nbsp;&nbsp;&nbsp;&nbsp;&nbsp;&nbsp;&nbsp;&nbsp;&nbsp;Name|&nbsp;&nbsp;&nbsp;Warning|<br/>&nbsp;------------&nbsp;---------------&nbsp;----------&nbsp;<br/>|qfhk_0133&nbsp;&nbsp;&nbsp;|InterfaceStatus|&nbsp;&nbsp;&nbsp;&nbsp;&nbsp;&nbsp;&nbsp;&nbsp;&nbsp;0|<br/>&nbsp;------------&nbsp;---------------&nbsp;----------&nbsp;<br/>'"
      ]
     },
     "execution_count": 135,
     "metadata": {},
     "output_type": "execute_result"
    }
   ],
   "source": [
    "c"
   ]
  },
  {
   "cell_type": "code",
   "execution_count": null,
   "metadata": {
    "collapsed": true
   },
   "outputs": [],
   "source": []
  },
  {
   "cell_type": "code",
   "execution_count": null,
   "metadata": {
    "collapsed": true
   },
   "outputs": [],
   "source": []
  },
  {
   "cell_type": "code",
   "execution_count": null,
   "metadata": {
    "collapsed": true
   },
   "outputs": [],
   "source": []
  },
  {
   "cell_type": "code",
   "execution_count": 143,
   "metadata": {
    "collapsed": true
   },
   "outputs": [],
   "source": [
    "import poplib,email\n",
    "p = poplib.POP3('mail.7road.com')\n",
    "p.user('lv@7road.com')\n",
    "p.pass_('angelo_5566!@')\n",
    "ret = p.top(1,0)"
   ]
  },
  {
   "cell_type": "code",
   "execution_count": 144,
   "metadata": {
    "collapsed": false
   },
   "outputs": [
    {
     "data": {
      "text/plain": [
       "(b'+OK showing 0 lines',\n",
       " [b'Received: Mon, 18 Jul 2016 18:53:30 +0800',\n",
       "  b'Date: Mon, 18 Jul 2016 18:53:30 +0800',\n",
       "  b'From: admin@system.mail <admin@system.mail>',\n",
       "  b'To: lv@7road.com <lv@7road.com>',\n",
       "  b'Subject: =?GB2312?Q?=BB=B6=D3=AD=BD=F8=C8=EB7Road=D3=CA=CF=E4?=',\n",
       "  b'Mime-Version: 1.0',\n",
       "  b'Content-Type: text/plain; charset=\"GB2312\"',\n",
       "  b'Content-Transfer-Encoding: quoted-printable'],\n",
       " 333)"
      ]
     },
     "execution_count": 144,
     "metadata": {},
     "output_type": "execute_result"
    }
   ],
   "source": [
    "ret"
   ]
  },
  {
   "cell_type": "code",
   "execution_count": null,
   "metadata": {
    "collapsed": true
   },
   "outputs": [],
   "source": []
  },
  {
   "cell_type": "code",
   "execution_count": null,
   "metadata": {
    "collapsed": true
   },
   "outputs": [],
   "source": []
  },
  {
   "cell_type": "code",
   "execution_count": null,
   "metadata": {
    "collapsed": true
   },
   "outputs": [],
   "source": []
  },
  {
   "cell_type": "code",
   "execution_count": null,
   "metadata": {
    "collapsed": true
   },
   "outputs": [],
   "source": []
  },
  {
   "cell_type": "code",
   "execution_count": null,
   "metadata": {
    "collapsed": true
   },
   "outputs": [],
   "source": []
  },
  {
   "cell_type": "code",
   "execution_count": null,
   "metadata": {
    "collapsed": true
   },
   "outputs": [],
   "source": []
  },
  {
   "cell_type": "code",
   "execution_count": null,
   "metadata": {
    "collapsed": true
   },
   "outputs": [],
   "source": []
  },
  {
   "cell_type": "code",
   "execution_count": null,
   "metadata": {
    "collapsed": true
   },
   "outputs": [],
   "source": []
  },
  {
   "cell_type": "code",
   "execution_count": null,
   "metadata": {
    "collapsed": true
   },
   "outputs": [],
   "source": []
  },
  {
   "cell_type": "code",
   "execution_count": null,
   "metadata": {
    "collapsed": true
   },
   "outputs": [],
   "source": []
  },
  {
   "cell_type": "code",
   "execution_count": 21,
   "metadata": {
    "collapsed": false
   },
   "outputs": [
    {
     "data": {
      "text/plain": [
       "[b'Received: from 121.10.141.205 (HELO LOCALHOST.LOCALDOMAIN); Mon, 2 Jan 2017 10:01:13 +0800',\n",
       " b'Date: Mon, 2 Jan 2017 10:01:12 +0800 (CST)',\n",
       " b'From: yunwei_cc@7road.com',\n",
       " b'To: steven@7road.com, junjie.he@7road.com, zicheng.hou@7road.com, lv@7road.com, ',\n",
       " b'\\tyulong.zhong@7road.com',\n",
       " b'Message-ID: <1708699709.730.1483322473125.JavaMail.root@localhost.localdomain>',\n",
       " b'Subject: =?UTF-8?B?44CQ5ZGK6K2m5bmz5Y+w44CR44CQ5LmU?=',\n",
       " b' =?UTF-8?B?5bOw5LygLea1t+WkluWcsOWMuuOAkQ==?=',\n",
       " b'MIME-Version: 1.0',\n",
       " b'Content-Type: text/html;charset=UTF-8',\n",
       " b'Content-Transfer-Encoding: 7bit',\n",
       " b'',\n",
       " b'qfhunfu_0001&nbsp;SERVER&nbsp;ERROR&nbsp;203.74.37.75<br/>&nbsp;------------&nbsp;---------------&nbsp;----------&nbsp;<br/>|Site&nbsp;&nbsp;&nbsp;&nbsp;&nbsp;&nbsp;&nbsp;&nbsp;|&nbsp;&nbsp;&nbsp;&nbsp;&nbsp;&nbsp;&nbsp;&nbsp;&nbsp;&nbsp;&nbsp;Name|&nbsp;&nbsp;&nbsp;Warning|<br/>&nbsp;------------&nbsp;---------------&nbsp;----------&nbsp;<br/>|qfhunfu_0001|InterfaceStatus|&nbsp;&nbsp;&nbsp;&nbsp;&nbsp;&nbsp;&nbsp;&nbsp;&nbsp;0|<br/>&nbsp;------------&nbsp;---------------&nbsp;----------&nbsp;<br/>']"
      ]
     },
     "execution_count": 21,
     "metadata": {},
     "output_type": "execute_result"
    }
   ],
   "source": [
    "fp"
   ]
  },
  {
   "cell_type": "code",
   "execution_count": 25,
   "metadata": {
    "collapsed": false
   },
   "outputs": [],
   "source": [
    "msg = email.message_from_bytes(fp[6])"
   ]
  },
  {
   "cell_type": "code",
   "execution_count": 83,
   "metadata": {
    "collapsed": false
   },
   "outputs": [
    {
     "name": "stdout",
     "output_type": "stream",
     "text": [
      "=?UTF-8?B?44CQ5ZGK6K2m5bmz5Y+w44CR44CQ5LmU?=\n"
     ]
    }
   ],
   "source": [
    "subject = msg.get(\"Subject\")\n",
    "print(subject)"
   ]
  },
  {
   "cell_type": "code",
   "execution_count": null,
   "metadata": {
    "collapsed": true
   },
   "outputs": [],
   "source": []
  },
  {
   "cell_type": "code",
   "execution_count": 82,
   "metadata": {
    "collapsed": false
   },
   "outputs": [
    {
     "ename": "TypeError",
     "evalue": "Can't convert 'bytes' object to str implicitly",
     "output_type": "error",
     "traceback": [
      "\u001b[0;31m---------------------------------------------------------------------------\u001b[0m",
      "\u001b[0;31mTypeError\u001b[0m                                 Traceback (most recent call last)",
      "\u001b[0;32m<ipython-input-82-056d10c6a705>\u001b[0m in \u001b[0;36m<module>\u001b[0;34m()\u001b[0m\n\u001b[0;32m----> 1\u001b[0;31m \u001b[0mh\u001b[0m \u001b[0;34m=\u001b[0m \u001b[0memail\u001b[0m\u001b[0;34m.\u001b[0m\u001b[0mheader\u001b[0m\u001b[0;34m.\u001b[0m\u001b[0mHeader\u001b[0m\u001b[0;34m(\u001b[0m\u001b[0msubject\u001b[0m\u001b[0;34m+\u001b[0m\u001b[0;34mb'\\n\\n'\u001b[0m\u001b[0;34m)\u001b[0m\u001b[0;34m\u001b[0m\u001b[0m\n\u001b[0m\u001b[1;32m      2\u001b[0m \u001b[0mprint\u001b[0m\u001b[0;34m(\u001b[0m\u001b[0mh\u001b[0m\u001b[0;34m)\u001b[0m\u001b[0;34m\u001b[0m\u001b[0m\n\u001b[1;32m      3\u001b[0m \u001b[0mdh\u001b[0m \u001b[0;34m=\u001b[0m \u001b[0memail\u001b[0m\u001b[0;34m.\u001b[0m\u001b[0mheader\u001b[0m\u001b[0;34m.\u001b[0m\u001b[0mdecode_header\u001b[0m\u001b[0;34m(\u001b[0m\u001b[0mh\u001b[0m\u001b[0;34m)\u001b[0m\u001b[0;34m\u001b[0m\u001b[0m\n\u001b[1;32m      4\u001b[0m \u001b[0mdh\u001b[0m\u001b[0;34m\u001b[0m\u001b[0m\n",
      "\u001b[0;31mTypeError\u001b[0m: Can't convert 'bytes' object to str implicitly"
     ]
    }
   ],
   "source": [
    "h = email.header.Header(subject+'\\n\\n')\n",
    "print(h)\n",
    "dh = email.header.decode_header(h)\n",
    "dh"
   ]
  },
  {
   "cell_type": "code",
   "execution_count": null,
   "metadata": {
    "collapsed": true
   },
   "outputs": [],
   "source": []
  },
  {
   "cell_type": "code",
   "execution_count": null,
   "metadata": {
    "collapsed": true
   },
   "outputs": [],
   "source": []
  },
  {
   "cell_type": "code",
   "execution_count": null,
   "metadata": {
    "collapsed": true
   },
   "outputs": [],
   "source": []
  },
  {
   "cell_type": "code",
   "execution_count": 14,
   "metadata": {
    "collapsed": false,
    "scrolled": true
   },
   "outputs": [],
   "source": [
    "with open('./new/me2','r+') as fd:\n",
    "    c = fd.read()\n",
    "    fd.seek(0)\n",
    "    fd.seek(c.index('local'))\n",
    "    fd.writelines('localmail = 5')"
   ]
  },
  {
   "cell_type": "code",
   "execution_count": null,
   "metadata": {
    "collapsed": true
   },
   "outputs": [],
   "source": []
  },
  {
   "cell_type": "code",
   "execution_count": 11,
   "metadata": {
    "collapsed": false
   },
   "outputs": [
    {
     "name": "stdout",
     "output_type": "stream",
     "text": [
      "localmail = 5\n",
      "\n",
      "67\n"
     ]
    }
   ],
   "source": [
    "with open('./new/me2','r+') as fd:\n",
    "    while True:\n",
    "        line = fd.readline()\n",
    "        if line.startswith('local'):\n",
    "            c = fd.tell()\n",
    "            print(line)\n",
    "            print(c - len(line))\n",
    "            break"
   ]
  },
  {
   "cell_type": "code",
   "execution_count": null,
   "metadata": {
    "collapsed": true
   },
   "outputs": [],
   "source": []
  },
  {
   "cell_type": "code",
   "execution_count": null,
   "metadata": {
    "collapsed": true
   },
   "outputs": [],
   "source": []
  },
  {
   "cell_type": "code",
   "execution_count": null,
   "metadata": {
    "collapsed": true
   },
   "outputs": [],
   "source": []
  },
  {
   "cell_type": "code",
   "execution_count": null,
   "metadata": {
    "collapsed": true
   },
   "outputs": [],
   "source": []
  },
  {
   "cell_type": "code",
   "execution_count": null,
   "metadata": {
    "collapsed": true
   },
   "outputs": [],
   "source": []
  },
  {
   "cell_type": "code",
   "execution_count": null,
   "metadata": {
    "collapsed": true
   },
   "outputs": [],
   "source": []
  },
  {
   "cell_type": "code",
   "execution_count": null,
   "metadata": {
    "collapsed": true
   },
   "outputs": [],
   "source": []
  },
  {
   "cell_type": "code",
   "execution_count": null,
   "metadata": {
    "collapsed": true
   },
   "outputs": [],
   "source": []
  },
  {
   "cell_type": "code",
   "execution_count": null,
   "metadata": {
    "collapsed": true
   },
   "outputs": [],
   "source": []
  },
  {
   "cell_type": "code",
   "execution_count": null,
   "metadata": {
    "collapsed": true
   },
   "outputs": [],
   "source": []
  },
  {
   "cell_type": "code",
   "execution_count": 1,
   "metadata": {
    "collapsed": true
   },
   "outputs": [],
   "source": [
    "import os"
   ]
  },
  {
   "cell_type": "code",
   "execution_count": 22,
   "metadata": {
    "collapsed": false
   },
   "outputs": [],
   "source": [
    "lst = []\n",
    "for root,min,file in os.walk('./zuoye'):\n",
    "    file.extend(min)\n",
    "    lst.extend([root+'/'+f for f in file])"
   ]
  },
  {
   "cell_type": "code",
   "execution_count": 25,
   "metadata": {
    "collapsed": false
   },
   "outputs": [
    {
     "data": {
      "text/plain": [
       "['./zuoye/第五周作业解析.ipynb',\n",
       " './zuoye/4',\n",
       " './zuoye/5',\n",
       " './zuoye/4/函数.ipynb',\n",
       " './zuoye/4/函数.pptx',\n",
       " './zuoye/4/函数.xmind',\n",
       " './zuoye/4/第三周作业解析.ipynb',\n",
       " './zuoye/4/5',\n",
       " './zuoye/5/functools.ipynb',\n",
       " './zuoye/5/第四周作业解析.ipynb',\n",
       " './zuoye/5/类型提示.ipynb',\n",
       " './zuoye/5/装饰器应用.ipynb',\n",
       " './zuoye/5/高阶函数.ipynb']"
      ]
     },
     "execution_count": 25,
     "metadata": {},
     "output_type": "execute_result"
    }
   ],
   "source": [
    "lst"
   ]
  },
  {
   "cell_type": "code",
   "execution_count": null,
   "metadata": {
    "collapsed": true
   },
   "outputs": [],
   "source": []
  },
  {
   "cell_type": "code",
   "execution_count": 24,
   "metadata": {
    "collapsed": true
   },
   "outputs": [],
   "source": [
    "import re"
   ]
  },
  {
   "cell_type": "code",
   "execution_count": 26,
   "metadata": {
    "collapsed": true
   },
   "outputs": [],
   "source": [
    "a = re.compile(r'装饰器应用.ipynb')"
   ]
  },
  {
   "cell_type": "code",
   "execution_count": 28,
   "metadata": {
    "collapsed": false
   },
   "outputs": [
    {
     "name": "stdout",
     "output_type": "stream",
     "text": [
      "false\n",
      "false\n",
      "false\n",
      "false\n",
      "false\n",
      "false\n",
      "false\n",
      "false\n",
      "false\n",
      "false\n",
      "false\n",
      "./zuoye/5/装饰器应用.ipynb\n",
      "false\n"
     ]
    }
   ],
   "source": [
    "for x in lst:\n",
    "    if a.search(x):\n",
    "        print(x)\n",
    "    else:\n",
    "        print('false')"
   ]
  },
  {
   "cell_type": "code",
   "execution_count": 29,
   "metadata": {
    "collapsed": false
   },
   "outputs": [
    {
     "data": {
      "text/plain": [
       "['./zuoye/第五周作业解析.ipynb',\n",
       " './zuoye/4',\n",
       " './zuoye/5',\n",
       " './zuoye/4/函数.ipynb',\n",
       " './zuoye/4/函数.pptx',\n",
       " './zuoye/4/函数.xmind',\n",
       " './zuoye/4/第三周作业解析.ipynb',\n",
       " './zuoye/4/5',\n",
       " './zuoye/5/functools.ipynb',\n",
       " './zuoye/5/第四周作业解析.ipynb',\n",
       " './zuoye/5/类型提示.ipynb',\n",
       " './zuoye/5/装饰器应用.ipynb',\n",
       " './zuoye/5/高阶函数.ipynb']"
      ]
     },
     "execution_count": 29,
     "metadata": {},
     "output_type": "execute_result"
    }
   ],
   "source": [
    "lst"
   ]
  },
  {
   "cell_type": "code",
   "execution_count": 31,
   "metadata": {
    "collapsed": false
   },
   "outputs": [],
   "source": [
    "a=os.stat(lst[0])"
   ]
  },
  {
   "cell_type": "code",
   "execution_count": 33,
   "metadata": {
    "collapsed": true
   },
   "outputs": [],
   "source": [
    "import stat"
   ]
  },
  {
   "cell_type": "code",
   "execution_count": 42,
   "metadata": {
    "collapsed": false
   },
   "outputs": [
    {
     "data": {
      "text/plain": [
       "'root/a/new'"
      ]
     },
     "execution_count": 42,
     "metadata": {},
     "output_type": "execute_result"
    }
   ],
   "source": [
    "os.path.join('root','a','new')"
   ]
  },
  {
   "cell_type": "code",
   "execution_count": 44,
   "metadata": {
    "collapsed": false
   },
   "outputs": [],
   "source": [
    "st  =os.stat(lst[0])"
   ]
  },
  {
   "cell_type": "code",
   "execution_count": 45,
   "metadata": {
    "collapsed": false
   },
   "outputs": [
    {
     "data": {
      "text/plain": [
       "True"
      ]
     },
     "execution_count": 45,
     "metadata": {},
     "output_type": "execute_result"
    }
   ],
   "source": [
    "stat.S_ISREG(st.st_mode)"
   ]
  },
  {
   "cell_type": "code",
   "execution_count": 46,
   "metadata": {
    "collapsed": true
   },
   "outputs": [],
   "source": [
    "dic = {'a':stat.S_ISREG,'b':stat.S_ISDIR}"
   ]
  },
  {
   "cell_type": "code",
   "execution_count": 48,
   "metadata": {
    "collapsed": false
   },
   "outputs": [
    {
     "data": {
      "text/plain": [
       "False"
      ]
     },
     "execution_count": 48,
     "metadata": {},
     "output_type": "execute_result"
    }
   ],
   "source": [
    "dic['b'](st.st_mode)"
   ]
  },
  {
   "cell_type": "code",
   "execution_count": 49,
   "metadata": {
    "collapsed": true
   },
   "outputs": [],
   "source": [
    "from datetime import datetime"
   ]
  },
  {
   "cell_type": "code",
   "execution_count": 53,
   "metadata": {
    "collapsed": false
   },
   "outputs": [],
   "source": [
    "start = datetime.now()"
   ]
  },
  {
   "cell_type": "code",
   "execution_count": 55,
   "metadata": {
    "collapsed": false
   },
   "outputs": [
    {
     "data": {
      "text/plain": [
       "1485850228.761078"
      ]
     },
     "execution_count": 55,
     "metadata": {},
     "output_type": "execute_result"
    }
   ],
   "source": [
    "start.timestamp()"
   ]
  },
  {
   "cell_type": "code",
   "execution_count": 56,
   "metadata": {
    "collapsed": false
   },
   "outputs": [
    {
     "data": {
      "text/plain": [
       "1485850440.556692"
      ]
     },
     "execution_count": 56,
     "metadata": {},
     "output_type": "execute_result"
    }
   ],
   "source": [
    "datetime.now().timestamp()"
   ]
  },
  {
   "cell_type": "code",
   "execution_count": 63,
   "metadata": {
    "collapsed": false
   },
   "outputs": [
    {
     "data": {
      "text/plain": [
       "6.0"
      ]
     },
     "execution_count": 63,
     "metadata": {},
     "output_type": "execute_result"
    }
   ],
   "source": [
    " (datetime.now().timestamp() - st.st_ctime) //(3600*24)"
   ]
  },
  {
   "cell_type": "code",
   "execution_count": 65,
   "metadata": {
    "collapsed": false
   },
   "outputs": [],
   "source": [
    "rule = {'ctime':st.st_ctime,'mtime':st.st_mtime}"
   ]
  },
  {
   "cell_type": "code",
   "execution_count": null,
   "metadata": {
    "collapsed": true
   },
   "outputs": [],
   "source": []
  },
  {
   "cell_type": "code",
   "execution_count": 66,
   "metadata": {
    "collapsed": false
   },
   "outputs": [
    {
     "name": "stdout",
     "output_type": "stream",
     "text": [
      "Help on built-in function fromkeys:\n",
      "\n",
      "fromkeys(iterable, value=None, /) method of builtins.type instance\n",
      "    Returns a new dict with keys from iterable and values equal to value.\n",
      "\n"
     ]
    }
   ],
   "source": [
    "help(dict.fromkeys)"
   ]
  },
  {
   "cell_type": "code",
   "execution_count": 72,
   "metadata": {
    "collapsed": true
   },
   "outputs": [],
   "source": [
    "c = dict.fromkeys(['a','b','c'],None)"
   ]
  },
  {
   "cell_type": "code",
   "execution_count": 73,
   "metadata": {
    "collapsed": true
   },
   "outputs": [],
   "source": [
    "c['d'] = False"
   ]
  },
  {
   "cell_type": "code",
   "execution_count": 74,
   "metadata": {
    "collapsed": true
   },
   "outputs": [],
   "source": [
    "c['e'] = 1"
   ]
  },
  {
   "cell_type": "code",
   "execution_count": 76,
   "metadata": {
    "collapsed": false
   },
   "outputs": [
    {
     "name": "stdout",
     "output_type": "stream",
     "text": [
      "c None\n",
      "d False\n",
      "b None\n",
      "a None\n"
     ]
    }
   ],
   "source": [
    "for k in c.keys():\n",
    "    if c[k] == None or c[k] == False:\n",
    "        print(k,c[k])"
   ]
  },
  {
   "cell_type": "code",
   "execution_count": 77,
   "metadata": {
    "collapsed": false
   },
   "outputs": [
    {
     "data": {
      "text/plain": [
       "False"
      ]
     },
     "execution_count": 77,
     "metadata": {},
     "output_type": "execute_result"
    }
   ],
   "source": [
    "bool(None)"
   ]
  },
  {
   "cell_type": "code",
   "execution_count": 78,
   "metadata": {
    "collapsed": true
   },
   "outputs": [],
   "source": [
    "a={1,2,3,4}"
   ]
  },
  {
   "cell_type": "code",
   "execution_count": 79,
   "metadata": {
    "collapsed": true
   },
   "outputs": [],
   "source": [
    "b={2,3,4,5}"
   ]
  },
  {
   "cell_type": "code",
   "execution_count": 80,
   "metadata": {
    "collapsed": true
   },
   "outputs": [],
   "source": [
    "a.update(b)"
   ]
  },
  {
   "cell_type": "code",
   "execution_count": 81,
   "metadata": {
    "collapsed": false
   },
   "outputs": [
    {
     "data": {
      "text/plain": [
       "{1, 2, 3, 4, 5}"
      ]
     },
     "execution_count": 81,
     "metadata": {},
     "output_type": "execute_result"
    }
   ],
   "source": [
    "a"
   ]
  },
  {
   "cell_type": "code",
   "execution_count": 82,
   "metadata": {
    "collapsed": false
   },
   "outputs": [
    {
     "data": {
      "text/plain": [
       "{1, 2, 3, 4, 5}"
      ]
     },
     "execution_count": 82,
     "metadata": {},
     "output_type": "execute_result"
    }
   ],
   "source": [
    "a | b"
   ]
  },
  {
   "cell_type": "code",
   "execution_count": null,
   "metadata": {
    "collapsed": true
   },
   "outputs": [],
   "source": []
  },
  {
   "cell_type": "code",
   "execution_count": null,
   "metadata": {
    "collapsed": true
   },
   "outputs": [],
   "source": []
  },
  {
   "cell_type": "code",
   "execution_count": null,
   "metadata": {
    "collapsed": true
   },
   "outputs": [],
   "source": []
  },
  {
   "cell_type": "code",
   "execution_count": null,
   "metadata": {
    "collapsed": true
   },
   "outputs": [],
   "source": []
  },
  {
   "cell_type": "code",
   "execution_count": null,
   "metadata": {
    "collapsed": true
   },
   "outputs": [],
   "source": []
  },
  {
   "cell_type": "code",
   "execution_count": null,
   "metadata": {
    "collapsed": true
   },
   "outputs": [],
   "source": []
  },
  {
   "cell_type": "code",
   "execution_count": null,
   "metadata": {
    "collapsed": true
   },
   "outputs": [],
   "source": []
  },
  {
   "cell_type": "code",
   "execution_count": 87,
   "metadata": {
    "collapsed": true
   },
   "outputs": [],
   "source": [
    "st = os.stat('./zuoye')"
   ]
  },
  {
   "cell_type": "code",
   "execution_count": 91,
   "metadata": {
    "collapsed": false
   },
   "outputs": [
    {
     "data": {
      "text/plain": [
       "64"
      ]
     },
     "execution_count": 91,
     "metadata": {},
     "output_type": "execute_result"
    }
   ],
   "source": [
    "stat.S_IXUSR"
   ]
  },
  {
   "cell_type": "code",
   "execution_count": 92,
   "metadata": {
    "collapsed": false
   },
   "outputs": [
    {
     "name": "stdout",
     "output_type": "stream",
     "text": [
      "Help on built-in function access in module posix:\n",
      "\n",
      "access(path, mode, *, dir_fd=None, effective_ids=False, follow_symlinks=True)\n",
      "    Use the real uid/gid to test for access to a path.\n",
      "    \n",
      "      path\n",
      "        Path to be tested; can be string, bytes, or open-file-descriptor int.\n",
      "      mode\n",
      "        Operating-system mode bitfield.  Can be F_OK to test existence,\n",
      "        or the inclusive-OR of R_OK, W_OK, and X_OK.\n",
      "      dir_fd\n",
      "        If not None, it should be a file descriptor open to a directory,\n",
      "        and path should be relative; path will then be relative to that\n",
      "        directory.\n",
      "      effective_ids\n",
      "        If True, access will use the effective uid/gid instead of\n",
      "        the real uid/gid.\n",
      "      follow_symlinks\n",
      "        If False, and the last element of the path is a symbolic link,\n",
      "        access will examine the symbolic link itself instead of the file\n",
      "        the link points to.\n",
      "    \n",
      "    dir_fd, effective_ids, and follow_symlinks may not be implemented\n",
      "      on your platform.  If they are unavailable, using them will raise a\n",
      "      NotImplementedError.\n",
      "    \n",
      "    Note that most operations will use the effective uid/gid, therefore this\n",
      "      routine can be used in a suid/sgid environment to test if the invoking user\n",
      "      has the specified access to the path.\n",
      "\n"
     ]
    }
   ],
   "source": [
    "help(os.access)"
   ]
  },
  {
   "cell_type": "code",
   "execution_count": 99,
   "metadata": {
    "collapsed": false
   },
   "outputs": [
    {
     "data": {
      "text/plain": [
       "True"
      ]
     },
     "execution_count": 99,
     "metadata": {},
     "output_type": "execute_result"
    }
   ],
   "source": [
    "os.access('./zuoye/lv.txt',4)"
   ]
  },
  {
   "cell_type": "code",
   "execution_count": null,
   "metadata": {
    "collapsed": true
   },
   "outputs": [],
   "source": []
  },
  {
   "cell_type": "code",
   "execution_count": null,
   "metadata": {
    "collapsed": true
   },
   "outputs": [],
   "source": []
  },
  {
   "cell_type": "code",
   "execution_count": null,
   "metadata": {
    "collapsed": true
   },
   "outputs": [],
   "source": []
  },
  {
   "cell_type": "code",
   "execution_count": null,
   "metadata": {
    "collapsed": true
   },
   "outputs": [],
   "source": []
  },
  {
   "cell_type": "code",
   "execution_count": null,
   "metadata": {
    "collapsed": true
   },
   "outputs": [],
   "source": []
  },
  {
   "cell_type": "code",
   "execution_count": null,
   "metadata": {
    "collapsed": true
   },
   "outputs": [],
   "source": []
  },
  {
   "cell_type": "code",
   "execution_count": null,
   "metadata": {
    "collapsed": true
   },
   "outputs": [],
   "source": []
  },
  {
   "cell_type": "code",
   "execution_count": 1,
   "metadata": {
    "collapsed": true
   },
   "outputs": [],
   "source": [
    "import os,stat"
   ]
  },
  {
   "cell_type": "code",
   "execution_count": 3,
   "metadata": {
    "collapsed": false
   },
   "outputs": [],
   "source": [
    "a = os.stat('./zuoye/lv.txt')"
   ]
  },
  {
   "cell_type": "code",
   "execution_count": 4,
   "metadata": {
    "collapsed": false
   },
   "outputs": [
    {
     "data": {
      "text/plain": [
       "8"
      ]
     },
     "execution_count": 4,
     "metadata": {},
     "output_type": "execute_result"
    }
   ],
   "source": [
    "a.st_blocks"
   ]
  },
  {
   "cell_type": "code",
   "execution_count": 11,
   "metadata": {
    "collapsed": false
   },
   "outputs": [
    {
     "data": {
      "text/plain": [
       "1048576"
      ]
     },
     "execution_count": 11,
     "metadata": {},
     "output_type": "execute_result"
    }
   ],
   "source": [
    "1024 * 1024"
   ]
  },
  {
   "cell_type": "code",
   "execution_count": null,
   "metadata": {
    "collapsed": true
   },
   "outputs": [],
   "source": []
  },
  {
   "cell_type": "code",
   "execution_count": 12,
   "metadata": {
    "collapsed": false
   },
   "outputs": [
    {
     "ename": "TypeError",
     "evalue": "unorderable types: int() > NoneType()",
     "output_type": "error",
     "traceback": [
      "\u001b[0;31m---------------------------------------------------------------------------\u001b[0m",
      "\u001b[0;31mTypeError\u001b[0m                                 Traceback (most recent call last)",
      "\u001b[0;32m<ipython-input-12-64b83301711d>\u001b[0m in \u001b[0;36m<module>\u001b[0;34m()\u001b[0m\n\u001b[0;32m----> 1\u001b[0;31m \u001b[0;36m12\u001b[0m \u001b[0;34m>\u001b[0m\u001b[0;32mNone\u001b[0m\u001b[0;34m\u001b[0m\u001b[0m\n\u001b[0m",
      "\u001b[0;31mTypeError\u001b[0m: unorderable types: int() > NoneType()"
     ]
    }
   ],
   "source": [
    "12 > None"
   ]
  },
  {
   "cell_type": "code",
   "execution_count": null,
   "metadata": {
    "collapsed": true
   },
   "outputs": [],
   "source": []
  },
  {
   "cell_type": "code",
   "execution_count": null,
   "metadata": {
    "collapsed": true
   },
   "outputs": [],
   "source": []
  },
  {
   "cell_type": "code",
   "execution_count": null,
   "metadata": {
    "collapsed": true
   },
   "outputs": [],
   "source": []
  },
  {
   "cell_type": "code",
   "execution_count": 9,
   "metadata": {
    "collapsed": true
   },
   "outputs": [],
   "source": [
    "s = '+30kK'"
   ]
  },
  {
   "cell_type": "code",
   "execution_count": 10,
   "metadata": {
    "collapsed": false
   },
   "outputs": [
    {
     "data": {
      "text/plain": [
       "'30'"
      ]
     },
     "execution_count": 10,
     "metadata": {},
     "output_type": "execute_result"
    }
   ],
   "source": [
    "s.strip('+kK')"
   ]
  },
  {
   "cell_type": "code",
   "execution_count": null,
   "metadata": {
    "collapsed": true
   },
   "outputs": [],
   "source": []
  },
  {
   "cell_type": "code",
   "execution_count": 15,
   "metadata": {
    "collapsed": true
   },
   "outputs": [],
   "source": [
    "b = 3"
   ]
  },
  {
   "cell_type": "code",
   "execution_count": null,
   "metadata": {
    "collapsed": true
   },
   "outputs": [],
   "source": []
  },
  {
   "cell_type": "code",
   "execution_count": 13,
   "metadata": {
    "collapsed": true
   },
   "outputs": [],
   "source": [
    "a = None"
   ]
  },
  {
   "cell_type": "code",
   "execution_count": 16,
   "metadata": {
    "collapsed": false
   },
   "outputs": [
    {
     "data": {
      "text/plain": [
       "6"
      ]
     },
     "execution_count": 16,
     "metadata": {},
     "output_type": "execute_result"
    }
   ],
   "source": [
    "3 if a else 5 if b<2 else 6 "
   ]
  },
  {
   "cell_type": "code",
   "execution_count": null,
   "metadata": {
    "collapsed": true
   },
   "outputs": [],
   "source": []
  },
  {
   "cell_type": "code",
   "execution_count": null,
   "metadata": {
    "collapsed": true
   },
   "outputs": [],
   "source": []
  },
  {
   "cell_type": "code",
   "execution_count": null,
   "metadata": {
    "collapsed": true
   },
   "outputs": [],
   "source": []
  },
  {
   "cell_type": "code",
   "execution_count": null,
   "metadata": {
    "collapsed": true
   },
   "outputs": [],
   "source": []
  },
  {
   "cell_type": "code",
   "execution_count": null,
   "metadata": {
    "collapsed": true
   },
   "outputs": [],
   "source": []
  },
  {
   "cell_type": "code",
   "execution_count": null,
   "metadata": {
    "collapsed": true
   },
   "outputs": [],
   "source": []
  },
  {
   "cell_type": "code",
   "execution_count": null,
   "metadata": {
    "collapsed": true
   },
   "outputs": [],
   "source": []
  },
  {
   "cell_type": "code",
   "execution_count": null,
   "metadata": {
    "collapsed": true
   },
   "outputs": [],
   "source": []
  },
  {
   "cell_type": "code",
   "execution_count": null,
   "metadata": {
    "collapsed": true
   },
   "outputs": [],
   "source": []
  },
  {
   "cell_type": "code",
   "execution_count": null,
   "metadata": {
    "collapsed": true
   },
   "outputs": [],
   "source": []
  },
  {
   "cell_type": "code",
   "execution_count": null,
   "metadata": {
    "collapsed": true
   },
   "outputs": [],
   "source": []
  },
  {
   "cell_type": "code",
   "execution_count": null,
   "metadata": {
    "collapsed": true
   },
   "outputs": [],
   "source": []
  },
  {
   "cell_type": "code",
   "execution_count": null,
   "metadata": {
    "collapsed": true
   },
   "outputs": [],
   "source": []
  },
  {
   "cell_type": "code",
   "execution_count": null,
   "metadata": {
    "collapsed": true
   },
   "outputs": [],
   "source": []
  },
  {
   "cell_type": "code",
   "execution_count": null,
   "metadata": {
    "collapsed": true
   },
   "outputs": [],
   "source": []
  },
  {
   "cell_type": "code",
   "execution_count": null,
   "metadata": {
    "collapsed": true
   },
   "outputs": [],
   "source": []
  },
  {
   "cell_type": "code",
   "execution_count": null,
   "metadata": {
    "collapsed": true
   },
   "outputs": [],
   "source": []
  },
  {
   "cell_type": "code",
   "execution_count": null,
   "metadata": {
    "collapsed": true
   },
   "outputs": [],
   "source": []
  },
  {
   "cell_type": "code",
   "execution_count": null,
   "metadata": {
    "collapsed": true
   },
   "outputs": [],
   "source": []
  },
  {
   "cell_type": "code",
   "execution_count": null,
   "metadata": {
    "collapsed": true
   },
   "outputs": [],
   "source": []
  },
  {
   "cell_type": "code",
   "execution_count": null,
   "metadata": {
    "collapsed": true
   },
   "outputs": [],
   "source": []
  },
  {
   "cell_type": "code",
   "execution_count": null,
   "metadata": {
    "collapsed": true
   },
   "outputs": [],
   "source": []
  },
  {
   "cell_type": "code",
   "execution_count": null,
   "metadata": {
    "collapsed": true
   },
   "outputs": [],
   "source": []
  },
  {
   "cell_type": "code",
   "execution_count": null,
   "metadata": {
    "collapsed": true
   },
   "outputs": [],
   "source": []
  },
  {
   "cell_type": "code",
   "execution_count": null,
   "metadata": {
    "collapsed": true
   },
   "outputs": [],
   "source": []
  }
 ],
 "metadata": {
  "kernelspec": {
   "display_name": "Python 3",
   "language": "python",
   "name": "python3"
  },
  "language_info": {
   "codemirror_mode": {
    "name": "ipython",
    "version": 3
   },
   "file_extension": ".py",
   "mimetype": "text/x-python",
   "name": "python",
   "nbconvert_exporter": "python",
   "pygments_lexer": "ipython3",
   "version": "3.5.2"
  }
 },
 "nbformat": 4,
 "nbformat_minor": 1
}
