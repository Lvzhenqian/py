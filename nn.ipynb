{
 "cells": [
  {
   "cell_type": "code",
   "execution_count": 1,
   "metadata": {
    "collapsed": true,
    "deletable": true,
    "editable": true
   },
   "outputs": [],
   "source": [
    "class Base:\n",
    "    x = 1\n",
    "    \n",
    "    def __init__(self):\n",
    "        self.a = 2\n",
    "    def print(self):\n",
    "        print('Base')"
   ]
  },
  {
   "cell_type": "code",
   "execution_count": 2,
   "metadata": {
    "collapsed": true,
    "deletable": true,
    "editable": true
   },
   "outputs": [],
   "source": [
    "class L(Base):\n",
    "    def print(self):\n",
    "        print(super().a)"
   ]
  },
  {
   "cell_type": "code",
   "execution_count": 3,
   "metadata": {
    "collapsed": true,
    "deletable": true,
    "editable": true
   },
   "outputs": [],
   "source": [
    "l = L()"
   ]
  },
  {
   "cell_type": "code",
   "execution_count": 4,
   "metadata": {
    "collapsed": false,
    "deletable": true,
    "editable": true,
    "scrolled": true
   },
   "outputs": [
    {
     "name": "stdout",
     "output_type": "stream",
     "text": [
      "['__class__', '__delattr__', '__dir__', '__doc__', '__eq__', '__format__', '__ge__', '__get__', '__getattribute__', '__gt__', '__hash__', '__init__', '__le__', '__lt__', '__ne__', '__new__', '__reduce__', '__reduce_ex__', '__repr__', '__self__', '__self_class__', '__setattr__', '__sizeof__', '__str__', '__subclasshook__', '__thisclass__', 'a']\n"
     ]
    }
   ],
   "source": [
    "l.print()"
   ]
  },
  {
   "cell_type": "code",
   "execution_count": 5,
   "metadata": {
    "collapsed": true,
    "deletable": true,
    "editable": true
   },
   "outputs": [],
   "source": [
    "class TopBase:\n",
    "    def print(self):\n",
    "        print('top base')\n",
    "        "
   ]
  },
  {
   "cell_type": "code",
   "execution_count": 6,
   "metadata": {
    "collapsed": true,
    "deletable": true,
    "editable": true
   },
   "outputs": [],
   "source": [
    "class Base(TopBase):\n",
    "    def print(self):\n",
    "        print('base')"
   ]
  },
  {
   "cell_type": "code",
   "execution_count": 7,
   "metadata": {
    "collapsed": true,
    "deletable": true,
    "editable": true
   },
   "outputs": [],
   "source": [
    "class A(Base):\n",
    "    def print(self):\n",
    "        super(Base,self).print()"
   ]
  },
  {
   "cell_type": "code",
   "execution_count": 8,
   "metadata": {
    "collapsed": true,
    "deletable": true,
    "editable": true
   },
   "outputs": [],
   "source": [
    "a = A()"
   ]
  },
  {
   "cell_type": "code",
   "execution_count": 9,
   "metadata": {
    "collapsed": false,
    "deletable": true,
    "editable": true
   },
   "outputs": [
    {
     "name": "stdout",
     "output_type": "stream",
     "text": [
      "top base\n"
     ]
    }
   ],
   "source": [
    "a.print()"
   ]
  },
  {
   "cell_type": "code",
   "execution_count": 10,
   "metadata": {
    "collapsed": true,
    "deletable": true,
    "editable": true
   },
   "outputs": [],
   "source": [
    "class B:\n",
    "    def info(self):\n",
    "        print(__class__)"
   ]
  },
  {
   "cell_type": "code",
   "execution_count": 11,
   "metadata": {
    "collapsed": true,
    "deletable": true,
    "editable": true
   },
   "outputs": [],
   "source": [
    "b = B()"
   ]
  },
  {
   "cell_type": "code",
   "execution_count": 12,
   "metadata": {
    "collapsed": false,
    "deletable": true,
    "editable": true
   },
   "outputs": [
    {
     "name": "stdout",
     "output_type": "stream",
     "text": [
      "<class '__main__.B'>\n"
     ]
    }
   ],
   "source": [
    "b.info()"
   ]
  },
  {
   "cell_type": "code",
   "execution_count": null,
   "metadata": {
    "collapsed": true,
    "deletable": true,
    "editable": true
   },
   "outputs": [],
   "source": []
  },
  {
   "cell_type": "code",
   "execution_count": null,
   "metadata": {
    "collapsed": true,
    "deletable": true,
    "editable": true
   },
   "outputs": [],
   "source": []
  },
  {
   "cell_type": "code",
   "execution_count": null,
   "metadata": {
    "collapsed": true,
    "deletable": true,
    "editable": true
   },
   "outputs": [],
   "source": [
    "import poplib,email\n",
    "p = poplib.POP3('mail.7road.com')\n",
    "p.user('lv@7road.com')\n",
    "p.pass_('angelo_5566!@')\n",
    "ret = p.stat()\n",
    "name_lst = []\n",
    "js = 0\n",
    "for n in range(1,ret[0]):    \n",
    "    fp = p.retr(n)[1]\n",
    "    subject = [x for x in fp if x.startswith(b'Subject')or x.startswith(b' =?')]\n",
    "    st = b''\n",
    "    for i in range(len(subject)):\n",
    "        t1,code = email.header.decode_header(subject[i].strip(b'Subject: ').decode())[0]\n",
    "        if isinstance(t1,bytes):\n",
    "            st += t1\n",
    "        else:\n",
    "            name_lst.append(t1)\n",
    "    if st:\n",
    "        name_lst.append(st.decode(code))\n",
    "print(name_lst)"
   ]
  },
  {
   "cell_type": "code",
   "execution_count": null,
   "metadata": {
    "collapsed": true,
    "deletable": true,
    "editable": true
   },
   "outputs": [],
   "source": []
  },
  {
   "cell_type": "code",
   "execution_count": 18,
   "metadata": {
    "collapsed": false,
    "deletable": true,
    "editable": true
   },
   "outputs": [
    {
     "name": "stdout",
     "output_type": "stream",
     "text": [
      "(b'+OK 2042 octets', [b'Received: from 172.16.1.196 (HELO FTP-IN.7ROAD.COM); Fri, 30 Dec 2016 10:36:36 +0800', b'Content-Type: multipart/mixed; boundary=\"===============0526557366==\"', b'MIME-Version: 1.0', b'From: ftpin@7road.com', b'To: young.yang@7road.com, yunweizk@7road.com, terry.wu@7road.com,', b' zicheng.hou@7road.com, kris.yuan@7road.com, steven@7road.com,', b' liam.wu@7road.com, liang.wu@7road.com, lv@7road.com, kay@7road.com,', b' junjie.he@7road.com, yulong.zhong@7road.com, fight@7road.com,', b' vivian.long@7road.com, ', b'Subject: \\xe5\\x86\\x85\\xe7\\xbd\\x91\\xe6\\x96\\x87\\xe4\\xbb\\xb6\\xe9\\x80\\x81\\xe5\\x87\\xba -\\xe4\\xb9\\x94\\xe5\\xb3\\xb0\\xe4\\xbc\\xa0 - \\xe5\\xa4\\xa9\\xe9\\xbe\\x99\\xe8\\xb6\\x8a\\xe5\\x8d\\x97_v3.1.0_20161230_\\xe4\\xbe\\x8b\\xe7\\xbb\\xb4\\xe5\\x8c\\x85', b'', b'--===============0526557366==', b'Content-Type: text/html; charset=\"utf-8\"', b'MIME-Version: 1.0', b'Content-Transfer-Encoding: base64', b'', b'T0HljZXlj7fkuLo6MTg4MjI1PGJyLz7miJDlip88YnIvPuS5lOWzsOS8oCAtIOWkqem+mei2iuWN', b'l192My4xLjBfMjAxNjEyMzBf5L6L57u05YyFPGJyLz4vU2VuZFBhY2thZ2VUb29sL3Fmemh1YW4v', b'MTQ4MzA2NTMyMTM5NC/lpKnpvpnotorljZdfdjMuMS4wXzIwMTYxMjMwX+S+i+e7tOWMhS56aXA8', b'YnIvPui/kOiQpee9keaOpeaUtuS6ujp5dW53ZWl6ayxzdGV2ZW4sanVuamllLmhlLHppY2hlbmcu', b'aG91LGx2LHl1bG9uZy56aG9uZzxici8+bWQ1OmFhODVhMGRlMzU2MWZhZGQwNGY5MWQ2YjYxYzc0', b'ZWEwPGJyLz7kvZznlKjor7TmmI46PGJyPuaXoERCQeaTjeS9nCzpnZ7moIflh4bljIU8YnI+P3By', b'b2plY3Q6OjpxZnluZGJhOjo6bm9jcm9zczo6Onllc3N0b3A6Ojp5ZXN5dWZhYnU6Ojpub+e8luiv', b'keaXpeacn++8mjIwMTYtMTItMzDlvZPliY3niYjmnKzvvJp0bGJiX3YzLjEuMOWPkeW4g+S6uuWR', b'mO+8mmZpZ2h06IGU57O755S16K+d77yaMTUwMTg1MTIyNjAgIOWMheWQjSDvvJoJMeOAgeWkqem+', b'mei2iuWNl192My4xLjBfMjAxNjEyMzBf5L6L57u05YyFLnppcAkg5pu05paw6IyD5Zu077yaCTHj', b'gIHkuZTls7DkvKDmuLjmiI8g44CQ6LaK5Y2X44CR5omA5pyJ5pyN5Yqh5Zmo5pu05paw5pON5L2c', b'77yaCei3qOacje+8mgkJMeOAgWNyb3NzLnppcCDkuIrkvKDoh7Pot6jmnI3mnI3liqHlmagJCTLj', b'gIHlgZzmnI3jgIHkuIrkvKDjgIHop6PljosJCTPjgIHliLdEVFMJCTTjgIHlkK/mnI0J5ri45oiP', b'5pyN77yaCQkx44CBZ3MuemlwIOS4iuS8oOiHs+i3qOacjeacjeWKoeWZqAkJMuOAgeWBnOacjeOA', b'geS4iuS8oOOAgeino+WOiwkJM+OAgeWIt0RUUwkJNOOAgeWQr+acjTxici8+PGEgaHJlZj0naHR0', b'cDovL2Z0cGluLjdyb2FkLmNvbTo4MDgwL2Rvd24/a2V5PWFhODVhMGRlMzU2MWZhZGQwNGY5MWQ2', b'YjYxYzc0ZWEwMTg4MjI1Jz7ngrnlh7vkuIvovb3mlofku7Y8L2E+', b'', b'--===============0526557366==--'], 2039)\n"
     ]
    }
   ],
   "source": [
    "import poplib,email\n",
    "p = poplib.POP3('mail.7road.com')\n",
    "p.user('lv@7road.com')\n",
    "p.pass_('angelo_5566!@')\n",
    "ret = p.stat()\n",
    "fp = p.retr(7483)\n",
    "print(fp)"
   ]
  },
  {
   "cell_type": "code",
   "execution_count": 19,
   "metadata": {
    "collapsed": false,
    "deletable": true,
    "editable": true
   },
   "outputs": [
    {
     "data": {
      "text/plain": [
       "[b'Received: from 172.16.1.196 (HELO FTP-IN.7ROAD.COM); Fri, 30 Dec 2016 10:36:36 +0800',\n",
       " b'Content-Type: multipart/mixed; boundary=\"===============0526557366==\"',\n",
       " b'MIME-Version: 1.0',\n",
       " b'From: ftpin@7road.com',\n",
       " b'To: young.yang@7road.com, yunweizk@7road.com, terry.wu@7road.com,',\n",
       " b' zicheng.hou@7road.com, kris.yuan@7road.com, steven@7road.com,',\n",
       " b' liam.wu@7road.com, liang.wu@7road.com, lv@7road.com, kay@7road.com,',\n",
       " b' junjie.he@7road.com, yulong.zhong@7road.com, fight@7road.com,',\n",
       " b' vivian.long@7road.com, ',\n",
       " b'Subject: \\xe5\\x86\\x85\\xe7\\xbd\\x91\\xe6\\x96\\x87\\xe4\\xbb\\xb6\\xe9\\x80\\x81\\xe5\\x87\\xba -\\xe4\\xb9\\x94\\xe5\\xb3\\xb0\\xe4\\xbc\\xa0 - \\xe5\\xa4\\xa9\\xe9\\xbe\\x99\\xe8\\xb6\\x8a\\xe5\\x8d\\x97_v3.1.0_20161230_\\xe4\\xbe\\x8b\\xe7\\xbb\\xb4\\xe5\\x8c\\x85',\n",
       " b'',\n",
       " b'--===============0526557366==',\n",
       " b'Content-Type: text/html; charset=\"utf-8\"',\n",
       " b'MIME-Version: 1.0',\n",
       " b'Content-Transfer-Encoding: base64',\n",
       " b'',\n",
       " b'T0HljZXlj7fkuLo6MTg4MjI1PGJyLz7miJDlip88YnIvPuS5lOWzsOS8oCAtIOWkqem+mei2iuWN',\n",
       " b'l192My4xLjBfMjAxNjEyMzBf5L6L57u05YyFPGJyLz4vU2VuZFBhY2thZ2VUb29sL3Fmemh1YW4v',\n",
       " b'MTQ4MzA2NTMyMTM5NC/lpKnpvpnotorljZdfdjMuMS4wXzIwMTYxMjMwX+S+i+e7tOWMhS56aXA8',\n",
       " b'YnIvPui/kOiQpee9keaOpeaUtuS6ujp5dW53ZWl6ayxzdGV2ZW4sanVuamllLmhlLHppY2hlbmcu',\n",
       " b'aG91LGx2LHl1bG9uZy56aG9uZzxici8+bWQ1OmFhODVhMGRlMzU2MWZhZGQwNGY5MWQ2YjYxYzc0',\n",
       " b'ZWEwPGJyLz7kvZznlKjor7TmmI46PGJyPuaXoERCQeaTjeS9nCzpnZ7moIflh4bljIU8YnI+P3By',\n",
       " b'b2plY3Q6OjpxZnluZGJhOjo6bm9jcm9zczo6Onllc3N0b3A6Ojp5ZXN5dWZhYnU6Ojpub+e8luiv',\n",
       " b'keaXpeacn++8mjIwMTYtMTItMzDlvZPliY3niYjmnKzvvJp0bGJiX3YzLjEuMOWPkeW4g+S6uuWR',\n",
       " b'mO+8mmZpZ2h06IGU57O755S16K+d77yaMTUwMTg1MTIyNjAgIOWMheWQjSDvvJoJMeOAgeWkqem+',\n",
       " b'mei2iuWNl192My4xLjBfMjAxNjEyMzBf5L6L57u05YyFLnppcAkg5pu05paw6IyD5Zu077yaCTHj',\n",
       " b'gIHkuZTls7DkvKDmuLjmiI8g44CQ6LaK5Y2X44CR5omA5pyJ5pyN5Yqh5Zmo5pu05paw5pON5L2c',\n",
       " b'77yaCei3qOacje+8mgkJMeOAgWNyb3NzLnppcCDkuIrkvKDoh7Pot6jmnI3mnI3liqHlmagJCTLj',\n",
       " b'gIHlgZzmnI3jgIHkuIrkvKDjgIHop6PljosJCTPjgIHliLdEVFMJCTTjgIHlkK/mnI0J5ri45oiP',\n",
       " b'5pyN77yaCQkx44CBZ3MuemlwIOS4iuS8oOiHs+i3qOacjeacjeWKoeWZqAkJMuOAgeWBnOacjeOA',\n",
       " b'geS4iuS8oOOAgeino+WOiwkJM+OAgeWIt0RUUwkJNOOAgeWQr+acjTxici8+PGEgaHJlZj0naHR0',\n",
       " b'cDovL2Z0cGluLjdyb2FkLmNvbTo4MDgwL2Rvd24/a2V5PWFhODVhMGRlMzU2MWZhZGQwNGY5MWQ2',\n",
       " b'YjYxYzc0ZWEwMTg4MjI1Jz7ngrnlh7vkuIvovb3mlofku7Y8L2E+',\n",
       " b'',\n",
       " b'--===============0526557366==--']"
      ]
     },
     "execution_count": 19,
     "metadata": {},
     "output_type": "execute_result"
    }
   ],
   "source": [
    "fp[1]"
   ]
  },
  {
   "cell_type": "code",
   "execution_count": null,
   "metadata": {
    "collapsed": true,
    "deletable": true,
    "editable": true
   },
   "outputs": [],
   "source": []
  },
  {
   "cell_type": "code",
   "execution_count": 20,
   "metadata": {
    "collapsed": false,
    "deletable": true,
    "editable": true
   },
   "outputs": [
    {
     "data": {
      "text/plain": [
       "'内网文件送出 -乔峰传 - 天龙越南_v3.1.0_20161230_例维包'"
      ]
     },
     "execution_count": 20,
     "metadata": {},
     "output_type": "execute_result"
    }
   ],
   "source": [
    "b'\\xe5\\x86\\x85\\xe7\\xbd\\x91\\xe6\\x96\\x87\\xe4\\xbb\\xb6\\xe9\\x80\\x81\\xe5\\x87\\xba -\\xe4\\xb9\\x94\\xe5\\xb3\\xb0\\xe4\\xbc\\xa0 - \\xe5\\xa4\\xa9\\xe9\\xbe\\x99\\xe8\\xb6\\x8a\\xe5\\x8d\\x97_v3.1.0_20161230_\\xe4\\xbe\\x8b\\xe7\\xbb\\xb4\\xe5\\x8c\\x85'.decode('utf-8')"
   ]
  },
  {
   "cell_type": "code",
   "execution_count": null,
   "metadata": {
    "collapsed": true,
    "deletable": true,
    "editable": true
   },
   "outputs": [],
   "source": []
  },
  {
   "cell_type": "code",
   "execution_count": null,
   "metadata": {
    "collapsed": true,
    "deletable": true,
    "editable": true
   },
   "outputs": [],
   "source": []
  },
  {
   "cell_type": "code",
   "execution_count": null,
   "metadata": {
    "collapsed": true,
    "deletable": true,
    "editable": true
   },
   "outputs": [],
   "source": []
  },
  {
   "cell_type": "code",
   "execution_count": null,
   "metadata": {
    "collapsed": true,
    "deletable": true,
    "editable": true
   },
   "outputs": [],
   "source": []
  },
  {
   "cell_type": "code",
   "execution_count": null,
   "metadata": {
    "collapsed": true,
    "deletable": true,
    "editable": true
   },
   "outputs": [],
   "source": []
  },
  {
   "cell_type": "code",
   "execution_count": null,
   "metadata": {
    "collapsed": true,
    "deletable": true,
    "editable": true
   },
   "outputs": [],
   "source": []
  },
  {
   "cell_type": "code",
   "execution_count": null,
   "metadata": {
    "collapsed": true,
    "deletable": true,
    "editable": true
   },
   "outputs": [],
   "source": []
  },
  {
   "cell_type": "code",
   "execution_count": 12,
   "metadata": {
    "collapsed": true,
    "deletable": true,
    "editable": true
   },
   "outputs": [],
   "source": [
    "c = 'a'\n",
    "local = 'ac = {}'.format(c) "
   ]
  },
  {
   "cell_type": "code",
   "execution_count": 13,
   "metadata": {
    "collapsed": false,
    "deletable": true,
    "editable": true
   },
   "outputs": [
    {
     "data": {
      "text/plain": [
       "'ac = a'"
      ]
     },
     "execution_count": 13,
     "metadata": {},
     "output_type": "execute_result"
    }
   ],
   "source": [
    "local"
   ]
  },
  {
   "cell_type": "code",
   "execution_count": null,
   "metadata": {
    "collapsed": true,
    "deletable": true,
    "editable": true
   },
   "outputs": [],
   "source": []
  },
  {
   "cell_type": "code",
   "execution_count": null,
   "metadata": {
    "collapsed": true,
    "deletable": true,
    "editable": true
   },
   "outputs": [],
   "source": []
  },
  {
   "cell_type": "code",
   "execution_count": null,
   "metadata": {
    "collapsed": true,
    "deletable": true,
    "editable": true
   },
   "outputs": [],
   "source": []
  },
  {
   "cell_type": "code",
   "execution_count": 6,
   "metadata": {
    "collapsed": false,
    "deletable": true,
    "editable": true
   },
   "outputs": [
    {
     "data": {
      "text/plain": [
       "(7521, 22294768)"
      ]
     },
     "execution_count": 6,
     "metadata": {},
     "output_type": "execute_result"
    }
   ],
   "source": []
  },
  {
   "cell_type": "code",
   "execution_count": null,
   "metadata": {
    "collapsed": true,
    "deletable": true,
    "editable": true
   },
   "outputs": [],
   "source": []
  },
  {
   "cell_type": "code",
   "execution_count": null,
   "metadata": {
    "collapsed": true,
    "deletable": true,
    "editable": true
   },
   "outputs": [],
   "source": []
  },
  {
   "cell_type": "code",
   "execution_count": 5,
   "metadata": {
    "collapsed": false,
    "deletable": true,
    "editable": true
   },
   "outputs": [
    {
     "data": {
      "text/plain": [
       "[b'Subject: =?GB2312?B?ob7X6dav0Pu0q7K/ob8tLdDCs8nUscXg0bXNqNaq?=',\n",
       " b' =CE=A2=C8=ED=D1=C5=BA=DA, sans-serif; font-size: small; line-height: 19px=']"
      ]
     },
     "execution_count": 5,
     "metadata": {},
     "output_type": "execute_result"
    }
   ],
   "source": [
    "subject"
   ]
  },
  {
   "cell_type": "code",
   "execution_count": null,
   "metadata": {
    "collapsed": true,
    "deletable": true,
    "editable": true
   },
   "outputs": [],
   "source": []
  },
  {
   "cell_type": "code",
   "execution_count": null,
   "metadata": {
    "collapsed": true,
    "deletable": true,
    "editable": true
   },
   "outputs": [],
   "source": [
    "[x for x in fp if x.startswith(b'Subject')]"
   ]
  },
  {
   "cell_type": "code",
   "execution_count": 2,
   "metadata": {
    "collapsed": false,
    "deletable": true,
    "editable": true
   },
   "outputs": [
    {
     "data": {
      "text/plain": [
       "['欢迎进入7Road邮箱']"
      ]
     },
     "execution_count": 2,
     "metadata": {},
     "output_type": "execute_result"
    }
   ],
   "source": [
    "name_lst"
   ]
  },
  {
   "cell_type": "code",
   "execution_count": null,
   "metadata": {
    "collapsed": true,
    "deletable": true,
    "editable": true
   },
   "outputs": [],
   "source": []
  },
  {
   "cell_type": "code",
   "execution_count": 5,
   "metadata": {
    "collapsed": false,
    "deletable": true,
    "editable": true
   },
   "outputs": [
    {
     "data": {
      "text/plain": [
       "[b'Received: Mon, 18 Jul 2016 18:53:30 +0800',\n",
       " b'Date: Mon, 18 Jul 2016 18:53:30 +0800',\n",
       " b'From: admin@system.mail <admin@system.mail>',\n",
       " b'To: lv@7road.com <lv@7road.com>',\n",
       " b'Subject: =?GB2312?Q?=BB=B6=D3=AD=BD=F8=C8=EB7Road=D3=CA=CF=E4?=',\n",
       " b'Mime-Version: 1.0',\n",
       " b'Content-Type: text/plain; charset=\"GB2312\"',\n",
       " b'Content-Transfer-Encoding: quoted-printable',\n",
       " b'',\n",
       " b'=CA=B9=D3=C3=CE=CA=CC=E2=C7=EB=D5=D2=D4=CB=CE=AC=B2=BF=CD=AC=D1=A7=BD=E2=BE=',\n",
       " b'=F6=A3=AC=D0=BB=D0=BB=C4=FA=B5=C4=D6=A7=B3=D6=A3=A1',\n",
       " b'']"
      ]
     },
     "execution_count": 5,
     "metadata": {},
     "output_type": "execute_result"
    }
   ],
   "source": [
    "fp"
   ]
  },
  {
   "cell_type": "code",
   "execution_count": 9,
   "metadata": {
    "collapsed": false,
    "deletable": true,
    "editable": true
   },
   "outputs": [],
   "source": [
    "c = [x for x in fp if x.startswith(b'Content-Type:')]"
   ]
  },
  {
   "cell_type": "code",
   "execution_count": null,
   "metadata": {
    "collapsed": true,
    "deletable": true,
    "editable": true
   },
   "outputs": [],
   "source": []
  },
  {
   "cell_type": "code",
   "execution_count": null,
   "metadata": {
    "collapsed": true,
    "deletable": true,
    "editable": true
   },
   "outputs": [],
   "source": []
  },
  {
   "cell_type": "code",
   "execution_count": 8,
   "metadata": {
    "collapsed": false,
    "deletable": true,
    "editable": true
   },
   "outputs": [],
   "source": [
    "import pickle\n",
    "a = {'a':0,'b':1}\n",
    "with open('./new/me.ini','wb') as fd:\n",
    "    pickle.dump(a,fd)"
   ]
  },
  {
   "cell_type": "code",
   "execution_count": null,
   "metadata": {
    "collapsed": true,
    "deletable": true,
    "editable": true
   },
   "outputs": [],
   "source": []
  },
  {
   "cell_type": "code",
   "execution_count": 6,
   "metadata": {
    "collapsed": false,
    "deletable": true,
    "editable": true
   },
   "outputs": [
    {
     "data": {
      "text/plain": [
       "b'\\x80\\x03}q\\x00(X\\x01\\x00\\x00\\x00bq\\x01K\\x01X\\x01\\x00\\x00\\x00aq\\x02K\\x00u.'"
      ]
     },
     "execution_count": 6,
     "metadata": {},
     "output_type": "execute_result"
    }
   ],
   "source": [
    "pickle.dumps(a)"
   ]
  },
  {
   "cell_type": "code",
   "execution_count": 7,
   "metadata": {
    "collapsed": false,
    "deletable": true,
    "editable": true
   },
   "outputs": [
    {
     "name": "stdout",
     "output_type": "stream",
     "text": [
      "Help on built-in function dump in module _pickle:\n",
      "\n",
      "dump(obj, file, protocol=None, *, fix_imports=True)\n",
      "    Write a pickled representation of obj to the open file object file.\n",
      "    \n",
      "    This is equivalent to ``Pickler(file, protocol).dump(obj)``, but may\n",
      "    be more efficient.\n",
      "    \n",
      "    The optional *protocol* argument tells the pickler to use the given\n",
      "    protocol supported protocols are 0, 1, 2, 3 and 4.  The default\n",
      "    protocol is 3; a backward-incompatible protocol designed for Python 3.\n",
      "    \n",
      "    Specifying a negative protocol version selects the highest protocol\n",
      "    version supported.  The higher the protocol used, the more recent the\n",
      "    version of Python needed to read the pickle produced.\n",
      "    \n",
      "    The *file* argument must have a write() method that accepts a single\n",
      "    bytes argument.  It can thus be a file object opened for binary\n",
      "    writing, an io.BytesIO instance, or any other custom object that meets\n",
      "    this interface.\n",
      "    \n",
      "    If *fix_imports* is True and protocol is less than 3, pickle will try\n",
      "    to map the new Python 3 names to the old module names used in Python\n",
      "    2, so that the pickle data stream is readable with Python 2.\n",
      "\n"
     ]
    }
   ],
   "source": [
    "help(pickle.dump)"
   ]
  },
  {
   "cell_type": "code",
   "execution_count": 10,
   "metadata": {
    "collapsed": false,
    "deletable": true,
    "editable": true
   },
   "outputs": [],
   "source": [
    "with open('./new/me.ini','rb') as fd:\n",
    "    c =pickle.load(fd)"
   ]
  },
  {
   "cell_type": "code",
   "execution_count": 12,
   "metadata": {
    "collapsed": false,
    "deletable": true,
    "editable": true
   },
   "outputs": [
    {
     "data": {
      "text/plain": [
       "dict"
      ]
     },
     "execution_count": 12,
     "metadata": {},
     "output_type": "execute_result"
    }
   ],
   "source": [
    "type(c)"
   ]
  },
  {
   "cell_type": "code",
   "execution_count": 13,
   "metadata": {
    "collapsed": false,
    "deletable": true,
    "editable": true
   },
   "outputs": [
    {
     "data": {
      "text/plain": [
       "{'a': 0, 'b': 1}"
      ]
     },
     "execution_count": 13,
     "metadata": {},
     "output_type": "execute_result"
    }
   ],
   "source": [
    "pickle.loads(b'\\x80\\x03}q\\x00(X\\x01\\x00\\x00\\x00bq\\x01K\\x01X\\x01\\x00\\x00\\x00aq\\x02K\\x00u.')"
   ]
  },
  {
   "cell_type": "code",
   "execution_count": 14,
   "metadata": {
    "collapsed": false,
    "deletable": true,
    "editable": true
   },
   "outputs": [
    {
     "data": {
      "text/plain": [
       "'{\"b\": 1, \"a\": 0}'"
      ]
     },
     "execution_count": 14,
     "metadata": {},
     "output_type": "execute_result"
    }
   ],
   "source": [
    "json.dumps(a)"
   ]
  },
  {
   "cell_type": "code",
   "execution_count": 15,
   "metadata": {
    "collapsed": false,
    "deletable": true,
    "editable": true
   },
   "outputs": [
    {
     "data": {
      "text/plain": [
       "{'a': 0, 'b': 1}"
      ]
     },
     "execution_count": 15,
     "metadata": {},
     "output_type": "execute_result"
    }
   ],
   "source": [
    "json.loads('{\"b\": 1, \"a\": 0}')"
   ]
  },
  {
   "cell_type": "code",
   "execution_count": null,
   "metadata": {
    "collapsed": true,
    "deletable": true,
    "editable": true
   },
   "outputs": [],
   "source": []
  },
  {
   "cell_type": "code",
   "execution_count": null,
   "metadata": {
    "collapsed": true,
    "deletable": true,
    "editable": true
   },
   "outputs": [],
   "source": []
  },
  {
   "cell_type": "code",
   "execution_count": null,
   "metadata": {
    "collapsed": true,
    "deletable": true,
    "editable": true
   },
   "outputs": [],
   "source": []
  },
  {
   "cell_type": "code",
   "execution_count": null,
   "metadata": {
    "collapsed": true,
    "deletable": true,
    "editable": true
   },
   "outputs": [],
   "source": []
  },
  {
   "cell_type": "code",
   "execution_count": null,
   "metadata": {
    "collapsed": true,
    "deletable": true,
    "editable": true
   },
   "outputs": [],
   "source": []
  },
  {
   "cell_type": "code",
   "execution_count": null,
   "metadata": {
    "collapsed": true,
    "deletable": true,
    "editable": true
   },
   "outputs": [],
   "source": []
  },
  {
   "cell_type": "code",
   "execution_count": null,
   "metadata": {
    "collapsed": true,
    "deletable": true,
    "editable": true
   },
   "outputs": [],
   "source": []
  },
  {
   "cell_type": "code",
   "execution_count": null,
   "metadata": {
    "collapsed": true,
    "deletable": true,
    "editable": true
   },
   "outputs": [],
   "source": []
  },
  {
   "cell_type": "code",
   "execution_count": null,
   "metadata": {
    "collapsed": true,
    "deletable": true,
    "editable": true
   },
   "outputs": [],
   "source": []
  },
  {
   "cell_type": "code",
   "execution_count": null,
   "metadata": {
    "collapsed": true,
    "deletable": true,
    "editable": true
   },
   "outputs": [],
   "source": []
  },
  {
   "cell_type": "code",
   "execution_count": 2,
   "metadata": {
    "collapsed": false,
    "deletable": true,
    "editable": true
   },
   "outputs": [
    {
     "data": {
      "text/plain": [
       "[b'Received: from 121.10.141.205 (HELO LOCALHOST.LOCALDOMAIN); Mon, 2 Jan 2017 05:01:04 +0800',\n",
       " b'Date: Mon, 2 Jan 2017 05:01:03 +0800 (CST)',\n",
       " b'From: yunwei_cc@7road.com',\n",
       " b'To: steven@7road.com, junjie.he@7road.com, zicheng.hou@7road.com, lv@7road.com, ',\n",
       " b'\\tyulong.zhong@7road.com',\n",
       " b'Message-ID: <384041718.715.1483304463967.JavaMail.root@localhost.localdomain>',\n",
       " b'Subject: =?UTF-8?B?44CQ5ZGK6K2m5bmz5Y+w44CR44CQ5LmU?=',\n",
       " b' =?UTF-8?B?5bOw5LygLea1t+WkluWcsOWMuuOAkQ==?=',\n",
       " b'MIME-Version: 1.0',\n",
       " b'Content-Type: text/html;charset=UTF-8',\n",
       " b'Content-Transfer-Encoding: 7bit',\n",
       " b'',\n",
       " b'qfhk_0133&nbsp;SERVER&nbsp;ERROR&nbsp;203.74.37.146<br/>&nbsp;------------&nbsp;---------------&nbsp;----------&nbsp;<br/>|Site&nbsp;&nbsp;&nbsp;&nbsp;&nbsp;&nbsp;&nbsp;&nbsp;|&nbsp;&nbsp;&nbsp;&nbsp;&nbsp;&nbsp;&nbsp;&nbsp;&nbsp;&nbsp;&nbsp;Name|&nbsp;&nbsp;&nbsp;Warning|<br/>&nbsp;------------&nbsp;---------------&nbsp;----------&nbsp;<br/>|qfhk_0133&nbsp;&nbsp;&nbsp;|InterfaceStatus|&nbsp;&nbsp;&nbsp;&nbsp;&nbsp;&nbsp;&nbsp;&nbsp;&nbsp;0|<br/>&nbsp;------------&nbsp;---------------&nbsp;----------&nbsp;<br/>']"
      ]
     },
     "execution_count": 2,
     "metadata": {},
     "output_type": "execute_result"
    }
   ],
   "source": [
    "fp"
   ]
  },
  {
   "cell_type": "code",
   "execution_count": null,
   "metadata": {
    "collapsed": true,
    "deletable": true,
    "editable": true
   },
   "outputs": [],
   "source": []
  },
  {
   "cell_type": "code",
   "execution_count": null,
   "metadata": {
    "collapsed": true,
    "deletable": true,
    "editable": true
   },
   "outputs": [],
   "source": []
  },
  {
   "cell_type": "code",
   "execution_count": null,
   "metadata": {
    "collapsed": true,
    "deletable": true,
    "editable": true
   },
   "outputs": [],
   "source": []
  },
  {
   "cell_type": "code",
   "execution_count": null,
   "metadata": {
    "collapsed": true,
    "deletable": true,
    "editable": true
   },
   "outputs": [],
   "source": []
  },
  {
   "cell_type": "code",
   "execution_count": null,
   "metadata": {
    "collapsed": true,
    "deletable": true,
    "editable": true
   },
   "outputs": [],
   "source": []
  },
  {
   "cell_type": "code",
   "execution_count": 135,
   "metadata": {
    "collapsed": false,
    "deletable": true,
    "editable": true
   },
   "outputs": [
    {
     "data": {
      "text/plain": [
       "b'qfhk_0133&nbsp;SERVER&nbsp;ERROR&nbsp;203.74.37.146<br/>&nbsp;------------&nbsp;---------------&nbsp;----------&nbsp;<br/>|Site&nbsp;&nbsp;&nbsp;&nbsp;&nbsp;&nbsp;&nbsp;&nbsp;|&nbsp;&nbsp;&nbsp;&nbsp;&nbsp;&nbsp;&nbsp;&nbsp;&nbsp;&nbsp;&nbsp;Name|&nbsp;&nbsp;&nbsp;Warning|<br/>&nbsp;------------&nbsp;---------------&nbsp;----------&nbsp;<br/>|qfhk_0133&nbsp;&nbsp;&nbsp;|InterfaceStatus|&nbsp;&nbsp;&nbsp;&nbsp;&nbsp;&nbsp;&nbsp;&nbsp;&nbsp;0|<br/>&nbsp;------------&nbsp;---------------&nbsp;----------&nbsp;<br/>'"
      ]
     },
     "execution_count": 135,
     "metadata": {},
     "output_type": "execute_result"
    }
   ],
   "source": [
    "c"
   ]
  },
  {
   "cell_type": "code",
   "execution_count": null,
   "metadata": {
    "collapsed": true,
    "deletable": true,
    "editable": true
   },
   "outputs": [],
   "source": []
  },
  {
   "cell_type": "code",
   "execution_count": null,
   "metadata": {
    "collapsed": true,
    "deletable": true,
    "editable": true
   },
   "outputs": [],
   "source": []
  },
  {
   "cell_type": "code",
   "execution_count": null,
   "metadata": {
    "collapsed": true,
    "deletable": true,
    "editable": true
   },
   "outputs": [],
   "source": []
  },
  {
   "cell_type": "code",
   "execution_count": 143,
   "metadata": {
    "collapsed": true,
    "deletable": true,
    "editable": true
   },
   "outputs": [],
   "source": [
    "import poplib,email\n",
    "p = poplib.POP3('mail.7road.com')\n",
    "p.user('lv@7road.com')\n",
    "p.pass_('angelo_5566!@')\n",
    "ret = p.top(1,0)"
   ]
  },
  {
   "cell_type": "code",
   "execution_count": 144,
   "metadata": {
    "collapsed": false,
    "deletable": true,
    "editable": true
   },
   "outputs": [
    {
     "data": {
      "text/plain": [
       "(b'+OK showing 0 lines',\n",
       " [b'Received: Mon, 18 Jul 2016 18:53:30 +0800',\n",
       "  b'Date: Mon, 18 Jul 2016 18:53:30 +0800',\n",
       "  b'From: admin@system.mail <admin@system.mail>',\n",
       "  b'To: lv@7road.com <lv@7road.com>',\n",
       "  b'Subject: =?GB2312?Q?=BB=B6=D3=AD=BD=F8=C8=EB7Road=D3=CA=CF=E4?=',\n",
       "  b'Mime-Version: 1.0',\n",
       "  b'Content-Type: text/plain; charset=\"GB2312\"',\n",
       "  b'Content-Transfer-Encoding: quoted-printable'],\n",
       " 333)"
      ]
     },
     "execution_count": 144,
     "metadata": {},
     "output_type": "execute_result"
    }
   ],
   "source": [
    "ret"
   ]
  },
  {
   "cell_type": "code",
   "execution_count": null,
   "metadata": {
    "collapsed": true,
    "deletable": true,
    "editable": true
   },
   "outputs": [],
   "source": []
  },
  {
   "cell_type": "code",
   "execution_count": null,
   "metadata": {
    "collapsed": true,
    "deletable": true,
    "editable": true
   },
   "outputs": [],
   "source": []
  },
  {
   "cell_type": "code",
   "execution_count": null,
   "metadata": {
    "collapsed": true,
    "deletable": true,
    "editable": true
   },
   "outputs": [],
   "source": []
  },
  {
   "cell_type": "code",
   "execution_count": null,
   "metadata": {
    "collapsed": true,
    "deletable": true,
    "editable": true
   },
   "outputs": [],
   "source": []
  },
  {
   "cell_type": "code",
   "execution_count": null,
   "metadata": {
    "collapsed": true,
    "deletable": true,
    "editable": true
   },
   "outputs": [],
   "source": []
  },
  {
   "cell_type": "code",
   "execution_count": null,
   "metadata": {
    "collapsed": true,
    "deletable": true,
    "editable": true
   },
   "outputs": [],
   "source": []
  },
  {
   "cell_type": "code",
   "execution_count": null,
   "metadata": {
    "collapsed": true,
    "deletable": true,
    "editable": true
   },
   "outputs": [],
   "source": []
  },
  {
   "cell_type": "code",
   "execution_count": null,
   "metadata": {
    "collapsed": true,
    "deletable": true,
    "editable": true
   },
   "outputs": [],
   "source": []
  },
  {
   "cell_type": "code",
   "execution_count": null,
   "metadata": {
    "collapsed": true,
    "deletable": true,
    "editable": true
   },
   "outputs": [],
   "source": []
  },
  {
   "cell_type": "code",
   "execution_count": null,
   "metadata": {
    "collapsed": true,
    "deletable": true,
    "editable": true
   },
   "outputs": [],
   "source": []
  },
  {
   "cell_type": "code",
   "execution_count": 21,
   "metadata": {
    "collapsed": false,
    "deletable": true,
    "editable": true
   },
   "outputs": [
    {
     "data": {
      "text/plain": [
       "[b'Received: from 121.10.141.205 (HELO LOCALHOST.LOCALDOMAIN); Mon, 2 Jan 2017 10:01:13 +0800',\n",
       " b'Date: Mon, 2 Jan 2017 10:01:12 +0800 (CST)',\n",
       " b'From: yunwei_cc@7road.com',\n",
       " b'To: steven@7road.com, junjie.he@7road.com, zicheng.hou@7road.com, lv@7road.com, ',\n",
       " b'\\tyulong.zhong@7road.com',\n",
       " b'Message-ID: <1708699709.730.1483322473125.JavaMail.root@localhost.localdomain>',\n",
       " b'Subject: =?UTF-8?B?44CQ5ZGK6K2m5bmz5Y+w44CR44CQ5LmU?=',\n",
       " b' =?UTF-8?B?5bOw5LygLea1t+WkluWcsOWMuuOAkQ==?=',\n",
       " b'MIME-Version: 1.0',\n",
       " b'Content-Type: text/html;charset=UTF-8',\n",
       " b'Content-Transfer-Encoding: 7bit',\n",
       " b'',\n",
       " b'qfhunfu_0001&nbsp;SERVER&nbsp;ERROR&nbsp;203.74.37.75<br/>&nbsp;------------&nbsp;---------------&nbsp;----------&nbsp;<br/>|Site&nbsp;&nbsp;&nbsp;&nbsp;&nbsp;&nbsp;&nbsp;&nbsp;|&nbsp;&nbsp;&nbsp;&nbsp;&nbsp;&nbsp;&nbsp;&nbsp;&nbsp;&nbsp;&nbsp;Name|&nbsp;&nbsp;&nbsp;Warning|<br/>&nbsp;------------&nbsp;---------------&nbsp;----------&nbsp;<br/>|qfhunfu_0001|InterfaceStatus|&nbsp;&nbsp;&nbsp;&nbsp;&nbsp;&nbsp;&nbsp;&nbsp;&nbsp;0|<br/>&nbsp;------------&nbsp;---------------&nbsp;----------&nbsp;<br/>']"
      ]
     },
     "execution_count": 21,
     "metadata": {},
     "output_type": "execute_result"
    }
   ],
   "source": [
    "fp"
   ]
  },
  {
   "cell_type": "code",
   "execution_count": 25,
   "metadata": {
    "collapsed": false,
    "deletable": true,
    "editable": true
   },
   "outputs": [],
   "source": [
    "msg = email.message_from_bytes(fp[6])"
   ]
  },
  {
   "cell_type": "code",
   "execution_count": 83,
   "metadata": {
    "collapsed": false,
    "deletable": true,
    "editable": true
   },
   "outputs": [
    {
     "name": "stdout",
     "output_type": "stream",
     "text": [
      "=?UTF-8?B?44CQ5ZGK6K2m5bmz5Y+w44CR44CQ5LmU?=\n"
     ]
    }
   ],
   "source": [
    "subject = msg.get(\"Subject\")\n",
    "print(subject)"
   ]
  },
  {
   "cell_type": "code",
   "execution_count": null,
   "metadata": {
    "collapsed": true,
    "deletable": true,
    "editable": true
   },
   "outputs": [],
   "source": []
  },
  {
   "cell_type": "code",
   "execution_count": 82,
   "metadata": {
    "collapsed": false,
    "deletable": true,
    "editable": true
   },
   "outputs": [
    {
     "ename": "TypeError",
     "evalue": "Can't convert 'bytes' object to str implicitly",
     "output_type": "error",
     "traceback": [
      "\u001b[0;31m---------------------------------------------------------------------------\u001b[0m",
      "\u001b[0;31mTypeError\u001b[0m                                 Traceback (most recent call last)",
      "\u001b[0;32m<ipython-input-82-056d10c6a705>\u001b[0m in \u001b[0;36m<module>\u001b[0;34m()\u001b[0m\n\u001b[0;32m----> 1\u001b[0;31m \u001b[0mh\u001b[0m \u001b[0;34m=\u001b[0m \u001b[0memail\u001b[0m\u001b[0;34m.\u001b[0m\u001b[0mheader\u001b[0m\u001b[0;34m.\u001b[0m\u001b[0mHeader\u001b[0m\u001b[0;34m(\u001b[0m\u001b[0msubject\u001b[0m\u001b[0;34m+\u001b[0m\u001b[0;34mb'\\n\\n'\u001b[0m\u001b[0;34m)\u001b[0m\u001b[0;34m\u001b[0m\u001b[0m\n\u001b[0m\u001b[1;32m      2\u001b[0m \u001b[0mprint\u001b[0m\u001b[0;34m(\u001b[0m\u001b[0mh\u001b[0m\u001b[0;34m)\u001b[0m\u001b[0;34m\u001b[0m\u001b[0m\n\u001b[1;32m      3\u001b[0m \u001b[0mdh\u001b[0m \u001b[0;34m=\u001b[0m \u001b[0memail\u001b[0m\u001b[0;34m.\u001b[0m\u001b[0mheader\u001b[0m\u001b[0;34m.\u001b[0m\u001b[0mdecode_header\u001b[0m\u001b[0;34m(\u001b[0m\u001b[0mh\u001b[0m\u001b[0;34m)\u001b[0m\u001b[0;34m\u001b[0m\u001b[0m\n\u001b[1;32m      4\u001b[0m \u001b[0mdh\u001b[0m\u001b[0;34m\u001b[0m\u001b[0m\n",
      "\u001b[0;31mTypeError\u001b[0m: Can't convert 'bytes' object to str implicitly"
     ]
    }
   ],
   "source": [
    "h = email.header.Header(subject+'\\n\\n')\n",
    "print(h)\n",
    "dh = email.header.decode_header(h)\n",
    "dh"
   ]
  },
  {
   "cell_type": "code",
   "execution_count": null,
   "metadata": {
    "collapsed": true,
    "deletable": true,
    "editable": true
   },
   "outputs": [],
   "source": []
  },
  {
   "cell_type": "code",
   "execution_count": null,
   "metadata": {
    "collapsed": true,
    "deletable": true,
    "editable": true
   },
   "outputs": [],
   "source": []
  },
  {
   "cell_type": "code",
   "execution_count": null,
   "metadata": {
    "collapsed": true,
    "deletable": true,
    "editable": true
   },
   "outputs": [],
   "source": []
  },
  {
   "cell_type": "code",
   "execution_count": 14,
   "metadata": {
    "collapsed": false,
    "deletable": true,
    "editable": true,
    "scrolled": true
   },
   "outputs": [],
   "source": [
    "with open('./new/me2','r+') as fd:\n",
    "    c = fd.read()\n",
    "    fd.seek(0)\n",
    "    fd.seek(c.index('local'))\n",
    "    fd.writelines('localmail = 5')"
   ]
  },
  {
   "cell_type": "code",
   "execution_count": null,
   "metadata": {
    "collapsed": true,
    "deletable": true,
    "editable": true
   },
   "outputs": [],
   "source": []
  },
  {
   "cell_type": "code",
   "execution_count": 11,
   "metadata": {
    "collapsed": false,
    "deletable": true,
    "editable": true
   },
   "outputs": [
    {
     "name": "stdout",
     "output_type": "stream",
     "text": [
      "localmail = 5\n",
      "\n",
      "67\n"
     ]
    }
   ],
   "source": [
    "with open('./new/me2','r+') as fd:\n",
    "    while True:\n",
    "        line = fd.readline()\n",
    "        if line.startswith('local'):\n",
    "            c = fd.tell()\n",
    "            print(line)\n",
    "            print(c - len(line))\n",
    "            break"
   ]
  },
  {
   "cell_type": "code",
   "execution_count": null,
   "metadata": {
    "collapsed": true,
    "deletable": true,
    "editable": true
   },
   "outputs": [],
   "source": []
  },
  {
   "cell_type": "code",
   "execution_count": null,
   "metadata": {
    "collapsed": true,
    "deletable": true,
    "editable": true
   },
   "outputs": [],
   "source": []
  },
  {
   "cell_type": "code",
   "execution_count": null,
   "metadata": {
    "collapsed": true,
    "deletable": true,
    "editable": true
   },
   "outputs": [],
   "source": []
  },
  {
   "cell_type": "code",
   "execution_count": null,
   "metadata": {
    "collapsed": true,
    "deletable": true,
    "editable": true
   },
   "outputs": [],
   "source": []
  },
  {
   "cell_type": "code",
   "execution_count": null,
   "metadata": {
    "collapsed": true,
    "deletable": true,
    "editable": true
   },
   "outputs": [],
   "source": []
  },
  {
   "cell_type": "code",
   "execution_count": null,
   "metadata": {
    "collapsed": true,
    "deletable": true,
    "editable": true
   },
   "outputs": [],
   "source": []
  },
  {
   "cell_type": "code",
   "execution_count": null,
   "metadata": {
    "collapsed": true,
    "deletable": true,
    "editable": true
   },
   "outputs": [],
   "source": []
  },
  {
   "cell_type": "code",
   "execution_count": null,
   "metadata": {
    "collapsed": true,
    "deletable": true,
    "editable": true
   },
   "outputs": [],
   "source": []
  },
  {
   "cell_type": "code",
   "execution_count": null,
   "metadata": {
    "collapsed": true,
    "deletable": true,
    "editable": true
   },
   "outputs": [],
   "source": []
  },
  {
   "cell_type": "code",
   "execution_count": null,
   "metadata": {
    "collapsed": true,
    "deletable": true,
    "editable": true
   },
   "outputs": [],
   "source": []
  },
  {
   "cell_type": "code",
   "execution_count": 1,
   "metadata": {
    "collapsed": true,
    "deletable": true,
    "editable": true
   },
   "outputs": [],
   "source": [
    "import os"
   ]
  },
  {
   "cell_type": "code",
   "execution_count": 22,
   "metadata": {
    "collapsed": false,
    "deletable": true,
    "editable": true
   },
   "outputs": [],
   "source": [
    "lst = []\n",
    "for root,min,file in os.walk('./zuoye'):\n",
    "    file.extend(min)\n",
    "    lst.extend([root+'/'+f for f in file])"
   ]
  },
  {
   "cell_type": "code",
   "execution_count": 25,
   "metadata": {
    "collapsed": false,
    "deletable": true,
    "editable": true
   },
   "outputs": [
    {
     "data": {
      "text/plain": [
       "['./zuoye/第五周作业解析.ipynb',\n",
       " './zuoye/4',\n",
       " './zuoye/5',\n",
       " './zuoye/4/函数.ipynb',\n",
       " './zuoye/4/函数.pptx',\n",
       " './zuoye/4/函数.xmind',\n",
       " './zuoye/4/第三周作业解析.ipynb',\n",
       " './zuoye/4/5',\n",
       " './zuoye/5/functools.ipynb',\n",
       " './zuoye/5/第四周作业解析.ipynb',\n",
       " './zuoye/5/类型提示.ipynb',\n",
       " './zuoye/5/装饰器应用.ipynb',\n",
       " './zuoye/5/高阶函数.ipynb']"
      ]
     },
     "execution_count": 25,
     "metadata": {},
     "output_type": "execute_result"
    }
   ],
   "source": [
    "lst"
   ]
  },
  {
   "cell_type": "code",
   "execution_count": null,
   "metadata": {
    "collapsed": true,
    "deletable": true,
    "editable": true
   },
   "outputs": [],
   "source": []
  },
  {
   "cell_type": "code",
   "execution_count": 24,
   "metadata": {
    "collapsed": true,
    "deletable": true,
    "editable": true
   },
   "outputs": [],
   "source": [
    "import re"
   ]
  },
  {
   "cell_type": "code",
   "execution_count": 26,
   "metadata": {
    "collapsed": true,
    "deletable": true,
    "editable": true
   },
   "outputs": [],
   "source": [
    "a = re.compile(r'装饰器应用.ipynb')"
   ]
  },
  {
   "cell_type": "code",
   "execution_count": 28,
   "metadata": {
    "collapsed": false,
    "deletable": true,
    "editable": true
   },
   "outputs": [
    {
     "name": "stdout",
     "output_type": "stream",
     "text": [
      "false\n",
      "false\n",
      "false\n",
      "false\n",
      "false\n",
      "false\n",
      "false\n",
      "false\n",
      "false\n",
      "false\n",
      "false\n",
      "./zuoye/5/装饰器应用.ipynb\n",
      "false\n"
     ]
    }
   ],
   "source": [
    "for x in lst:\n",
    "    if a.search(x):\n",
    "        print(x)\n",
    "    else:\n",
    "        print('false')"
   ]
  },
  {
   "cell_type": "code",
   "execution_count": 29,
   "metadata": {
    "collapsed": false,
    "deletable": true,
    "editable": true
   },
   "outputs": [
    {
     "data": {
      "text/plain": [
       "['./zuoye/第五周作业解析.ipynb',\n",
       " './zuoye/4',\n",
       " './zuoye/5',\n",
       " './zuoye/4/函数.ipynb',\n",
       " './zuoye/4/函数.pptx',\n",
       " './zuoye/4/函数.xmind',\n",
       " './zuoye/4/第三周作业解析.ipynb',\n",
       " './zuoye/4/5',\n",
       " './zuoye/5/functools.ipynb',\n",
       " './zuoye/5/第四周作业解析.ipynb',\n",
       " './zuoye/5/类型提示.ipynb',\n",
       " './zuoye/5/装饰器应用.ipynb',\n",
       " './zuoye/5/高阶函数.ipynb']"
      ]
     },
     "execution_count": 29,
     "metadata": {},
     "output_type": "execute_result"
    }
   ],
   "source": [
    "lst"
   ]
  },
  {
   "cell_type": "code",
   "execution_count": 31,
   "metadata": {
    "collapsed": false,
    "deletable": true,
    "editable": true
   },
   "outputs": [],
   "source": [
    "a=os.stat(lst[0])"
   ]
  },
  {
   "cell_type": "code",
   "execution_count": 33,
   "metadata": {
    "collapsed": true,
    "deletable": true,
    "editable": true
   },
   "outputs": [],
   "source": [
    "import stat"
   ]
  },
  {
   "cell_type": "code",
   "execution_count": 42,
   "metadata": {
    "collapsed": false,
    "deletable": true,
    "editable": true
   },
   "outputs": [
    {
     "data": {
      "text/plain": [
       "'root/a/new'"
      ]
     },
     "execution_count": 42,
     "metadata": {},
     "output_type": "execute_result"
    }
   ],
   "source": [
    "os.path.join('root','a','new')"
   ]
  },
  {
   "cell_type": "code",
   "execution_count": 44,
   "metadata": {
    "collapsed": false,
    "deletable": true,
    "editable": true
   },
   "outputs": [],
   "source": [
    "st  =os.stat(lst[0])"
   ]
  },
  {
   "cell_type": "code",
   "execution_count": 45,
   "metadata": {
    "collapsed": false,
    "deletable": true,
    "editable": true
   },
   "outputs": [
    {
     "data": {
      "text/plain": [
       "True"
      ]
     },
     "execution_count": 45,
     "metadata": {},
     "output_type": "execute_result"
    }
   ],
   "source": [
    "stat.S_ISREG(st.st_mode)"
   ]
  },
  {
   "cell_type": "code",
   "execution_count": 46,
   "metadata": {
    "collapsed": true,
    "deletable": true,
    "editable": true
   },
   "outputs": [],
   "source": [
    "dic = {'a':stat.S_ISREG,'b':stat.S_ISDIR}"
   ]
  },
  {
   "cell_type": "code",
   "execution_count": 48,
   "metadata": {
    "collapsed": false,
    "deletable": true,
    "editable": true
   },
   "outputs": [
    {
     "data": {
      "text/plain": [
       "False"
      ]
     },
     "execution_count": 48,
     "metadata": {},
     "output_type": "execute_result"
    }
   ],
   "source": [
    "dic['b'](st.st_mode)"
   ]
  },
  {
   "cell_type": "code",
   "execution_count": 49,
   "metadata": {
    "collapsed": true,
    "deletable": true,
    "editable": true
   },
   "outputs": [],
   "source": [
    "from datetime import datetime"
   ]
  },
  {
   "cell_type": "code",
   "execution_count": 53,
   "metadata": {
    "collapsed": false,
    "deletable": true,
    "editable": true
   },
   "outputs": [],
   "source": [
    "start = datetime.now()"
   ]
  },
  {
   "cell_type": "code",
   "execution_count": 55,
   "metadata": {
    "collapsed": false,
    "deletable": true,
    "editable": true
   },
   "outputs": [
    {
     "data": {
      "text/plain": [
       "1485850228.761078"
      ]
     },
     "execution_count": 55,
     "metadata": {},
     "output_type": "execute_result"
    }
   ],
   "source": [
    "start.timestamp()"
   ]
  },
  {
   "cell_type": "code",
   "execution_count": 56,
   "metadata": {
    "collapsed": false,
    "deletable": true,
    "editable": true
   },
   "outputs": [
    {
     "data": {
      "text/plain": [
       "1485850440.556692"
      ]
     },
     "execution_count": 56,
     "metadata": {},
     "output_type": "execute_result"
    }
   ],
   "source": [
    "datetime.now().timestamp()"
   ]
  },
  {
   "cell_type": "code",
   "execution_count": 63,
   "metadata": {
    "collapsed": false,
    "deletable": true,
    "editable": true
   },
   "outputs": [
    {
     "data": {
      "text/plain": [
       "6.0"
      ]
     },
     "execution_count": 63,
     "metadata": {},
     "output_type": "execute_result"
    }
   ],
   "source": [
    " (datetime.now().timestamp() - st.st_ctime) //(3600*24)"
   ]
  },
  {
   "cell_type": "code",
   "execution_count": 65,
   "metadata": {
    "collapsed": false,
    "deletable": true,
    "editable": true
   },
   "outputs": [],
   "source": [
    "rule = {'ctime':st.st_ctime,'mtime':st.st_mtime}"
   ]
  },
  {
   "cell_type": "code",
   "execution_count": null,
   "metadata": {
    "collapsed": true,
    "deletable": true,
    "editable": true
   },
   "outputs": [],
   "source": []
  },
  {
   "cell_type": "code",
   "execution_count": 66,
   "metadata": {
    "collapsed": false,
    "deletable": true,
    "editable": true
   },
   "outputs": [
    {
     "name": "stdout",
     "output_type": "stream",
     "text": [
      "Help on built-in function fromkeys:\n",
      "\n",
      "fromkeys(iterable, value=None, /) method of builtins.type instance\n",
      "    Returns a new dict with keys from iterable and values equal to value.\n",
      "\n"
     ]
    }
   ],
   "source": [
    "help(dict.fromkeys)"
   ]
  },
  {
   "cell_type": "code",
   "execution_count": 72,
   "metadata": {
    "collapsed": true,
    "deletable": true,
    "editable": true
   },
   "outputs": [],
   "source": [
    "c = dict.fromkeys(['a','b','c'],None)"
   ]
  },
  {
   "cell_type": "code",
   "execution_count": 73,
   "metadata": {
    "collapsed": true,
    "deletable": true,
    "editable": true
   },
   "outputs": [],
   "source": [
    "c['d'] = False"
   ]
  },
  {
   "cell_type": "code",
   "execution_count": 74,
   "metadata": {
    "collapsed": true,
    "deletable": true,
    "editable": true
   },
   "outputs": [],
   "source": [
    "c['e'] = 1"
   ]
  },
  {
   "cell_type": "code",
   "execution_count": 76,
   "metadata": {
    "collapsed": false,
    "deletable": true,
    "editable": true
   },
   "outputs": [
    {
     "name": "stdout",
     "output_type": "stream",
     "text": [
      "c None\n",
      "d False\n",
      "b None\n",
      "a None\n"
     ]
    }
   ],
   "source": [
    "for k in c.keys():\n",
    "    if c[k] == None or c[k] == False:\n",
    "        print(k,c[k])"
   ]
  },
  {
   "cell_type": "code",
   "execution_count": 77,
   "metadata": {
    "collapsed": false,
    "deletable": true,
    "editable": true
   },
   "outputs": [
    {
     "data": {
      "text/plain": [
       "False"
      ]
     },
     "execution_count": 77,
     "metadata": {},
     "output_type": "execute_result"
    }
   ],
   "source": [
    "bool(None)"
   ]
  },
  {
   "cell_type": "code",
   "execution_count": 78,
   "metadata": {
    "collapsed": true,
    "deletable": true,
    "editable": true
   },
   "outputs": [],
   "source": [
    "a={1,2,3,4}"
   ]
  },
  {
   "cell_type": "code",
   "execution_count": 79,
   "metadata": {
    "collapsed": true,
    "deletable": true,
    "editable": true
   },
   "outputs": [],
   "source": [
    "b={2,3,4,5}"
   ]
  },
  {
   "cell_type": "code",
   "execution_count": 80,
   "metadata": {
    "collapsed": true,
    "deletable": true,
    "editable": true
   },
   "outputs": [],
   "source": [
    "a.update(b)"
   ]
  },
  {
   "cell_type": "code",
   "execution_count": 81,
   "metadata": {
    "collapsed": false,
    "deletable": true,
    "editable": true
   },
   "outputs": [
    {
     "data": {
      "text/plain": [
       "{1, 2, 3, 4, 5}"
      ]
     },
     "execution_count": 81,
     "metadata": {},
     "output_type": "execute_result"
    }
   ],
   "source": [
    "a"
   ]
  },
  {
   "cell_type": "code",
   "execution_count": 82,
   "metadata": {
    "collapsed": false,
    "deletable": true,
    "editable": true
   },
   "outputs": [
    {
     "data": {
      "text/plain": [
       "{1, 2, 3, 4, 5}"
      ]
     },
     "execution_count": 82,
     "metadata": {},
     "output_type": "execute_result"
    }
   ],
   "source": [
    "a | b"
   ]
  },
  {
   "cell_type": "code",
   "execution_count": null,
   "metadata": {
    "collapsed": true,
    "deletable": true,
    "editable": true
   },
   "outputs": [],
   "source": []
  },
  {
   "cell_type": "code",
   "execution_count": null,
   "metadata": {
    "collapsed": true,
    "deletable": true,
    "editable": true
   },
   "outputs": [],
   "source": []
  },
  {
   "cell_type": "code",
   "execution_count": null,
   "metadata": {
    "collapsed": true,
    "deletable": true,
    "editable": true
   },
   "outputs": [],
   "source": []
  },
  {
   "cell_type": "code",
   "execution_count": null,
   "metadata": {
    "collapsed": true,
    "deletable": true,
    "editable": true
   },
   "outputs": [],
   "source": []
  },
  {
   "cell_type": "code",
   "execution_count": null,
   "metadata": {
    "collapsed": true,
    "deletable": true,
    "editable": true
   },
   "outputs": [],
   "source": []
  },
  {
   "cell_type": "code",
   "execution_count": null,
   "metadata": {
    "collapsed": true,
    "deletable": true,
    "editable": true
   },
   "outputs": [],
   "source": []
  },
  {
   "cell_type": "code",
   "execution_count": null,
   "metadata": {
    "collapsed": true,
    "deletable": true,
    "editable": true
   },
   "outputs": [],
   "source": []
  },
  {
   "cell_type": "code",
   "execution_count": 87,
   "metadata": {
    "collapsed": true,
    "deletable": true,
    "editable": true
   },
   "outputs": [],
   "source": [
    "st = os.stat('./zuoye')"
   ]
  },
  {
   "cell_type": "code",
   "execution_count": 91,
   "metadata": {
    "collapsed": false,
    "deletable": true,
    "editable": true
   },
   "outputs": [
    {
     "data": {
      "text/plain": [
       "64"
      ]
     },
     "execution_count": 91,
     "metadata": {},
     "output_type": "execute_result"
    }
   ],
   "source": [
    "stat.S_IXUSR"
   ]
  },
  {
   "cell_type": "code",
   "execution_count": 92,
   "metadata": {
    "collapsed": false,
    "deletable": true,
    "editable": true
   },
   "outputs": [
    {
     "name": "stdout",
     "output_type": "stream",
     "text": [
      "Help on built-in function access in module posix:\n",
      "\n",
      "access(path, mode, *, dir_fd=None, effective_ids=False, follow_symlinks=True)\n",
      "    Use the real uid/gid to test for access to a path.\n",
      "    \n",
      "      path\n",
      "        Path to be tested; can be string, bytes, or open-file-descriptor int.\n",
      "      mode\n",
      "        Operating-system mode bitfield.  Can be F_OK to test existence,\n",
      "        or the inclusive-OR of R_OK, W_OK, and X_OK.\n",
      "      dir_fd\n",
      "        If not None, it should be a file descriptor open to a directory,\n",
      "        and path should be relative; path will then be relative to that\n",
      "        directory.\n",
      "      effective_ids\n",
      "        If True, access will use the effective uid/gid instead of\n",
      "        the real uid/gid.\n",
      "      follow_symlinks\n",
      "        If False, and the last element of the path is a symbolic link,\n",
      "        access will examine the symbolic link itself instead of the file\n",
      "        the link points to.\n",
      "    \n",
      "    dir_fd, effective_ids, and follow_symlinks may not be implemented\n",
      "      on your platform.  If they are unavailable, using them will raise a\n",
      "      NotImplementedError.\n",
      "    \n",
      "    Note that most operations will use the effective uid/gid, therefore this\n",
      "      routine can be used in a suid/sgid environment to test if the invoking user\n",
      "      has the specified access to the path.\n",
      "\n"
     ]
    }
   ],
   "source": [
    "help(os.access)"
   ]
  },
  {
   "cell_type": "code",
   "execution_count": 99,
   "metadata": {
    "collapsed": false,
    "deletable": true,
    "editable": true
   },
   "outputs": [
    {
     "data": {
      "text/plain": [
       "True"
      ]
     },
     "execution_count": 99,
     "metadata": {},
     "output_type": "execute_result"
    }
   ],
   "source": [
    "os.access('./zuoye/lv.txt',4)"
   ]
  },
  {
   "cell_type": "code",
   "execution_count": null,
   "metadata": {
    "collapsed": true,
    "deletable": true,
    "editable": true
   },
   "outputs": [],
   "source": []
  },
  {
   "cell_type": "code",
   "execution_count": null,
   "metadata": {
    "collapsed": true,
    "deletable": true,
    "editable": true
   },
   "outputs": [],
   "source": []
  },
  {
   "cell_type": "code",
   "execution_count": null,
   "metadata": {
    "collapsed": true,
    "deletable": true,
    "editable": true
   },
   "outputs": [],
   "source": []
  },
  {
   "cell_type": "code",
   "execution_count": null,
   "metadata": {
    "collapsed": true,
    "deletable": true,
    "editable": true
   },
   "outputs": [],
   "source": []
  },
  {
   "cell_type": "code",
   "execution_count": null,
   "metadata": {
    "collapsed": true,
    "deletable": true,
    "editable": true
   },
   "outputs": [],
   "source": []
  },
  {
   "cell_type": "code",
   "execution_count": null,
   "metadata": {
    "collapsed": true,
    "deletable": true,
    "editable": true
   },
   "outputs": [],
   "source": []
  },
  {
   "cell_type": "code",
   "execution_count": null,
   "metadata": {
    "collapsed": true,
    "deletable": true,
    "editable": true
   },
   "outputs": [],
   "source": []
  },
  {
   "cell_type": "code",
   "execution_count": 1,
   "metadata": {
    "collapsed": true,
    "deletable": true,
    "editable": true
   },
   "outputs": [],
   "source": [
    "import os,stat"
   ]
  },
  {
   "cell_type": "code",
   "execution_count": 3,
   "metadata": {
    "collapsed": false,
    "deletable": true,
    "editable": true
   },
   "outputs": [],
   "source": [
    "a = os.stat('./zuoye/lv.txt')"
   ]
  },
  {
   "cell_type": "code",
   "execution_count": 4,
   "metadata": {
    "collapsed": false,
    "deletable": true,
    "editable": true
   },
   "outputs": [
    {
     "data": {
      "text/plain": [
       "8"
      ]
     },
     "execution_count": 4,
     "metadata": {},
     "output_type": "execute_result"
    }
   ],
   "source": [
    "a.st_blocks"
   ]
  },
  {
   "cell_type": "code",
   "execution_count": 11,
   "metadata": {
    "collapsed": false,
    "deletable": true,
    "editable": true
   },
   "outputs": [
    {
     "data": {
      "text/plain": [
       "1048576"
      ]
     },
     "execution_count": 11,
     "metadata": {},
     "output_type": "execute_result"
    }
   ],
   "source": [
    "1024 * 1024"
   ]
  },
  {
   "cell_type": "code",
   "execution_count": null,
   "metadata": {
    "collapsed": true,
    "deletable": true,
    "editable": true
   },
   "outputs": [],
   "source": []
  },
  {
   "cell_type": "code",
   "execution_count": 12,
   "metadata": {
    "collapsed": false,
    "deletable": true,
    "editable": true
   },
   "outputs": [
    {
     "ename": "TypeError",
     "evalue": "unorderable types: int() > NoneType()",
     "output_type": "error",
     "traceback": [
      "\u001b[0;31m---------------------------------------------------------------------------\u001b[0m",
      "\u001b[0;31mTypeError\u001b[0m                                 Traceback (most recent call last)",
      "\u001b[0;32m<ipython-input-12-64b83301711d>\u001b[0m in \u001b[0;36m<module>\u001b[0;34m()\u001b[0m\n\u001b[0;32m----> 1\u001b[0;31m \u001b[0;36m12\u001b[0m \u001b[0;34m>\u001b[0m\u001b[0;32mNone\u001b[0m\u001b[0;34m\u001b[0m\u001b[0m\n\u001b[0m",
      "\u001b[0;31mTypeError\u001b[0m: unorderable types: int() > NoneType()"
     ]
    }
   ],
   "source": [
    "12 > None"
   ]
  },
  {
   "cell_type": "code",
   "execution_count": null,
   "metadata": {
    "collapsed": true,
    "deletable": true,
    "editable": true
   },
   "outputs": [],
   "source": []
  },
  {
   "cell_type": "code",
   "execution_count": null,
   "metadata": {
    "collapsed": true,
    "deletable": true,
    "editable": true
   },
   "outputs": [],
   "source": []
  },
  {
   "cell_type": "code",
   "execution_count": null,
   "metadata": {
    "collapsed": true,
    "deletable": true,
    "editable": true
   },
   "outputs": [],
   "source": []
  },
  {
   "cell_type": "code",
   "execution_count": 9,
   "metadata": {
    "collapsed": true,
    "deletable": true,
    "editable": true
   },
   "outputs": [],
   "source": [
    "s = '+30kK'"
   ]
  },
  {
   "cell_type": "code",
   "execution_count": 10,
   "metadata": {
    "collapsed": false,
    "deletable": true,
    "editable": true
   },
   "outputs": [
    {
     "data": {
      "text/plain": [
       "'30'"
      ]
     },
     "execution_count": 10,
     "metadata": {},
     "output_type": "execute_result"
    }
   ],
   "source": [
    "s.strip('+kK')"
   ]
  },
  {
   "cell_type": "code",
   "execution_count": null,
   "metadata": {
    "collapsed": true,
    "deletable": true,
    "editable": true
   },
   "outputs": [],
   "source": []
  },
  {
   "cell_type": "code",
   "execution_count": 15,
   "metadata": {
    "collapsed": true,
    "deletable": true,
    "editable": true
   },
   "outputs": [],
   "source": [
    "b = 3"
   ]
  },
  {
   "cell_type": "code",
   "execution_count": null,
   "metadata": {
    "collapsed": true,
    "deletable": true,
    "editable": true
   },
   "outputs": [],
   "source": []
  },
  {
   "cell_type": "code",
   "execution_count": 13,
   "metadata": {
    "collapsed": true,
    "deletable": true,
    "editable": true
   },
   "outputs": [],
   "source": [
    "a = None"
   ]
  },
  {
   "cell_type": "code",
   "execution_count": 16,
   "metadata": {
    "collapsed": false,
    "deletable": true,
    "editable": true
   },
   "outputs": [
    {
     "data": {
      "text/plain": [
       "6"
      ]
     },
     "execution_count": 16,
     "metadata": {},
     "output_type": "execute_result"
    }
   ],
   "source": [
    "3 if a else 5 if b<2 else 6 "
   ]
  },
  {
   "cell_type": "code",
   "execution_count": null,
   "metadata": {
    "collapsed": true,
    "deletable": true,
    "editable": true
   },
   "outputs": [],
   "source": []
  },
  {
   "cell_type": "code",
   "execution_count": null,
   "metadata": {
    "collapsed": true,
    "deletable": true,
    "editable": true
   },
   "outputs": [],
   "source": []
  },
  {
   "cell_type": "code",
   "execution_count": null,
   "metadata": {
    "collapsed": true,
    "deletable": true,
    "editable": true
   },
   "outputs": [],
   "source": []
  },
  {
   "cell_type": "code",
   "execution_count": null,
   "metadata": {
    "collapsed": true,
    "deletable": true,
    "editable": true
   },
   "outputs": [],
   "source": []
  },
  {
   "cell_type": "code",
   "execution_count": null,
   "metadata": {
    "collapsed": true,
    "deletable": true,
    "editable": true
   },
   "outputs": [],
   "source": []
  },
  {
   "cell_type": "code",
   "execution_count": null,
   "metadata": {
    "collapsed": true,
    "deletable": true,
    "editable": true
   },
   "outputs": [],
   "source": []
  },
  {
   "cell_type": "code",
   "execution_count": null,
   "metadata": {
    "collapsed": true,
    "deletable": true,
    "editable": true
   },
   "outputs": [],
   "source": []
  },
  {
   "cell_type": "code",
   "execution_count": null,
   "metadata": {
    "collapsed": true,
    "deletable": true,
    "editable": true
   },
   "outputs": [],
   "source": []
  },
  {
   "cell_type": "code",
   "execution_count": null,
   "metadata": {
    "collapsed": true,
    "deletable": true,
    "editable": true
   },
   "outputs": [],
   "source": []
  },
  {
   "cell_type": "code",
   "execution_count": null,
   "metadata": {
    "collapsed": true,
    "deletable": true,
    "editable": true
   },
   "outputs": [],
   "source": []
  },
  {
   "cell_type": "code",
   "execution_count": null,
   "metadata": {
    "collapsed": true,
    "deletable": true,
    "editable": true
   },
   "outputs": [],
   "source": []
  },
  {
   "cell_type": "code",
   "execution_count": null,
   "metadata": {
    "collapsed": true,
    "deletable": true,
    "editable": true
   },
   "outputs": [],
   "source": []
  },
  {
   "cell_type": "code",
   "execution_count": null,
   "metadata": {
    "collapsed": true,
    "deletable": true,
    "editable": true
   },
   "outputs": [],
   "source": []
  },
  {
   "cell_type": "code",
   "execution_count": null,
   "metadata": {
    "collapsed": true,
    "deletable": true,
    "editable": true
   },
   "outputs": [],
   "source": []
  },
  {
   "cell_type": "code",
   "execution_count": 1,
   "metadata": {
    "collapsed": true,
    "deletable": true,
    "editable": true
   },
   "outputs": [],
   "source": [
    "import os,stat"
   ]
  },
  {
   "cell_type": "code",
   "execution_count": 2,
   "metadata": {
    "collapsed": true,
    "deletable": true,
    "editable": true
   },
   "outputs": [],
   "source": [
    "file = os.stat('./passwd')"
   ]
  },
  {
   "cell_type": "code",
   "execution_count": 3,
   "metadata": {
    "collapsed": false,
    "deletable": true,
    "editable": true
   },
   "outputs": [
    {
     "data": {
      "text/plain": [
       "os.stat_result(st_mode=33188, st_ino=71385582, st_dev=64769, st_nlink=1, st_uid=0, st_gid=0, st_size=2269, st_atime=1486617601, st_mtime=1476135611, st_ctime=1476135611)"
      ]
     },
     "execution_count": 3,
     "metadata": {},
     "output_type": "execute_result"
    }
   ],
   "source": [
    "file"
   ]
  },
  {
   "cell_type": "code",
   "execution_count": 4,
   "metadata": {
    "collapsed": false,
    "deletable": true,
    "editable": true
   },
   "outputs": [
    {
     "data": {
      "text/plain": [
       "False"
      ]
     },
     "execution_count": 4,
     "metadata": {},
     "output_type": "execute_result"
    }
   ],
   "source": [
    "stat.S_ISLNK(file.st_mode)"
   ]
  },
  {
   "cell_type": "code",
   "execution_count": 5,
   "metadata": {
    "collapsed": false,
    "deletable": true,
    "editable": true
   },
   "outputs": [
    {
     "data": {
      "text/plain": [
       "False"
      ]
     },
     "execution_count": 5,
     "metadata": {},
     "output_type": "execute_result"
    }
   ],
   "source": [
    "stat.S_ISLNK(file.st_nlink)"
   ]
  },
  {
   "cell_type": "code",
   "execution_count": 6,
   "metadata": {
    "collapsed": false,
    "deletable": true,
    "editable": true
   },
   "outputs": [
    {
     "data": {
      "text/plain": [
       "True"
      ]
     },
     "execution_count": 6,
     "metadata": {},
     "output_type": "execute_result"
    }
   ],
   "source": [
    "os.path.islink('./passwd')"
   ]
  },
  {
   "cell_type": "code",
   "execution_count": 8,
   "metadata": {
    "collapsed": false,
    "deletable": true,
    "editable": true
   },
   "outputs": [],
   "source": [
    "c = os.stat('./passwd',follow_symlinks=False)"
   ]
  },
  {
   "cell_type": "code",
   "execution_count": 9,
   "metadata": {
    "collapsed": false,
    "deletable": true,
    "editable": true
   },
   "outputs": [
    {
     "data": {
      "text/plain": [
       "True"
      ]
     },
     "execution_count": 9,
     "metadata": {},
     "output_type": "execute_result"
    }
   ],
   "source": [
    "stat.S_ISLNK(c.st_mode)"
   ]
  },
  {
   "cell_type": "code",
   "execution_count": 11,
   "metadata": {
    "collapsed": false,
    "deletable": true,
    "editable": true
   },
   "outputs": [
    {
     "data": {
      "text/plain": [
       "os.stat_result(st_mode=16877, st_ino=218095164, st_dev=64769, st_nlink=3, st_uid=0, st_gid=0, st_size=112, st_atime=1486633248, st_mtime=1486032780, st_ctime=1486032780)"
      ]
     },
     "execution_count": 11,
     "metadata": {},
     "output_type": "execute_result"
    }
   ],
   "source": [
    "os.stat('./new')"
   ]
  },
  {
   "cell_type": "code",
   "execution_count": 13,
   "metadata": {
    "collapsed": false,
    "deletable": true,
    "editable": true
   },
   "outputs": [
    {
     "ename": "TypeError",
     "evalue": "'NoneType' object is not callable",
     "output_type": "error",
     "traceback": [
      "\u001b[0;31m---------------------------------------------------------------------------\u001b[0m",
      "\u001b[0;31mTypeError\u001b[0m                                 Traceback (most recent call last)",
      "\u001b[0;32m<ipython-input-13-bb9f7da2085b>\u001b[0m in \u001b[0;36m<module>\u001b[0;34m()\u001b[0m\n\u001b[0;32m----> 1\u001b[0;31m \u001b[0mos\u001b[0m\u001b[0;34m.\u001b[0m\u001b[0mpath\u001b[0m\u001b[0;34m.\u001b[0m\u001b[0maltsep\u001b[0m\u001b[0;34m(\u001b[0m\u001b[0;34m'./passwd'\u001b[0m\u001b[0;34m)\u001b[0m\u001b[0;34m\u001b[0m\u001b[0m\n\u001b[0m",
      "\u001b[0;31mTypeError\u001b[0m: 'NoneType' object is not callable"
     ]
    }
   ],
   "source": [
    "os.path.altsep('./passwd')"
   ]
  },
  {
   "cell_type": "code",
   "execution_count": null,
   "metadata": {
    "collapsed": true,
    "deletable": true,
    "editable": true
   },
   "outputs": [],
   "source": [
    "help(os.path.)"
   ]
  },
  {
   "cell_type": "code",
   "execution_count": 14,
   "metadata": {
    "collapsed": false,
    "deletable": true,
    "editable": true
   },
   "outputs": [
    {
     "data": {
      "text/plain": [
       "'/root/py/passwd'"
      ]
     },
     "execution_count": 14,
     "metadata": {},
     "output_type": "execute_result"
    }
   ],
   "source": [
    "os.path.abspath('./passwd')"
   ]
  },
  {
   "cell_type": "code",
   "execution_count": 15,
   "metadata": {
    "collapsed": false,
    "deletable": true,
    "editable": true
   },
   "outputs": [
    {
     "data": {
      "text/plain": [
       "os.stat_result(st_mode=41471, st_ino=72290604, st_dev=64769, st_nlink=1, st_uid=0, st_gid=0, st_size=11, st_atime=1486633291, st_mtime=1486633290, st_ctime=1486633290)"
      ]
     },
     "execution_count": 15,
     "metadata": {},
     "output_type": "execute_result"
    }
   ],
   "source": [
    "c"
   ]
  },
  {
   "cell_type": "code",
   "execution_count": 16,
   "metadata": {
    "collapsed": false,
    "deletable": true,
    "editable": true
   },
   "outputs": [
    {
     "data": {
      "text/plain": [
       "'/etc/passwd'"
      ]
     },
     "execution_count": 16,
     "metadata": {},
     "output_type": "execute_result"
    }
   ],
   "source": [
    "os.readlink('./passwd')"
   ]
  },
  {
   "cell_type": "code",
   "execution_count": null,
   "metadata": {
    "collapsed": true,
    "deletable": true,
    "editable": true
   },
   "outputs": [],
   "source": []
  },
  {
   "cell_type": "code",
   "execution_count": null,
   "metadata": {
    "collapsed": true,
    "deletable": true,
    "editable": true
   },
   "outputs": [],
   "source": []
  },
  {
   "cell_type": "code",
   "execution_count": null,
   "metadata": {
    "collapsed": true,
    "deletable": true,
    "editable": true
   },
   "outputs": [],
   "source": []
  },
  {
   "cell_type": "code",
   "execution_count": null,
   "metadata": {
    "collapsed": true,
    "deletable": true,
    "editable": true
   },
   "outputs": [],
   "source": []
  },
  {
   "cell_type": "code",
   "execution_count": null,
   "metadata": {
    "collapsed": true,
    "deletable": true,
    "editable": true
   },
   "outputs": [],
   "source": []
  },
  {
   "cell_type": "code",
   "execution_count": null,
   "metadata": {
    "collapsed": true,
    "deletable": true,
    "editable": true
   },
   "outputs": [],
   "source": []
  },
  {
   "cell_type": "code",
   "execution_count": 21,
   "metadata": {
    "collapsed": false,
    "deletable": true,
    "editable": true
   },
   "outputs": [
    {
     "name": "stdout",
     "output_type": "stream",
     "text": [
      "1 0 \n",
      "1 1 \n",
      "1 1 \n",
      "1 1 \n",
      "1 1 \n",
      "1 1 \n",
      "1 1 \n",
      "1 1 \n",
      "1 1 \n",
      "1 1 \n",
      "2 1 \n",
      "2 2 \n",
      "2 2 \n",
      "2 2 \n",
      "3 2 \n",
      "4 3 \n",
      "5 4 \n",
      "6 5 \n",
      "10 6 \n"
     ]
    }
   ],
   "source": [
    "for n,i in enumerate(range(1,20)):\n",
    "    print('{} {} '.format(int(20/(20-n)),int(20/(20-n+1))))"
   ]
  },
  {
   "cell_type": "code",
   "execution_count": null,
   "metadata": {
    "collapsed": true,
    "deletable": true,
    "editable": true
   },
   "outputs": [],
   "source": []
  },
  {
   "cell_type": "code",
   "execution_count": null,
   "metadata": {
    "collapsed": true,
    "deletable": true,
    "editable": true
   },
   "outputs": [],
   "source": []
  },
  {
   "cell_type": "code",
   "execution_count": 20,
   "metadata": {
    "collapsed": false,
    "deletable": true,
    "editable": true
   },
   "outputs": [
    {
     "data": {
      "text/plain": [
       "True"
      ]
     },
     "execution_count": 20,
     "metadata": {},
     "output_type": "execute_result"
    }
   ],
   "source": [
    "os.path.islink('./passwd')"
   ]
  },
  {
   "cell_type": "code",
   "execution_count": null,
   "metadata": {
    "collapsed": true,
    "deletable": true,
    "editable": true
   },
   "outputs": [],
   "source": []
  },
  {
   "cell_type": "code",
   "execution_count": null,
   "metadata": {
    "collapsed": true,
    "deletable": true,
    "editable": true
   },
   "outputs": [],
   "source": []
  },
  {
   "cell_type": "code",
   "execution_count": null,
   "metadata": {
    "collapsed": true,
    "deletable": true,
    "editable": true
   },
   "outputs": [],
   "source": []
  },
  {
   "cell_type": "code",
   "execution_count": 27,
   "metadata": {
    "collapsed": false,
    "deletable": true,
    "editable": true
   },
   "outputs": [
    {
     "name": "stdout",
     "output_type": "stream",
     "text": [
      "a b c^"
     ]
    }
   ],
   "source": [
    "print(\"a b c\",sep='*',end='^')"
   ]
  },
  {
   "cell_type": "code",
   "execution_count": null,
   "metadata": {
    "collapsed": true,
    "deletable": true,
    "editable": true
   },
   "outputs": [],
   "source": []
  },
  {
   "cell_type": "code",
   "execution_count": null,
   "metadata": {
    "collapsed": true,
    "deletable": true,
    "editable": true
   },
   "outputs": [],
   "source": []
  },
  {
   "cell_type": "code",
   "execution_count": null,
   "metadata": {
    "collapsed": true,
    "deletable": true,
    "editable": true
   },
   "outputs": [],
   "source": []
  },
  {
   "cell_type": "code",
   "execution_count": 1,
   "metadata": {
    "collapsed": true,
    "deletable": true,
    "editable": true
   },
   "outputs": [],
   "source": [
    "import threading"
   ]
  },
  {
   "cell_type": "code",
   "execution_count": 2,
   "metadata": {
    "collapsed": false,
    "deletable": true,
    "editable": true
   },
   "outputs": [
    {
     "name": "stdout",
     "output_type": "stream",
     "text": [
      "43\n"
     ]
    }
   ],
   "source": [
    "b = 0\n",
    "def change(n):\n",
    "    global b\n",
    "    b =b+n\n",
    "    b =b-n\n",
    "def run_(n):\n",
    "    for i in range(10000000):\n",
    "        change(n)\n",
    "\n",
    "t1 = threading.Thread(target=run_,args=(5,))\n",
    "t2 = threading.Thread(target=run_,args=(8,))\n",
    "t1.start()\n",
    "t2.start()\n",
    "t1.join()\n",
    "t2.join()\n",
    "print(b)"
   ]
  },
  {
   "cell_type": "code",
   "execution_count": null,
   "metadata": {
    "collapsed": true,
    "deletable": true,
    "editable": true
   },
   "outputs": [],
   "source": []
  },
  {
   "cell_type": "code",
   "execution_count": null,
   "metadata": {
    "collapsed": true,
    "deletable": true,
    "editable": true
   },
   "outputs": [],
   "source": []
  },
  {
   "cell_type": "code",
   "execution_count": null,
   "metadata": {
    "collapsed": true,
    "deletable": true,
    "editable": true
   },
   "outputs": [],
   "source": []
  },
  {
   "cell_type": "code",
   "execution_count": 5,
   "metadata": {
    "collapsed": false,
    "deletable": true,
    "editable": true
   },
   "outputs": [
    {
     "name": "stdout",
     "output_type": "stream",
     "text": [
      "start waiting 12:17:53\n",
      "start join\n",
      "end waiting 12:17:58\n",
      "end join\n"
     ]
    }
   ],
   "source": [
    "import time \n",
    "def dowaiting():\n",
    "    print('start waiting',time.strftime('%H:%M:%S'))\n",
    "    time.sleep(5)\n",
    "    print('end waiting',time.strftime('%H:%M:%S'))\n",
    "t = threading.Thread(target=dowaiting)\n",
    "t.start()\n",
    "time.sleep(1)\n",
    "print('start join')\n",
    "t.join()\n",
    "print('end join')"
   ]
  },
  {
   "cell_type": "code",
   "execution_count": null,
   "metadata": {
    "collapsed": true,
    "deletable": true,
    "editable": true
   },
   "outputs": [],
   "source": []
  },
  {
   "cell_type": "code",
   "execution_count": null,
   "metadata": {
    "collapsed": true,
    "deletable": true,
    "editable": true
   },
   "outputs": [],
   "source": []
  },
  {
   "cell_type": "code",
   "execution_count": null,
   "metadata": {
    "collapsed": true,
    "deletable": true,
    "editable": true
   },
   "outputs": [],
   "source": []
  },
  {
   "cell_type": "code",
   "execution_count": null,
   "metadata": {
    "collapsed": true,
    "deletable": true,
    "editable": true
   },
   "outputs": [],
   "source": []
  },
  {
   "cell_type": "code",
   "execution_count": null,
   "metadata": {
    "collapsed": true,
    "deletable": true,
    "editable": true
   },
   "outputs": [],
   "source": []
  },
  {
   "cell_type": "code",
   "execution_count": null,
   "metadata": {
    "collapsed": true,
    "deletable": true,
    "editable": true
   },
   "outputs": [],
   "source": []
  },
  {
   "cell_type": "code",
   "execution_count": null,
   "metadata": {
    "collapsed": true,
    "deletable": true,
    "editable": true
   },
   "outputs": [],
   "source": []
  },
  {
   "cell_type": "code",
   "execution_count": null,
   "metadata": {
    "collapsed": true,
    "deletable": true,
    "editable": true
   },
   "outputs": [],
   "source": []
  },
  {
   "cell_type": "code",
   "execution_count": null,
   "metadata": {
    "collapsed": true,
    "deletable": true,
    "editable": true
   },
   "outputs": [],
   "source": []
  },
  {
   "cell_type": "code",
   "execution_count": 6,
   "metadata": {
    "collapsed": true,
    "deletable": true,
    "editable": true
   },
   "outputs": [],
   "source": [
    "import datetime"
   ]
  },
  {
   "cell_type": "code",
   "execution_count": 7,
   "metadata": {
    "collapsed": true,
    "deletable": true,
    "editable": true
   },
   "outputs": [],
   "source": [
    "a = datetime.datetime.now()"
   ]
  },
  {
   "cell_type": "code",
   "execution_count": 8,
   "metadata": {
    "collapsed": true,
    "deletable": true,
    "editable": true
   },
   "outputs": [],
   "source": [
    "b = datetime.datetime.now() - a"
   ]
  },
  {
   "cell_type": "code",
   "execution_count": 13,
   "metadata": {
    "collapsed": false,
    "deletable": true,
    "editable": true
   },
   "outputs": [
    {
     "data": {
      "text/plain": [
       "29.478926"
      ]
     },
     "execution_count": 13,
     "metadata": {},
     "output_type": "execute_result"
    }
   ],
   "source": [
    "b.total_seconds()"
   ]
  },
  {
   "cell_type": "code",
   "execution_count": null,
   "metadata": {
    "collapsed": true,
    "deletable": true,
    "editable": true
   },
   "outputs": [],
   "source": []
  },
  {
   "cell_type": "code",
   "execution_count": 14,
   "metadata": {
    "collapsed": true,
    "deletable": true,
    "editable": true
   },
   "outputs": [],
   "source": [
    "import poplib"
   ]
  },
  {
   "cell_type": "code",
   "execution_count": 15,
   "metadata": {
    "collapsed": false,
    "deletable": true,
    "editable": true
   },
   "outputs": [
    {
     "data": {
      "text/plain": [
       "b'+OK welcome'"
      ]
     },
     "execution_count": 15,
     "metadata": {},
     "output_type": "execute_result"
    }
   ],
   "source": [
    "connect = poplib.POP3('mail.7road.com')\n",
    "connect.user('lv')\n",
    "connect.pass_('angelo_5566!@')"
   ]
  },
  {
   "cell_type": "code",
   "execution_count": 16,
   "metadata": {
    "collapsed": false,
    "deletable": true,
    "editable": true
   },
   "outputs": [
    {
     "data": {
      "text/plain": [
       "(438, 4171110)"
      ]
     },
     "execution_count": 16,
     "metadata": {},
     "output_type": "execute_result"
    }
   ],
   "source": [
    "connect.stat()"
   ]
  },
  {
   "cell_type": "code",
   "execution_count": 20,
   "metadata": {
    "collapsed": false,
    "deletable": true,
    "editable": true
   },
   "outputs": [],
   "source": [
    "sub = connect.top(1,0)[1][5]"
   ]
  },
  {
   "cell_type": "code",
   "execution_count": 24,
   "metadata": {
    "collapsed": false,
    "deletable": true,
    "editable": true
   },
   "outputs": [
    {
     "data": {
      "text/plain": [
       "b'Subject: =?UTF-8?B?6L+Q57u05pCt5pyNICDor7fmsYI=?='"
      ]
     },
     "execution_count": 24,
     "metadata": {},
     "output_type": "execute_result"
    }
   ],
   "source": [
    "sub"
   ]
  },
  {
   "cell_type": "code",
   "execution_count": 22,
   "metadata": {
    "collapsed": true,
    "deletable": true,
    "editable": true
   },
   "outputs": [],
   "source": [
    "from email.header import *"
   ]
  },
  {
   "cell_type": "code",
   "execution_count": 26,
   "metadata": {
    "collapsed": false,
    "deletable": true,
    "editable": true
   },
   "outputs": [],
   "source": [
    "c = decode_header(sub.strip(b'Subject: ').decode())[0][0]"
   ]
  },
  {
   "cell_type": "code",
   "execution_count": 27,
   "metadata": {
    "collapsed": false,
    "deletable": true,
    "editable": true
   },
   "outputs": [
    {
     "data": {
      "text/plain": [
       "'运维搭服  请求'"
      ]
     },
     "execution_count": 27,
     "metadata": {},
     "output_type": "execute_result"
    }
   ],
   "source": [
    "c.decode('utf-8')"
   ]
  },
  {
   "cell_type": "code",
   "execution_count": 29,
   "metadata": {
    "collapsed": false,
    "deletable": true,
    "editable": true
   },
   "outputs": [],
   "source": [
    "connect = poplib.POP3('mail.7road.com')\n",
    "connect.user('lv')\n",
    "connect.pass_('angelo_5566!@')\n",
    "sub = connect.top(400,0)"
   ]
  },
  {
   "cell_type": "code",
   "execution_count": 34,
   "metadata": {
    "collapsed": false,
    "deletable": true,
    "editable": true
   },
   "outputs": [],
   "source": [
    "sub2 = sub[1][6]"
   ]
  },
  {
   "cell_type": "code",
   "execution_count": 36,
   "metadata": {
    "collapsed": false,
    "deletable": true,
    "editable": true
   },
   "outputs": [
    {
     "data": {
      "text/plain": [
       "b'Subject: =?UTF-8?B?44CQ5ZGK6K2m5bmz5Y+w44CR44CQ56We5puyLeS4reWbveWcsOWMuuOAkQ==?='"
      ]
     },
     "execution_count": 36,
     "metadata": {},
     "output_type": "execute_result"
    }
   ],
   "source": [
    "sub2"
   ]
  },
  {
   "cell_type": "code",
   "execution_count": 40,
   "metadata": {
    "collapsed": false,
    "deletable": true,
    "editable": true
   },
   "outputs": [],
   "source": [
    "a = decode_header(sub2.strip(b'Subject: ').decode())[0][0]"
   ]
  },
  {
   "cell_type": "code",
   "execution_count": 41,
   "metadata": {
    "collapsed": false,
    "deletable": true,
    "editable": true
   },
   "outputs": [
    {
     "data": {
      "text/plain": [
       "True"
      ]
     },
     "execution_count": 41,
     "metadata": {},
     "output_type": "execute_result"
    }
   ],
   "source": [
    "d in a"
   ]
  },
  {
   "cell_type": "code",
   "execution_count": 39,
   "metadata": {
    "collapsed": false,
    "deletable": true,
    "editable": true
   },
   "outputs": [],
   "source": [
    "d = '告警平台'.encode('utf-8')"
   ]
  },
  {
   "cell_type": "code",
   "execution_count": null,
   "metadata": {
    "collapsed": true,
    "deletable": true,
    "editable": true
   },
   "outputs": [],
   "source": []
  },
  {
   "cell_type": "code",
   "execution_count": null,
   "metadata": {
    "collapsed": true,
    "deletable": true,
    "editable": true
   },
   "outputs": [],
   "source": []
  },
  {
   "cell_type": "code",
   "execution_count": null,
   "metadata": {
    "collapsed": true,
    "deletable": true,
    "editable": true
   },
   "outputs": [],
   "source": []
  },
  {
   "cell_type": "code",
   "execution_count": null,
   "metadata": {
    "collapsed": true,
    "deletable": true,
    "editable": true
   },
   "outputs": [],
   "source": []
  },
  {
   "cell_type": "code",
   "execution_count": null,
   "metadata": {
    "collapsed": true,
    "deletable": true,
    "editable": true
   },
   "outputs": [],
   "source": []
  },
  {
   "cell_type": "code",
   "execution_count": null,
   "metadata": {
    "collapsed": true,
    "deletable": true,
    "editable": true
   },
   "outputs": [],
   "source": []
  },
  {
   "cell_type": "code",
   "execution_count": null,
   "metadata": {
    "collapsed": true,
    "deletable": true,
    "editable": true
   },
   "outputs": [],
   "source": []
  },
  {
   "cell_type": "code",
   "execution_count": null,
   "metadata": {
    "collapsed": true,
    "deletable": true,
    "editable": true
   },
   "outputs": [],
   "source": []
  },
  {
   "cell_type": "code",
   "execution_count": 9,
   "metadata": {
    "collapsed": false,
    "deletable": true,
    "editable": true
   },
   "outputs": [],
   "source": [
    "class Link_list:\n",
    "    p,i =None, 1\n",
    "    def put(self,x):\n",
    "        if p is None:\n",
    "            p = {'data':x,'next':None}\n",
    "        else:\n",
    "            node = {'data':x,'next':p}\n",
    "            p = node\n",
    "        i +=1\n",
    "        return p"
   ]
  },
  {
   "cell_type": "code",
   "execution_count": 10,
   "metadata": {
    "collapsed": true,
    "deletable": true,
    "editable": true
   },
   "outputs": [],
   "source": [
    "l = Link_list()"
   ]
  },
  {
   "cell_type": "code",
   "execution_count": null,
   "metadata": {
    "collapsed": true,
    "deletable": true,
    "editable": true
   },
   "outputs": [],
   "source": []
  },
  {
   "cell_type": "code",
   "execution_count": null,
   "metadata": {
    "collapsed": true,
    "deletable": true,
    "editable": true
   },
   "outputs": [],
   "source": []
  },
  {
   "cell_type": "code",
   "execution_count": null,
   "metadata": {
    "collapsed": true,
    "deletable": true,
    "editable": true
   },
   "outputs": [],
   "source": []
  },
  {
   "cell_type": "code",
   "execution_count": null,
   "metadata": {
    "collapsed": true,
    "deletable": true,
    "editable": true
   },
   "outputs": [],
   "source": []
  },
  {
   "cell_type": "code",
   "execution_count": null,
   "metadata": {
    "collapsed": true,
    "deletable": true,
    "editable": true
   },
   "outputs": [],
   "source": []
  },
  {
   "cell_type": "code",
   "execution_count": null,
   "metadata": {
    "collapsed": true,
    "deletable": true,
    "editable": true
   },
   "outputs": [],
   "source": []
  },
  {
   "cell_type": "code",
   "execution_count": null,
   "metadata": {
    "collapsed": true,
    "deletable": true,
    "editable": true
   },
   "outputs": [],
   "source": []
  },
  {
   "cell_type": "code",
   "execution_count": 16,
   "metadata": {
    "collapsed": true,
    "deletable": true,
    "editable": true
   },
   "outputs": [],
   "source": [
    "class Linklist:\n",
    "    def __init__(self):\n",
    "        self.p = None\n",
    "    def Put(self,x):\n",
    "        if self.p is None:\n",
    "            self.p = {'data':x,'next':None}\n",
    "        else:\n",
    "            node = {'data':x,'next':self.p}\n",
    "            self.p = node\n",
    "        return self.p\n",
    "    def pop(x):\n",
    "        for k,v in self.p.items():\n",
    "            if self.p[k] == x:\n",
    "                self.p = n"
   ]
  },
  {
   "cell_type": "code",
   "execution_count": 17,
   "metadata": {
    "collapsed": true,
    "deletable": true,
    "editable": true
   },
   "outputs": [],
   "source": [
    "l = Linklist()"
   ]
  },
  {
   "cell_type": "code",
   "execution_count": 18,
   "metadata": {
    "collapsed": false,
    "deletable": true,
    "editable": true
   },
   "outputs": [
    {
     "data": {
      "text/plain": [
       "{'data': 1, 'next': None}"
      ]
     },
     "execution_count": 18,
     "metadata": {},
     "output_type": "execute_result"
    }
   ],
   "source": [
    "l.Put(1)"
   ]
  },
  {
   "cell_type": "code",
   "execution_count": 19,
   "metadata": {
    "collapsed": false,
    "deletable": true,
    "editable": true
   },
   "outputs": [
    {
     "data": {
      "text/plain": [
       "{'data': 2, 'next': {'data': 1, 'next': None}}"
      ]
     },
     "execution_count": 19,
     "metadata": {},
     "output_type": "execute_result"
    }
   ],
   "source": [
    "l.Put(2)"
   ]
  },
  {
   "cell_type": "code",
   "execution_count": 20,
   "metadata": {
    "collapsed": false,
    "deletable": true,
    "editable": true
   },
   "outputs": [
    {
     "data": {
      "text/plain": [
       "{'data': 3, 'next': {'data': 2, 'next': {'data': 1, 'next': None}}}"
      ]
     },
     "execution_count": 20,
     "metadata": {},
     "output_type": "execute_result"
    }
   ],
   "source": [
    "l.Put(3)"
   ]
  },
  {
   "cell_type": "code",
   "execution_count": null,
   "metadata": {
    "collapsed": true,
    "deletable": true,
    "editable": true
   },
   "outputs": [],
   "source": []
  },
  {
   "cell_type": "code",
   "execution_count": 21,
   "metadata": {
    "collapsed": true,
    "deletable": true,
    "editable": true
   },
   "outputs": [],
   "source": [
    "a = {'data':1,'next':2}"
   ]
  },
  {
   "cell_type": "code",
   "execution_count": 22,
   "metadata": {
    "collapsed": false,
    "deletable": true,
    "editable": true
   },
   "outputs": [
    {
     "name": "stdout",
     "output_type": "stream",
     "text": [
      "data 1\n",
      "next 2\n"
     ]
    }
   ],
   "source": [
    "for k,v in a.items():\n",
    "    print(k,v)"
   ]
  },
  {
   "cell_type": "code",
   "execution_count": null,
   "metadata": {
    "collapsed": true,
    "deletable": true,
    "editable": true
   },
   "outputs": [],
   "source": []
  },
  {
   "cell_type": "code",
   "execution_count": null,
   "metadata": {
    "collapsed": true,
    "deletable": true,
    "editable": true
   },
   "outputs": [],
   "source": []
  },
  {
   "cell_type": "code",
   "execution_count": null,
   "metadata": {
    "collapsed": true,
    "deletable": true,
    "editable": true
   },
   "outputs": [],
   "source": []
  },
  {
   "cell_type": "code",
   "execution_count": null,
   "metadata": {
    "collapsed": true,
    "deletable": true,
    "editable": true
   },
   "outputs": [],
   "source": []
  },
  {
   "cell_type": "code",
   "execution_count": null,
   "metadata": {
    "collapsed": true,
    "deletable": true,
    "editable": true
   },
   "outputs": [],
   "source": []
  },
  {
   "cell_type": "code",
   "execution_count": null,
   "metadata": {
    "collapsed": true,
    "deletable": true,
    "editable": true
   },
   "outputs": [],
   "source": []
  },
  {
   "cell_type": "code",
   "execution_count": null,
   "metadata": {
    "collapsed": true,
    "deletable": true,
    "editable": true
   },
   "outputs": [],
   "source": []
  },
  {
   "cell_type": "code",
   "execution_count": null,
   "metadata": {
    "collapsed": true,
    "deletable": true,
    "editable": true
   },
   "outputs": [],
   "source": []
  },
  {
   "cell_type": "code",
   "execution_count": null,
   "metadata": {
    "collapsed": true,
    "deletable": true,
    "editable": true
   },
   "outputs": [],
   "source": []
  },
  {
   "cell_type": "code",
   "execution_count": null,
   "metadata": {
    "collapsed": true,
    "deletable": true,
    "editable": true
   },
   "outputs": [],
   "source": []
  },
  {
   "cell_type": "code",
   "execution_count": null,
   "metadata": {
    "collapsed": true,
    "deletable": true,
    "editable": true
   },
   "outputs": [],
   "source": []
  },
  {
   "cell_type": "code",
   "execution_count": null,
   "metadata": {
    "collapsed": true,
    "deletable": true,
    "editable": true
   },
   "outputs": [],
   "source": []
  },
  {
   "cell_type": "code",
   "execution_count": null,
   "metadata": {
    "collapsed": true,
    "deletable": true,
    "editable": true
   },
   "outputs": [],
   "source": []
  },
  {
   "cell_type": "code",
   "execution_count": null,
   "metadata": {
    "collapsed": true,
    "deletable": true,
    "editable": true
   },
   "outputs": [],
   "source": []
  },
  {
   "cell_type": "code",
   "execution_count": null,
   "metadata": {
    "collapsed": true,
    "deletable": true,
    "editable": true
   },
   "outputs": [],
   "source": []
  },
  {
   "cell_type": "code",
   "execution_count": null,
   "metadata": {
    "collapsed": true,
    "deletable": true,
    "editable": true
   },
   "outputs": [],
   "source": []
  },
  {
   "cell_type": "code",
   "execution_count": null,
   "metadata": {
    "collapsed": true,
    "deletable": true,
    "editable": true
   },
   "outputs": [],
   "source": []
  },
  {
   "cell_type": "code",
   "execution_count": null,
   "metadata": {
    "collapsed": true,
    "deletable": true,
    "editable": true
   },
   "outputs": [],
   "source": []
  },
  {
   "cell_type": "code",
   "execution_count": null,
   "metadata": {
    "collapsed": true,
    "deletable": true,
    "editable": true
   },
   "outputs": [],
   "source": []
  },
  {
   "cell_type": "code",
   "execution_count": null,
   "metadata": {
    "collapsed": true,
    "deletable": true,
    "editable": true
   },
   "outputs": [],
   "source": []
  },
  {
   "cell_type": "code",
   "execution_count": null,
   "metadata": {
    "collapsed": true,
    "deletable": true,
    "editable": true
   },
   "outputs": [],
   "source": []
  },
  {
   "cell_type": "code",
   "execution_count": null,
   "metadata": {
    "collapsed": true,
    "deletable": true,
    "editable": true
   },
   "outputs": [],
   "source": []
  },
  {
   "cell_type": "code",
   "execution_count": null,
   "metadata": {
    "collapsed": true,
    "deletable": true,
    "editable": true
   },
   "outputs": [],
   "source": []
  },
  {
   "cell_type": "code",
   "execution_count": null,
   "metadata": {
    "collapsed": true,
    "deletable": true,
    "editable": true
   },
   "outputs": [],
   "source": []
  },
  {
   "cell_type": "code",
   "execution_count": null,
   "metadata": {
    "collapsed": true,
    "deletable": true,
    "editable": true
   },
   "outputs": [],
   "source": []
  },
  {
   "cell_type": "code",
   "execution_count": null,
   "metadata": {
    "collapsed": true,
    "deletable": true,
    "editable": true
   },
   "outputs": [],
   "source": []
  },
  {
   "cell_type": "code",
   "execution_count": null,
   "metadata": {
    "collapsed": true,
    "deletable": true,
    "editable": true
   },
   "outputs": [],
   "source": []
  },
  {
   "cell_type": "code",
   "execution_count": null,
   "metadata": {
    "collapsed": true,
    "deletable": true,
    "editable": true
   },
   "outputs": [],
   "source": []
  },
  {
   "cell_type": "code",
   "execution_count": null,
   "metadata": {
    "collapsed": true,
    "deletable": true,
    "editable": true
   },
   "outputs": [],
   "source": []
  },
  {
   "cell_type": "code",
   "execution_count": null,
   "metadata": {
    "collapsed": true,
    "deletable": true,
    "editable": true
   },
   "outputs": [],
   "source": []
  },
  {
   "cell_type": "code",
   "execution_count": null,
   "metadata": {
    "collapsed": true,
    "deletable": true,
    "editable": true
   },
   "outputs": [],
   "source": []
  },
  {
   "cell_type": "code",
   "execution_count": null,
   "metadata": {
    "collapsed": true,
    "deletable": true,
    "editable": true
   },
   "outputs": [],
   "source": []
  },
  {
   "cell_type": "code",
   "execution_count": null,
   "metadata": {
    "collapsed": true,
    "deletable": true,
    "editable": true
   },
   "outputs": [],
   "source": []
  },
  {
   "cell_type": "code",
   "execution_count": null,
   "metadata": {
    "collapsed": true,
    "deletable": true,
    "editable": true
   },
   "outputs": [],
   "source": []
  },
  {
   "cell_type": "code",
   "execution_count": null,
   "metadata": {
    "collapsed": true,
    "deletable": true,
    "editable": true
   },
   "outputs": [],
   "source": []
  },
  {
   "cell_type": "code",
   "execution_count": null,
   "metadata": {
    "collapsed": true,
    "deletable": true,
    "editable": true
   },
   "outputs": [],
   "source": []
  },
  {
   "cell_type": "code",
   "execution_count": 18,
   "metadata": {
    "collapsed": true,
    "deletable": true,
    "editable": true
   },
   "outputs": [],
   "source": [
    "class Lnode:\n",
    "    def __init__(self,elem,next_=None):\n",
    "        self.elem = elem\n",
    "        self.next = next_\n",
    "        \n",
    "class LList:\n",
    "    def __init__(self):\n",
    "        self._head = None\n",
    "    def is_empty(self):\n",
    "        return self._head is None\n",
    "    def prepend(self,elem):\n",
    "        self._head = Lnode(elem,self._head)\n",
    "        return self._head\n",
    "    def pop(self):\n",
    "        if self._head is None:\n",
    "            raise ValueError('no have Node')\n",
    "        e = self._head.elem\n",
    "        self._head = self._head.next\n",
    "        return e\n",
    "    def append()"
   ]
  },
  {
   "cell_type": "code",
   "execution_count": null,
   "metadata": {
    "collapsed": true,
    "deletable": true,
    "editable": true
   },
   "outputs": [],
   "source": []
  },
  {
   "cell_type": "code",
   "execution_count": null,
   "metadata": {
    "collapsed": true,
    "deletable": true,
    "editable": true
   },
   "outputs": [],
   "source": []
  },
  {
   "cell_type": "code",
   "execution_count": null,
   "metadata": {
    "collapsed": true,
    "deletable": true,
    "editable": true
   },
   "outputs": [],
   "source": []
  },
  {
   "cell_type": "code",
   "execution_count": null,
   "metadata": {
    "collapsed": true,
    "deletable": true,
    "editable": true
   },
   "outputs": [],
   "source": []
  },
  {
   "cell_type": "code",
   "execution_count": null,
   "metadata": {
    "collapsed": true,
    "deletable": true,
    "editable": true
   },
   "outputs": [],
   "source": []
  },
  {
   "cell_type": "code",
   "execution_count": 47,
   "metadata": {
    "collapsed": true,
    "deletable": true,
    "editable": true
   },
   "outputs": [],
   "source": [
    "class LList2:\n",
    "    def __init__(self):\n",
    "        self._head = None\n",
    "    def is_empty(self):\n",
    "        return self._head is None\n",
    "    def prepend(self,elem):\n",
    "        self._head = {'data':elem,'next':self._head}\n",
    "        return self._head\n",
    "    def pop(self):\n",
    "        if self._head is None:\n",
    "            raise ValueError('no have Node')\n",
    "        e = self._head['data']\n",
    "        self._head = self._head['next']\n",
    "        return e\n",
    "    def append(self,elem):\n",
    "        if self._head is None:\n",
    "            self._head = {'data':elem,'next':None}\n",
    "            return self._head\n",
    "        p = self._head\n",
    "        while p['next'] is not None:\n",
    "            p = p['next']\n",
    "        p['next'] = {'data':elem,'next':None}\n",
    "        return self._head\n",
    "        "
   ]
  },
  {
   "cell_type": "code",
   "execution_count": 48,
   "metadata": {
    "collapsed": true,
    "deletable": true,
    "editable": true
   },
   "outputs": [],
   "source": [
    "ll = LList2()"
   ]
  },
  {
   "cell_type": "code",
   "execution_count": 49,
   "metadata": {
    "collapsed": false,
    "deletable": true,
    "editable": true
   },
   "outputs": [
    {
     "data": {
      "text/plain": [
       "{'data': 1, 'next': None}"
      ]
     },
     "execution_count": 49,
     "metadata": {},
     "output_type": "execute_result"
    }
   ],
   "source": [
    "ll.append(1)"
   ]
  },
  {
   "cell_type": "code",
   "execution_count": 50,
   "metadata": {
    "collapsed": false,
    "deletable": true,
    "editable": true
   },
   "outputs": [
    {
     "data": {
      "text/plain": [
       "{'data': 1, 'next': {'data': 2, 'next': None}}"
      ]
     },
     "execution_count": 50,
     "metadata": {},
     "output_type": "execute_result"
    }
   ],
   "source": [
    "ll.append(2)"
   ]
  },
  {
   "cell_type": "code",
   "execution_count": 51,
   "metadata": {
    "collapsed": false,
    "deletable": true,
    "editable": true
   },
   "outputs": [
    {
     "data": {
      "text/plain": [
       "{'data': 1, 'next': {'data': 2, 'next': {'data': 3, 'next': None}}}"
      ]
     },
     "execution_count": 51,
     "metadata": {},
     "output_type": "execute_result"
    }
   ],
   "source": [
    "ll.append(3)"
   ]
  },
  {
   "cell_type": "code",
   "execution_count": 52,
   "metadata": {
    "collapsed": false,
    "deletable": true,
    "editable": true
   },
   "outputs": [
    {
     "data": {
      "text/plain": [
       "1"
      ]
     },
     "execution_count": 52,
     "metadata": {},
     "output_type": "execute_result"
    }
   ],
   "source": [
    "ll.pop()"
   ]
  },
  {
   "cell_type": "code",
   "execution_count": 53,
   "metadata": {
    "collapsed": false,
    "deletable": true,
    "editable": true
   },
   "outputs": [
    {
     "data": {
      "text/plain": [
       "{'data': 2, 'next': {'data': 3, 'next': {'data': 4, 'next': None}}}"
      ]
     },
     "execution_count": 53,
     "metadata": {},
     "output_type": "execute_result"
    }
   ],
   "source": [
    "ll.append(4)"
   ]
  },
  {
   "cell_type": "code",
   "execution_count": null,
   "metadata": {
    "collapsed": true,
    "deletable": true,
    "editable": true
   },
   "outputs": [],
   "source": []
  },
  {
   "cell_type": "code",
   "execution_count": null,
   "metadata": {
    "collapsed": true,
    "deletable": true,
    "editable": true
   },
   "outputs": [],
   "source": []
  },
  {
   "cell_type": "code",
   "execution_count": null,
   "metadata": {
    "collapsed": true,
    "deletable": true,
    "editable": true
   },
   "outputs": [],
   "source": []
  },
  {
   "cell_type": "code",
   "execution_count": null,
   "metadata": {
    "collapsed": true,
    "deletable": true,
    "editable": true
   },
   "outputs": [],
   "source": []
  },
  {
   "cell_type": "code",
   "execution_count": 25,
   "metadata": {
    "collapsed": false,
    "deletable": true,
    "editable": true
   },
   "outputs": [
    {
     "data": {
      "text/plain": [
       "{'data': 2, 'next': {'data': 1, 'next': None}}"
      ]
     },
     "execution_count": 25,
     "metadata": {},
     "output_type": "execute_result"
    }
   ],
   "source": [
    "ll.prepend(2)"
   ]
  },
  {
   "cell_type": "code",
   "execution_count": 26,
   "metadata": {
    "collapsed": false,
    "deletable": true,
    "editable": true
   },
   "outputs": [
    {
     "data": {
      "text/plain": [
       "{'data': 3, 'next': {'data': 2, 'next': {'data': 1, 'next': None}}}"
      ]
     },
     "execution_count": 26,
     "metadata": {},
     "output_type": "execute_result"
    }
   ],
   "source": [
    "ll.prepend(3)"
   ]
  },
  {
   "cell_type": "code",
   "execution_count": 29,
   "metadata": {
    "collapsed": false,
    "deletable": true,
    "editable": true
   },
   "outputs": [
    {
     "data": {
      "text/plain": [
       "1"
      ]
     },
     "execution_count": 29,
     "metadata": {},
     "output_type": "execute_result"
    }
   ],
   "source": [
    "ll.pop()"
   ]
  },
  {
   "cell_type": "code",
   "execution_count": null,
   "metadata": {
    "collapsed": true,
    "deletable": true,
    "editable": true
   },
   "outputs": [],
   "source": []
  },
  {
   "cell_type": "code",
   "execution_count": null,
   "metadata": {
    "collapsed": true,
    "deletable": true,
    "editable": true
   },
   "outputs": [],
   "source": []
  },
  {
   "cell_type": "code",
   "execution_count": null,
   "metadata": {
    "collapsed": true,
    "deletable": true,
    "editable": true
   },
   "outputs": [],
   "source": []
  },
  {
   "cell_type": "code",
   "execution_count": null,
   "metadata": {
    "collapsed": true,
    "deletable": true,
    "editable": true
   },
   "outputs": [],
   "source": []
  },
  {
   "cell_type": "code",
   "execution_count": 31,
   "metadata": {
    "collapsed": true,
    "deletable": true,
    "editable": true
   },
   "outputs": [],
   "source": [
    "def data(elem,next_):\n",
    "    return (elem,next_)\n",
    "class LinkList:\n",
    "    def __init__(self):\n",
    "        self._head = None\n",
    "    def is_empty(self):\n",
    "        return self._head is None\n",
    "    def prepend(self,elem):\n",
    "        self._head = data(elem,self._head)\n",
    "        return self._head\n",
    "    def pop(self):\n",
    "        if self._head is None:\n",
    "            raise ValueError('no have Node')\n",
    "        e = self._head\n",
    "        self._head = self._head.next\n",
    "        return e"
   ]
  },
  {
   "cell_type": "code",
   "execution_count": 32,
   "metadata": {
    "collapsed": true,
    "deletable": true,
    "editable": true
   },
   "outputs": [],
   "source": [
    "l = LinkList()"
   ]
  },
  {
   "cell_type": "code",
   "execution_count": 33,
   "metadata": {
    "collapsed": false,
    "deletable": true,
    "editable": true
   },
   "outputs": [
    {
     "data": {
      "text/plain": [
       "(1, None)"
      ]
     },
     "execution_count": 33,
     "metadata": {},
     "output_type": "execute_result"
    }
   ],
   "source": [
    "l.prepend(1)"
   ]
  },
  {
   "cell_type": "code",
   "execution_count": 34,
   "metadata": {
    "collapsed": false,
    "deletable": true,
    "editable": true
   },
   "outputs": [
    {
     "data": {
      "text/plain": [
       "(2, (1, None))"
      ]
     },
     "execution_count": 34,
     "metadata": {},
     "output_type": "execute_result"
    }
   ],
   "source": [
    "l.prepend(2)"
   ]
  },
  {
   "cell_type": "code",
   "execution_count": 35,
   "metadata": {
    "collapsed": false,
    "deletable": true,
    "editable": true
   },
   "outputs": [
    {
     "data": {
      "text/plain": [
       "(3, (2, (1, None)))"
      ]
     },
     "execution_count": 35,
     "metadata": {},
     "output_type": "execute_result"
    }
   ],
   "source": [
    "l.prepend(3)"
   ]
  },
  {
   "cell_type": "code",
   "execution_count": 36,
   "metadata": {
    "collapsed": false,
    "deletable": true,
    "editable": true
   },
   "outputs": [
    {
     "ename": "AttributeError",
     "evalue": "'tuple' object has no attribute 'elem'",
     "output_type": "error",
     "traceback": [
      "\u001b[0;31m---------------------------------------------------------------------------\u001b[0m",
      "\u001b[0;31mAttributeError\u001b[0m                            Traceback (most recent call last)",
      "\u001b[0;32m<ipython-input-36-9e6f3717293a>\u001b[0m in \u001b[0;36m<module>\u001b[0;34m()\u001b[0m\n\u001b[0;32m----> 1\u001b[0;31m \u001b[0ml\u001b[0m\u001b[0;34m.\u001b[0m\u001b[0mpop\u001b[0m\u001b[0;34m(\u001b[0m\u001b[0;34m)\u001b[0m\u001b[0;34m\u001b[0m\u001b[0m\n\u001b[0m",
      "\u001b[0;32m<ipython-input-31-19004b94955b>\u001b[0m in \u001b[0;36mpop\u001b[0;34m(self)\u001b[0m\n\u001b[1;32m     12\u001b[0m         \u001b[0;32mif\u001b[0m \u001b[0mself\u001b[0m\u001b[0;34m.\u001b[0m\u001b[0m_head\u001b[0m \u001b[0;32mis\u001b[0m \u001b[0;32mNone\u001b[0m\u001b[0;34m:\u001b[0m\u001b[0;34m\u001b[0m\u001b[0m\n\u001b[1;32m     13\u001b[0m             \u001b[0;32mraise\u001b[0m \u001b[0mValueError\u001b[0m\u001b[0;34m(\u001b[0m\u001b[0;34m'no have Node'\u001b[0m\u001b[0;34m)\u001b[0m\u001b[0;34m\u001b[0m\u001b[0m\n\u001b[0;32m---> 14\u001b[0;31m         \u001b[0me\u001b[0m \u001b[0;34m=\u001b[0m \u001b[0mself\u001b[0m\u001b[0;34m.\u001b[0m\u001b[0m_head\u001b[0m\u001b[0;34m.\u001b[0m\u001b[0melem\u001b[0m\u001b[0;34m\u001b[0m\u001b[0m\n\u001b[0m\u001b[1;32m     15\u001b[0m         \u001b[0mself\u001b[0m\u001b[0;34m.\u001b[0m\u001b[0m_head\u001b[0m \u001b[0;34m=\u001b[0m \u001b[0mself\u001b[0m\u001b[0;34m.\u001b[0m\u001b[0m_head\u001b[0m\u001b[0;34m.\u001b[0m\u001b[0mnext\u001b[0m\u001b[0;34m\u001b[0m\u001b[0m\n\u001b[1;32m     16\u001b[0m         \u001b[0;32mreturn\u001b[0m \u001b[0me\u001b[0m\u001b[0;34m\u001b[0m\u001b[0m\n",
      "\u001b[0;31mAttributeError\u001b[0m: 'tuple' object has no attribute 'elem'"
     ]
    }
   ],
   "source": [
    "l.pop()"
   ]
  },
  {
   "cell_type": "code",
   "execution_count": null,
   "metadata": {
    "collapsed": true,
    "deletable": true,
    "editable": true
   },
   "outputs": [],
   "source": []
  },
  {
   "cell_type": "code",
   "execution_count": null,
   "metadata": {
    "collapsed": true,
    "deletable": true,
    "editable": true
   },
   "outputs": [],
   "source": []
  },
  {
   "cell_type": "code",
   "execution_count": null,
   "metadata": {
    "collapsed": true,
    "deletable": true,
    "editable": true
   },
   "outputs": [],
   "source": []
  },
  {
   "cell_type": "code",
   "execution_count": null,
   "metadata": {
    "collapsed": true,
    "deletable": true,
    "editable": true
   },
   "outputs": [],
   "source": []
  },
  {
   "cell_type": "code",
   "execution_count": null,
   "metadata": {
    "collapsed": true,
    "deletable": true,
    "editable": true
   },
   "outputs": [],
   "source": []
  },
  {
   "cell_type": "code",
   "execution_count": null,
   "metadata": {
    "collapsed": true,
    "deletable": true,
    "editable": true
   },
   "outputs": [],
   "source": []
  },
  {
   "cell_type": "code",
   "execution_count": null,
   "metadata": {
    "collapsed": true,
    "deletable": true,
    "editable": true
   },
   "outputs": [],
   "source": []
  },
  {
   "cell_type": "code",
   "execution_count": null,
   "metadata": {
    "collapsed": true,
    "deletable": true,
    "editable": true
   },
   "outputs": [],
   "source": []
  },
  {
   "cell_type": "code",
   "execution_count": null,
   "metadata": {
    "collapsed": true,
    "deletable": true,
    "editable": true
   },
   "outputs": [],
   "source": []
  },
  {
   "cell_type": "code",
   "execution_count": null,
   "metadata": {
    "collapsed": true,
    "deletable": true,
    "editable": true
   },
   "outputs": [],
   "source": []
  },
  {
   "cell_type": "code",
   "execution_count": null,
   "metadata": {
    "collapsed": true,
    "deletable": true,
    "editable": true
   },
   "outputs": [],
   "source": []
  },
  {
   "cell_type": "code",
   "execution_count": null,
   "metadata": {
    "collapsed": true,
    "deletable": true,
    "editable": true
   },
   "outputs": [],
   "source": []
  },
  {
   "cell_type": "code",
   "execution_count": null,
   "metadata": {
    "collapsed": true,
    "deletable": true,
    "editable": true
   },
   "outputs": [],
   "source": []
  },
  {
   "cell_type": "code",
   "execution_count": 55,
   "metadata": {
    "collapsed": true,
    "deletable": true,
    "editable": true
   },
   "outputs": [],
   "source": [
    "lst = [str(x) for x in range(10)]"
   ]
  },
  {
   "cell_type": "code",
   "execution_count": 56,
   "metadata": {
    "collapsed": true,
    "deletable": true,
    "editable": true
   },
   "outputs": [],
   "source": [
    "lst.insert(4,'t')"
   ]
  },
  {
   "cell_type": "code",
   "execution_count": 57,
   "metadata": {
    "collapsed": false,
    "deletable": true,
    "editable": true
   },
   "outputs": [
    {
     "data": {
      "text/plain": [
       "['0', '1', '2', '3', 't', '4', '5', '6', '7', '8', '9']"
      ]
     },
     "execution_count": 57,
     "metadata": {},
     "output_type": "execute_result"
    }
   ],
   "source": [
    "lst"
   ]
  },
  {
   "cell_type": "code",
   "execution_count": null,
   "metadata": {
    "collapsed": true,
    "deletable": true,
    "editable": true
   },
   "outputs": [],
   "source": []
  },
  {
   "cell_type": "code",
   "execution_count": null,
   "metadata": {
    "collapsed": true,
    "deletable": true,
    "editable": true
   },
   "outputs": [],
   "source": []
  },
  {
   "cell_type": "code",
   "execution_count": null,
   "metadata": {
    "collapsed": true,
    "deletable": true,
    "editable": true
   },
   "outputs": [],
   "source": []
  },
  {
   "cell_type": "code",
   "execution_count": 72,
   "metadata": {
    "collapsed": true,
    "deletable": true,
    "editable": true
   },
   "outputs": [],
   "source": [
    "class L:\n",
    "    def __init__(self):\n",
    "        self._head = None\n",
    "        self.count = 0\n",
    "    def is_empty(self):\n",
    "        return self._head is None\n",
    "    def prepend(self,elem):\n",
    "        self._head = {'data':elem,'next':self._head}\n",
    "        self.count += 1\n",
    "        return self._head\n",
    "    def pop(self):\n",
    "        if self._head is None:\n",
    "            raise ValueError('no have Node')\n",
    "        e = self._head['data']\n",
    "        self._head = self._head['next']\n",
    "        self.count -= 1\n",
    "        return e\n",
    "    def append(self,elem):\n",
    "        if self._head is None:\n",
    "            self._head = {'data':elem,'next':None}\n",
    "            return self._head\n",
    "        p = self._head\n",
    "        while p['next'] is not None:\n",
    "            p = p['next']\n",
    "        p['next'] = {'data':elem,'next':None}\n",
    "        self.count +=1\n",
    "        return self._head\n",
    "    def insert(self,index, elem):\n",
    "        self.count +=1\n",
    "        if self._head is None or index == 0:\n",
    "            self._head = {'data':elem,'next':self._head}\n",
    "            return self._head\n",
    "        p = self._head\n",
    "        n = 0\n",
    "        while n < index-1:\n",
    "            p = p['next']\n",
    "            n +=1\n",
    "        p['next'] = {'data':elem,'next':p['next']}\n",
    "        return self._head\n",
    "    def show(self):\n",
    "        return self._head"
   ]
  },
  {
   "cell_type": "code",
   "execution_count": 73,
   "metadata": {
    "collapsed": true,
    "deletable": true,
    "editable": true
   },
   "outputs": [],
   "source": [
    "l = L()"
   ]
  },
  {
   "cell_type": "code",
   "execution_count": 74,
   "metadata": {
    "collapsed": false,
    "deletable": true,
    "editable": true
   },
   "outputs": [],
   "source": [
    "for i in range(1,9):\n",
    "    l.append(i)"
   ]
  },
  {
   "cell_type": "code",
   "execution_count": 75,
   "metadata": {
    "collapsed": false,
    "deletable": true,
    "editable": true
   },
   "outputs": [
    {
     "data": {
      "text/plain": [
       "{'data': 1,\n",
       " 'next': {'data': 2,\n",
       "  'next': {'data': 3,\n",
       "   'next': {'data': 4,\n",
       "    'next': {'data': 5,\n",
       "     'next': {'data': 6,\n",
       "      'next': {'data': 7, 'next': {'data': 8, 'next': None}}}}}}}}"
      ]
     },
     "execution_count": 75,
     "metadata": {},
     "output_type": "execute_result"
    }
   ],
   "source": [
    "l.show()"
   ]
  },
  {
   "cell_type": "code",
   "execution_count": 76,
   "metadata": {
    "collapsed": false,
    "deletable": true,
    "editable": true
   },
   "outputs": [
    {
     "data": {
      "text/plain": [
       "{'data': 1,\n",
       " 'next': {'data': 'aa',\n",
       "  'next': {'data': 2,\n",
       "   'next': {'data': 3,\n",
       "    'next': {'data': 4,\n",
       "     'next': {'data': 5,\n",
       "      'next': {'data': 6,\n",
       "       'next': {'data': 7, 'next': {'data': 8, 'next': None}}}}}}}}}"
      ]
     },
     "execution_count": 76,
     "metadata": {},
     "output_type": "execute_result"
    }
   ],
   "source": [
    "l.insert(1,'aa')"
   ]
  },
  {
   "cell_type": "code",
   "execution_count": 77,
   "metadata": {
    "collapsed": false,
    "deletable": true,
    "editable": true
   },
   "outputs": [
    {
     "data": {
      "text/plain": [
       "{'data': 'bb',\n",
       " 'next': {'data': 1,\n",
       "  'next': {'data': 'aa',\n",
       "   'next': {'data': 2,\n",
       "    'next': {'data': 3,\n",
       "     'next': {'data': 4,\n",
       "      'next': {'data': 5,\n",
       "       'next': {'data': 6,\n",
       "        'next': {'data': 7, 'next': {'data': 8, 'next': None}}}}}}}}}}"
      ]
     },
     "execution_count": 77,
     "metadata": {},
     "output_type": "execute_result"
    }
   ],
   "source": [
    "l.insert(0,'bb')"
   ]
  },
  {
   "cell_type": "code",
   "execution_count": 78,
   "metadata": {
    "collapsed": false,
    "deletable": true,
    "editable": true
   },
   "outputs": [
    {
     "data": {
      "text/plain": [
       "{'data': 'bb',\n",
       " 'next': {'data': 'gg',\n",
       "  'next': {'data': 1,\n",
       "   'next': {'data': 'aa',\n",
       "    'next': {'data': 2,\n",
       "     'next': {'data': 3,\n",
       "      'next': {'data': 4,\n",
       "       'next': {'data': 5,\n",
       "        'next': {'data': 6,\n",
       "         'next': {'data': 7, 'next': {'data': 8, 'next': None}}}}}}}}}}}"
      ]
     },
     "execution_count": 78,
     "metadata": {},
     "output_type": "execute_result"
    }
   ],
   "source": [
    "l.insert(1,'gg')"
   ]
  },
  {
   "cell_type": "code",
   "execution_count": 79,
   "metadata": {
    "collapsed": false,
    "deletable": true,
    "editable": true
   },
   "outputs": [
    {
     "data": {
      "text/plain": [
       "10"
      ]
     },
     "execution_count": 79,
     "metadata": {},
     "output_type": "execute_result"
    }
   ],
   "source": [
    "l.count"
   ]
  },
  {
   "cell_type": "code",
   "execution_count": null,
   "metadata": {
    "collapsed": true,
    "deletable": true,
    "editable": true
   },
   "outputs": [],
   "source": []
  },
  {
   "cell_type": "code",
   "execution_count": null,
   "metadata": {
    "collapsed": true,
    "deletable": true,
    "editable": true
   },
   "outputs": [],
   "source": []
  },
  {
   "cell_type": "code",
   "execution_count": null,
   "metadata": {
    "collapsed": true,
    "deletable": true,
    "editable": true
   },
   "outputs": [],
   "source": []
  },
  {
   "cell_type": "code",
   "execution_count": null,
   "metadata": {
    "collapsed": true,
    "deletable": true,
    "editable": true
   },
   "outputs": [],
   "source": []
  },
  {
   "cell_type": "code",
   "execution_count": 59,
   "metadata": {
    "collapsed": false,
    "deletable": true,
    "editable": true
   },
   "outputs": [
    {
     "data": {
      "text/plain": [
       "9"
      ]
     },
     "execution_count": 59,
     "metadata": {},
     "output_type": "execute_result"
    }
   ],
   "source": [
    "l.count"
   ]
  },
  {
   "cell_type": "code",
   "execution_count": null,
   "metadata": {
    "collapsed": true,
    "deletable": true,
    "editable": true
   },
   "outputs": [],
   "source": []
  },
  {
   "cell_type": "code",
   "execution_count": 81,
   "metadata": {
    "collapsed": true,
    "deletable": true,
    "editable": true
   },
   "outputs": [],
   "source": [
    "lst = [str(x) for x in range(1,10)]"
   ]
  },
  {
   "cell_type": "code",
   "execution_count": 84,
   "metadata": {
    "collapsed": false,
    "deletable": true,
    "editable": true
   },
   "outputs": [
    {
     "data": {
      "text/plain": [
       "0"
      ]
     },
     "execution_count": 84,
     "metadata": {},
     "output_type": "execute_result"
    }
   ],
   "source": [
    "lst.index('1')"
   ]
  },
  {
   "cell_type": "code",
   "execution_count": 85,
   "metadata": {
    "collapsed": false,
    "deletable": true,
    "editable": true
   },
   "outputs": [
    {
     "data": {
      "text/plain": [
       "['1', '2', '3', '4', '5', '6', '7', '8', '9']"
      ]
     },
     "execution_count": 85,
     "metadata": {},
     "output_type": "execute_result"
    }
   ],
   "source": [
    "lst"
   ]
  },
  {
   "cell_type": "code",
   "execution_count": null,
   "metadata": {
    "collapsed": true,
    "deletable": true,
    "editable": true
   },
   "outputs": [],
   "source": []
  },
  {
   "cell_type": "code",
   "execution_count": null,
   "metadata": {
    "collapsed": true,
    "deletable": true,
    "editable": true
   },
   "outputs": [],
   "source": []
  },
  {
   "cell_type": "code",
   "execution_count": null,
   "metadata": {
    "collapsed": true,
    "deletable": true,
    "editable": true
   },
   "outputs": [],
   "source": []
  },
  {
   "cell_type": "code",
   "execution_count": 9,
   "metadata": {
    "collapsed": false,
    "deletable": true,
    "editable": true,
    "scrolled": true
   },
   "outputs": [
    {
     "name": "stdout",
     "output_type": "stream",
     "text": [
      "CPU times: user 46.2 ms, sys: 852 µs, total: 47 ms\n",
      "Wall time: 52.7 ms\n"
     ]
    }
   ],
   "source": [
    "%%time\n",
    "lst = []\n",
    "for i in range(10000):\n",
    "    lst.insert(0,i)"
   ]
  },
  {
   "cell_type": "code",
   "execution_count": 21,
   "metadata": {
    "collapsed": true,
    "deletable": true,
    "editable": true
   },
   "outputs": [],
   "source": [
    "l = LinkList()"
   ]
  },
  {
   "cell_type": "code",
   "execution_count": 22,
   "metadata": {
    "collapsed": false,
    "deletable": true,
    "editable": true
   },
   "outputs": [
    {
     "name": "stdout",
     "output_type": "stream",
     "text": [
      "CPU times: user 0 ns, sys: 0 ns, total: 0 ns\n",
      "Wall time: 19.6 µs\n"
     ]
    }
   ],
   "source": [
    "%%time\n",
    "for i in range(4):\n",
    "    l.append(i)"
   ]
  },
  {
   "cell_type": "code",
   "execution_count": 23,
   "metadata": {
    "collapsed": false,
    "deletable": true,
    "editable": true
   },
   "outputs": [
    {
     "data": {
      "text/plain": [
       "3"
      ]
     },
     "execution_count": 23,
     "metadata": {},
     "output_type": "execute_result"
    }
   ],
   "source": [
    "l.count"
   ]
  },
  {
   "cell_type": "code",
   "execution_count": 24,
   "metadata": {
    "collapsed": false,
    "deletable": true,
    "editable": true
   },
   "outputs": [
    {
     "name": "stdout",
     "output_type": "stream",
     "text": [
      "0, 1, 2, 3\n"
     ]
    }
   ],
   "source": [
    "l.show()"
   ]
  },
  {
   "cell_type": "code",
   "execution_count": null,
   "metadata": {
    "collapsed": true,
    "deletable": true,
    "editable": true
   },
   "outputs": [],
   "source": []
  },
  {
   "cell_type": "code",
   "execution_count": null,
   "metadata": {
    "collapsed": true,
    "deletable": true,
    "editable": true
   },
   "outputs": [],
   "source": []
  },
  {
   "cell_type": "code",
   "execution_count": null,
   "metadata": {
    "collapsed": true,
    "deletable": true,
    "editable": true
   },
   "outputs": [],
   "source": []
  },
  {
   "cell_type": "code",
   "execution_count": null,
   "metadata": {
    "collapsed": true,
    "deletable": true,
    "editable": true
   },
   "outputs": [],
   "source": []
  },
  {
   "cell_type": "code",
   "execution_count": null,
   "metadata": {
    "collapsed": true,
    "deletable": true,
    "editable": true
   },
   "outputs": [],
   "source": []
  },
  {
   "cell_type": "code",
   "execution_count": 27,
   "metadata": {
    "collapsed": true,
    "deletable": true,
    "editable": true
   },
   "outputs": [],
   "source": [
    "class LinkNode:\n",
    "    @classmethod\n",
    "    def count(self):\n",
    "        n = 0\n",
    "        while True:\n",
    "            yield n\n",
    "            n += 1\n",
    "\n",
    "    def __init__(self, elem, next_):\n",
    "        self.elem = elem\n",
    "        self.next = next_\n",
    "        next(self.count())\n",
    "\n",
    "\n",
    "class LinkList:\n",
    "    def __init__(self):\n",
    "        self._head = None\n",
    "        self.count = next(LinkNode.count())\n",
    "\n",
    "    def pop_top(self):\n",
    "        if self._head is None:\n",
    "            raise ValueError('not this values')\n",
    "        value = self._head.elem\n",
    "        self._head = self._head.next\n",
    "        self.count -= 1\n",
    "        return value\n",
    "\n",
    "    def append(self, x):\n",
    "        if self._head is None:\n",
    "            self._head = LinkNode(x, None)\n",
    "            return self._head\n",
    "        p = self._head\n",
    "        while p.next is not None:\n",
    "            p = p.next\n",
    "        p.next = LinkNode(x, None)\n",
    "        return self._head\n",
    "\n",
    "    def pop(self):\n",
    "        if self._head is None:\n",
    "            raise ValueError('empty Linklist')\n",
    "        p = self._head\n",
    "        if p.next is None:\n",
    "            values = p.elem\n",
    "            self._head = None\n",
    "            return values\n",
    "        while p.next.next is not None:\n",
    "            p = p.next\n",
    "        values = p.next.elem\n",
    "        p.next = None\n",
    "        self.count -= 1\n",
    "        return values\n",
    "\n",
    "    def index(self, v):\n",
    "        p = self._head\n",
    "        n = 0\n",
    "        while p is not None:\n",
    "            if v == p.elem:\n",
    "                return n\n",
    "            p = p.next\n",
    "            n += 1\n",
    "\n",
    "    def insert(self, index, elem):\n",
    "        if index == 0:\n",
    "            self._head = LinkNode(elem, self._head)\n",
    "            return self._head\n",
    "        p = self._head\n",
    "        i = 0\n",
    "        while i < index - 1 and p.next is not None:\n",
    "            p = p.next\n",
    "            i += 1\n",
    "        p.next = LinkNode(elem, p.next)\n",
    "        return self._head\n",
    "\n",
    "    def show(self):\n",
    "        p = self._head\n",
    "        while p is not None:\n",
    "            print(p.elem, end='')\n",
    "            if p.next is not None:\n",
    "                print(', ', end='')\n",
    "            p = p.next\n",
    "        print()\n"
   ]
  },
  {
   "cell_type": "code",
   "execution_count": 28,
   "metadata": {
    "collapsed": true,
    "deletable": true,
    "editable": true
   },
   "outputs": [],
   "source": [
    "l = LinkList()"
   ]
  },
  {
   "cell_type": "code",
   "execution_count": 29,
   "metadata": {
    "collapsed": false,
    "deletable": true,
    "editable": true
   },
   "outputs": [
    {
     "data": {
      "text/plain": [
       "0"
      ]
     },
     "execution_count": 29,
     "metadata": {},
     "output_type": "execute_result"
    }
   ],
   "source": [
    "l.count"
   ]
  },
  {
   "cell_type": "code",
   "execution_count": 30,
   "metadata": {
    "collapsed": false,
    "deletable": true,
    "editable": true
   },
   "outputs": [
    {
     "data": {
      "text/plain": [
       "0"
      ]
     },
     "execution_count": 30,
     "metadata": {},
     "output_type": "execute_result"
    }
   ],
   "source": [
    "l.count"
   ]
  },
  {
   "cell_type": "code",
   "execution_count": 31,
   "metadata": {
    "collapsed": true,
    "deletable": true,
    "editable": true
   },
   "outputs": [],
   "source": [
    "for i in range(4):\n",
    "    l.insert(0,i)"
   ]
  },
  {
   "cell_type": "code",
   "execution_count": 32,
   "metadata": {
    "collapsed": false,
    "deletable": true,
    "editable": true
   },
   "outputs": [
    {
     "data": {
      "text/plain": [
       "0"
      ]
     },
     "execution_count": 32,
     "metadata": {},
     "output_type": "execute_result"
    }
   ],
   "source": [
    "l.count"
   ]
  },
  {
   "cell_type": "code",
   "execution_count": null,
   "metadata": {
    "collapsed": true,
    "deletable": true,
    "editable": true
   },
   "outputs": [],
   "source": []
  },
  {
   "cell_type": "code",
   "execution_count": null,
   "metadata": {
    "collapsed": true,
    "deletable": true,
    "editable": true
   },
   "outputs": [],
   "source": []
  },
  {
   "cell_type": "code",
   "execution_count": null,
   "metadata": {
    "collapsed": true,
    "deletable": true,
    "editable": true
   },
   "outputs": [],
   "source": []
  },
  {
   "cell_type": "code",
   "execution_count": null,
   "metadata": {
    "collapsed": true,
    "deletable": true,
    "editable": true
   },
   "outputs": [],
   "source": []
  },
  {
   "cell_type": "code",
   "execution_count": null,
   "metadata": {
    "collapsed": true,
    "deletable": true,
    "editable": true
   },
   "outputs": [],
   "source": []
  },
  {
   "cell_type": "code",
   "execution_count": null,
   "metadata": {
    "collapsed": true,
    "deletable": true,
    "editable": true
   },
   "outputs": [],
   "source": []
  },
  {
   "cell_type": "code",
   "execution_count": null,
   "metadata": {
    "collapsed": true,
    "deletable": true,
    "editable": true
   },
   "outputs": [],
   "source": []
  },
  {
   "cell_type": "code",
   "execution_count": null,
   "metadata": {
    "collapsed": true,
    "deletable": true,
    "editable": true
   },
   "outputs": [],
   "source": []
  },
  {
   "cell_type": "code",
   "execution_count": null,
   "metadata": {
    "collapsed": true,
    "deletable": true,
    "editable": true
   },
   "outputs": [],
   "source": []
  },
  {
   "cell_type": "code",
   "execution_count": null,
   "metadata": {
    "collapsed": true,
    "deletable": true,
    "editable": true
   },
   "outputs": [],
   "source": []
  },
  {
   "cell_type": "code",
   "execution_count": null,
   "metadata": {
    "collapsed": true,
    "deletable": true,
    "editable": true
   },
   "outputs": [],
   "source": []
  },
  {
   "cell_type": "code",
   "execution_count": null,
   "metadata": {
    "collapsed": true,
    "deletable": true,
    "editable": true
   },
   "outputs": [],
   "source": []
  },
  {
   "cell_type": "code",
   "execution_count": null,
   "metadata": {
    "collapsed": true,
    "deletable": true,
    "editable": true
   },
   "outputs": [],
   "source": []
  },
  {
   "cell_type": "code",
   "execution_count": null,
   "metadata": {
    "collapsed": true,
    "deletable": true,
    "editable": true
   },
   "outputs": [],
   "source": []
  },
  {
   "cell_type": "code",
   "execution_count": null,
   "metadata": {
    "collapsed": true,
    "deletable": true,
    "editable": true
   },
   "outputs": [],
   "source": []
  },
  {
   "cell_type": "code",
   "execution_count": null,
   "metadata": {
    "collapsed": true,
    "deletable": true,
    "editable": true
   },
   "outputs": [],
   "source": []
  },
  {
   "cell_type": "code",
   "execution_count": null,
   "metadata": {
    "collapsed": true,
    "deletable": true,
    "editable": true
   },
   "outputs": [],
   "source": []
  },
  {
   "cell_type": "code",
   "execution_count": null,
   "metadata": {
    "collapsed": true,
    "deletable": true,
    "editable": true
   },
   "outputs": [],
   "source": []
  },
  {
   "cell_type": "code",
   "execution_count": null,
   "metadata": {
    "collapsed": true,
    "deletable": true,
    "editable": true
   },
   "outputs": [],
   "source": []
  },
  {
   "cell_type": "code",
   "execution_count": 37,
   "metadata": {
    "collapsed": true,
    "deletable": true,
    "editable": true
   },
   "outputs": [],
   "source": [
    "class t:\n",
    "    tt = 0\n",
    "    def __init__(self):\n",
    "        t.tt += 1"
   ]
  },
  {
   "cell_type": "code",
   "execution_count": 38,
   "metadata": {
    "collapsed": true,
    "deletable": true,
    "editable": true
   },
   "outputs": [],
   "source": [
    "a = t()"
   ]
  },
  {
   "cell_type": "code",
   "execution_count": 39,
   "metadata": {
    "collapsed": false,
    "deletable": true,
    "editable": true
   },
   "outputs": [
    {
     "data": {
      "text/plain": [
       "1"
      ]
     },
     "execution_count": 39,
     "metadata": {},
     "output_type": "execute_result"
    }
   ],
   "source": [
    "t.tt"
   ]
  },
  {
   "cell_type": "code",
   "execution_count": 41,
   "metadata": {
    "collapsed": false,
    "deletable": true,
    "editable": true
   },
   "outputs": [],
   "source": [
    "b = t()"
   ]
  },
  {
   "cell_type": "code",
   "execution_count": 42,
   "metadata": {
    "collapsed": true,
    "deletable": true,
    "editable": true
   },
   "outputs": [],
   "source": [
    "c = t()"
   ]
  },
  {
   "cell_type": "code",
   "execution_count": 43,
   "metadata": {
    "collapsed": false,
    "deletable": true,
    "editable": true
   },
   "outputs": [
    {
     "data": {
      "text/plain": [
       "3"
      ]
     },
     "execution_count": 43,
     "metadata": {},
     "output_type": "execute_result"
    }
   ],
   "source": [
    "t.tt"
   ]
  },
  {
   "cell_type": "code",
   "execution_count": null,
   "metadata": {
    "collapsed": true,
    "deletable": true,
    "editable": true
   },
   "outputs": [],
   "source": []
  },
  {
   "cell_type": "code",
   "execution_count": null,
   "metadata": {
    "collapsed": true,
    "deletable": true,
    "editable": true
   },
   "outputs": [],
   "source": []
  },
  {
   "cell_type": "code",
   "execution_count": 3,
   "metadata": {
    "collapsed": true,
    "deletable": true,
    "editable": true
   },
   "outputs": [],
   "source": [
    "class LinkNode:\n",
    "    count = 0\n",
    "\n",
    "    def __init__(self, elem, next_):\n",
    "        self.elem = elem\n",
    "        self.next = next_\n",
    "        LinkNode.count += 1\n",
    "\n",
    "\n",
    "class LinkList:\n",
    "    def __init__(self):\n",
    "        self._head = None\n",
    "\n",
    "    def pop_top(self):\n",
    "        if self._head is None:\n",
    "            raise ValueError('not this values')\n",
    "        value = self._head.elem\n",
    "        self._head = self._head.next\n",
    "        LinkNode.count -= 1\n",
    "        return value\n",
    "\n",
    "    def append(self, x):\n",
    "        if self._head is None:\n",
    "            self._head = LinkNode(x, None)\n",
    "            return self._head\n",
    "        p = self._head\n",
    "        while p.next is not None:\n",
    "            p = p.next\n",
    "        p.next = LinkNode(x, None)\n",
    "        return self._head\n",
    "\n",
    "    def pop(self):\n",
    "        if self._head is None:\n",
    "            raise ValueError('empty Linklist')\n",
    "        p = self._head\n",
    "        if p.next is None:\n",
    "            values = p.elem\n",
    "            self._head = None\n",
    "            return values\n",
    "        while p.next.next is not None:\n",
    "            p = p.next\n",
    "        values = p.next.elem\n",
    "        p.next = None\n",
    "        LinkNode.count -= 1\n",
    "        return values\n",
    "\n",
    "    def index(self, v):\n",
    "        p = self._head\n",
    "        n = 0\n",
    "        while p is not None:\n",
    "            if v == p.elem:\n",
    "                return n\n",
    "            p = p.next\n",
    "            n += 1\n",
    "\n",
    "    def insert(self, index, elem):\n",
    "        if index == 0:\n",
    "            self._head = LinkNode(elem, self._head)\n",
    "            return self._head\n",
    "        p = self._head\n",
    "        i = 0\n",
    "        while i < index - 1 and p.next is not None:\n",
    "            p = p.next\n",
    "            i += 1\n",
    "        p.next = LinkNode(elem, p.next)\n",
    "        return self._head\n",
    "\n",
    "    def show(self):\n",
    "        p = self._head\n",
    "        while p is not None:\n",
    "            print(p.elem, end='')\n",
    "            if p.next is not None:\n",
    "                print(', ', end='')\n",
    "            p = p.next\n",
    "        print()\n",
    "\n",
    "    @property\n",
    "    def count(self):\n",
    "        return LinkNode.count"
   ]
  },
  {
   "cell_type": "code",
   "execution_count": 6,
   "metadata": {
    "collapsed": true,
    "deletable": true,
    "editable": true
   },
   "outputs": [],
   "source": [
    "l = LinkList()"
   ]
  },
  {
   "cell_type": "code",
   "execution_count": 4,
   "metadata": {
    "collapsed": false,
    "deletable": true,
    "editable": true
   },
   "outputs": [
    {
     "name": "stdout",
     "output_type": "stream",
     "text": [
      "CPU times: user 130 ms, sys: 199 ms, total: 329 ms\n",
      "Wall time: 333 ms\n"
     ]
    }
   ],
   "source": [
    "%%time\n",
    "for i in range(100000):\n",
    "    l.insert(0,i)"
   ]
  },
  {
   "cell_type": "code",
   "execution_count": 5,
   "metadata": {
    "collapsed": false,
    "deletable": true,
    "editable": true
   },
   "outputs": [
    {
     "data": {
      "text/plain": [
       "100000"
      ]
     },
     "execution_count": 5,
     "metadata": {},
     "output_type": "execute_result"
    }
   ],
   "source": [
    "l.count"
   ]
  },
  {
   "cell_type": "code",
   "execution_count": 6,
   "metadata": {
    "collapsed": false,
    "deletable": true,
    "editable": true
   },
   "outputs": [
    {
     "name": "stdout",
     "output_type": "stream",
     "text": [
      "CPU times: user 12.1 ms, sys: 6.09 ms, total: 18.2 ms\n",
      "Wall time: 18.2 ms\n"
     ]
    }
   ],
   "source": [
    "%%time\n",
    "lst2 = []\n",
    "for i in range(100000):\n",
    "    lst2.append(i)"
   ]
  },
  {
   "cell_type": "code",
   "execution_count": 7,
   "metadata": {
    "collapsed": false,
    "deletable": true,
    "editable": true
   },
   "outputs": [
    {
     "name": "stdout",
     "output_type": "stream",
     "text": [
      "CPU times: user 4.99 s, sys: 11.1 ms, total: 5 s\n",
      "Wall time: 5.03 s\n"
     ]
    }
   ],
   "source": [
    "%%time\n",
    "for i in range(10000):\n",
    "    l.append(i)"
   ]
  },
  {
   "cell_type": "code",
   "execution_count": null,
   "metadata": {
    "collapsed": true,
    "deletable": true,
    "editable": true
   },
   "outputs": [],
   "source": []
  },
  {
   "cell_type": "code",
   "execution_count": null,
   "metadata": {
    "collapsed": true,
    "deletable": true,
    "editable": true
   },
   "outputs": [],
   "source": []
  },
  {
   "cell_type": "code",
   "execution_count": null,
   "metadata": {
    "collapsed": true,
    "deletable": true,
    "editable": true
   },
   "outputs": [],
   "source": []
  },
  {
   "cell_type": "code",
   "execution_count": 16,
   "metadata": {
    "collapsed": true,
    "deletable": true,
    "editable": true
   },
   "outputs": [],
   "source": [
    "class LinkNode:\n",
    "    count = 0\n",
    "\n",
    "    def __init__(self, elem, next_=None):\n",
    "        self.elem = elem\n",
    "        self.next = next_\n",
    "        LinkNode.count += 1\n",
    "\n",
    "\n",
    "class LinkList:\n",
    "    def __init__(self):\n",
    "        self._head = None\n",
    "\n",
    "    def pop_top(self):\n",
    "        if self._head is None:\n",
    "            raise ValueError('not this values')\n",
    "        value = self._head.elem\n",
    "        self._head = self._head.next\n",
    "        LinkNode.count -= 1\n",
    "        return value\n",
    "\n",
    "    def append(self, x):\n",
    "        if self._head is None:\n",
    "            self._head = LinkNode(x)\n",
    "            return self._head\n",
    "        p = self._head\n",
    "        while p.next is not None:\n",
    "            p = p.next\n",
    "        p.next = LinkNode(x)\n",
    "        return self._head\n",
    "\n",
    "    def pop(self):\n",
    "        if self._head is None:\n",
    "            raise ValueError('empty Linklist')\n",
    "        p = self._head\n",
    "        if p.next is None:\n",
    "            values = p.elem\n",
    "            self._head = None\n",
    "            return values\n",
    "        while p.next.next is not None:\n",
    "            p = p.next\n",
    "        values = p.next.elem\n",
    "        p.next = None\n",
    "        LinkNode.count -= 1\n",
    "        return values\n",
    "\n",
    "    def index(self, v):\n",
    "        p = self._head\n",
    "        n = 0\n",
    "        while p is not None:\n",
    "            if v == p.elem:\n",
    "                return n\n",
    "            p = p.next\n",
    "            n += 1\n",
    "\n",
    "    def insert(self, index, elem):\n",
    "        if index == 0:\n",
    "            self._head = LinkNode(elem, self._head)\n",
    "            return self._head\n",
    "        p = self._head\n",
    "        i = 0\n",
    "        while i < index - 1 and p.next is not None:\n",
    "            p = p.next\n",
    "            i += 1\n",
    "        p.next = LinkNode(elem, p.next)\n",
    "        return self._head\n",
    "\n",
    "    def show(self):\n",
    "        p = self._head\n",
    "        while p is not None:\n",
    "            print(p.elem, end='')\n",
    "            if p.next is not None:\n",
    "                print(', ', end='')\n",
    "            p = p.next\n",
    "        print()\n",
    "\n",
    "    @property\n",
    "    def count(self):\n",
    "        return LinkNode.count\n",
    "\n",
    "\n",
    "class Llist(LinkList):\n",
    "    def __init__(self):\n",
    "        super().__init__()\n",
    "        self._rear = None\n",
    "\n",
    "    def append(self, x):\n",
    "        if self._head is None:\n",
    "            self._head = LinkNode(x,self._head)\n",
    "            self._rear = self._head\n",
    "        else:\n",
    "            self._rear.next = LinkNode(x)\n",
    "            self._rear = self._rear.next"
   ]
  },
  {
   "cell_type": "code",
   "execution_count": 17,
   "metadata": {
    "collapsed": true,
    "deletable": true,
    "editable": true
   },
   "outputs": [],
   "source": [
    "l = Llist()"
   ]
  },
  {
   "cell_type": "code",
   "execution_count": 18,
   "metadata": {
    "collapsed": false,
    "deletable": true,
    "editable": true
   },
   "outputs": [
    {
     "name": "stdout",
     "output_type": "stream",
     "text": [
      "CPU times: user 254 ms, sys: 35.3 ms, total: 290 ms\n",
      "Wall time: 294 ms\n"
     ]
    }
   ],
   "source": [
    "%%time\n",
    "for i in range(100000):\n",
    "    l.append(i)"
   ]
  },
  {
   "cell_type": "code",
   "execution_count": 19,
   "metadata": {
    "collapsed": false,
    "deletable": true,
    "editable": true
   },
   "outputs": [
    {
     "data": {
      "text/plain": [
       "100000"
      ]
     },
     "execution_count": 19,
     "metadata": {},
     "output_type": "execute_result"
    }
   ],
   "source": [
    "l.count"
   ]
  },
  {
   "cell_type": "code",
   "execution_count": null,
   "metadata": {
    "collapsed": true,
    "deletable": true,
    "editable": true
   },
   "outputs": [],
   "source": []
  },
  {
   "cell_type": "code",
   "execution_count": null,
   "metadata": {
    "collapsed": true,
    "deletable": true,
    "editable": true
   },
   "outputs": [],
   "source": []
  },
  {
   "cell_type": "code",
   "execution_count": null,
   "metadata": {
    "collapsed": true,
    "deletable": true,
    "editable": true
   },
   "outputs": [],
   "source": []
  },
  {
   "cell_type": "code",
   "execution_count": null,
   "metadata": {
    "collapsed": true,
    "deletable": true,
    "editable": true
   },
   "outputs": [],
   "source": []
  },
  {
   "cell_type": "code",
   "execution_count": null,
   "metadata": {
    "collapsed": true,
    "deletable": true,
    "editable": true
   },
   "outputs": [],
   "source": []
  },
  {
   "cell_type": "code",
   "execution_count": null,
   "metadata": {
    "collapsed": true,
    "deletable": true,
    "editable": true
   },
   "outputs": [],
   "source": []
  },
  {
   "cell_type": "code",
   "execution_count": null,
   "metadata": {
    "collapsed": true,
    "deletable": true,
    "editable": true
   },
   "outputs": [],
   "source": []
  },
  {
   "cell_type": "code",
   "execution_count": null,
   "metadata": {
    "collapsed": true,
    "deletable": true,
    "editable": true
   },
   "outputs": [],
   "source": []
  },
  {
   "cell_type": "code",
   "execution_count": null,
   "metadata": {
    "collapsed": true,
    "deletable": true,
    "editable": true
   },
   "outputs": [],
   "source": []
  },
  {
   "cell_type": "code",
   "execution_count": null,
   "metadata": {
    "collapsed": true,
    "deletable": true,
    "editable": true
   },
   "outputs": [],
   "source": []
  },
  {
   "cell_type": "code",
   "execution_count": null,
   "metadata": {
    "collapsed": true,
    "deletable": true,
    "editable": true
   },
   "outputs": [],
   "source": []
  },
  {
   "cell_type": "code",
   "execution_count": null,
   "metadata": {
    "collapsed": true,
    "deletable": true,
    "editable": true
   },
   "outputs": [],
   "source": []
  },
  {
   "cell_type": "code",
   "execution_count": null,
   "metadata": {
    "collapsed": true,
    "deletable": true,
    "editable": true
   },
   "outputs": [],
   "source": []
  },
  {
   "cell_type": "code",
   "execution_count": null,
   "metadata": {
    "collapsed": true,
    "deletable": true,
    "editable": true
   },
   "outputs": [],
   "source": []
  },
  {
   "cell_type": "code",
   "execution_count": null,
   "metadata": {
    "collapsed": true,
    "deletable": true,
    "editable": true
   },
   "outputs": [],
   "source": []
  },
  {
   "cell_type": "code",
   "execution_count": null,
   "metadata": {
    "collapsed": true,
    "deletable": true,
    "editable": true
   },
   "outputs": [],
   "source": []
  },
  {
   "cell_type": "code",
   "execution_count": null,
   "metadata": {
    "collapsed": true,
    "deletable": true,
    "editable": true
   },
   "outputs": [],
   "source": []
  },
  {
   "cell_type": "code",
   "execution_count": null,
   "metadata": {
    "collapsed": true,
    "deletable": true,
    "editable": true
   },
   "outputs": [],
   "source": []
  },
  {
   "cell_type": "code",
   "execution_count": null,
   "metadata": {
    "collapsed": true,
    "deletable": true,
    "editable": true
   },
   "outputs": [],
   "source": []
  },
  {
   "cell_type": "code",
   "execution_count": null,
   "metadata": {
    "collapsed": true,
    "deletable": true,
    "editable": true
   },
   "outputs": [],
   "source": []
  },
  {
   "cell_type": "code",
   "execution_count": null,
   "metadata": {
    "collapsed": true,
    "deletable": true,
    "editable": true
   },
   "outputs": [],
   "source": []
  },
  {
   "cell_type": "code",
   "execution_count": 89,
   "metadata": {
    "collapsed": true,
    "deletable": true,
    "editable": true
   },
   "outputs": [],
   "source": [
    "lst = []"
   ]
  },
  {
   "cell_type": "code",
   "execution_count": 90,
   "metadata": {
    "collapsed": false,
    "deletable": true,
    "editable": true
   },
   "outputs": [
    {
     "name": "stdout",
     "output_type": "stream",
     "text": [
      "Help on built-in function pop:\n",
      "\n",
      "pop(...) method of builtins.list instance\n",
      "    L.pop([index]) -> item -- remove and return item at index (default last).\n",
      "    Raises IndexError if list is empty or index is out of range.\n",
      "\n"
     ]
    }
   ],
   "source": [
    "help(lst.pop)"
   ]
  },
  {
   "cell_type": "code",
   "execution_count": 91,
   "metadata": {
    "collapsed": false,
    "deletable": true,
    "editable": true
   },
   "outputs": [
    {
     "ename": "IndexError",
     "evalue": "pop from empty list",
     "output_type": "error",
     "traceback": [
      "\u001b[0;31m---------------------------------------------------------------------------\u001b[0m",
      "\u001b[0;31mIndexError\u001b[0m                                Traceback (most recent call last)",
      "\u001b[0;32m<ipython-input-91-c6e07ea455bd>\u001b[0m in \u001b[0;36m<module>\u001b[0;34m()\u001b[0m\n\u001b[0;32m----> 1\u001b[0;31m \u001b[0mlst\u001b[0m\u001b[0;34m.\u001b[0m\u001b[0mpop\u001b[0m\u001b[0;34m(\u001b[0m\u001b[0;34m)\u001b[0m\u001b[0;34m\u001b[0m\u001b[0m\n\u001b[0m",
      "\u001b[0;31mIndexError\u001b[0m: pop from empty list"
     ]
    }
   ],
   "source": [
    "lst.pop()"
   ]
  },
  {
   "cell_type": "code",
   "execution_count": null,
   "metadata": {
    "collapsed": true,
    "deletable": true,
    "editable": true
   },
   "outputs": [],
   "source": []
  },
  {
   "cell_type": "code",
   "execution_count": null,
   "metadata": {
    "collapsed": true,
    "deletable": true,
    "editable": true
   },
   "outputs": [],
   "source": []
  },
  {
   "cell_type": "code",
   "execution_count": null,
   "metadata": {
    "collapsed": true,
    "deletable": true,
    "editable": true
   },
   "outputs": [],
   "source": []
  },
  {
   "cell_type": "code",
   "execution_count": null,
   "metadata": {
    "collapsed": true,
    "deletable": true,
    "editable": true
   },
   "outputs": [],
   "source": []
  },
  {
   "cell_type": "code",
   "execution_count": null,
   "metadata": {
    "collapsed": true,
    "deletable": true,
    "editable": true
   },
   "outputs": [],
   "source": []
  },
  {
   "cell_type": "code",
   "execution_count": null,
   "metadata": {
    "collapsed": true,
    "deletable": true,
    "editable": true
   },
   "outputs": [],
   "source": []
  },
  {
   "cell_type": "code",
   "execution_count": null,
   "metadata": {
    "collapsed": true,
    "deletable": true,
    "editable": true
   },
   "outputs": [],
   "source": []
  },
  {
   "cell_type": "code",
   "execution_count": null,
   "metadata": {
    "collapsed": true,
    "deletable": true,
    "editable": true
   },
   "outputs": [],
   "source": []
  },
  {
   "cell_type": "code",
   "execution_count": null,
   "metadata": {
    "collapsed": true,
    "deletable": true,
    "editable": true
   },
   "outputs": [],
   "source": []
  },
  {
   "cell_type": "code",
   "execution_count": null,
   "metadata": {
    "collapsed": true,
    "deletable": true,
    "editable": true
   },
   "outputs": [],
   "source": []
  },
  {
   "cell_type": "code",
   "execution_count": null,
   "metadata": {
    "collapsed": true,
    "deletable": true,
    "editable": true
   },
   "outputs": [],
   "source": []
  },
  {
   "cell_type": "code",
   "execution_count": null,
   "metadata": {
    "collapsed": true,
    "deletable": true,
    "editable": true
   },
   "outputs": [],
   "source": []
  },
  {
   "cell_type": "code",
   "execution_count": 24,
   "metadata": {
    "collapsed": true,
    "deletable": true,
    "editable": true
   },
   "outputs": [],
   "source": [
    "def file(x):\n",
    "    cache = []   #缓存列表\n",
    "    with open(x) as f:\n",
    "        for l in f:\n",
    "            line = l.strip('\\n')  #每读进来一行去掉其换行符号\n",
    "            if not cache:        #判断缓存是否为空，空的直接加入\n",
    "                cache.append(line)\n",
    "            elif line[0].isdigit():  # 数字开头的操作\n",
    "                print(cache.pop())  #输出 ，直接弹出缓存的字符串\n",
    "                cache.append(line)  #然后把新的缓存加进去\n",
    "            else:                 #非数字开头的操作\n",
    "                cache[-1] += line  # 非数字的直接拼接进缓存里。\n",
    "        if cache:                 #判断缓存是否还有数据，有就直接输出\n",
    "            print(cache.pop())"
   ]
  },
  {
   "cell_type": "code",
   "execution_count": 25,
   "metadata": {
    "collapsed": false,
    "deletable": true,
    "editable": true
   },
   "outputs": [
    {
     "name": "stdout",
     "output_type": "stream",
     "text": [
      "1..2016-04-06 09:00:04 2be01b25b700  InnoDB: Warning: table 'icps_web_clouds/icps_event_types'\n",
      "2016-04-06 09:00:04 2be01b25b700  InnoDB: Warning: table 'icps_web_clouds/icps_event_types'\n",
      "2016-04-06 09:00:04 2be01b25b700  InnoDB: Warning: table 'icps_web_clouds/icps_event_types'InnoDB: in InnoDB data dictionary has unknown flags 50.test999999999 123\n",
      "2016-04-06 09:00:04 2be01b25b700  InnoDB: Warning: table 'icps_web_clouds/icps_msg_resell_delay'InnoDB: in InnoDB data dictionary has unknown flags 50.\n",
      "2016-04-06 09:00:04 2be01b25b700  InnoDB: Warning: table 'icps_web_clouds/ngn_ar_201404'InnoDB: in InnoDB data dictionary has unknown flags 50.\n",
      "2016-04-06 09:00:04 2be01b25b700  InnoDB: Warning: table 'icps_web_clouds/ngn_ar_201410'InnoDB: in InnoDB data dictionary has unknown flags 50.\n",
      "2016-04-06 09:00:04 2be01b25b700  InnoDB: Warning: table 'icps_web_clouds/upload_info'InnoDB: in InnoDB data dictionary has unknown flags 50.aaa\n",
      "2016-04-06 09:00:04 2be01b25b700  InnoDB: Warning: table 'icps_web_clouds/upload_info'\n"
     ]
    }
   ],
   "source": [
    "file('/root/shell/a.txt')"
   ]
  },
  {
   "cell_type": "code",
   "execution_count": null,
   "metadata": {
    "collapsed": true,
    "deletable": true,
    "editable": true
   },
   "outputs": [],
   "source": []
  },
  {
   "cell_type": "code",
   "execution_count": null,
   "metadata": {
    "collapsed": true,
    "deletable": true,
    "editable": true
   },
   "outputs": [],
   "source": []
  },
  {
   "cell_type": "code",
   "execution_count": null,
   "metadata": {
    "collapsed": true,
    "deletable": true,
    "editable": true
   },
   "outputs": [],
   "source": []
  },
  {
   "cell_type": "code",
   "execution_count": null,
   "metadata": {
    "collapsed": true,
    "deletable": true,
    "editable": true
   },
   "outputs": [],
   "source": []
  },
  {
   "cell_type": "code",
   "execution_count": null,
   "metadata": {
    "collapsed": true,
    "deletable": true,
    "editable": true
   },
   "outputs": [],
   "source": []
  },
  {
   "cell_type": "code",
   "execution_count": null,
   "metadata": {
    "collapsed": true,
    "deletable": true,
    "editable": true
   },
   "outputs": [],
   "source": []
  },
  {
   "cell_type": "code",
   "execution_count": null,
   "metadata": {
    "collapsed": true,
    "deletable": true,
    "editable": true
   },
   "outputs": [],
   "source": []
  },
  {
   "cell_type": "code",
   "execution_count": null,
   "metadata": {
    "collapsed": true,
    "deletable": true,
    "editable": true
   },
   "outputs": [],
   "source": []
  },
  {
   "cell_type": "code",
   "execution_count": null,
   "metadata": {
    "collapsed": true,
    "deletable": true,
    "editable": true
   },
   "outputs": [],
   "source": []
  },
  {
   "cell_type": "code",
   "execution_count": null,
   "metadata": {
    "collapsed": true,
    "deletable": true,
    "editable": true
   },
   "outputs": [],
   "source": []
  },
  {
   "cell_type": "code",
   "execution_count": null,
   "metadata": {
    "collapsed": true,
    "deletable": true,
    "editable": true
   },
   "outputs": [],
   "source": []
  },
  {
   "cell_type": "code",
   "execution_count": null,
   "metadata": {
    "collapsed": true,
    "deletable": true,
    "editable": true
   },
   "outputs": [],
   "source": []
  },
  {
   "cell_type": "code",
   "execution_count": null,
   "metadata": {
    "collapsed": true,
    "deletable": true,
    "editable": true
   },
   "outputs": [],
   "source": []
  },
  {
   "cell_type": "code",
   "execution_count": null,
   "metadata": {
    "collapsed": true,
    "deletable": true,
    "editable": true
   },
   "outputs": [],
   "source": []
  },
  {
   "cell_type": "code",
   "execution_count": null,
   "metadata": {
    "collapsed": true,
    "deletable": true,
    "editable": true
   },
   "outputs": [],
   "source": []
  },
  {
   "cell_type": "code",
   "execution_count": null,
   "metadata": {
    "collapsed": true,
    "deletable": true,
    "editable": true
   },
   "outputs": [],
   "source": []
  },
  {
   "cell_type": "code",
   "execution_count": null,
   "metadata": {
    "collapsed": true,
    "deletable": true,
    "editable": true
   },
   "outputs": [],
   "source": []
  },
  {
   "cell_type": "code",
   "execution_count": null,
   "metadata": {
    "collapsed": true,
    "deletable": true,
    "editable": true
   },
   "outputs": [],
   "source": []
  },
  {
   "cell_type": "code",
   "execution_count": null,
   "metadata": {
    "collapsed": true,
    "deletable": true,
    "editable": true
   },
   "outputs": [],
   "source": []
  },
  {
   "cell_type": "code",
   "execution_count": 16,
   "metadata": {
    "collapsed": true,
    "deletable": true,
    "editable": true
   },
   "outputs": [],
   "source": []
  },
  {
   "cell_type": "code",
   "execution_count": 146,
   "metadata": {
    "collapsed": false
   },
   "outputs": [
    {
     "data": {
      "text/plain": [
       "(4201, 8261008)"
      ]
     },
     "execution_count": 146,
     "metadata": {},
     "output_type": "execute_result"
    }
   ],
   "source": [
    "import poplib\n",
    "con = poplib.POP3('mail.7road.com')\n",
    "con.user('lv')\n",
    "con.pass_('angelo_5566!@')\n",
    "con.stat()"
   ]
  },
  {
   "cell_type": "code",
   "execution_count": 147,
   "metadata": {
    "collapsed": false
   },
   "outputs": [
    {
     "data": {
      "text/plain": [
       "(b'+OK showing 1 lines',\n",
       " [b'Received: from 121.10.141.205 (HELO LOCALHOST.LOCALDOMAIN); Fri, 17 Feb 2017 22:58:51 +0800',\n",
       "  b'Date: Fri, 17 Feb 2017 22:58:41 +0800 (CST)',\n",
       "  b'From: yunwei_cc@7road.com',\n",
       "  b'To: steven@7road.com, junjie.he@7road.com, zicheng.hou@7road.com, lv@7road.com, ',\n",
       "  b'\\tyulong.zhong@7road.com',\n",
       "  b'Message-ID: <45781934.12776.1487343522248.JavaMail.root@localhost.localdomain>',\n",
       "  b'Subject: =?UTF-8?B?44CQ5ZGK6K2m5bmz5Y+w44CR44CQ56We5puyLeS4reWbveWcsOWMuuOAkQ==?=',\n",
       "  b'MIME-Version: 1.0',\n",
       "  b'Content-Type: text/html;charset=UTF-8',\n",
       "  b'Content-Transfer-Encoding: 7bit',\n",
       "  b'qfml_cross_0001:PING:WARNING:PING&nbsp;WARNING&nbsp;-&nbsp;Packet&nbsp;loss&nbsp;=&nbsp;0%,&nbsp;RTA&nbsp;=&nbsp;253.40&nbsp;ms:Fri&nbsp;Feb&nbsp;17&nbsp;22:58:20&nbsp;CST&nbsp;2017<br/>'],\n",
       " 714)"
      ]
     },
     "execution_count": 147,
     "metadata": {},
     "output_type": "execute_result"
    }
   ],
   "source": [
    "con.top(4196,1)"
   ]
  },
  {
   "cell_type": "code",
   "execution_count": 148,
   "metadata": {
    "collapsed": false
   },
   "outputs": [
    {
     "name": "stdout",
     "output_type": "stream",
     "text": [
      "Help on method top in module poplib:\n",
      "\n",
      "top(which, howmuch) method of poplib.POP3 instance\n",
      "    Retrieve message header of message number 'which'\n",
      "    and first 'howmuch' lines of message body.\n",
      "    \n",
      "    Result is in form ['response', ['line', ...], octets].\n",
      "\n"
     ]
    }
   ],
   "source": [
    "help(con.top)"
   ]
  },
  {
   "cell_type": "code",
   "execution_count": null,
   "metadata": {
    "collapsed": true
   },
   "outputs": [],
   "source": []
  },
  {
   "cell_type": "code",
   "execution_count": null,
   "metadata": {
    "collapsed": true
   },
   "outputs": [],
   "source": []
  },
  {
   "cell_type": "code",
   "execution_count": 13,
   "metadata": {
    "collapsed": false
   },
   "outputs": [],
   "source": [
    "for i in range(3758,1,-1):\n",
    "    ret = [con.retr(i) for x in con.top(i,0)[1] if x.startswith(b'From: ftpin')]\n",
    "    if ret:\n",
    "        break"
   ]
  },
  {
   "cell_type": "code",
   "execution_count": 15,
   "metadata": {
    "collapsed": false
   },
   "outputs": [
    {
     "data": {
      "text/plain": [
       "[(b'+OK 2108 octets',\n",
       "  [b'Received: from 172.16.1.196 (HELO FTP-IN.7ROAD.COM); Wed, 15 Feb 2017 19:57:05 +0800',\n",
       "   b'Content-Type: multipart/mixed; boundary=\"===============2059243623==\"',\n",
       "   b'MIME-Version: 1.0',\n",
       "   b'From: ftpin@7road.com',\n",
       "   b'To: yunweizk@7road.com, @7road.com, taorong.hu@7road.com, zicheng.hou@7road.com,',\n",
       "   b' steven@7road.com, lv@7road.com, junjie.he@7road.com, yulong.zhong@7road.com, ',\n",
       "   b'Subject: \\xe5\\x86\\x85\\xe7\\xbd\\x91\\xe6\\x96\\x87\\xe4\\xbb\\xb6\\xe9\\x80\\x81\\xe5\\x87\\xba -\\xe7\\xa5\\x9e\\xe6\\x9b\\xb2\\xe5\\x9b\\xbd\\xe5\\x86\\x85 - v8.3.0_20170216_\\xe9\\xa2\\x84\\xe5\\x8f\\x91\\xe5\\xb8\\x83\\xe6\\x9c\\x8d',\n",
       "   b'',\n",
       "   b'--===============2059243623==',\n",
       "   b'Content-Type: text/html; charset=\"utf-8\"',\n",
       "   b'MIME-Version: 1.0',\n",
       "   b'Content-Transfer-Encoding: base64',\n",
       "   b'',\n",
       "   b'T0HljZXlj7fkuLo6MTkyMTgwPGJyLz7miJDlip88YnIvPuelnuabsuWbveWGhSAtIHY4LjMuMF8y',\n",
       "   b'MDE3MDIxNl/pooTlj5HluIPmnI08YnIvPi9TZW5kUGFja2FnZVRvb2wvc3FndW9uZWkvMTQ4NzE1',\n",
       "   b'OTc2MTExOS92OC4zLjBfMjAxNzAyMTZf6aKE5Y+R5biD5pyNLnppcDxici8+6L+Q6JCl572R5o6l',\n",
       "   b'5pS25Lq6Onl1bndlaXprLHppY2hlbmcuaG91LGx2LHN0ZXZlbixqdW5qaWUuaGUseXVsb25nLnpo',\n",
       "   b'b25nPGJyLz5tZDU6OTc3YzkwZTVhMzUzZjU0MjBhMjNiNGI4ZmMzYjNjMGI8YnIvPuS9nOeUqOiv',\n",
       "   b'tOaYjjp2OC4zLjBfMjAxNzAyMTZf6aKE5Y+R5biD5pyNPGJyPuaciURCQeaTjeS9nCzmoIflh4bl',\n",
       "   b'jIU8YnI+P3Byb2plY3Q6OjpzcXlmYmRiYTo6Onllc2Nyb3NzOjo6eWVzeXVmYWJ1Ojo6eWVzc3Rv',\n",
       "   b'cDo6Onllc+e8luivkeaXpeacnzogCTIwMTctMi0xNSAxOTo1MDowMOW9k+WJjeeJiOacrDoJNzU4',\n",
       "   b'Mjflj5HluIPkurrlkZg6IAlzYW0ubHUgIHRsOjEzNjg0OTQ3OTgwICAgdGFvcm9uZy5odSAgdGw6',\n",
       "   b'MTM5Mjg0NzIwMTPmnI3liqHlmajljIU6IAnlm73lhoXpooTlj5HluIPmnI12OC4zLjDmuLjmiI/m',\n",
       "   b'nI3nqIvluo/ljIUgdjguMy4wX2dzLnppcAkJCeWbveWGhemihOWPkeW4g+acjXY4LjMuMOi3qOWM',\n",
       "   b'uuacjeeoi+W6j+WMhSB2OC4zLjBfY3Jvc3MuemlwCQkJ5pu05paw6IyD5Zu077yaMeOAgeWbveWG',\n",
       "   b'hemihOWPkeW4g+acjea4uOaIj+acjTLjgIHlm73lhoXpooTlj5HluIPmnI3ot6jljLrmnI3mm7Tm',\n",
       "   b'lrDmk43kvZzvvJox44CB6ZyA6KaB5pu05paw5Zu95YaF6aKE5Y+R5biD5pyN5ri45oiP5pyN77yM',\n",
       "   b'5Zu95YaF6aKE5Y+R5biD5pyN6Leo5Yy65oiY5paX5pyN44CCMuOAgeS7peS4iuacjeWKoeWZqOWd',\n",
       "   b'h+imgeWBnOacje+8jOino+WOi++8jOWIt+ihqCjpnIDnrKwx5q2l5a6M5oiQ5ZCO5omN5Y+v5pON',\n",
       "   b'5L2cKe+8jOWQr+WKqO+8jOeUn+aIkOaooeadv+OAgjPjgIHlhYjlkK/liqjot6jmnI3vvIzlkI7l',\n",
       "   b'kK/liqjmuLjmiI/mnI08YnIvPjxhIGhyZWY9J2h0dHA6Ly9mdHBpbi43cm9hZC5jb206ODA4MC9k',\n",
       "   b'b3duP2tleT05NzdjOTBlNWEzNTNmNTQyMGEyM2I0YjhmYzNiM2MwYjE5MjE4MCc+54K55Ye75LiL',\n",
       "   b'6L295paH5Lu2PC9hPg==',\n",
       "   b'',\n",
       "   b'--===============2059243623==--'],\n",
       "  2105)]"
      ]
     },
     "execution_count": 15,
     "metadata": {},
     "output_type": "execute_result"
    }
   ],
   "source": [
    "ret"
   ]
  },
  {
   "cell_type": "code",
   "execution_count": 16,
   "metadata": {
    "collapsed": true
   },
   "outputs": [],
   "source": [
    "c = ret[0][1]"
   ]
  },
  {
   "cell_type": "code",
   "execution_count": 19,
   "metadata": {
    "collapsed": true
   },
   "outputs": [],
   "source": [
    "from email.message import *\n",
    "from email.header import *"
   ]
  },
  {
   "cell_type": "code",
   "execution_count": 27,
   "metadata": {
    "collapsed": true
   },
   "outputs": [],
   "source": [
    "d = b'Subject: \\xe5\\x86\\x85\\xe7\\xbd\\x91\\xe6\\x96\\x87\\xe4\\xbb\\xb6\\xe9\\x80\\x81\\xe5\\x87\\xba -\\xe7\\xa5\\x9e\\xe6\\x9b\\xb2\\xe5\\x9b\\xbd\\xe5\\x86\\x85 - v8.3.0_20170216_\\xe9\\xa2\\x84\\xe5\\x8f\\x91\\xe5\\xb8\\x83\\xe6\\x9c\\x8d'"
   ]
  },
  {
   "cell_type": "code",
   "execution_count": 28,
   "metadata": {
    "collapsed": false
   },
   "outputs": [
    {
     "data": {
      "text/plain": [
       "[('内网文件送出 -神曲国内 - v8.3.0_20170216_预发布服', None)]"
      ]
     },
     "execution_count": 28,
     "metadata": {},
     "output_type": "execute_result"
    }
   ],
   "source": [
    "decode_header(d.strip(b'Subject: ').decode())"
   ]
  },
  {
   "cell_type": "code",
   "execution_count": 29,
   "metadata": {
    "collapsed": true
   },
   "outputs": [],
   "source": [
    "from email.encoders import *"
   ]
  },
  {
   "cell_type": "code",
   "execution_count": 32,
   "metadata": {
    "collapsed": true
   },
   "outputs": [],
   "source": [
    "import email"
   ]
  },
  {
   "cell_type": "code",
   "execution_count": null,
   "metadata": {
    "collapsed": true
   },
   "outputs": [],
   "source": []
  },
  {
   "cell_type": "code",
   "execution_count": 48,
   "metadata": {
    "collapsed": false
   },
   "outputs": [
    {
     "data": {
      "text/plain": [
       "[b'Received: from 172.16.1.196 (HELO FTP-IN.7ROAD.COM); Wed, 15 Feb 2017 19:57:05 +0800',\n",
       " b'Content-Type: multipart/mixed; boundary=\"===============2059243623==\"',\n",
       " b'MIME-Version: 1.0',\n",
       " b'From: ftpin@7road.com',\n",
       " b'To: yunweizk@7road.com, @7road.com, taorong.hu@7road.com, zicheng.hou@7road.com,',\n",
       " b' steven@7road.com, lv@7road.com, junjie.he@7road.com, yulong.zhong@7road.com, ',\n",
       " b'Subject: \\xe5\\x86\\x85\\xe7\\xbd\\x91\\xe6\\x96\\x87\\xe4\\xbb\\xb6\\xe9\\x80\\x81\\xe5\\x87\\xba -\\xe7\\xa5\\x9e\\xe6\\x9b\\xb2\\xe5\\x9b\\xbd\\xe5\\x86\\x85 - v8.3.0_20170216_\\xe9\\xa2\\x84\\xe5\\x8f\\x91\\xe5\\xb8\\x83\\xe6\\x9c\\x8d',\n",
       " b'',\n",
       " b'--===============2059243623==',\n",
       " b'Content-Type: text/html; charset=\"utf-8\"',\n",
       " b'MIME-Version: 1.0',\n",
       " b'Content-Transfer-Encoding: base64',\n",
       " b'',\n",
       " b'T0HljZXlj7fkuLo6MTkyMTgwPGJyLz7miJDlip88YnIvPuelnuabsuWbveWGhSAtIHY4LjMuMF8y',\n",
       " b'MDE3MDIxNl/pooTlj5HluIPmnI08YnIvPi9TZW5kUGFja2FnZVRvb2wvc3FndW9uZWkvMTQ4NzE1',\n",
       " b'OTc2MTExOS92OC4zLjBfMjAxNzAyMTZf6aKE5Y+R5biD5pyNLnppcDxici8+6L+Q6JCl572R5o6l',\n",
       " b'5pS25Lq6Onl1bndlaXprLHppY2hlbmcuaG91LGx2LHN0ZXZlbixqdW5qaWUuaGUseXVsb25nLnpo',\n",
       " b'b25nPGJyLz5tZDU6OTc3YzkwZTVhMzUzZjU0MjBhMjNiNGI4ZmMzYjNjMGI8YnIvPuS9nOeUqOiv',\n",
       " b'tOaYjjp2OC4zLjBfMjAxNzAyMTZf6aKE5Y+R5biD5pyNPGJyPuaciURCQeaTjeS9nCzmoIflh4bl',\n",
       " b'jIU8YnI+P3Byb2plY3Q6OjpzcXlmYmRiYTo6Onllc2Nyb3NzOjo6eWVzeXVmYWJ1Ojo6eWVzc3Rv',\n",
       " b'cDo6Onllc+e8luivkeaXpeacnzogCTIwMTctMi0xNSAxOTo1MDowMOW9k+WJjeeJiOacrDoJNzU4',\n",
       " b'Mjflj5HluIPkurrlkZg6IAlzYW0ubHUgIHRsOjEzNjg0OTQ3OTgwICAgdGFvcm9uZy5odSAgdGw6',\n",
       " b'MTM5Mjg0NzIwMTPmnI3liqHlmajljIU6IAnlm73lhoXpooTlj5HluIPmnI12OC4zLjDmuLjmiI/m',\n",
       " b'nI3nqIvluo/ljIUgdjguMy4wX2dzLnppcAkJCeWbveWGhemihOWPkeW4g+acjXY4LjMuMOi3qOWM',\n",
       " b'uuacjeeoi+W6j+WMhSB2OC4zLjBfY3Jvc3MuemlwCQkJ5pu05paw6IyD5Zu077yaMeOAgeWbveWG',\n",
       " b'hemihOWPkeW4g+acjea4uOaIj+acjTLjgIHlm73lhoXpooTlj5HluIPmnI3ot6jljLrmnI3mm7Tm',\n",
       " b'lrDmk43kvZzvvJox44CB6ZyA6KaB5pu05paw5Zu95YaF6aKE5Y+R5biD5pyN5ri45oiP5pyN77yM',\n",
       " b'5Zu95YaF6aKE5Y+R5biD5pyN6Leo5Yy65oiY5paX5pyN44CCMuOAgeS7peS4iuacjeWKoeWZqOWd',\n",
       " b'h+imgeWBnOacje+8jOino+WOi++8jOWIt+ihqCjpnIDnrKwx5q2l5a6M5oiQ5ZCO5omN5Y+v5pON',\n",
       " b'5L2cKe+8jOWQr+WKqO+8jOeUn+aIkOaooeadv+OAgjPjgIHlhYjlkK/liqjot6jmnI3vvIzlkI7l',\n",
       " b'kK/liqjmuLjmiI/mnI08YnIvPjxhIGhyZWY9J2h0dHA6Ly9mdHBpbi43cm9hZC5jb206ODA4MC9k',\n",
       " b'b3duP2tleT05NzdjOTBlNWEzNTNmNTQyMGEyM2I0YjhmYzNiM2MwYjE5MjE4MCc+54K55Ye75LiL',\n",
       " b'6L295paH5Lu2PC9hPg==',\n",
       " b'',\n",
       " b'--===============2059243623==--']"
      ]
     },
     "execution_count": 48,
     "metadata": {},
     "output_type": "execute_result"
    }
   ],
   "source": [
    "c"
   ]
  },
  {
   "cell_type": "code",
   "execution_count": 56,
   "metadata": {
    "collapsed": false
   },
   "outputs": [],
   "source": [
    "a = False\n",
    "tmp = []\n",
    "for i in c:\n",
    "    if i.startswith(b'Content-Transfer-Encoding'):\n",
    "        a = True\n",
    "        continue\n",
    "    elif i.endswith(b'==--'):\n",
    "        break\n",
    "    elif a:\n",
    "        tmp.append(i)\n",
    "load = b''.join(tmp)"
   ]
  },
  {
   "cell_type": "code",
   "execution_count": 58,
   "metadata": {
    "collapsed": true
   },
   "outputs": [],
   "source": [
    "import base64"
   ]
  },
  {
   "cell_type": "code",
   "execution_count": 60,
   "metadata": {
    "collapsed": false
   },
   "outputs": [
    {
     "data": {
      "text/plain": [
       "\"OA单号为:192180<br/>成功<br/>神曲国内 - v8.3.0_20170216_预发布服<br/>/SendPackageTool/sqguonei/1487159761119/v8.3.0_20170216_预发布服.zip<br/>运营网接收人:yunweizk,zicheng.hou,lv,steven,junjie.he,yulong.zhong<br/>md5:977c90e5a353f5420a23b4b8fc3b3c0b<br/>作用说明:v8.3.0_20170216_预发布服<br>有DBA操作,标准包<br>?project:::sqyfbdba:::yescross:::yesyufabu:::yesstop:::yes编译日期: \\t2017-2-15 19:50:00当前版本:\\t75827发布人员: \\tsam.lu  tl:13684947980   taorong.hu  tl:13928472013服务器包: \\t国内预发布服v8.3.0游戏服程序包 v8.3.0_gs.zip\\t\\t\\t国内预发布服v8.3.0跨区服程序包 v8.3.0_cross.zip\\t\\t\\t更新范围：1、国内预发布服游戏服2、国内预发布服跨区服更新操作：1、需要更新国内预发布服游戏服，国内预发布服跨区战斗服。2、以上服务器均要停服，解压，刷表(需第1步完成后才可操作)，启动，生成模板。3、先启动跨服，后启动游戏服<br/><a href='http://ftpin.7road.com:8080/down?key=977c90e5a353f5420a23b4b8fc3b3c0b192180'>点击下载文件</a>\""
      ]
     },
     "execution_count": 60,
     "metadata": {},
     "output_type": "execute_result"
    }
   ],
   "source": [
    "base64.b64decode(load).decode('utf-8')"
   ]
  },
  {
   "cell_type": "code",
   "execution_count": 61,
   "metadata": {
    "collapsed": false
   },
   "outputs": [
    {
     "data": {
      "text/plain": [
       "b\"OA\\xe5\\x8d\\x95\\xe5\\x8f\\xb7\\xe4\\xb8\\xba:192180<br/>\\xe6\\x88\\x90\\xe5\\x8a\\x9f<br/>\\xe7\\xa5\\x9e\\xe6\\x9b\\xb2\\xe5\\x9b\\xbd\\xe5\\x86\\x85 - v8.3.0_20170216_\\xe9\\xa2\\x84\\xe5\\x8f\\x91\\xe5\\xb8\\x83\\xe6\\x9c\\x8d<br/>/SendPackageTool/sqguonei/1487159761119/v8.3.0_20170216_\\xe9\\xa2\\x84\\xe5\\x8f\\x91\\xe5\\xb8\\x83\\xe6\\x9c\\x8d.zip<br/>\\xe8\\xbf\\x90\\xe8\\x90\\xa5\\xe7\\xbd\\x91\\xe6\\x8e\\xa5\\xe6\\x94\\xb6\\xe4\\xba\\xba:yunweizk,zicheng.hou,lv,steven,junjie.he,yulong.zhong<br/>md5:977c90e5a353f5420a23b4b8fc3b3c0b<br/>\\xe4\\xbd\\x9c\\xe7\\x94\\xa8\\xe8\\xaf\\xb4\\xe6\\x98\\x8e:v8.3.0_20170216_\\xe9\\xa2\\x84\\xe5\\x8f\\x91\\xe5\\xb8\\x83\\xe6\\x9c\\x8d<br>\\xe6\\x9c\\x89DBA\\xe6\\x93\\x8d\\xe4\\xbd\\x9c,\\xe6\\xa0\\x87\\xe5\\x87\\x86\\xe5\\x8c\\x85<br>?project:::sqyfbdba:::yescross:::yesyufabu:::yesstop:::yes\\xe7\\xbc\\x96\\xe8\\xaf\\x91\\xe6\\x97\\xa5\\xe6\\x9c\\x9f: \\t2017-2-15 19:50:00\\xe5\\xbd\\x93\\xe5\\x89\\x8d\\xe7\\x89\\x88\\xe6\\x9c\\xac:\\t75827\\xe5\\x8f\\x91\\xe5\\xb8\\x83\\xe4\\xba\\xba\\xe5\\x91\\x98: \\tsam.lu  tl:13684947980   taorong.hu  tl:13928472013\\xe6\\x9c\\x8d\\xe5\\x8a\\xa1\\xe5\\x99\\xa8\\xe5\\x8c\\x85: \\t\\xe5\\x9b\\xbd\\xe5\\x86\\x85\\xe9\\xa2\\x84\\xe5\\x8f\\x91\\xe5\\xb8\\x83\\xe6\\x9c\\x8dv8.3.0\\xe6\\xb8\\xb8\\xe6\\x88\\x8f\\xe6\\x9c\\x8d\\xe7\\xa8\\x8b\\xe5\\xba\\x8f\\xe5\\x8c\\x85 v8.3.0_gs.zip\\t\\t\\t\\xe5\\x9b\\xbd\\xe5\\x86\\x85\\xe9\\xa2\\x84\\xe5\\x8f\\x91\\xe5\\xb8\\x83\\xe6\\x9c\\x8dv8.3.0\\xe8\\xb7\\xa8\\xe5\\x8c\\xba\\xe6\\x9c\\x8d\\xe7\\xa8\\x8b\\xe5\\xba\\x8f\\xe5\\x8c\\x85 v8.3.0_cross.zip\\t\\t\\t\\xe6\\x9b\\xb4\\xe6\\x96\\xb0\\xe8\\x8c\\x83\\xe5\\x9b\\xb4\\xef\\xbc\\x9a1\\xe3\\x80\\x81\\xe5\\x9b\\xbd\\xe5\\x86\\x85\\xe9\\xa2\\x84\\xe5\\x8f\\x91\\xe5\\xb8\\x83\\xe6\\x9c\\x8d\\xe6\\xb8\\xb8\\xe6\\x88\\x8f\\xe6\\x9c\\x8d2\\xe3\\x80\\x81\\xe5\\x9b\\xbd\\xe5\\x86\\x85\\xe9\\xa2\\x84\\xe5\\x8f\\x91\\xe5\\xb8\\x83\\xe6\\x9c\\x8d\\xe8\\xb7\\xa8\\xe5\\x8c\\xba\\xe6\\x9c\\x8d\\xe6\\x9b\\xb4\\xe6\\x96\\xb0\\xe6\\x93\\x8d\\xe4\\xbd\\x9c\\xef\\xbc\\x9a1\\xe3\\x80\\x81\\xe9\\x9c\\x80\\xe8\\xa6\\x81\\xe6\\x9b\\xb4\\xe6\\x96\\xb0\\xe5\\x9b\\xbd\\xe5\\x86\\x85\\xe9\\xa2\\x84\\xe5\\x8f\\x91\\xe5\\xb8\\x83\\xe6\\x9c\\x8d\\xe6\\xb8\\xb8\\xe6\\x88\\x8f\\xe6\\x9c\\x8d\\xef\\xbc\\x8c\\xe5\\x9b\\xbd\\xe5\\x86\\x85\\xe9\\xa2\\x84\\xe5\\x8f\\x91\\xe5\\xb8\\x83\\xe6\\x9c\\x8d\\xe8\\xb7\\xa8\\xe5\\x8c\\xba\\xe6\\x88\\x98\\xe6\\x96\\x97\\xe6\\x9c\\x8d\\xe3\\x80\\x822\\xe3\\x80\\x81\\xe4\\xbb\\xa5\\xe4\\xb8\\x8a\\xe6\\x9c\\x8d\\xe5\\x8a\\xa1\\xe5\\x99\\xa8\\xe5\\x9d\\x87\\xe8\\xa6\\x81\\xe5\\x81\\x9c\\xe6\\x9c\\x8d\\xef\\xbc\\x8c\\xe8\\xa7\\xa3\\xe5\\x8e\\x8b\\xef\\xbc\\x8c\\xe5\\x88\\xb7\\xe8\\xa1\\xa8(\\xe9\\x9c\\x80\\xe7\\xac\\xac1\\xe6\\xad\\xa5\\xe5\\xae\\x8c\\xe6\\x88\\x90\\xe5\\x90\\x8e\\xe6\\x89\\x8d\\xe5\\x8f\\xaf\\xe6\\x93\\x8d\\xe4\\xbd\\x9c)\\xef\\xbc\\x8c\\xe5\\x90\\xaf\\xe5\\x8a\\xa8\\xef\\xbc\\x8c\\xe7\\x94\\x9f\\xe6\\x88\\x90\\xe6\\xa8\\xa1\\xe6\\x9d\\xbf\\xe3\\x80\\x823\\xe3\\x80\\x81\\xe5\\x85\\x88\\xe5\\x90\\xaf\\xe5\\x8a\\xa8\\xe8\\xb7\\xa8\\xe6\\x9c\\x8d\\xef\\xbc\\x8c\\xe5\\x90\\x8e\\xe5\\x90\\xaf\\xe5\\x8a\\xa8\\xe6\\xb8\\xb8\\xe6\\x88\\x8f\\xe6\\x9c\\x8d<br/><a href='http://ftpin.7road.com:8080/down?key=977c90e5a353f5420a23b4b8fc3b3c0b192180'>\\xe7\\x82\\xb9\\xe5\\x87\\xbb\\xe4\\xb8\\x8b\\xe8\\xbd\\xbd\\xe6\\x96\\x87\\xe4\\xbb\\xb6</a>\""
      ]
     },
     "execution_count": 61,
     "metadata": {},
     "output_type": "execute_result"
    }
   ],
   "source": [
    "base64.b64decode(load)"
   ]
  },
  {
   "cell_type": "code",
   "execution_count": null,
   "metadata": {
    "collapsed": true
   },
   "outputs": [],
   "source": []
  },
  {
   "cell_type": "code",
   "execution_count": 68,
   "metadata": {
    "collapsed": false
   },
   "outputs": [
    {
     "name": "stdout",
     "output_type": "stream",
     "text": [
      "Help on function decode in module email.base64mime:\n",
      "\n",
      "decode(string)\n",
      "    Decode a raw base64 string, returning a bytes object.\n",
      "    \n",
      "    This function does not parse a full MIME header value encoded with\n",
      "    base64 (like =?iso-8895-1?b?bmloISBuaWgh?=) -- please use the high\n",
      "    level email.header class for that functionality.\n",
      "\n"
     ]
    }
   ],
   "source": [
    "help(email.base64mime.body_decode)"
   ]
  },
  {
   "cell_type": "code",
   "execution_count": 70,
   "metadata": {
    "collapsed": false
   },
   "outputs": [],
   "source": [
    "g = email.base64mime.body_decode(load).decode('utf-8')"
   ]
  },
  {
   "cell_type": "code",
   "execution_count": 71,
   "metadata": {
    "collapsed": false
   },
   "outputs": [
    {
     "data": {
      "text/plain": [
       "\"OA单号为:192180<br/>成功<br/>神曲国内 - v8.3.0_20170216_预发布服<br/>/SendPackageTool/sqguonei/1487159761119/v8.3.0_20170216_预发布服.zip<br/>运营网接收人:yunweizk,zicheng.hou,lv,steven,junjie.he,yulong.zhong<br/>md5:977c90e5a353f5420a23b4b8fc3b3c0b<br/>作用说明:v8.3.0_20170216_预发布服<br>有DBA操作,标准包<br>?project:::sqyfbdba:::yescross:::yesyufabu:::yesstop:::yes编译日期: \\t2017-2-15 19:50:00当前版本:\\t75827发布人员: \\tsam.lu  tl:13684947980   taorong.hu  tl:13928472013服务器包: \\t国内预发布服v8.3.0游戏服程序包 v8.3.0_gs.zip\\t\\t\\t国内预发布服v8.3.0跨区服程序包 v8.3.0_cross.zip\\t\\t\\t更新范围：1、国内预发布服游戏服2、国内预发布服跨区服更新操作：1、需要更新国内预发布服游戏服，国内预发布服跨区战斗服。2、以上服务器均要停服，解压，刷表(需第1步完成后才可操作)，启动，生成模板。3、先启动跨服，后启动游戏服<br/><a href='http://ftpin.7road.com:8080/down?key=977c90e5a353f5420a23b4b8fc3b3c0b192180'>点击下载文件</a>\""
      ]
     },
     "execution_count": 71,
     "metadata": {},
     "output_type": "execute_result"
    }
   ],
   "source": [
    "g"
   ]
  },
  {
   "cell_type": "code",
   "execution_count": 72,
   "metadata": {
    "collapsed": true
   },
   "outputs": [],
   "source": [
    "import re"
   ]
  },
  {
   "cell_type": "code",
   "execution_count": 78,
   "metadata": {
    "collapsed": false
   },
   "outputs": [],
   "source": []
  },
  {
   "cell_type": "code",
   "execution_count": 136,
   "metadata": {
    "collapsed": true
   },
   "outputs": [],
   "source": [
    "o = re.compile(r'OA单号为:(?P<oa>.*)<br/>成.*md5:(?P<md5>.*)<br/>作.*project:::(?P<project>.*)dba:::(?P<dba>\\w{1,3})cross:::(?P<cross>\\w{1,3})yufabu:::(?P<yufabu>\\w{1,3})stop:::(?P<stop>\\w{1,3}).*<a href=\\'(?P<url>.*)\\'>点.*')"
   ]
  },
  {
   "cell_type": "code",
   "execution_count": 137,
   "metadata": {
    "collapsed": false
   },
   "outputs": [],
   "source": [
    "p = o.match(g)"
   ]
  },
  {
   "cell_type": "code",
   "execution_count": 138,
   "metadata": {
    "collapsed": false
   },
   "outputs": [
    {
     "data": {
      "text/plain": [
       "{'cross': 'yes',\n",
       " 'dba': 'yes',\n",
       " 'md5': '977c90e5a353f5420a23b4b8fc3b3c0b',\n",
       " 'oa': '192180',\n",
       " 'project': 'sqyfb',\n",
       " 'stop': 'yes',\n",
       " 'url': 'http://ftpin.7road.com:8080/down?key=977c90e5a353f5420a23b4b8fc3b3c0b192180',\n",
       " 'yufabu': 'yes'}"
      ]
     },
     "execution_count": 138,
     "metadata": {},
     "output_type": "execute_result"
    }
   ],
   "source": [
    "p.groupdict()"
   ]
  },
  {
   "cell_type": "code",
   "execution_count": null,
   "metadata": {
    "collapsed": true
   },
   "outputs": [],
   "source": []
  },
  {
   "cell_type": "code",
   "execution_count": null,
   "metadata": {
    "collapsed": true
   },
   "outputs": [],
   "source": []
  },
  {
   "cell_type": "code",
   "execution_count": null,
   "metadata": {
    "collapsed": true
   },
   "outputs": [],
   "source": []
  },
  {
   "cell_type": "code",
   "execution_count": null,
   "metadata": {
    "collapsed": true
   },
   "outputs": [],
   "source": []
  },
  {
   "cell_type": "code",
   "execution_count": null,
   "metadata": {
    "collapsed": true
   },
   "outputs": [],
   "source": []
  },
  {
   "cell_type": "code",
   "execution_count": null,
   "metadata": {
    "collapsed": true
   },
   "outputs": [],
   "source": []
  },
  {
   "cell_type": "code",
   "execution_count": null,
   "metadata": {
    "collapsed": true
   },
   "outputs": [],
   "source": []
  },
  {
   "cell_type": "code",
   "execution_count": 149,
   "metadata": {
    "collapsed": true
   },
   "outputs": [],
   "source": [
    "import threading"
   ]
  },
  {
   "cell_type": "code",
   "execution_count": 150,
   "metadata": {
    "collapsed": false
   },
   "outputs": [
    {
     "name": "stdout",
     "output_type": "stream",
     "text": [
      "Help on function join in module threading:\n",
      "\n",
      "join(self, timeout=None)\n",
      "    Wait until the thread terminates.\n",
      "    \n",
      "    This blocks the calling thread until the thread whose join() method is\n",
      "    called terminates -- either normally or through an unhandled exception\n",
      "    or until the optional timeout occurs.\n",
      "    \n",
      "    When the timeout argument is present and not None, it should be a\n",
      "    floating point number specifying a timeout for the operation in seconds\n",
      "    (or fractions thereof). As join() always returns None, you must call\n",
      "    isAlive() after join() to decide whether a timeout happened -- if the\n",
      "    thread is still alive, the join() call timed out.\n",
      "    \n",
      "    When the timeout argument is not present or None, the operation will\n",
      "    block until the thread terminates.\n",
      "    \n",
      "    A thread can be join()ed many times.\n",
      "    \n",
      "    join() raises a RuntimeError if an attempt is made to join the current\n",
      "    thread as that would cause a deadlock. It is also an error to join() a\n",
      "    thread before it has been started and attempts to do so raises the same\n",
      "    exception.\n",
      "\n"
     ]
    }
   ],
   "source": [
    "help(threading.Thread.join)"
   ]
  },
  {
   "cell_type": "code",
   "execution_count": null,
   "metadata": {
    "collapsed": true
   },
   "outputs": [],
   "source": []
  },
  {
   "cell_type": "code",
   "execution_count": null,
   "metadata": {
    "collapsed": true
   },
   "outputs": [],
   "source": []
  },
  {
   "cell_type": "code",
   "execution_count": null,
   "metadata": {
    "collapsed": true
   },
   "outputs": [],
   "source": []
  },
  {
   "cell_type": "code",
   "execution_count": null,
   "metadata": {
    "collapsed": true
   },
   "outputs": [],
   "source": []
  },
  {
   "cell_type": "code",
   "execution_count": null,
   "metadata": {
    "collapsed": true
   },
   "outputs": [],
   "source": []
  },
  {
   "cell_type": "code",
   "execution_count": null,
   "metadata": {
    "collapsed": true
   },
   "outputs": [],
   "source": []
  },
  {
   "cell_type": "code",
   "execution_count": null,
   "metadata": {
    "collapsed": true
   },
   "outputs": [],
   "source": []
  },
  {
   "cell_type": "code",
   "execution_count": null,
   "metadata": {
    "collapsed": true
   },
   "outputs": [],
   "source": []
  },
  {
   "cell_type": "code",
   "execution_count": null,
   "metadata": {
    "collapsed": true
   },
   "outputs": [],
   "source": []
  },
  {
   "cell_type": "code",
   "execution_count": null,
   "metadata": {
    "collapsed": true
   },
   "outputs": [],
   "source": []
  },
  {
   "cell_type": "code",
   "execution_count": null,
   "metadata": {
    "collapsed": true
   },
   "outputs": [],
   "source": []
  },
  {
   "cell_type": "code",
   "execution_count": null,
   "metadata": {
    "collapsed": true
   },
   "outputs": [],
   "source": []
  },
  {
   "cell_type": "code",
   "execution_count": null,
   "metadata": {
    "collapsed": true
   },
   "outputs": [],
   "source": []
  },
  {
   "cell_type": "code",
   "execution_count": null,
   "metadata": {
    "collapsed": true
   },
   "outputs": [],
   "source": []
  },
  {
   "cell_type": "code",
   "execution_count": null,
   "metadata": {
    "collapsed": true
   },
   "outputs": [],
   "source": []
  },
  {
   "cell_type": "code",
   "execution_count": null,
   "metadata": {
    "collapsed": true
   },
   "outputs": [],
   "source": []
  },
  {
   "cell_type": "code",
   "execution_count": null,
   "metadata": {
    "collapsed": true
   },
   "outputs": [],
   "source": []
  },
  {
   "cell_type": "code",
   "execution_count": 151,
   "metadata": {
    "collapsed": true
   },
   "outputs": [],
   "source": [
    "import datetime"
   ]
  },
  {
   "cell_type": "code",
   "execution_count": 152,
   "metadata": {
    "collapsed": true
   },
   "outputs": [],
   "source": [
    "a = datetime.datetime.now()"
   ]
  },
  {
   "cell_type": "code",
   "execution_count": 153,
   "metadata": {
    "collapsed": false
   },
   "outputs": [
    {
     "data": {
      "text/plain": [
       "datetime.datetime(2017, 2, 18, 0, 2, 51, 782063)"
      ]
     },
     "execution_count": 153,
     "metadata": {},
     "output_type": "execute_result"
    }
   ],
   "source": [
    "a"
   ]
  },
  {
   "cell_type": "code",
   "execution_count": 154,
   "metadata": {
    "collapsed": false
   },
   "outputs": [
    {
     "ename": "TypeError",
     "evalue": "strptime() takes exactly 2 arguments (1 given)",
     "output_type": "error",
     "traceback": [
      "\u001b[0;31m---------------------------------------------------------------------------\u001b[0m",
      "\u001b[0;31mTypeError\u001b[0m                                 Traceback (most recent call last)",
      "\u001b[0;32m<ipython-input-154-e8ae802be09f>\u001b[0m in \u001b[0;36m<module>\u001b[0;34m()\u001b[0m\n\u001b[0;32m----> 1\u001b[0;31m \u001b[0ma\u001b[0m\u001b[0;34m.\u001b[0m\u001b[0mstrptime\u001b[0m\u001b[0;34m(\u001b[0m\u001b[0;34m'%H:%M:%S'\u001b[0m\u001b[0;34m)\u001b[0m\u001b[0;34m\u001b[0m\u001b[0m\n\u001b[0m",
      "\u001b[0;31mTypeError\u001b[0m: strptime() takes exactly 2 arguments (1 given)"
     ]
    }
   ],
   "source": [
    "a.strptime('%H:%M:%S')"
   ]
  },
  {
   "cell_type": "code",
   "execution_count": 155,
   "metadata": {
    "collapsed": false
   },
   "outputs": [
    {
     "name": "stdout",
     "output_type": "stream",
     "text": [
      "Help on built-in function strptime:\n",
      "\n",
      "strptime(...) method of builtins.type instance\n",
      "    string, format -> new datetime parsed from a string (like time.strptime()).\n",
      "\n"
     ]
    }
   ],
   "source": [
    "help(a.strptime)"
   ]
  },
  {
   "cell_type": "code",
   "execution_count": 156,
   "metadata": {
    "collapsed": false
   },
   "outputs": [
    {
     "name": "stdout",
     "output_type": "stream",
     "text": [
      "Help on built-in function strftime:\n",
      "\n",
      "strftime(...) method of datetime.datetime instance\n",
      "    format -> strftime() style string.\n",
      "\n"
     ]
    }
   ],
   "source": [
    "help(a.strftime)"
   ]
  },
  {
   "cell_type": "code",
   "execution_count": null,
   "metadata": {
    "collapsed": true
   },
   "outputs": [],
   "source": [
    "a.strftime()"
   ]
  },
  {
   "cell_type": "code",
   "execution_count": null,
   "metadata": {
    "collapsed": true
   },
   "outputs": [],
   "source": []
  },
  {
   "cell_type": "code",
   "execution_count": null,
   "metadata": {
    "collapsed": true
   },
   "outputs": [],
   "source": []
  },
  {
   "cell_type": "code",
   "execution_count": null,
   "metadata": {
    "collapsed": true
   },
   "outputs": [],
   "source": []
  },
  {
   "cell_type": "code",
   "execution_count": null,
   "metadata": {
    "collapsed": true
   },
   "outputs": [],
   "source": []
  },
  {
   "cell_type": "code",
   "execution_count": null,
   "metadata": {
    "collapsed": true
   },
   "outputs": [],
   "source": []
  },
  {
   "cell_type": "code",
   "execution_count": null,
   "metadata": {
    "collapsed": true
   },
   "outputs": [],
   "source": []
  },
  {
   "cell_type": "code",
   "execution_count": null,
   "metadata": {
    "collapsed": true
   },
   "outputs": [],
   "source": []
  },
  {
   "cell_type": "code",
   "execution_count": null,
   "metadata": {
    "collapsed": true
   },
   "outputs": [],
   "source": []
  },
  {
   "cell_type": "code",
   "execution_count": null,
   "metadata": {
    "collapsed": true
   },
   "outputs": [],
   "source": []
  },
  {
   "cell_type": "code",
   "execution_count": null,
   "metadata": {
    "collapsed": true
   },
   "outputs": [],
   "source": []
  },
  {
   "cell_type": "code",
   "execution_count": null,
   "metadata": {
    "collapsed": true
   },
   "outputs": [],
   "source": []
  },
  {
   "cell_type": "code",
   "execution_count": null,
   "metadata": {
    "collapsed": true
   },
   "outputs": [],
   "source": []
  },
  {
   "cell_type": "code",
   "execution_count": null,
   "metadata": {
    "collapsed": true
   },
   "outputs": [],
   "source": []
  },
  {
   "cell_type": "code",
   "execution_count": null,
   "metadata": {
    "collapsed": true
   },
   "outputs": [],
   "source": []
  },
  {
   "cell_type": "code",
   "execution_count": null,
   "metadata": {
    "collapsed": true
   },
   "outputs": [],
   "source": []
  },
  {
   "cell_type": "code",
   "execution_count": null,
   "metadata": {
    "collapsed": true
   },
   "outputs": [],
   "source": []
  },
  {
   "cell_type": "code",
   "execution_count": null,
   "metadata": {
    "collapsed": true
   },
   "outputs": [],
   "source": []
  },
  {
   "cell_type": "code",
   "execution_count": null,
   "metadata": {
    "collapsed": true
   },
   "outputs": [],
   "source": []
  },
  {
   "cell_type": "code",
   "execution_count": null,
   "metadata": {
    "collapsed": true
   },
   "outputs": [],
   "source": []
  },
  {
   "cell_type": "code",
   "execution_count": null,
   "metadata": {
    "collapsed": true
   },
   "outputs": [],
   "source": []
  },
  {
   "cell_type": "code",
   "execution_count": null,
   "metadata": {
    "collapsed": true
   },
   "outputs": [],
   "source": []
  },
  {
   "cell_type": "code",
   "execution_count": null,
   "metadata": {
    "collapsed": true
   },
   "outputs": [],
   "source": []
  },
  {
   "cell_type": "code",
   "execution_count": null,
   "metadata": {
    "collapsed": true
   },
   "outputs": [],
   "source": []
  },
  {
   "cell_type": "code",
   "execution_count": null,
   "metadata": {
    "collapsed": true
   },
   "outputs": [],
   "source": []
  },
  {
   "cell_type": "code",
   "execution_count": null,
   "metadata": {
    "collapsed": true
   },
   "outputs": [],
   "source": []
  }
 ],
 "metadata": {
  "kernelspec": {
   "display_name": "Python 3",
   "language": "python",
   "name": "python3"
  },
  "language_info": {
   "codemirror_mode": {
    "name": "ipython",
    "version": 3
   },
   "file_extension": ".py",
   "mimetype": "text/x-python",
   "name": "python",
   "nbconvert_exporter": "python",
   "pygments_lexer": "ipython3",
   "version": "3.5.2"
  }
 },
 "nbformat": 4,
 "nbformat_minor": 1
}
