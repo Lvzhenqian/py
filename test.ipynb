{
 "cells": [
  {
   "cell_type": "code",
   "execution_count": 1,
   "metadata": {
    "collapsed": true
   },
   "outputs": [],
   "source": [
    "import os"
   ]
  },
  {
   "cell_type": "code",
   "execution_count": 4,
   "metadata": {},
   "outputs": [
    {
     "name": "stdout",
     "output_type": "stream",
     "text": [
      "<DirEntry '32位系统请双击Dism++x86.txt'>\n",
      "<DirEntry 'Config'>\n",
      "<DirEntry 'Dism++x64.exe'>\n",
      "<DirEntry 'Dism++x86.exe'>\n",
      "<DirEntry \"What's New(Public).txt\">\n"
     ]
    }
   ],
   "source": [
    "for i in os.scandir(r'D:\\Dism++'):\n",
    "    print(i)"
   ]
  },
  {
   "cell_type": "code",
   "execution_count": 5,
   "metadata": {},
   "outputs": [
    {
     "data": {
      "text/plain": [
       "\"D:\\\\Dism++\\\\What's New(Public).txt\""
      ]
     },
     "execution_count": 5,
     "metadata": {},
     "output_type": "execute_result"
    }
   ],
   "source": [
    "i.path"
   ]
  },
  {
   "cell_type": "code",
   "execution_count": 7,
   "metadata": {},
   "outputs": [
    {
     "data": {
      "text/plain": [
       "True"
      ]
     },
     "execution_count": 7,
     "metadata": {},
     "output_type": "execute_result"
    }
   ],
   "source": [
    "i.is_file()"
   ]
  },
  {
   "cell_type": "code",
   "execution_count": 9,
   "metadata": {},
   "outputs": [
    {
     "name": "stdout",
     "output_type": "stream",
     "text": [
      "D:\\Dism++\\32位系统请双击Dism++x86.txt\n",
      "D:\\Dism++\\Config\n",
      "D:\\Dism++\\Dism++x64.exe\n",
      "D:\\Dism++\\Dism++x86.exe\n",
      "D:\\Dism++\\What's New(Public).txt\n"
     ]
    }
   ],
   "source": [
    "for i in os.scandir(r'D:\\Dism++'):\n",
    "    print(i.path)"
   ]
  },
  {
   "cell_type": "code",
   "execution_count": 1,
   "metadata": {
    "collapsed": true
   },
   "outputs": [],
   "source": [
    "from queue import Queue"
   ]
  },
  {
   "cell_type": "code",
   "execution_count": 2,
   "metadata": {
    "collapsed": true
   },
   "outputs": [],
   "source": [
    "q = Queue(maxsize=3)"
   ]
  },
  {
   "cell_type": "code",
   "execution_count": 6,
   "metadata": {},
   "outputs": [
    {
     "ename": "Full",
     "evalue": "",
     "output_type": "error",
     "traceback": [
      "\u001b[1;31m---------------------------------------------------------------------------\u001b[0m",
      "\u001b[1;31mFull\u001b[0m                                      Traceback (most recent call last)",
      "\u001b[1;32m<ipython-input-6-3dc07a08e43d>\u001b[0m in \u001b[0;36m<module>\u001b[1;34m()\u001b[0m\n\u001b[1;32m----> 1\u001b[1;33m \u001b[0mq\u001b[0m\u001b[1;33m.\u001b[0m\u001b[0mput\u001b[0m\u001b[1;33m(\u001b[0m\u001b[1;36m1\u001b[0m\u001b[1;33m,\u001b[0m\u001b[1;32mFalse\u001b[0m\u001b[1;33m)\u001b[0m\u001b[1;33m\u001b[0m\u001b[0m\n\u001b[0m",
      "\u001b[1;32mc:\\users\\hd\\appdata\\local\\programs\\python\\python36\\lib\\queue.py\u001b[0m in \u001b[0;36mput\u001b[1;34m(self, item, block, timeout)\u001b[0m\n\u001b[0;32m    128\u001b[0m                 \u001b[1;32mif\u001b[0m \u001b[1;32mnot\u001b[0m \u001b[0mblock\u001b[0m\u001b[1;33m:\u001b[0m\u001b[1;33m\u001b[0m\u001b[0m\n\u001b[0;32m    129\u001b[0m                     \u001b[1;32mif\u001b[0m \u001b[0mself\u001b[0m\u001b[1;33m.\u001b[0m\u001b[0m_qsize\u001b[0m\u001b[1;33m(\u001b[0m\u001b[1;33m)\u001b[0m \u001b[1;33m>=\u001b[0m \u001b[0mself\u001b[0m\u001b[1;33m.\u001b[0m\u001b[0mmaxsize\u001b[0m\u001b[1;33m:\u001b[0m\u001b[1;33m\u001b[0m\u001b[0m\n\u001b[1;32m--> 130\u001b[1;33m                         \u001b[1;32mraise\u001b[0m \u001b[0mFull\u001b[0m\u001b[1;33m\u001b[0m\u001b[0m\n\u001b[0m\u001b[0;32m    131\u001b[0m                 \u001b[1;32melif\u001b[0m \u001b[0mtimeout\u001b[0m \u001b[1;32mis\u001b[0m \u001b[1;32mNone\u001b[0m\u001b[1;33m:\u001b[0m\u001b[1;33m\u001b[0m\u001b[0m\n\u001b[0;32m    132\u001b[0m                     \u001b[1;32mwhile\u001b[0m \u001b[0mself\u001b[0m\u001b[1;33m.\u001b[0m\u001b[0m_qsize\u001b[0m\u001b[1;33m(\u001b[0m\u001b[1;33m)\u001b[0m \u001b[1;33m>=\u001b[0m \u001b[0mself\u001b[0m\u001b[1;33m.\u001b[0m\u001b[0mmaxsize\u001b[0m\u001b[1;33m:\u001b[0m\u001b[1;33m\u001b[0m\u001b[0m\n",
      "\u001b[1;31mFull\u001b[0m: "
     ]
    }
   ],
   "source": [
    "q.put(1,False)"
   ]
  },
  {
   "cell_type": "code",
   "execution_count": null,
   "metadata": {
    "collapsed": true
   },
   "outputs": [],
   "source": []
  },
  {
   "cell_type": "code",
   "execution_count": 7,
   "metadata": {},
   "outputs": [
    {
     "name": "stdout",
     "output_type": "stream",
     "text": [
      "Help on class Queue in module queue:\n",
      "\n",
      "class Queue(builtins.object)\n",
      " |  Create a queue object with a given maximum size.\n",
      " |  \n",
      " |  If maxsize is <= 0, the queue size is infinite.\n",
      " |  \n",
      " |  Methods defined here:\n",
      " |  \n",
      " |  __init__(self, maxsize=0)\n",
      " |      Initialize self.  See help(type(self)) for accurate signature.\n",
      " |  \n",
      " |  empty(self)\n",
      " |      Return True if the queue is empty, False otherwise (not reliable!).\n",
      " |      \n",
      " |      This method is likely to be removed at some point.  Use qsize() == 0\n",
      " |      as a direct substitute, but be aware that either approach risks a race\n",
      " |      condition where a queue can grow before the result of empty() or\n",
      " |      qsize() can be used.\n",
      " |      \n",
      " |      To create code that needs to wait for all queued tasks to be\n",
      " |      completed, the preferred technique is to use the join() method.\n",
      " |  \n",
      " |  full(self)\n",
      " |      Return True if the queue is full, False otherwise (not reliable!).\n",
      " |      \n",
      " |      This method is likely to be removed at some point.  Use qsize() >= n\n",
      " |      as a direct substitute, but be aware that either approach risks a race\n",
      " |      condition where a queue can shrink before the result of full() or\n",
      " |      qsize() can be used.\n",
      " |  \n",
      " |  get(self, block=True, timeout=None)\n",
      " |      Remove and return an item from the queue.\n",
      " |      \n",
      " |      If optional args 'block' is true and 'timeout' is None (the default),\n",
      " |      block if necessary until an item is available. If 'timeout' is\n",
      " |      a non-negative number, it blocks at most 'timeout' seconds and raises\n",
      " |      the Empty exception if no item was available within that time.\n",
      " |      Otherwise ('block' is false), return an item if one is immediately\n",
      " |      available, else raise the Empty exception ('timeout' is ignored\n",
      " |      in that case).\n",
      " |  \n",
      " |  get_nowait(self)\n",
      " |      Remove and return an item from the queue without blocking.\n",
      " |      \n",
      " |      Only get an item if one is immediately available. Otherwise\n",
      " |      raise the Empty exception.\n",
      " |  \n",
      " |  join(self)\n",
      " |      Blocks until all items in the Queue have been gotten and processed.\n",
      " |      \n",
      " |      The count of unfinished tasks goes up whenever an item is added to the\n",
      " |      queue. The count goes down whenever a consumer thread calls task_done()\n",
      " |      to indicate the item was retrieved and all work on it is complete.\n",
      " |      \n",
      " |      When the count of unfinished tasks drops to zero, join() unblocks.\n",
      " |  \n",
      " |  put(self, item, block=True, timeout=None)\n",
      " |      Put an item into the queue.\n",
      " |      \n",
      " |      If optional args 'block' is true and 'timeout' is None (the default),\n",
      " |      block if necessary until a free slot is available. If 'timeout' is\n",
      " |      a non-negative number, it blocks at most 'timeout' seconds and raises\n",
      " |      the Full exception if no free slot was available within that time.\n",
      " |      Otherwise ('block' is false), put an item on the queue if a free slot\n",
      " |      is immediately available, else raise the Full exception ('timeout'\n",
      " |      is ignored in that case).\n",
      " |  \n",
      " |  put_nowait(self, item)\n",
      " |      Put an item into the queue without blocking.\n",
      " |      \n",
      " |      Only enqueue the item if a free slot is immediately available.\n",
      " |      Otherwise raise the Full exception.\n",
      " |  \n",
      " |  qsize(self)\n",
      " |      Return the approximate size of the queue (not reliable!).\n",
      " |  \n",
      " |  task_done(self)\n",
      " |      Indicate that a formerly enqueued task is complete.\n",
      " |      \n",
      " |      Used by Queue consumer threads.  For each get() used to fetch a task,\n",
      " |      a subsequent call to task_done() tells the queue that the processing\n",
      " |      on the task is complete.\n",
      " |      \n",
      " |      If a join() is currently blocking, it will resume when all items\n",
      " |      have been processed (meaning that a task_done() call was received\n",
      " |      for every item that had been put() into the queue).\n",
      " |      \n",
      " |      Raises a ValueError if called more times than there were items\n",
      " |      placed in the queue.\n",
      " |  \n",
      " |  ----------------------------------------------------------------------\n",
      " |  Data descriptors defined here:\n",
      " |  \n",
      " |  __dict__\n",
      " |      dictionary for instance variables (if defined)\n",
      " |  \n",
      " |  __weakref__\n",
      " |      list of weak references to the object (if defined)\n",
      "\n"
     ]
    }
   ],
   "source": [
    "help(Queue)"
   ]
  },
  {
   "cell_type": "code",
   "execution_count": null,
   "metadata": {
    "collapsed": true
   },
   "outputs": [],
   "source": []
  },
  {
   "cell_type": "code",
   "execution_count": null,
   "metadata": {
    "collapsed": true
   },
   "outputs": [],
   "source": []
  },
  {
   "cell_type": "code",
   "execution_count": null,
   "metadata": {
    "collapsed": true
   },
   "outputs": [],
   "source": []
  },
  {
   "cell_type": "code",
   "execution_count": null,
   "metadata": {
    "collapsed": true
   },
   "outputs": [],
   "source": [
    "q.get()"
   ]
  },
  {
   "cell_type": "code",
   "execution_count": null,
   "metadata": {
    "collapsed": true
   },
   "outputs": [],
   "source": []
  },
  {
   "cell_type": "code",
   "execution_count": null,
   "metadata": {
    "collapsed": true
   },
   "outputs": [],
   "source": []
  },
  {
   "cell_type": "code",
   "execution_count": null,
   "metadata": {
    "collapsed": true
   },
   "outputs": [],
   "source": []
  },
  {
   "cell_type": "code",
   "execution_count": null,
   "metadata": {
    "collapsed": true
   },
   "outputs": [],
   "source": []
  },
  {
   "cell_type": "code",
   "execution_count": null,
   "metadata": {
    "collapsed": true
   },
   "outputs": [],
   "source": []
  },
  {
   "cell_type": "code",
   "execution_count": null,
   "metadata": {
    "collapsed": true
   },
   "outputs": [],
   "source": []
  },
  {
   "cell_type": "code",
   "execution_count": null,
   "metadata": {
    "collapsed": true
   },
   "outputs": [],
   "source": []
  }
 ],
 "metadata": {
  "kernelspec": {
   "display_name": "Python 3",
   "language": "python",
   "name": "python3"
  },
  "language_info": {
   "codemirror_mode": {
    "name": "ipython",
    "version": 3
   },
   "file_extension": ".py",
   "mimetype": "text/x-python",
   "name": "python",
   "nbconvert_exporter": "python",
   "pygments_lexer": "ipython3",
   "version": "3.6.1"
  }
 },
 "nbformat": 4,
 "nbformat_minor": 2
}
