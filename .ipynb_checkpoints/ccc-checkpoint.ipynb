{
 "cells": [
  {
   "cell_type": "code",
   "execution_count": 1,
   "metadata": {
    "collapsed": true
   },
   "outputs": [],
   "source": [
    "import xml.etree.ElementTree as ET"
   ]
  },
  {
   "cell_type": "code",
   "execution_count": 2,
   "metadata": {
    "collapsed": true
   },
   "outputs": [],
   "source": [
    "tree = ET.ElementTree(file='/home/charles/py/ddt/db/Center.Service.exe.config')"
   ]
  },
  {
   "cell_type": "code",
   "execution_count": 3,
   "metadata": {},
   "outputs": [
    {
     "data": {
      "text/plain": [
       "<Element 'configuration' at 0x7efc1432b9f8>"
      ]
     },
     "execution_count": 3,
     "metadata": {},
     "output_type": "execute_result"
    }
   ],
   "source": [
    "tree.getroot()"
   ]
  },
  {
   "cell_type": "code",
   "execution_count": null,
   "metadata": {
    "collapsed": true
   },
   "outputs": [],
   "source": []
  },
  {
   "cell_type": "code",
   "execution_count": 4,
   "metadata": {
    "collapsed": true
   },
   "outputs": [],
   "source": [
    "root = tree.getroot()"
   ]
  },
  {
   "cell_type": "code",
   "execution_count": 5,
   "metadata": {},
   "outputs": [
    {
     "data": {
      "text/plain": [
       "('configuration', {})"
      ]
     },
     "execution_count": 5,
     "metadata": {},
     "output_type": "execute_result"
    }
   ],
   "source": [
    "root.tag,root.attrib"
   ]
  },
  {
   "cell_type": "code",
   "execution_count": 6,
   "metadata": {},
   "outputs": [
    {
     "name": "stdout",
     "output_type": "stream",
     "text": [
      "appSettings {}\n",
      "system.serviceModel {}\n"
     ]
    }
   ],
   "source": [
    "for child in root:\n",
    "    print(child.tag,child.attrib)"
   ]
  },
  {
   "cell_type": "code",
   "execution_count": 7,
   "metadata": {},
   "outputs": [
    {
     "name": "stdout",
     "output_type": "stream",
     "text": [
      "add {'key': 'LanguagePath', 'value': 'Languages\\\\Language-vn.txt'}\n",
      "add {'key': 'conString', 'value': 'Oz/V1Yr2s74+uF10AVJbWh/z1xF/S3tjajIo029xtCeJtUbMYDNztNu+76i8xOcOe4oyc8qd4MMHx4HjWZz3cEgRKat2WlpHTaxSwWvQvnYfzD7PT7qscKx/o3OjNqFJqZ4aILOtjDFJJ87UMHTdNAuXLU05GtfG9+VpAoPeBj4='}\n",
      "add {'key': 'countDb', 'value': 'Oz/V1Yr2s74+uF10AVJbWh/z1xF/S3tjajIo029xtCeJtUbMYDNztNu+76i8xOcO/hp5uBDOFA8Hx4HjWZz3cEgRKat2WlpHTaxSwWvQvnYfzD7PT7qscEgUyYY5STI/1AuO0xrjJQqg1CSr5U0WnZjftyZiobyPGgN/ioo6/ec='}\n",
      "add {'key': 'IP', 'value': '0.0.0.0'}\n",
      "add {'key': 'Port', 'value': '9202'}\n",
      "add {'key': 'LoginLapseInterval', 'value': '30'}\n",
      "add {'key': 'SaveInterval', 'value': '5'}\n",
      "add {'key': 'SaveRecordInterval', 'value': '5'}\n",
      "add {'key': 'ScanAuctionInterval', 'value': '60'}\n",
      "add {'key': 'ScanMailInterval', 'value': '60'}\n",
      "add {'key': 'ScanConsortiaInterval', 'value': '180'}\n",
      "add {'key': 'ServerID', 'value': '1'}\n",
      "add {'key': 'GameType', 'value': '1'}\n",
      "add {'key': 'AreaID', 'value': '1002347'}\n",
      "add {'key': 'AreaName', 'value': ''}\n",
      "add {'key': 'LogPath', 'value': 'RecordLog'}\n",
      "add {'key': 'TxtRecord', 'value': 'true'}\n",
      "add {'key': 'HelpStr', 'value': '退出:exit;重新加载:reload;系统公告:notice;ssssssss'}\n",
      "add {'key': 'AAS', 'value': 'false'}\n",
      "add {'key': 'DailyAwardState', 'value': 'true'}\n",
      "add {'key': 'ValidDate', 'value': '0'}\n",
      "add {'key': 'BigBugleServerIp', 'value': '10.30.37.60:9230'}\n",
      "add {'key': 'BigAreaID', 'value': '1'}\n",
      "add {'key': 'LoginSessionTimeOut', 'value': '30'}\n",
      "add {'key': 'OpenMonitor', 'value': '0'}\n",
      "add {'key': 'IPLibraryPath', 'value': 'IPLibrary\\\\\\\\IPLibrary.dat'}\n",
      "add {'key': 'DivineServerIp', 'value': '10.10.4.7:9231'}\n"
     ]
    }
   ],
   "source": [
    "for child in root[0]:\n",
    "    print(child.tag,child.attrib)"
   ]
  },
  {
   "cell_type": "code",
   "execution_count": null,
   "metadata": {
    "collapsed": true
   },
   "outputs": [],
   "source": []
  },
  {
   "cell_type": "code",
   "execution_count": null,
   "metadata": {},
   "outputs": [],
   "source": [
    "len(root)"
   ]
  },
  {
   "cell_type": "code",
   "execution_count": null,
   "metadata": {},
   "outputs": [],
   "source": [
    "root[0].tag"
   ]
  },
  {
   "cell_type": "code",
   "execution_count": null,
   "metadata": {},
   "outputs": [],
   "source": [
    "root[0][0].attrib"
   ]
  },
  {
   "cell_type": "code",
   "execution_count": null,
   "metadata": {
    "collapsed": true
   },
   "outputs": [],
   "source": []
  },
  {
   "cell_type": "code",
   "execution_count": null,
   "metadata": {
    "collapsed": true
   },
   "outputs": [],
   "source": []
  },
  {
   "cell_type": "code",
   "execution_count": null,
   "metadata": {
    "collapsed": true
   },
   "outputs": [],
   "source": []
  }
 ],
 "metadata": {
  "kernelspec": {
   "display_name": "Python 3",
   "language": "python",
   "name": "python3"
  },
  "language_info": {
   "codemirror_mode": {
    "name": "ipython",
    "version": 3
   },
   "file_extension": ".py",
   "mimetype": "text/x-python",
   "name": "python",
   "nbconvert_exporter": "python",
   "pygments_lexer": "ipython3",
   "version": "3.6.1"
  }
 },
 "nbformat": 4,
 "nbformat_minor": 2
}
