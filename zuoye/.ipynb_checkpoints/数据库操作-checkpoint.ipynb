{
 "cells": [
  {
   "cell_type": "code",
   "execution_count": 1,
   "metadata": {
    "collapsed": true
   },
   "outputs": [],
   "source": [
    "import pymysql"
   ]
  },
  {
   "cell_type": "code",
   "execution_count": 3,
   "metadata": {},
   "outputs": [],
   "source": [
    "conn = pymysql.connect(host='127.0.0.1', user='root', password='123456', database='demo', port=3306) # 创建连接"
   ]
  },
  {
   "cell_type": "code",
   "execution_count": 4,
   "metadata": {
    "collapsed": true
   },
   "outputs": [],
   "source": [
    "cur = conn.cursor() # 获取游标"
   ]
  },
  {
   "cell_type": "code",
   "execution_count": 5,
   "metadata": {},
   "outputs": [
    {
     "data": {
      "text/plain": [
       "1"
      ]
     },
     "execution_count": 5,
     "metadata": {},
     "output_type": "execute_result"
    }
   ],
   "source": [
    "cur.execute('''INSERT INTO `user`(`name`, `age`) VALUE ('comyn', 18)''') # 执行sql"
   ]
  },
  {
   "cell_type": "code",
   "execution_count": 6,
   "metadata": {
    "collapsed": true
   },
   "outputs": [],
   "source": [
    "conn.commit() # 提交事务"
   ]
  },
  {
   "cell_type": "markdown",
   "metadata": {},
   "source": [
    "非查询性请求的四个步骤：\n",
    "\n",
    "1. 创建连接\n",
    "* 获取游标\n",
    "* 执行sql\n",
    "* 提交事务"
   ]
  },
  {
   "cell_type": "code",
   "execution_count": 7,
   "metadata": {},
   "outputs": [
    {
     "data": {
      "text/plain": [
       "1"
      ]
     },
     "execution_count": 7,
     "metadata": {},
     "output_type": "execute_result"
    }
   ],
   "source": [
    "cur.execute('''INSERT INTO `user`(`name`, `age`) VALUE ('magedu', 10)''')"
   ]
  },
  {
   "cell_type": "code",
   "execution_count": 8,
   "metadata": {
    "collapsed": true
   },
   "outputs": [],
   "source": [
    "conn.commit()"
   ]
  },
  {
   "cell_type": "code",
   "execution_count": 9,
   "metadata": {
    "collapsed": true
   },
   "outputs": [],
   "source": [
    "cur.close()"
   ]
  },
  {
   "cell_type": "code",
   "execution_count": 10,
   "metadata": {},
   "outputs": [
    {
     "ename": "ProgrammingError",
     "evalue": "Cursor closed",
     "output_type": "error",
     "traceback": [
      "\u001b[0;31m---------------------------------------------------------------------------\u001b[0m",
      "\u001b[0;31mProgrammingError\u001b[0m                          Traceback (most recent call last)",
      "\u001b[0;32m<ipython-input-10-e668898b36da>\u001b[0m in \u001b[0;36m<module>\u001b[0;34m()\u001b[0m\n\u001b[0;32m----> 1\u001b[0;31m \u001b[0mcur\u001b[0m\u001b[0;34m.\u001b[0m\u001b[0mexecute\u001b[0m\u001b[0;34m(\u001b[0m\u001b[0;34m'''INSERT INTO `user`(`name`, `age`) VALUE ('python', 10)'''\u001b[0m\u001b[0;34m)\u001b[0m\u001b[0;34m\u001b[0m\u001b[0m\n\u001b[0m",
      "\u001b[0;32m/home/comyn/.pyenv/versions/3.5.2/envs/magedu/lib/python3.5/site-packages/pymysql/cursors.py\u001b[0m in \u001b[0;36mexecute\u001b[0;34m(self, query, args)\u001b[0m\n\u001b[1;32m    159\u001b[0m         \u001b[0mIf\u001b[0m \u001b[0margs\u001b[0m \u001b[0;32mis\u001b[0m \u001b[0ma\u001b[0m \u001b[0mdict\u001b[0m\u001b[0;34m,\u001b[0m \u001b[0;34m%\u001b[0m\u001b[0;34m(\u001b[0m\u001b[0mname\u001b[0m\u001b[0;34m)\u001b[0m\u001b[0ms\u001b[0m \u001b[0mcan\u001b[0m \u001b[0mbe\u001b[0m \u001b[0mused\u001b[0m \u001b[0;32mas\u001b[0m \u001b[0ma\u001b[0m \u001b[0mplaceholder\u001b[0m \u001b[0;32min\u001b[0m \u001b[0mthe\u001b[0m \u001b[0mquery\u001b[0m\u001b[0;34m.\u001b[0m\u001b[0;34m\u001b[0m\u001b[0m\n\u001b[1;32m    160\u001b[0m         \"\"\"\n\u001b[0;32m--> 161\u001b[0;31m         \u001b[0;32mwhile\u001b[0m \u001b[0mself\u001b[0m\u001b[0;34m.\u001b[0m\u001b[0mnextset\u001b[0m\u001b[0;34m(\u001b[0m\u001b[0;34m)\u001b[0m\u001b[0;34m:\u001b[0m\u001b[0;34m\u001b[0m\u001b[0m\n\u001b[0m\u001b[1;32m    162\u001b[0m             \u001b[0;32mpass\u001b[0m\u001b[0;34m\u001b[0m\u001b[0m\n\u001b[1;32m    163\u001b[0m \u001b[0;34m\u001b[0m\u001b[0m\n",
      "\u001b[0;32m/home/comyn/.pyenv/versions/3.5.2/envs/magedu/lib/python3.5/site-packages/pymysql/cursors.py\u001b[0m in \u001b[0;36mnextset\u001b[0;34m(self)\u001b[0m\n\u001b[1;32m    101\u001b[0m \u001b[0;34m\u001b[0m\u001b[0m\n\u001b[1;32m    102\u001b[0m     \u001b[0;32mdef\u001b[0m \u001b[0mnextset\u001b[0m\u001b[0;34m(\u001b[0m\u001b[0mself\u001b[0m\u001b[0;34m)\u001b[0m\u001b[0;34m:\u001b[0m\u001b[0;34m\u001b[0m\u001b[0m\n\u001b[0;32m--> 103\u001b[0;31m         \u001b[0;32mreturn\u001b[0m \u001b[0mself\u001b[0m\u001b[0;34m.\u001b[0m\u001b[0m_nextset\u001b[0m\u001b[0;34m(\u001b[0m\u001b[0;32mFalse\u001b[0m\u001b[0;34m)\u001b[0m\u001b[0;34m\u001b[0m\u001b[0m\n\u001b[0m\u001b[1;32m    104\u001b[0m \u001b[0;34m\u001b[0m\u001b[0m\n\u001b[1;32m    105\u001b[0m     \u001b[0;32mdef\u001b[0m \u001b[0m_ensure_bytes\u001b[0m\u001b[0;34m(\u001b[0m\u001b[0mself\u001b[0m\u001b[0;34m,\u001b[0m \u001b[0mx\u001b[0m\u001b[0;34m,\u001b[0m \u001b[0mencoding\u001b[0m\u001b[0;34m=\u001b[0m\u001b[0;32mNone\u001b[0m\u001b[0;34m)\u001b[0m\u001b[0;34m:\u001b[0m\u001b[0;34m\u001b[0m\u001b[0m\n",
      "\u001b[0;32m/home/comyn/.pyenv/versions/3.5.2/envs/magedu/lib/python3.5/site-packages/pymysql/cursors.py\u001b[0m in \u001b[0;36m_nextset\u001b[0;34m(self, unbuffered)\u001b[0m\n\u001b[1;32m     87\u001b[0m     \u001b[0;32mdef\u001b[0m \u001b[0m_nextset\u001b[0m\u001b[0;34m(\u001b[0m\u001b[0mself\u001b[0m\u001b[0;34m,\u001b[0m \u001b[0munbuffered\u001b[0m\u001b[0;34m=\u001b[0m\u001b[0;32mFalse\u001b[0m\u001b[0;34m)\u001b[0m\u001b[0;34m:\u001b[0m\u001b[0;34m\u001b[0m\u001b[0m\n\u001b[1;32m     88\u001b[0m         \u001b[0;34m\"\"\"Get the next query set\"\"\"\u001b[0m\u001b[0;34m\u001b[0m\u001b[0m\n\u001b[0;32m---> 89\u001b[0;31m         \u001b[0mconn\u001b[0m \u001b[0;34m=\u001b[0m \u001b[0mself\u001b[0m\u001b[0;34m.\u001b[0m\u001b[0m_get_db\u001b[0m\u001b[0;34m(\u001b[0m\u001b[0;34m)\u001b[0m\u001b[0;34m\u001b[0m\u001b[0m\n\u001b[0m\u001b[1;32m     90\u001b[0m         \u001b[0mcurrent_result\u001b[0m \u001b[0;34m=\u001b[0m \u001b[0mself\u001b[0m\u001b[0;34m.\u001b[0m\u001b[0m_result\u001b[0m\u001b[0;34m\u001b[0m\u001b[0m\n\u001b[1;32m     91\u001b[0m         \u001b[0;31m# for unbuffered queries warnings are only available once whole result has been read\u001b[0m\u001b[0;34m\u001b[0m\u001b[0;34m\u001b[0m\u001b[0m\n",
      "\u001b[0;32m/home/comyn/.pyenv/versions/3.5.2/envs/magedu/lib/python3.5/site-packages/pymysql/cursors.py\u001b[0m in \u001b[0;36m_get_db\u001b[0;34m(self)\u001b[0m\n\u001b[1;32m     69\u001b[0m     \u001b[0;32mdef\u001b[0m \u001b[0m_get_db\u001b[0m\u001b[0;34m(\u001b[0m\u001b[0mself\u001b[0m\u001b[0;34m)\u001b[0m\u001b[0;34m:\u001b[0m\u001b[0;34m\u001b[0m\u001b[0m\n\u001b[1;32m     70\u001b[0m         \u001b[0;32mif\u001b[0m \u001b[0;32mnot\u001b[0m \u001b[0mself\u001b[0m\u001b[0;34m.\u001b[0m\u001b[0mconnection\u001b[0m\u001b[0;34m:\u001b[0m\u001b[0;34m\u001b[0m\u001b[0m\n\u001b[0;32m---> 71\u001b[0;31m             \u001b[0;32mraise\u001b[0m \u001b[0merr\u001b[0m\u001b[0;34m.\u001b[0m\u001b[0mProgrammingError\u001b[0m\u001b[0;34m(\u001b[0m\u001b[0;34m\"Cursor closed\"\u001b[0m\u001b[0;34m)\u001b[0m\u001b[0;34m\u001b[0m\u001b[0m\n\u001b[0m\u001b[1;32m     72\u001b[0m         \u001b[0;32mreturn\u001b[0m \u001b[0mself\u001b[0m\u001b[0;34m.\u001b[0m\u001b[0mconnection\u001b[0m\u001b[0;34m\u001b[0m\u001b[0m\n\u001b[1;32m     73\u001b[0m \u001b[0;34m\u001b[0m\u001b[0m\n",
      "\u001b[0;31mProgrammingError\u001b[0m: Cursor closed"
     ]
    }
   ],
   "source": [
    "cur.execute('''INSERT INTO `user`(`name`, `age`) VALUE ('python', 10)''')"
   ]
  },
  {
   "cell_type": "markdown",
   "metadata": {},
   "source": [
    "游标对象在close之前， 可以反复使用"
   ]
  },
  {
   "cell_type": "code",
   "execution_count": 11,
   "metadata": {
    "collapsed": true
   },
   "outputs": [],
   "source": [
    "cur = conn.cursor()"
   ]
  },
  {
   "cell_type": "code",
   "execution_count": 12,
   "metadata": {},
   "outputs": [
    {
     "data": {
      "text/plain": [
       "2"
      ]
     },
     "execution_count": 12,
     "metadata": {},
     "output_type": "execute_result"
    }
   ],
   "source": [
    "cur.execute('''SELECT * FROM `user` WHERE `age` <= 18 ''') # 执行sql"
   ]
  },
  {
   "cell_type": "code",
   "execution_count": 13,
   "metadata": {},
   "outputs": [
    {
     "data": {
      "text/plain": [
       "((2, 'comyn', 18), (3, 'magedu', 10))"
      ]
     },
     "execution_count": 13,
     "metadata": {},
     "output_type": "execute_result"
    }
   ],
   "source": [
    "cur.fetchall() # fetch数据  返回所有数据"
   ]
  },
  {
   "cell_type": "code",
   "execution_count": 22,
   "metadata": {},
   "outputs": [
    {
     "data": {
      "text/plain": [
       "2"
      ]
     },
     "execution_count": 22,
     "metadata": {},
     "output_type": "execute_result"
    }
   ],
   "source": [
    "cur.execute('''SELECT * FROM `user` WHERE `age` <= 18 ''') # 执行sql"
   ]
  },
  {
   "cell_type": "code",
   "execution_count": 24,
   "metadata": {},
   "outputs": [
    {
     "data": {
      "text/plain": [
       "((3, 'magedu', 10),)"
      ]
     },
     "execution_count": 24,
     "metadata": {},
     "output_type": "execute_result"
    }
   ],
   "source": [
    "cur.fetchmany(1) # 指定返回数据的行数"
   ]
  },
  {
   "cell_type": "code",
   "execution_count": 23,
   "metadata": {},
   "outputs": [
    {
     "data": {
      "text/plain": [
       "(2, 'comyn', 18)"
      ]
     },
     "execution_count": 23,
     "metadata": {},
     "output_type": "execute_result"
    }
   ],
   "source": [
    "cur.fetchone() # 返回一行数据"
   ]
  },
  {
   "cell_type": "markdown",
   "metadata": {},
   "source": [
    "* fetchall  返回行的元组\n",
    "* fetchmany 返回行的元组， 可以指定返回前N行 相当于 fetchall[:N]\n",
    "* fetchone  返回首行， 相当于fetchall[0]"
   ]
  },
  {
   "cell_type": "markdown",
   "metadata": {},
   "source": [
    "每行数据也是一个元组， 元组的内容由sql决定"
   ]
  },
  {
   "cell_type": "code",
   "execution_count": 25,
   "metadata": {},
   "outputs": [
    {
     "data": {
      "text/plain": [
       "2"
      ]
     },
     "execution_count": 25,
     "metadata": {},
     "output_type": "execute_result"
    }
   ],
   "source": [
    "cur.execute('''SELECT `name`, `age` FROM `user` WHERE `age` <= 18 ''') # 执行sql"
   ]
  },
  {
   "cell_type": "code",
   "execution_count": 26,
   "metadata": {},
   "outputs": [
    {
     "data": {
      "text/plain": [
       "('comyn', 18)"
      ]
     },
     "execution_count": 26,
     "metadata": {},
     "output_type": "execute_result"
    }
   ],
   "source": [
    "cur.fetchone()"
   ]
  },
  {
   "cell_type": "code",
   "execution_count": 27,
   "metadata": {},
   "outputs": [
    {
     "data": {
      "text/plain": [
       "2"
      ]
     },
     "execution_count": 27,
     "metadata": {},
     "output_type": "execute_result"
    }
   ],
   "source": [
    "cur.execute('''SELECT `age`, `name` FROM `user` WHERE `age` <= 18 ''') # 执行sql"
   ]
  },
  {
   "cell_type": "code",
   "execution_count": 28,
   "metadata": {},
   "outputs": [
    {
     "data": {
      "text/plain": [
       "(18, 'comyn')"
      ]
     },
     "execution_count": 28,
     "metadata": {},
     "output_type": "execute_result"
    }
   ],
   "source": [
    "cur.fetchone()"
   ]
  },
  {
   "cell_type": "markdown",
   "metadata": {},
   "source": [
    "fetchall, fetchmany, fetchone 的差异是在客户端决定的， 无论执行那个， 数据都会全部发送到客户端， 如果要限制返回数据的行数，应该在sql里限制，而不是通过fetch方法"
   ]
  },
  {
   "cell_type": "code",
   "execution_count": 29,
   "metadata": {},
   "outputs": [
    {
     "data": {
      "text/plain": [
       "3"
      ]
     },
     "execution_count": 29,
     "metadata": {},
     "output_type": "execute_result"
    }
   ],
   "source": [
    "cur.execute('''DESC `user`''')"
   ]
  },
  {
   "cell_type": "code",
   "execution_count": 30,
   "metadata": {},
   "outputs": [
    {
     "data": {
      "text/plain": [
       "(('id', 'int(11)', 'NO', 'PRI', None, 'auto_increment'),\n",
       " ('name', 'varchar(64)', 'NO', 'UNI', None, ''),\n",
       " ('age', 'int(11)', 'YES', '', None, ''))"
      ]
     },
     "execution_count": 30,
     "metadata": {},
     "output_type": "execute_result"
    }
   ],
   "source": [
    "cur.fetchall()"
   ]
  },
  {
   "cell_type": "markdown",
   "metadata": {},
   "source": [
    "**如何让返回数据带列名(返回字典)**"
   ]
  },
  {
   "cell_type": "code",
   "execution_count": 31,
   "metadata": {
    "collapsed": true
   },
   "outputs": [],
   "source": [
    "cur.close()"
   ]
  },
  {
   "cell_type": "code",
   "execution_count": 32,
   "metadata": {
    "collapsed": true
   },
   "outputs": [],
   "source": [
    "from pymysql.cursors import DictCursor"
   ]
  },
  {
   "cell_type": "code",
   "execution_count": 33,
   "metadata": {
    "collapsed": true
   },
   "outputs": [],
   "source": [
    "cur = conn.cursor(cursor=DictCursor) # 当指定cursorclass 为 DictCursor的时候， 返回的每行数据都是一个字典"
   ]
  },
  {
   "cell_type": "code",
   "execution_count": 38,
   "metadata": {},
   "outputs": [
    {
     "data": {
      "text/plain": [
       "4"
      ]
     },
     "execution_count": 38,
     "metadata": {},
     "output_type": "execute_result"
    }
   ],
   "source": [
    "cur.execute('SELECT * FROM `user` FOR UPDATE')"
   ]
  },
  {
   "cell_type": "code",
   "execution_count": 39,
   "metadata": {},
   "outputs": [
    {
     "data": {
      "text/plain": [
       "[{'age': 18, 'id': 2, 'name': 'comyn'},\n",
       " {'age': 10, 'id': 3, 'name': 'magedu'},\n",
       " {'age': 18, 'id': 4, 'name': 'python'},\n",
       " {'age': 18, 'id': 5, 'name': 'java'}]"
      ]
     },
     "execution_count": 39,
     "metadata": {},
     "output_type": "execute_result"
    }
   ],
   "source": [
    "cur.fetchall()"
   ]
  },
  {
   "cell_type": "code",
   "execution_count": 47,
   "metadata": {
    "collapsed": true
   },
   "outputs": [],
   "source": [
    "def get_juveniles(age=18):\n",
    "    query = '''SELECT * FROM `user` WHERE `age` < {} FOR UPDATE'''.format(age)\n",
    "    print(query)\n",
    "    cur.execute(query)\n",
    "    return cur.fetchall()"
   ]
  },
  {
   "cell_type": "code",
   "execution_count": 48,
   "metadata": {},
   "outputs": [
    {
     "name": "stdout",
     "output_type": "stream",
     "text": [
      "SELECT * FROM `user` WHERE `age` < 18 FOR UPDATE\n"
     ]
    },
    {
     "data": {
      "text/plain": [
       "[{'age': 10, 'id': 3, 'name': 'magedu'}]"
      ]
     },
     "execution_count": 48,
     "metadata": {},
     "output_type": "execute_result"
    }
   ],
   "source": [
    "get_juveniles()"
   ]
  },
  {
   "cell_type": "code",
   "execution_count": 49,
   "metadata": {},
   "outputs": [
    {
     "name": "stdout",
     "output_type": "stream",
     "text": [
      "SELECT * FROM `user` WHERE `age` < 18 OR 1=1 FOR UPDATE\n"
     ]
    },
    {
     "data": {
      "text/plain": [
       "[{'age': 18, 'id': 2, 'name': 'comyn'},\n",
       " {'age': 10, 'id': 3, 'name': 'magedu'},\n",
       " {'age': 18, 'id': 4, 'name': 'python'},\n",
       " {'age': 18, 'id': 5, 'name': 'java'}]"
      ]
     },
     "execution_count": 49,
     "metadata": {},
     "output_type": "execute_result"
    }
   ],
   "source": [
    "get_juveniles('18 OR 1=1') # 最基础的SQL注入"
   ]
  },
  {
   "cell_type": "code",
   "execution_count": 56,
   "metadata": {
    "collapsed": true
   },
   "outputs": [],
   "source": [
    "def get_juveniles(age=18):\n",
    "    query = '''SELECT * FROM `user` WHERE `age` < %s FOR UPDATE''' # 不用管数据库定义的是什么类型，统一使用 %s\n",
    "    cur.execute(query, (age, ))  # 参数化查询\n",
    "    return cur.fetchall()"
   ]
  },
  {
   "cell_type": "code",
   "execution_count": 57,
   "metadata": {},
   "outputs": [
    {
     "data": {
      "text/plain": [
       "[{'age': 10, 'id': 3, 'name': 'magedu'}]"
      ]
     },
     "execution_count": 57,
     "metadata": {},
     "output_type": "execute_result"
    }
   ],
   "source": [
    "get_juveniles()"
   ]
  },
  {
   "cell_type": "code",
   "execution_count": 59,
   "metadata": {},
   "outputs": [
    {
     "name": "stderr",
     "output_type": "stream",
     "text": [
      "/home/comyn/.pyenv/versions/3.5.2/envs/magedu/lib/python3.5/site-packages/pymysql/cursors.py:323: Warning: (1292, \"Truncated incorrect DOUBLE value: '18 OR 1=1'\")\n",
      "  self._do_get_result()\n"
     ]
    },
    {
     "data": {
      "text/plain": [
       "[{'age': 10, 'id': 3, 'name': 'magedu'}]"
      ]
     },
     "execution_count": 59,
     "metadata": {},
     "output_type": "execute_result"
    }
   ],
   "source": [
    "get_juveniles('18 OR 1=1')"
   ]
  },
  {
   "cell_type": "code",
   "execution_count": 61,
   "metadata": {
    "collapsed": true
   },
   "outputs": [],
   "source": [
    "def get_juveniles(age=18):\n",
    "    query = '''SELECT * FROM `user` WHERE `age` < %(age)s FOR UPDATE''' # 不用管数据库定义的是什么类型，统一使用 %s\n",
    "    cur.execute(query, {'age': age})  # 参数化查询\n",
    "    return cur.fetchall()"
   ]
  },
  {
   "cell_type": "code",
   "execution_count": 63,
   "metadata": {},
   "outputs": [
    {
     "name": "stderr",
     "output_type": "stream",
     "text": [
      "/home/comyn/.pyenv/versions/3.5.2/envs/magedu/lib/python3.5/site-packages/pymysql/cursors.py:323: Warning: (1292, \"Truncated incorrect DOUBLE value: '18 OR 1=1'\")\n",
      "  self._do_get_result()\n"
     ]
    },
    {
     "data": {
      "text/plain": [
       "[{'age': 10, 'id': 3, 'name': 'magedu'}]"
      ]
     },
     "execution_count": 63,
     "metadata": {},
     "output_type": "execute_result"
    }
   ],
   "source": [
    "get_juveniles('18 OR 1=1')"
   ]
  },
  {
   "cell_type": "markdown",
   "metadata": {},
   "source": [
    "参数化查询最大的优势在于避免了SQL注入"
   ]
  },
  {
   "cell_type": "markdown",
   "metadata": {},
   "source": [
    "参数化查询能提高查询效率"
   ]
  },
  {
   "cell_type": "markdown",
   "metadata": {},
   "source": [
    "所以应该总是使用参数化查询"
   ]
  },
  {
   "cell_type": "code",
   "execution_count": 65,
   "metadata": {
    "collapsed": true
   },
   "outputs": [],
   "source": [
    "with cur: # 自动关闭 游标\n",
    "    cur.execute('''UPDATE `user` SET `age`=16 WHERE `name`='comyn' ''')"
   ]
  },
  {
   "cell_type": "code",
   "execution_count": 69,
   "metadata": {},
   "outputs": [],
   "source": [
    "with conn as cur: # 自动提交事务 并不关闭游标\n",
    "    cur.execute('''UPDATE `user` SET `age`=14 WHERE `name`='comyn' ''')"
   ]
  },
  {
   "cell_type": "code",
   "execution_count": 72,
   "metadata": {},
   "outputs": [],
   "source": [
    "with conn as cur: # 自动提交事务\n",
    "    with cur: # 自动关闭游标\n",
    "        cur.execute('''UPDATE `user` SET `age`=16 WHERE `name`='comyn' ''')"
   ]
  },
  {
   "cell_type": "code",
   "execution_count": 74,
   "metadata": {},
   "outputs": [
    {
     "data": {
      "text/plain": [
       "<pymysql.connections.OKPacketWrapper at 0x7f1a1727e3c8>"
      ]
     },
     "execution_count": 74,
     "metadata": {},
     "output_type": "execute_result"
    }
   ],
   "source": [
    "conn.ping()"
   ]
  },
  {
   "cell_type": "code",
   "execution_count": 75,
   "metadata": {},
   "outputs": [
    {
     "name": "stdout",
     "output_type": "stream",
     "text": [
      "Help on function Connect in module pymysql:\n",
      "\n",
      "Connect(*args, **kwargs)\n",
      "    Establish a connection to the MySQL database. Accepts several\n",
      "    arguments:\n",
      "    \n",
      "    host: Host where the database server is located\n",
      "    user: Username to log in as\n",
      "    password: Password to use.\n",
      "    database: Database to use, None to not use a particular one.\n",
      "    port: MySQL port to use, default is usually OK. (default: 3306)\n",
      "    bind_address: When the client has multiple network interfaces, specify\n",
      "        the interface from which to connect to the host. Argument can be\n",
      "        a hostname or an IP address.\n",
      "    unix_socket: Optionally, you can use a unix socket rather than TCP/IP.\n",
      "    charset: Charset you want to use.\n",
      "    sql_mode: Default SQL_MODE to use.\n",
      "    read_default_file:\n",
      "        Specifies  my.cnf file to read these parameters from under the [client] section.\n",
      "    conv:\n",
      "        Conversion dictionary to use instead of the default one.\n",
      "        This is used to provide custom marshalling and unmarshaling of types.\n",
      "        See converters.\n",
      "    use_unicode:\n",
      "        Whether or not to default to unicode strings.\n",
      "        This option defaults to true for Py3k.\n",
      "    client_flag: Custom flags to send to MySQL. Find potential values in constants.CLIENT.\n",
      "    cursorclass: Custom cursor class to use.\n",
      "    init_command: Initial SQL statement to run when connection is established.\n",
      "    connect_timeout: Timeout before throwing an exception when connecting.\n",
      "        (default: 10, min: 1, max: 31536000)\n",
      "    ssl:\n",
      "        A dict of arguments similar to mysql_ssl_set()'s parameters.\n",
      "        For now the capath and cipher arguments are not supported.\n",
      "    read_default_group: Group to read from in the configuration file.\n",
      "    compress; Not supported\n",
      "    named_pipe: Not supported\n",
      "    autocommit: Autocommit mode. None means use server default. (default: False)\n",
      "    local_infile: Boolean to enable the use of LOAD DATA LOCAL command. (default: False)\n",
      "    max_allowed_packet: Max size of packet sent to server in bytes. (default: 16MB)\n",
      "        Only used to limit size of \"LOAD LOCAL INFILE\" data packet smaller than default (16KB).\n",
      "    defer_connect: Don't explicitly connect on contruction - wait for connect call.\n",
      "        (default: False)\n",
      "    auth_plugin_map: A dict of plugin names to a class that processes that plugin.\n",
      "        The class will take the Connection object as the argument to the constructor.\n",
      "        The class needs an authenticate method taking an authentication packet as\n",
      "        an argument.  For the dialog plugin, a prompt(echo, prompt) method can be used\n",
      "        (if no authenticate method) for returning a string from the user. (experimental)\n",
      "    db: Alias for database. (for compatibility to MySQLdb)\n",
      "    passwd: Alias for password. (for compatibility to MySQLdb)\n",
      "\n"
     ]
    }
   ],
   "source": [
    "help(pymysql.connect)"
   ]
  },
  {
   "cell_type": "code",
   "execution_count": 76,
   "metadata": {
    "collapsed": true
   },
   "outputs": [],
   "source": [
    "conn.close()"
   ]
  },
  {
   "cell_type": "code",
   "execution_count": 77,
   "metadata": {},
   "outputs": [
    {
     "data": {
      "text/plain": [
       "<pymysql.connections.OKPacketWrapper at 0x7f1a1728edd8>"
      ]
     },
     "execution_count": 77,
     "metadata": {},
     "output_type": "execute_result"
    }
   ],
   "source": [
    "conn.ping()"
   ]
  },
  {
   "cell_type": "code",
   "execution_count": 82,
   "metadata": {
    "collapsed": true
   },
   "outputs": [],
   "source": [
    "conn = pymysql.connect(host='127.0.0.1', user='root', password='123456', database='demo', port=3306, cursorclass=DictCursor)"
   ]
  },
  {
   "cell_type": "code",
   "execution_count": 83,
   "metadata": {},
   "outputs": [
    {
     "name": "stdout",
     "output_type": "stream",
     "text": [
      "{'age': 16, 'name': 'comyn', 'id': 2}\n"
     ]
    }
   ],
   "source": [
    "with conn as cur:\n",
    "    with cur:\n",
    "        cur.execute('''SELECT * FROM `user`''')\n",
    "        print(cur.fetchone())"
   ]
  },
  {
   "cell_type": "code",
   "execution_count": 84,
   "metadata": {
    "collapsed": true
   },
   "outputs": [],
   "source": [
    "packet = conn.ping()"
   ]
  },
  {
   "cell_type": "code",
   "execution_count": 89,
   "metadata": {
    "collapsed": true
   },
   "outputs": [],
   "source": [
    "conn.close()"
   ]
  },
  {
   "cell_type": "code",
   "execution_count": 92,
   "metadata": {
    "collapsed": true
   },
   "outputs": [],
   "source": [
    "from pymysql.cursors import DictCursor"
   ]
  },
  {
   "cell_type": "code",
   "execution_count": 105,
   "metadata": {
    "collapsed": true
   },
   "outputs": [],
   "source": [
    "from queue import Queue\n",
    "import threading"
   ]
  },
  {
   "cell_type": "code",
   "execution_count": 145,
   "metadata": {
    "collapsed": true
   },
   "outputs": [],
   "source": [
    "class ConnectionPool:\n",
    "    def __init__(self, size, *args, **kwargs):\n",
    "        self._pool = Queue(size)\n",
    "        self._conns = []\n",
    "        self.args = args\n",
    "        self.kwargs = kwargs\n",
    "        for x in range(size):\n",
    "            self._conns.append(self._connect())\n",
    "            self._pool.put(x)\n",
    "        self.local = threading.local()\n",
    "    \n",
    "    def _connect(self):\n",
    "        return pymysql.connect(*self.args, **self.kwargs)\n",
    "    \n",
    "    def _close(self, conn):\n",
    "        conn.close()\n",
    "        \n",
    "    def __enter__(self):\n",
    "        try:\n",
    "            return self.local.cursor\n",
    "        except AttributeError:\n",
    "            self.local.idx, self.local.cursor = self._get().cursor()\n",
    "            return self.local.cursor\n",
    "    \n",
    "    def __exit__(self, *args):\n",
    "        self.local.cursor.connection.commit()\n",
    "        self._return_resource(self.local.idx)\n",
    "        self.local.cursor.close()\n",
    "        del self.local.cursor\n",
    "        del self.local.idx\n",
    "    \n",
    "    def close(self):\n",
    "        for conn in self._conns:\n",
    "            conn.close()\n",
    "    \n",
    "    def _get(self):\n",
    "        idx = self._pool.get()\n",
    "        return idx, self._conns[idx]\n",
    "    \n",
    "    def _return_resource(self, idx):\n",
    "        self._pool.put(idx)"
   ]
  },
  {
   "cell_type": "code",
   "execution_count": 146,
   "metadata": {},
   "outputs": [],
   "source": [
    "cp = ConnectionPool(10, host='127.0.0.1', user='root', password='123456', database='demo', port=3306)"
   ]
  },
  {
   "cell_type": "code",
   "execution_count": 102,
   "metadata": {
    "collapsed": true
   },
   "outputs": [],
   "source": [
    "conn = cp.get()"
   ]
  },
  {
   "cell_type": "code",
   "execution_count": 103,
   "metadata": {
    "collapsed": true
   },
   "outputs": [],
   "source": [
    "with conn as cur:\n",
    "    with cur:\n",
    "        cur.execute('SELECT 1')"
   ]
  },
  {
   "cell_type": "code",
   "execution_count": 104,
   "metadata": {
    "collapsed": true
   },
   "outputs": [],
   "source": [
    "cp.return_resource(conn)"
   ]
  },
  {
   "cell_type": "code",
   "execution_count": 140,
   "metadata": {},
   "outputs": [],
   "source": [
    "with cp as cur:\n",
    "    cur.execute('SELECT 1')"
   ]
  },
  {
   "cell_type": "code",
   "execution_count": 147,
   "metadata": {},
   "outputs": [],
   "source": [
    "cp.close()"
   ]
  },
  {
   "cell_type": "code",
   "execution_count": 199,
   "metadata": {
    "collapsed": true
   },
   "outputs": [],
   "source": [
    "class Field:\n",
    "    def __init__(self, column=None, primary_key=False, unique=False, index=False, nullable=True, default=None):\n",
    "        self.name = None\n",
    "        self.column = column\n",
    "        self.primary_key = primary_key\n",
    "        self.unique = unique\n",
    "        self.index = index\n",
    "        self.nullable = nullable\n",
    "        self.default = default\n",
    "    \n",
    "    def validate(self, value):\n",
    "        raise NotImplemented\n",
    "    \n",
    "    def __get__(self, instance, cls):\n",
    "        if instance is None:\n",
    "            return self\n",
    "        return instance.__dict__.get(self.name)\n",
    "    \n",
    "    def __set__(self, instance, value):\n",
    "        self.validate(value)\n",
    "        instance.__dict__[self.name] = value"
   ]
  },
  {
   "cell_type": "code",
   "execution_count": 200,
   "metadata": {
    "collapsed": true
   },
   "outputs": [],
   "source": [
    "class IntField(Field):\n",
    "    def __init__(self, column=None, primary_key=False, unique=False, index=False, nullable=True, default=None, auto_increasement=False):\n",
    "        super().__init__(column, primary_key, unique, index, nullable, default)\n",
    "        self.auto_increasement = auto_increasement\n",
    "    \n",
    "    def validate(self, value):\n",
    "        if value is None:\n",
    "            return\n",
    "        if not isinstance(value, int):\n",
    "            raise TypeError('{}<{}> must be int but {}'.format(self.name, self.column, type(value)))"
   ]
  },
  {
   "cell_type": "code",
   "execution_count": 201,
   "metadata": {
    "collapsed": true
   },
   "outputs": [],
   "source": [
    "class StringField(Field):\n",
    "    def __init__(self, column=None, primary_key=False, unique=False, index=False, nullable=True, default=None, length=45):\n",
    "        super().__init__(column, primary_key, unique, index, nullable, default)\n",
    "        self.length = length\n",
    "    \n",
    "    def validate(self, value):\n",
    "        if value is None:\n",
    "            return\n",
    "        if not isinstance(value, str):\n",
    "            raise TypeError('{}<{}> must be str but {}'.format(self.name, self.column, type(value)))\n",
    "        if len(value) >= self.length:\n",
    "            raise ValueError('{}<{}> to long'.format(self.name, self.column))"
   ]
  },
  {
   "cell_type": "code",
   "execution_count": 174,
   "metadata": {},
   "outputs": [],
   "source": [
    "class User:\n",
    "    id = IntField(name='id', column='id', primary_key=True, auto_increasement=True)\n",
    "    name = StringField(name='name', column='name', nullable=False, unique=True, length=64)\n",
    "    age = IntField(name='age', column='age')\n",
    "    \n",
    "    def __init__(self, id, name, age):\n",
    "        self.id = id\n",
    "        self.name = name\n",
    "        self.age = age\n",
    "    \n",
    "    def save(self, session):\n",
    "        query = '''INSERT INTO `user`(`id`, `name`, `age`) VALUE(%s, %s, %s)'''\n",
    "        with session:\n",
    "            session.execute(query, self.id, self.name, self.age)\n",
    "        "
   ]
  },
  {
   "cell_type": "code",
   "execution_count": 170,
   "metadata": {
    "collapsed": true
   },
   "outputs": [],
   "source": [
    "class Session:\n",
    "    def __init__(self, conn):\n",
    "        self.conn = conn\n",
    "        self.cur = None\n",
    "    \n",
    "    def __enter__(self):\n",
    "        self.cur = self.conn.cursor()\n",
    "        return self\n",
    "    \n",
    "    def __exit__(self, *args):\n",
    "        self.cur.close()\n",
    "        self.conn.commit()\n",
    "    \n",
    "    def execute(query, *args):\n",
    "        self.cur.execute(query, args)\n",
    "        "
   ]
  },
  {
   "cell_type": "code",
   "execution_count": 175,
   "metadata": {},
   "outputs": [],
   "source": [
    "user = User(10, 'comyn', 18)"
   ]
  },
  {
   "cell_type": "code",
   "execution_count": 178,
   "metadata": {},
   "outputs": [
    {
     "data": {
      "text/plain": [
       "mappingproxy({'__dict__': <attribute '__dict__' of 'User' objects>,\n",
       "              '__doc__': None,\n",
       "              '__init__': <function __main__.User.__init__>,\n",
       "              '__module__': '__main__',\n",
       "              '__weakref__': <attribute '__weakref__' of 'User' objects>,\n",
       "              'age': <__main__.IntField at 0x7f1a1715d0f0>,\n",
       "              'id': <__main__.IntField at 0x7f1a1715d0b8>,\n",
       "              'name': <__main__.StringField at 0x7f1a1715d4e0>,\n",
       "              'save': <function __main__.User.save>})"
      ]
     },
     "execution_count": 178,
     "metadata": {},
     "output_type": "execute_result"
    }
   ],
   "source": [
    "user.__class__.__dict__"
   ]
  },
  {
   "cell_type": "code",
   "execution_count": 196,
   "metadata": {
    "collapsed": true
   },
   "outputs": [],
   "source": [
    "class Model:\n",
    "    def save(self):\n",
    "        fields = {}\n",
    "        for name, field in self.__class__.__dict__.items():\n",
    "            if isinstance(field, Field):\n",
    "                fields[name] = field\n",
    "        keys = []\n",
    "        values = []\n",
    "        for name, value in self.__dict__.items():\n",
    "            if name in fields.keys():\n",
    "                keys.append('`{}`'.format(name))\n",
    "                values.append(value)\n",
    "        query = '''INSERT INTO `{}` ({}) VALUE ({})'''.format(self.__class__.__table__, ','.join(keys), ','.join(['%s'] * len(keys)))\n",
    "        print(query)\n",
    "        # cur.execute(query, values)"
   ]
  },
  {
   "cell_type": "code",
   "execution_count": 193,
   "metadata": {
    "collapsed": true
   },
   "outputs": [],
   "source": [
    "class User(Model):\n",
    "    __table__ = 'user'\n",
    "    \n",
    "    id = IntField(name='id', column='id', primary_key=True, auto_increasement=True)\n",
    "    name = StringField(name='name', column='name', nullable=False, unique=True, length=64)\n",
    "    age = IntField(name='age', column='age')\n",
    "    \n",
    "    def __init__(self, id, name, age):\n",
    "        self.id = id\n",
    "        self.name = name\n",
    "        self.age = age"
   ]
  },
  {
   "cell_type": "code",
   "execution_count": 194,
   "metadata": {
    "collapsed": true
   },
   "outputs": [],
   "source": [
    "user = User(10, 'comyn', 18)"
   ]
  },
  {
   "cell_type": "code",
   "execution_count": 195,
   "metadata": {},
   "outputs": [
    {
     "name": "stdout",
     "output_type": "stream",
     "text": [
      "INSERT INTO `user` (`id`,`age`,`name`) VALUE (%s,%s,%s)\n"
     ]
    }
   ],
   "source": [
    "user.save()"
   ]
  },
  {
   "cell_type": "code",
   "execution_count": 197,
   "metadata": {
    "collapsed": true
   },
   "outputs": [],
   "source": [
    "class ModelMeta(type):\n",
    "    def __new__(cls, name, bases, attrs):\n",
    "        if '__table__' not in attrs.keys():\n",
    "            attrs['__table__'] = name\n",
    "        mapping = {}\n",
    "        primary_key = []\n",
    "        for k, v in attrs.items():\n",
    "            if isinstance(v, Field):\n",
    "                v.name = k\n",
    "                if v.column is None:\n",
    "                    v.column = k\n",
    "                mapping[k] = v\n",
    "                if v.primary_key:\n",
    "                    primary_key.append(v)\n",
    "        attrs['__mapping__'] = mapping\n",
    "        attrs['__primary_key__'] = primary_key\n",
    "        return super().__new__(cls, name, bases, attrs)"
   ]
  },
  {
   "cell_type": "code",
   "execution_count": 198,
   "metadata": {
    "collapsed": true
   },
   "outputs": [],
   "source": [
    "class Model(metaclass=ModelMeta):\n",
    "    pass"
   ]
  },
  {
   "cell_type": "code",
   "execution_count": 202,
   "metadata": {
    "collapsed": true
   },
   "outputs": [],
   "source": [
    "class User(Model):\n",
    "    __table__ = 'user'\n",
    "    \n",
    "    id = IntField(primary_key=True, auto_increasement=True)\n",
    "    name = StringField(nullable=False, unique=True, length=64)\n",
    "    age = IntField()\n",
    "    "
   ]
  },
  {
   "cell_type": "code",
   "execution_count": 203,
   "metadata": {},
   "outputs": [
    {
     "data": {
      "text/plain": [
       "{'age': <__main__.IntField at 0x7f1a1714fd68>,\n",
       " 'id': <__main__.IntField at 0x7f1a1714f908>,\n",
       " 'name': <__main__.StringField at 0x7f1a1714f3c8>}"
      ]
     },
     "execution_count": 203,
     "metadata": {},
     "output_type": "execute_result"
    }
   ],
   "source": [
    "User.__mapping__"
   ]
  },
  {
   "cell_type": "code",
   "execution_count": 206,
   "metadata": {},
   "outputs": [
    {
     "data": {
      "text/plain": [
       "'id'"
      ]
     },
     "execution_count": 206,
     "metadata": {},
     "output_type": "execute_result"
    }
   ],
   "source": [
    "User.__primary_key__[0].name"
   ]
  },
  {
   "cell_type": "code",
   "execution_count": null,
   "metadata": {
    "collapsed": true
   },
   "outputs": [],
   "source": [
    "class Engine:\n",
    "    def __init__(self, *args, **kwargs):\n",
    "        '''建立连接'''\n",
    "        self.conn = pymysql.connect(*args, **kwargs)\n",
    "        \n",
    "    def _get_mapping(instance):\n",
    "        mapping = {}\n",
    "        for k, v in instance.__dict__.items():\n",
    "            if k in instance.__class__.__mapping__.keys():\n",
    "                mapping[instance.__class__.__mapping__[k].column] = v\n",
    "        return mapping\n",
    "    \n",
    "    \n",
    "    def save(self, instance: Model):\n",
    "        '''save instance to db'''\n",
    "        mapping = self._get_mapping(instance)\n",
    "        query = 'INSERT INTO `{}`({}) VALUE ({})'.format(instance.__class__.__table__, ','.join(mapping.keys()), ','.join(['%s'] * len(mapping)))\n",
    "        with self.conn as cur:\n",
    "            with cur:\n",
    "                cur.execute(query, mapping.values())\n",
    "    \n",
    "    def get(self, cls, key):\n",
    "        '''select by primary key要求Model必须有唯一的主键，否则抛出异常'''\n",
    "        if len(cls.__primary_key__) != 1:\n",
    "            raise Exception('primary key error')\n",
    "        query = '''SELECT * FROM `{}` WHERE `{}`=%s '''.format(cls.__table__, cls.__primary_key__[0].column)\n",
    "        with self.conn as cur:\n",
    "            with cur:\n",
    "                cur.execute(query, (key, ))\n",
    "                rs = cur.fetchone()\n",
    "                instance = cls()\n",
    "                for k, v in cls.__mapping__.items():\n",
    "                    if v.column in rs.keys():\n",
    "                        setattr(instance, k, rs[v.column])\n",
    "                return instance\n",
    "    \n",
    "    def update(self, instance):\n",
    "        '''根据主键更新'''\n",
    "        mapping = self._get_mapping(instance)\n",
    "        columns = [ '`{}`=%s'.format(k) for k in  mapping.keys()]\n",
    "        where = ['`{}`=%s'.format(it.column) for it in instance.__class__.__primary_key__]\n",
    "        query = '''UPDATE `{}` SET {} WHERE {} '''.format(instance.__class__.__table__, ','.join(columns), ','.join(where))\n",
    "        params = cloumns.values() + [getattr(instance, it.name) for it in instance.__class__.__primary_key__]\n",
    "        with self.conn as cur:\n",
    "            with cur:\n",
    "                cur.execute(query, params)\n",
    "    \n",
    "    def select(self, cls, where=None):\n",
    "        '''暂时不实现'''\n",
    "        pass\n",
    "    \n",
    "    def delete(self, instance):\n",
    "        '''删除'''\n",
    "        pass\n",
    "    \n",
    "    def close(self):\n",
    "        pass"
   ]
  },
  {
   "cell_type": "markdown",
   "metadata": {},
   "source": [
    "如何学习一个ORM框架\n",
    "\n",
    "1. 看Model如何描述表\n",
    "* 方法调用如何转化为SQL\n"
   ]
  },
  {
   "cell_type": "code",
   "execution_count": null,
   "metadata": {
    "collapsed": true
   },
   "outputs": [],
   "source": []
  }
 ],
 "metadata": {
  "kernelspec": {
   "display_name": "Python 3",
   "language": "python",
   "name": "python3"
  },
  "language_info": {
   "codemirror_mode": {
    "name": "ipython",
    "version": 3
   },
   "file_extension": ".py",
   "mimetype": "text/x-python",
   "name": "python",
   "nbconvert_exporter": "python",
   "pygments_lexer": "ipython3",
   "version": "3.6.1"
  }
 },
 "nbformat": 4,
 "nbformat_minor": 2
}
