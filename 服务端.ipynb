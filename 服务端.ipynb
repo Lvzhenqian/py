{
 "cells": [
  {
   "cell_type": "code",
   "execution_count": 1,
   "metadata": {
    "collapsed": true
   },
   "outputs": [],
   "source": []
  },
  {
   "cell_type": "code",
   "execution_count": 1,
   "metadata": {
    "collapsed": true
   },
   "outputs": [],
   "source": [
    "import socket\n",
    "import threading"
   ]
  },
  {
   "cell_type": "code",
   "execution_count": 2,
   "metadata": {
    "collapsed": true
   },
   "outputs": [],
   "source": [
    "s = socket.socket(socket.AF_INET,socket.SOCK_STREAM)"
   ]
  },
  {
   "cell_type": "code",
   "execution_count": 5,
   "metadata": {
    "collapsed": false
   },
   "outputs": [],
   "source": [
    "s.bind(('127.0.0.1',5555))\n",
    "s.listen()"
   ]
  },
  {
   "cell_type": "code",
   "execution_count": 6,
   "metadata": {
    "collapsed": true
   },
   "outputs": [],
   "source": [
    "event = threading.Event()"
   ]
  },
  {
   "cell_type": "code",
   "execution_count": null,
   "metadata": {
    "collapsed": false
   },
   "outputs": [],
   "source": [
    "while not event.is_set():\n",
    "    conn,_=s.accept()\n",
    "    conn.send(b'welcom to bbs\\n')\n",
    "    conn.recv(1024)"
   ]
  },
  {
   "cell_type": "code",
   "execution_count": null,
   "metadata": {
    "collapsed": true
   },
   "outputs": [],
   "source": [
    "conn.send(b'a\\n')"
   ]
  },
  {
   "cell_type": "code",
   "execution_count": null,
   "metadata": {
    "collapsed": true
   },
   "outputs": [],
   "source": [
    "event.set()"
   ]
  },
  {
   "cell_type": "code",
   "execution_count": null,
   "metadata": {
    "collapsed": true
   },
   "outputs": [],
   "source": []
  },
  {
   "cell_type": "code",
   "execution_count": 1,
   "metadata": {
    "collapsed": true
   },
   "outputs": [],
   "source": [
    "import socket\n",
    "import threading\n",
    "class ChatServer:\n",
    "    def __init__(self,ip='127.0.0.1',port=5555):\n",
    "        self.sock = socket.socket(socket.AF_INET,socket.SOCK_STREAM)\n",
    "        self.clients = {}\n",
    "        self.addr = (ip,port)\n",
    "        self.event = threading.Event()\n",
    "    def recv(self,so,ip,port):\n",
    "        while not self.event.is_set():\n",
    "            data = so.recv(1024).decode()\n",
    "            if data == '/quit':\n",
    "                so.close()\n",
    "                self.clients.pop((ip,port))\n",
    "            for s in self.clients.values():\n",
    "                s.send('{}:{}\\n{}'.format(ip,port,data).encode())\n",
    "    def accept(self):\n",
    "        while not self.event.is_set():\n",
    "            so,(ip,port) = self.sock.accept()\n",
    "            self.clients[(ip,port)] = so\n",
    "            threading.Thread(target=self.recv,name='client-{}:{}'.format(ip,port),args=(so,ip,port)).start()\n",
    "\n",
    "    def start(self):\n",
    "        self.sock.bind(self.addr)\n",
    "        self.sock.listen()\n",
    "        self.accept()\n",
    "    def stop(self):\n",
    "        for so in self.clients.values():\n",
    "            so.close()\n",
    "        self.sock.close()\n",
    "        self.event.set()"
   ]
  },
  {
   "cell_type": "code",
   "execution_count": 1,
   "metadata": {
    "collapsed": true
   },
   "outputs": [],
   "source": [
    "import socket"
   ]
  },
  {
   "cell_type": "code",
   "execution_count": 2,
   "metadata": {
    "collapsed": true
   },
   "outputs": [],
   "source": [
    "so = socket.socket(type=socket.SOCK_DGRAM)"
   ]
  },
  {
   "cell_type": "code",
   "execution_count": 3,
   "metadata": {
    "collapsed": true
   },
   "outputs": [],
   "source": [
    "so.bind(('127.0.0.1',5566))"
   ]
  },
  {
   "cell_type": "code",
   "execution_count": 4,
   "metadata": {
    "collapsed": true
   },
   "outputs": [],
   "source": [
    "import socketserver"
   ]
  },
  {
   "cell_type": "code",
   "execution_count": 5,
   "metadata": {
    "collapsed": true
   },
   "outputs": [],
   "source": [
    "class EchoHandler(socketserver.BaseRequestHandler):\n",
    "    def setup(self):\n",
    "        super().setup()\n",
    "    \n",
    "    def finish(self):\n",
    "        super().finish()\n",
    "    \n",
    "    def handle(self):\n",
    "        message = self.request.recv(1024).strip()\n",
    "        self.request.send(message)"
   ]
  },
  {
   "cell_type": "code",
   "execution_count": null,
   "metadata": {
    "collapsed": true
   },
   "outputs": [],
   "source": [
    "socketserver.ThreadingTCPServer"
   ]
  },
  {
   "cell_type": "code",
   "execution_count": null,
   "metadata": {
    "collapsed": true
   },
   "outputs": [],
   "source": []
  },
  {
   "cell_type": "code",
   "execution_count": null,
   "metadata": {
    "collapsed": true
   },
   "outputs": [],
   "source": []
  },
  {
   "cell_type": "code",
   "execution_count": null,
   "metadata": {
    "collapsed": true
   },
   "outputs": [],
   "source": []
  },
  {
   "cell_type": "code",
   "execution_count": null,
   "metadata": {
    "collapsed": true
   },
   "outputs": [],
   "source": []
  }
 ],
 "metadata": {
  "kernelspec": {
   "display_name": "Python 3",
   "language": "python",
   "name": "python3"
  },
  "language_info": {
   "codemirror_mode": {
    "name": "ipython",
    "version": 3
   },
   "file_extension": ".py",
   "mimetype": "text/x-python",
   "name": "python",
   "nbconvert_exporter": "python",
   "pygments_lexer": "ipython3",
   "version": "3.5.2"
  }
 },
 "nbformat": 4,
 "nbformat_minor": 1
}
