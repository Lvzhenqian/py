{
 "cells": [
  {
   "cell_type": "code",
   "execution_count": 1,
   "metadata": {
    "collapsed": false,
    "deletable": true,
    "editable": true
   },
   "outputs": [],
   "source": [
    "from collections import namedtuple\n",
    "\n",
    "with open('./test.txt','rt',encoding='utf8') as f:\n",
    "    namelist,tup = [],[]\n",
    "    dic = namedtuple('domain',['name','tellcom','unicom'])\n",
    "    for line in f: \n",
    "        if line.startswith(('assist','s','res')):\n",
    "            namelist.append(line.strip())\n",
    "        if line[0].isdigit() and not '_' in line:\n",
    "            tellcom, unicom = line.split()\n",
    "            tup.append([dic(x,tellcom,unicom) for x in namelist])\n",
    "            namelist.clear()\n",
    "    ret = [j for n in range(len(tup)) for j in tup[n]]"
   ]
  },
  {
   "cell_type": "code",
   "execution_count": 2,
   "metadata": {
    "collapsed": false,
    "deletable": true,
    "editable": true
   },
   "outputs": [
    {
     "data": {
      "text/plain": [
       "[domain(name='assist1067.shenquol.com', tellcom='113.107.148.43', unicom='112.90.248.43'),\n",
       " domain(name='s1067.shenquol.com', tellcom='113.107.148.43', unicom='112.90.248.43'),\n",
       " domain(name='res1067.shenquol.com', tellcom='113.107.148.43', unicom='112.90.248.43'),\n",
       " domain(name='assist1068.shenquol.com', tellcom='113.107.148.122', unicom='112.90.248.122'),\n",
       " domain(name='s1068.shenquol.com', tellcom='113.107.148.122', unicom='112.90.248.122'),\n",
       " domain(name='res1068.shenquol.com', tellcom='113.107.148.122', unicom='112.90.248.122'),\n",
       " domain(name='assist1069.shenquol.com', tellcom='113.107.148.29', unicom='112.90.248.29'),\n",
       " domain(name='s1069.shenquol.com', tellcom='113.107.148.29', unicom='112.90.248.29'),\n",
       " domain(name='res1069.shenquol.com', tellcom='113.107.148.29', unicom='112.90.248.29')]"
      ]
     },
     "execution_count": 2,
     "metadata": {},
     "output_type": "execute_result"
    }
   ],
   "source": [
    "ret"
   ]
  },
  {
   "cell_type": "code",
   "execution_count": null,
   "metadata": {
    "collapsed": true,
    "deletable": true,
    "editable": true
   },
   "outputs": [],
   "source": []
  },
  {
   "cell_type": "code",
   "execution_count": null,
   "metadata": {
    "collapsed": true,
    "deletable": true,
    "editable": true
   },
   "outputs": [],
   "source": []
  },
  {
   "cell_type": "code",
   "execution_count": null,
   "metadata": {
    "collapsed": true,
    "deletable": true,
    "editable": true
   },
   "outputs": [],
   "source": []
  },
  {
   "cell_type": "code",
   "execution_count": null,
   "metadata": {
    "collapsed": true,
    "deletable": true,
    "editable": true
   },
   "outputs": [],
   "source": []
  },
  {
   "cell_type": "code",
   "execution_count": null,
   "metadata": {
    "collapsed": true,
    "deletable": true,
    "editable": true
   },
   "outputs": [],
   "source": []
  },
  {
   "cell_type": "code",
   "execution_count": null,
   "metadata": {
    "collapsed": false,
    "deletable": true,
    "editable": true
   },
   "outputs": [],
   "source": [
    "gpe = []\n",
    "for n in range(len(cc)):\n",
    "    for j in cc[n]:\n",
    "        gpe.append(j)"
   ]
  },
  {
   "cell_type": "code",
   "execution_count": null,
   "metadata": {
    "collapsed": false,
    "deletable": true,
    "editable": true
   },
   "outputs": [],
   "source": [
    "gpe"
   ]
  },
  {
   "cell_type": "code",
   "execution_count": null,
   "metadata": {
    "collapsed": false,
    "deletable": true,
    "editable": true
   },
   "outputs": [],
   "source": [
    "[j for n in range(len(cc)) for j in cc[n]]"
   ]
  },
  {
   "cell_type": "code",
   "execution_count": null,
   "metadata": {
    "collapsed": true,
    "deletable": true,
    "editable": true
   },
   "outputs": [],
   "source": []
  },
  {
   "cell_type": "code",
   "execution_count": null,
   "metadata": {
    "collapsed": true,
    "deletable": true,
    "editable": true
   },
   "outputs": [],
   "source": []
  },
  {
   "cell_type": "code",
   "execution_count": null,
   "metadata": {
    "collapsed": true,
    "deletable": true,
    "editable": true
   },
   "outputs": [],
   "source": []
  },
  {
   "cell_type": "code",
   "execution_count": null,
   "metadata": {
    "collapsed": true,
    "deletable": true,
    "editable": true
   },
   "outputs": [],
   "source": []
  },
  {
   "cell_type": "code",
   "execution_count": null,
   "metadata": {
    "collapsed": true,
    "deletable": true,
    "editable": true
   },
   "outputs": [],
   "source": []
  },
  {
   "cell_type": "code",
   "execution_count": null,
   "metadata": {
    "collapsed": true,
    "deletable": true,
    "editable": true
   },
   "outputs": [],
   "source": []
  },
  {
   "cell_type": "code",
   "execution_count": 1,
   "metadata": {
    "collapsed": false,
    "deletable": true,
    "editable": true
   },
   "outputs": [
    {
     "ename": "IndentationError",
     "evalue": "unexpected indent (<ipython-input-1-6d4af5aa4bdf>, line 12)",
     "output_type": "error",
     "traceback": [
      "\u001b[0;36m  File \u001b[0;32m\"<ipython-input-1-6d4af5aa4bdf>\"\u001b[0;36m, line \u001b[0;32m12\u001b[0m\n\u001b[0;31m    cookie = cookiejar.CookieJar()\u001b[0m\n\u001b[0m    ^\u001b[0m\n\u001b[0;31mIndentationError\u001b[0m\u001b[0;31m:\u001b[0m unexpected indent\n"
     ]
    }
   ],
   "source": [
    "header = {\n",
    "            'Content-Type': 'application/x-www-form-urlencoded',\n",
    "            'Accept': 'application/json, text/javascript, */*',\n",
    "            'Accept-Language': 'zh-CN,zh;q=0.8,en;q=0.6',\n",
    "            'Host': 'www.qycn.com',\n",
    "            'User-Agent': 'Mozilla/5.0 (Windows NT 6.1; Win64; x64) AppleWebKit/537.36 (KHTML, like Gecko) '\n",
    "            'Chrome/56.0.2924.76 Safari/537.36',\n",
    "\t\t\t'X-Requested-With': 'XMLHttpRequest',\n",
    "\t\t\t'Referer': 'http://www.qycn.com/user.php?action=login&goto=http://www.qycn.com/synlogin.php?action=dns',\n",
    "\t\t\t'Origin': 'http://www.qycn.com'\n",
    "\t\t}\n",
    "\t\tcookie = cookiejar.CookieJar()\n",
    "\t\tpro = request.HTTPCookieProcessor(cookie)\n",
    "\t\topener = request.build_opener(pro)\n",
    "\t\topener.addheaders.extend([(k, v) for k, v in header.items()])\n",
    "\t\tyz_code = opener.open(self.__image_url).read()\n",
    "\t\twith open('./yz_code.png', 'wb') as f:\n",
    "\t\t\tf.write(yz_code)\n",
    "\t\tyz_login = input('Input yz code: ')\n",
    "\t\tparms = {\n",
    "\t\t\t'username': self.__login_user,\n",
    "\t\t\t'password': self.__login_pwd,\n",
    "\t\t\t'yz_login': yz_login,\n",
    "\t\t\t'save_name': 1\n",
    "\t\t}\n",
    "\t\tparm = parse.urldefrag(parms)\n",
    "\t\trequest.install_opener(opener)\n",
    "\t\treq = request.Request(url=self.__ajax_req, data=parm.encode('ascii'), headers=header)\n",
    "\t\tresp = opener.open(req)\n",
    "\t\tret = json.loads(resp.read())['flag']"
   ]
  },
  {
   "cell_type": "code",
   "execution_count": null,
   "metadata": {
    "collapsed": true
   },
   "outputs": [],
   "source": []
  },
  {
   "cell_type": "code",
   "execution_count": null,
   "metadata": {
    "collapsed": true,
    "deletable": true,
    "editable": true
   },
   "outputs": [],
   "source": []
  },
  {
   "cell_type": "code",
   "execution_count": null,
   "metadata": {
    "collapsed": true,
    "deletable": true,
    "editable": true
   },
   "outputs": [],
   "source": []
  },
  {
   "cell_type": "code",
   "execution_count": null,
   "metadata": {
    "collapsed": true,
    "deletable": true,
    "editable": true
   },
   "outputs": [],
   "source": []
  },
  {
   "cell_type": "code",
   "execution_count": null,
   "metadata": {
    "collapsed": true,
    "deletable": true,
    "editable": true
   },
   "outputs": [],
   "source": []
  },
  {
   "cell_type": "code",
   "execution_count": null,
   "metadata": {
    "collapsed": true,
    "deletable": true,
    "editable": true
   },
   "outputs": [],
   "source": []
  }
 ],
 "metadata": {
  "kernelspec": {
   "display_name": "Python 3",
   "language": "python",
   "name": "python3"
  },
  "language_info": {
   "codemirror_mode": {
    "name": "ipython",
    "version": 3
   },
   "file_extension": ".py",
   "mimetype": "text/x-python",
   "name": "python",
   "nbconvert_exporter": "python",
   "pygments_lexer": "ipython3",
   "version": "3.5.2"
  }
 },
 "nbformat": 4,
 "nbformat_minor": 2
}
